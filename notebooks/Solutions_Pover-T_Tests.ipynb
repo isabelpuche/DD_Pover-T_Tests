{
 "cells": [
  {
   "cell_type": "markdown",
   "metadata": {},
   "source": [
    "# Table of Contents\n",
    "\n",
    "1. [Business Understanding](#Business-Understanding)\n",
    "2. [Exploratory Data Analysis](#Exploratory-Data-Analysis)\n",
    "3. [Data Preprocessing](#Data-Preprocessing)\n",
    "4. [Model Building](#Model-Building)\n",
    "5. [Productivization Plan](#Productivization-Plan)\n",
    "6. [Next steps](#Next-steps)"
   ]
  },
  {
   "cell_type": "code",
   "execution_count": 111,
   "metadata": {},
   "outputs": [],
   "source": [
    "%matplotlib inline\n",
    "import matplotlib.pyplot as plt\n",
    "import seaborn as sns\n",
    "import copy\n",
    "import pandas as pd\n",
    "import numpy as np\n",
    "\n",
    "from sklearn.impute import SimpleImputer\n",
    "from sklearn.preprocessing import PowerTransformer, StandardScaler, OrdinalEncoder\n",
    "from sklearn.compose import ColumnTransformer\n",
    "\n",
    "from sklearn.linear_model import LogisticRegression\n",
    "from sklearn.ensemble import RandomForestClassifier\n",
    "from catboost import CatBoostClassifier\n",
    "from lightgbm import LGBMClassifier\n",
    "from xgboost import XGBClassifier\n",
    "\n",
    "from sklearn.model_selection import GridSearchCV, RandomizedSearchCV\n",
    "from sklearn.model_selection import StratifiedKFold\n",
    "\n",
    "from sklearn.pipeline import Pipeline\n",
    "from sklearn.model_selection import cross_val_score\n",
    "\n",
    "from keras.models import Sequential\n",
    "from keras.layers import Dense\n",
    "from keras.wrappers.scikit_learn import KerasClassifier\n",
    "import tensorflow as tf\n",
    "\n",
    "from sklearn.metrics import log_loss, accuracy_score, roc_auc_score, make_scorer\n",
    "\n",
    "from fancyimpute import KNN\n",
    "\n",
    "import joblib\n",
    "import pickle"
   ]
  },
  {
   "cell_type": "markdown",
   "metadata": {},
   "source": [
    "# Business Understanding\n",
    "<div style = \"float:right\"><a style=\"text-decoration:none\" href = \"#inicio\">Inicio</a></div>"
   ]
  },
  {
   "cell_type": "markdown",
   "metadata": {},
   "source": [
    "Given a set of features, we are asked to <b>predict whether or not a given household is poor or not</b>. This is a binary classification, which specifically posits the following problem: what is the <b>probability</b> of a given household of being poor. This probability is actually the prediction value and the loss function measures the prediction performance. For a binary classification, the typical loss function is the binary cross-entropy or <b>log loss</b>.<br>\n",
    "\n",
    "Log Loss is a slight twist on the Likelihood Function. In fact, Log Loss is -1 * the log of the likelihood function. The likelihood function answers the question \"How likely did the model think the actually observed set of outcomes was\" and is computed iteratively stepping through all predictions by multiplying the probability associated with the actual outcome and subsequently by the previous result.<br>\n",
    "\n",
    "Predictions ranging between 0 and 1, if you multiply enough numbers in this range, the result gets so small that computers can't keep track of it. So, as a clever computational trick, we instead keep track of the log of the Likelihood. We multiply this by negative 1 to maintain a common convention that lower loss scores are better. Lower loss scores are associated with higher probabilities and viceversa<br>"
   ]
  },
  {
   "cell_type": "markdown",
   "metadata": {},
   "source": [
    "# Exploratory Data Analysis\n",
    "<div style = \"float:right\"><a style=\"text-decoration:none\" href = \"#inicio\">Inicio</a></div>"
   ]
  },
  {
   "cell_type": "markdown",
   "metadata": {},
   "source": [
    "## Load Data"
   ]
  },
  {
   "cell_type": "code",
   "execution_count": 2,
   "metadata": {},
   "outputs": [
    {
     "data": {
      "text/html": [
       "<div>\n",
       "<style scoped>\n",
       "    .dataframe tbody tr th:only-of-type {\n",
       "        vertical-align: middle;\n",
       "    }\n",
       "\n",
       "    .dataframe tbody tr th {\n",
       "        vertical-align: top;\n",
       "    }\n",
       "\n",
       "    .dataframe thead th {\n",
       "        text-align: right;\n",
       "    }\n",
       "</style>\n",
       "<table border=\"1\" class=\"dataframe\">\n",
       "  <thead>\n",
       "    <tr style=\"text-align: right;\">\n",
       "      <th></th>\n",
       "      <th>Unnamed: 0</th>\n",
       "      <th>id</th>\n",
       "      <th>kjkrfgld</th>\n",
       "      <th>bpowgknt</th>\n",
       "      <th>raksnhjf</th>\n",
       "      <th>vwpsxrgk</th>\n",
       "      <th>omtioxzz</th>\n",
       "      <th>yfmzwkru</th>\n",
       "      <th>tiwrsloh</th>\n",
       "      <th>weioazcf</th>\n",
       "      <th>poor</th>\n",
       "    </tr>\n",
       "  </thead>\n",
       "  <tbody>\n",
       "    <tr>\n",
       "      <th>0</th>\n",
       "      <td>2225</td>\n",
       "      <td>29252</td>\n",
       "      <td>KfoTG</td>\n",
       "      <td>zPfZR</td>\n",
       "      <td>DtMvg</td>\n",
       "      <td>NaN</td>\n",
       "      <td>12.0</td>\n",
       "      <td>-3.0</td>\n",
       "      <td>-1.0</td>\n",
       "      <td>0.5</td>\n",
       "      <td>False</td>\n",
       "    </tr>\n",
       "    <tr>\n",
       "      <th>1</th>\n",
       "      <td>1598</td>\n",
       "      <td>98286</td>\n",
       "      <td>ljBjd</td>\n",
       "      <td>THHLT</td>\n",
       "      <td>DtMvg</td>\n",
       "      <td>esAQH</td>\n",
       "      <td>21.0</td>\n",
       "      <td>-2.0</td>\n",
       "      <td>-5.0</td>\n",
       "      <td>-9.5</td>\n",
       "      <td>True</td>\n",
       "    </tr>\n",
       "    <tr>\n",
       "      <th>2</th>\n",
       "      <td>7896</td>\n",
       "      <td>49040</td>\n",
       "      <td>Lsuai</td>\n",
       "      <td>zPfZR</td>\n",
       "      <td>zeYAm</td>\n",
       "      <td>ZCIYy</td>\n",
       "      <td>12.0</td>\n",
       "      <td>-3.0</td>\n",
       "      <td>-5.0</td>\n",
       "      <td>-9.5</td>\n",
       "      <td>True</td>\n",
       "    </tr>\n",
       "    <tr>\n",
       "      <th>3</th>\n",
       "      <td>1458</td>\n",
       "      <td>35261</td>\n",
       "      <td>KfoTG</td>\n",
       "      <td>mDadf</td>\n",
       "      <td>zeYAm</td>\n",
       "      <td>ZCIYy</td>\n",
       "      <td>12.0</td>\n",
       "      <td>-1.0</td>\n",
       "      <td>-5.0</td>\n",
       "      <td>-9.5</td>\n",
       "      <td>False</td>\n",
       "    </tr>\n",
       "    <tr>\n",
       "      <th>4</th>\n",
       "      <td>1817</td>\n",
       "      <td>98833</td>\n",
       "      <td>KfoTG</td>\n",
       "      <td>THHLT</td>\n",
       "      <td>DtMvg</td>\n",
       "      <td>ARuYG</td>\n",
       "      <td>21.0</td>\n",
       "      <td>-4.0</td>\n",
       "      <td>-5.0</td>\n",
       "      <td>-9.5</td>\n",
       "      <td>True</td>\n",
       "    </tr>\n",
       "  </tbody>\n",
       "</table>\n",
       "</div>"
      ],
      "text/plain": [
       "   Unnamed: 0     id kjkrfgld bpowgknt raksnhjf vwpsxrgk  omtioxzz  yfmzwkru  \\\n",
       "0        2225  29252    KfoTG    zPfZR    DtMvg      NaN      12.0      -3.0   \n",
       "1        1598  98286    ljBjd    THHLT    DtMvg    esAQH      21.0      -2.0   \n",
       "2        7896  49040    Lsuai    zPfZR    zeYAm    ZCIYy      12.0      -3.0   \n",
       "3        1458  35261    KfoTG    mDadf    zeYAm    ZCIYy      12.0      -1.0   \n",
       "4        1817  98833    KfoTG    THHLT    DtMvg    ARuYG      21.0      -4.0   \n",
       "\n",
       "   tiwrsloh  weioazcf   poor  \n",
       "0      -1.0       0.5  False  \n",
       "1      -5.0      -9.5   True  \n",
       "2      -5.0      -9.5   True  \n",
       "3      -5.0      -9.5  False  \n",
       "4      -5.0      -9.5   True  "
      ]
     },
     "execution_count": 2,
     "metadata": {},
     "output_type": "execute_result"
    }
   ],
   "source": [
    "# Train dataset\n",
    "data_train = pd.read_csv('../data/Exercise_train (1).csv', sep=',')\n",
    "data_train.head()"
   ]
  },
  {
   "cell_type": "code",
   "execution_count": 3,
   "metadata": {},
   "outputs": [
    {
     "data": {
      "text/html": [
       "<div>\n",
       "<style scoped>\n",
       "    .dataframe tbody tr th:only-of-type {\n",
       "        vertical-align: middle;\n",
       "    }\n",
       "\n",
       "    .dataframe tbody tr th {\n",
       "        vertical-align: top;\n",
       "    }\n",
       "\n",
       "    .dataframe thead th {\n",
       "        text-align: right;\n",
       "    }\n",
       "</style>\n",
       "<table border=\"1\" class=\"dataframe\">\n",
       "  <thead>\n",
       "    <tr style=\"text-align: right;\">\n",
       "      <th></th>\n",
       "      <th>Unnamed: 0</th>\n",
       "      <th>id</th>\n",
       "      <th>kjkrfgld</th>\n",
       "      <th>bpowgknt</th>\n",
       "      <th>raksnhjf</th>\n",
       "      <th>vwpsxrgk</th>\n",
       "      <th>omtioxzz</th>\n",
       "      <th>yfmzwkru</th>\n",
       "      <th>tiwrsloh</th>\n",
       "      <th>weioazcf</th>\n",
       "      <th>poor</th>\n",
       "    </tr>\n",
       "  </thead>\n",
       "  <tbody>\n",
       "    <tr>\n",
       "      <th>0</th>\n",
       "      <td>2197</td>\n",
       "      <td>42706</td>\n",
       "      <td>qzGkS</td>\n",
       "      <td>zPfZR</td>\n",
       "      <td>rXCdD</td>\n",
       "      <td>IJnCs</td>\n",
       "      <td>21.0</td>\n",
       "      <td>-3.0</td>\n",
       "      <td>-5.0</td>\n",
       "      <td>-9.5</td>\n",
       "      <td>False</td>\n",
       "    </tr>\n",
       "    <tr>\n",
       "      <th>1</th>\n",
       "      <td>4823</td>\n",
       "      <td>65531</td>\n",
       "      <td>KfoTG</td>\n",
       "      <td>THHLT</td>\n",
       "      <td>DtMvg</td>\n",
       "      <td>XHmQd</td>\n",
       "      <td>21.0</td>\n",
       "      <td>-2.0</td>\n",
       "      <td>-9.0</td>\n",
       "      <td>-19.5</td>\n",
       "      <td>True</td>\n",
       "    </tr>\n",
       "    <tr>\n",
       "      <th>2</th>\n",
       "      <td>4165</td>\n",
       "      <td>64452</td>\n",
       "      <td>tnDpM</td>\n",
       "      <td>THHLT</td>\n",
       "      <td>qTmDg</td>\n",
       "      <td>yygvO</td>\n",
       "      <td>30.0</td>\n",
       "      <td>-4.0</td>\n",
       "      <td>-9.0</td>\n",
       "      <td>-19.5</td>\n",
       "      <td>True</td>\n",
       "    </tr>\n",
       "    <tr>\n",
       "      <th>3</th>\n",
       "      <td>4962</td>\n",
       "      <td>78022</td>\n",
       "      <td>NaN</td>\n",
       "      <td>WXYiE</td>\n",
       "      <td>DtMvg</td>\n",
       "      <td>XAmOF</td>\n",
       "      <td>21.0</td>\n",
       "      <td>-2.0</td>\n",
       "      <td>3.0</td>\n",
       "      <td>10.5</td>\n",
       "      <td>False</td>\n",
       "    </tr>\n",
       "    <tr>\n",
       "      <th>4</th>\n",
       "      <td>4671</td>\n",
       "      <td>45674</td>\n",
       "      <td>Lsuai</td>\n",
       "      <td>zPfZR</td>\n",
       "      <td>DtMvg</td>\n",
       "      <td>hmAUm</td>\n",
       "      <td>30.0</td>\n",
       "      <td>-4.0</td>\n",
       "      <td>-5.0</td>\n",
       "      <td>-9.5</td>\n",
       "      <td>True</td>\n",
       "    </tr>\n",
       "  </tbody>\n",
       "</table>\n",
       "</div>"
      ],
      "text/plain": [
       "   Unnamed: 0     id kjkrfgld bpowgknt raksnhjf vwpsxrgk  omtioxzz  yfmzwkru  \\\n",
       "0        2197  42706    qzGkS    zPfZR    rXCdD    IJnCs      21.0      -3.0   \n",
       "1        4823  65531    KfoTG    THHLT    DtMvg    XHmQd      21.0      -2.0   \n",
       "2        4165  64452    tnDpM    THHLT    qTmDg    yygvO      30.0      -4.0   \n",
       "3        4962  78022      NaN    WXYiE    DtMvg    XAmOF      21.0      -2.0   \n",
       "4        4671  45674    Lsuai    zPfZR    DtMvg    hmAUm      30.0      -4.0   \n",
       "\n",
       "   tiwrsloh  weioazcf   poor  \n",
       "0      -5.0      -9.5  False  \n",
       "1      -9.0     -19.5   True  \n",
       "2      -9.0     -19.5   True  \n",
       "3       3.0      10.5  False  \n",
       "4      -5.0      -9.5   True  "
      ]
     },
     "execution_count": 3,
     "metadata": {},
     "output_type": "execute_result"
    }
   ],
   "source": [
    "# Test dataset\n",
    "data_test = pd.read_csv('../data/Exercise_test (1).csv', sep=',')\n",
    "data_test.head()"
   ]
  },
  {
   "cell_type": "code",
   "execution_count": 3,
   "metadata": {},
   "outputs": [
    {
     "name": "stdout",
     "output_type": "stream",
     "text": [
      "<class 'pandas.core.frame.DataFrame'>\n",
      "RangeIndex: 6562 entries, 0 to 6561\n",
      "Data columns (total 11 columns):\n",
      " #   Column      Non-Null Count  Dtype  \n",
      "---  ------      --------------  -----  \n",
      " 0   Unnamed: 0  6562 non-null   int64  \n",
      " 1   id          6562 non-null   int64  \n",
      " 2   kjkrfgld    6366 non-null   object \n",
      " 3   bpowgknt    6357 non-null   object \n",
      " 4   raksnhjf    6381 non-null   object \n",
      " 5   vwpsxrgk    6364 non-null   object \n",
      " 6   omtioxzz    6361 non-null   float64\n",
      " 7   yfmzwkru    6353 non-null   float64\n",
      " 8   tiwrsloh    6355 non-null   float64\n",
      " 9   weioazcf    6366 non-null   float64\n",
      " 10  poor        6562 non-null   bool   \n",
      "dtypes: bool(1), float64(4), int64(2), object(4)\n",
      "memory usage: 519.2+ KB\n"
     ]
    }
   ],
   "source": [
    "data_train.info()"
   ]
  },
  {
   "cell_type": "code",
   "execution_count": 8,
   "metadata": {},
   "outputs": [
    {
     "name": "stdout",
     "output_type": "stream",
     "text": [
      "<class 'pandas.core.frame.DataFrame'>\n",
      "RangeIndex: 1641 entries, 0 to 1640\n",
      "Data columns (total 11 columns):\n",
      " #   Column      Non-Null Count  Dtype  \n",
      "---  ------      --------------  -----  \n",
      " 0   Unnamed: 0  1641 non-null   int64  \n",
      " 1   id          1641 non-null   int64  \n",
      " 2   kjkrfgld    1595 non-null   object \n",
      " 3   bpowgknt    1592 non-null   object \n",
      " 4   raksnhjf    1605 non-null   object \n",
      " 5   vwpsxrgk    1596 non-null   object \n",
      " 6   omtioxzz    1587 non-null   float64\n",
      " 7   yfmzwkru    1597 non-null   float64\n",
      " 8   tiwrsloh    1601 non-null   float64\n",
      " 9   weioazcf    1579 non-null   float64\n",
      " 10  poor        1641 non-null   bool   \n",
      "dtypes: bool(1), float64(4), int64(2), object(4)\n",
      "memory usage: 129.9+ KB\n"
     ]
    }
   ],
   "source": [
    "data_test.info()"
   ]
  },
  {
   "cell_type": "markdown",
   "metadata": {},
   "source": [
    "In both datasets, we encounter:\n",
    "<ul>\n",
    "    <li> same number of non-null values in the Unnamed: 0 column (supposedly, individuals <code>iid</code>) and households <code>id</code>, so that individuals analysis becomes irrelevant</li>\n",
    "    <li> four possible categorical (nominal) variables represented as object (strings) with missing values both in train and in test(around 3% of each dataset)</li>\n",
    "    <li> four continuous variables represented as float, with missing values both in train and in test(around 3% of each dataset)</li>\n",
    "    <li> target variable represented as a boolean</li>\n",
    "</ul>"
   ]
  },
  {
   "cell_type": "markdown",
   "metadata": {},
   "source": [
    "#### No duplicates / Unique observations"
   ]
  },
  {
   "cell_type": "code",
   "execution_count": 17,
   "metadata": {},
   "outputs": [
    {
     "data": {
      "text/html": [
       "<div>\n",
       "<style scoped>\n",
       "    .dataframe tbody tr th:only-of-type {\n",
       "        vertical-align: middle;\n",
       "    }\n",
       "\n",
       "    .dataframe tbody tr th {\n",
       "        vertical-align: top;\n",
       "    }\n",
       "\n",
       "    .dataframe thead th {\n",
       "        text-align: right;\n",
       "    }\n",
       "</style>\n",
       "<table border=\"1\" class=\"dataframe\">\n",
       "  <thead>\n",
       "    <tr style=\"text-align: right;\">\n",
       "      <th></th>\n",
       "      <th>Unnamed: 0</th>\n",
       "      <th>id</th>\n",
       "      <th>kjkrfgld</th>\n",
       "      <th>bpowgknt</th>\n",
       "      <th>raksnhjf</th>\n",
       "      <th>vwpsxrgk</th>\n",
       "      <th>omtioxzz</th>\n",
       "      <th>yfmzwkru</th>\n",
       "      <th>tiwrsloh</th>\n",
       "      <th>weioazcf</th>\n",
       "      <th>poor</th>\n",
       "    </tr>\n",
       "  </thead>\n",
       "  <tbody>\n",
       "  </tbody>\n",
       "</table>\n",
       "</div>"
      ],
      "text/plain": [
       "Empty DataFrame\n",
       "Columns: [Unnamed: 0, id, kjkrfgld, bpowgknt, raksnhjf, vwpsxrgk, omtioxzz, yfmzwkru, tiwrsloh, weioazcf, poor]\n",
       "Index: []"
      ]
     },
     "execution_count": 17,
     "metadata": {},
     "output_type": "execute_result"
    }
   ],
   "source": [
    "column_names = [x for x in data_train.columns]\n",
    "duplicates = data_train.duplicated(subset=column_names, keep=False)\n",
    "data_train[duplicates]"
   ]
  },
  {
   "cell_type": "code",
   "execution_count": 7,
   "metadata": {},
   "outputs": [
    {
     "data": {
      "text/plain": [
       "6562"
      ]
     },
     "execution_count": 7,
     "metadata": {},
     "output_type": "execute_result"
    }
   ],
   "source": [
    "data_train.id.nunique() "
   ]
  },
  {
   "cell_type": "code",
   "execution_count": 9,
   "metadata": {},
   "outputs": [
    {
     "data": {
      "text/html": [
       "<div>\n",
       "<style scoped>\n",
       "    .dataframe tbody tr th:only-of-type {\n",
       "        vertical-align: middle;\n",
       "    }\n",
       "\n",
       "    .dataframe tbody tr th {\n",
       "        vertical-align: top;\n",
       "    }\n",
       "\n",
       "    .dataframe thead th {\n",
       "        text-align: right;\n",
       "    }\n",
       "</style>\n",
       "<table border=\"1\" class=\"dataframe\">\n",
       "  <thead>\n",
       "    <tr style=\"text-align: right;\">\n",
       "      <th></th>\n",
       "      <th>Unnamed: 0</th>\n",
       "      <th>id</th>\n",
       "      <th>kjkrfgld</th>\n",
       "      <th>bpowgknt</th>\n",
       "      <th>raksnhjf</th>\n",
       "      <th>vwpsxrgk</th>\n",
       "      <th>omtioxzz</th>\n",
       "      <th>yfmzwkru</th>\n",
       "      <th>tiwrsloh</th>\n",
       "      <th>weioazcf</th>\n",
       "      <th>poor</th>\n",
       "    </tr>\n",
       "  </thead>\n",
       "  <tbody>\n",
       "  </tbody>\n",
       "</table>\n",
       "</div>"
      ],
      "text/plain": [
       "Empty DataFrame\n",
       "Columns: [Unnamed: 0, id, kjkrfgld, bpowgknt, raksnhjf, vwpsxrgk, omtioxzz, yfmzwkru, tiwrsloh, weioazcf, poor]\n",
       "Index: []"
      ]
     },
     "execution_count": 9,
     "metadata": {},
     "output_type": "execute_result"
    }
   ],
   "source": [
    "column_names = [x for x in data_test.columns]\n",
    "duplicates = data_test.duplicated(subset=column_names, keep=False)\n",
    "data_test[duplicates]"
   ]
  },
  {
   "cell_type": "code",
   "execution_count": 8,
   "metadata": {},
   "outputs": [
    {
     "data": {
      "text/plain": [
       "1641"
      ]
     },
     "execution_count": 8,
     "metadata": {},
     "output_type": "execute_result"
    }
   ],
   "source": [
    "data_test.id.nunique()"
   ]
  },
  {
   "cell_type": "code",
   "execution_count": null,
   "metadata": {},
   "outputs": [],
   "source": []
  },
  {
   "cell_type": "code",
   "execution_count": 4,
   "metadata": {},
   "outputs": [],
   "source": [
    "data_train = data_train.set_index('id')\n",
    "data_test = data_test.set_index('id')"
   ]
  },
  {
   "cell_type": "markdown",
   "metadata": {},
   "source": [
    "## Target"
   ]
  },
  {
   "cell_type": "code",
   "execution_count": 150,
   "metadata": {},
   "outputs": [
    {
     "data": {
      "text/plain": [
       "<AxesSubplot:title={'center':'Number of Poor'}>"
      ]
     },
     "execution_count": 150,
     "metadata": {},
     "output_type": "execute_result"
    },
    {
     "data": {
      "image/png": "[encoded data removed]",
      "text/plain": [
       "<Figure size 432x288 with 1 Axes>"
      ]
     },
     "metadata": {
      "needs_background": "light"
     },
     "output_type": "display_data"
    }
   ],
   "source": [
    "data_train.poor.value_counts().plot.bar(title='Number of Poor')"
   ]
  },
  {
   "cell_type": "code",
   "execution_count": 151,
   "metadata": {},
   "outputs": [
    {
     "data": {
      "text/plain": [
       "<AxesSubplot:title={'center':'Number of Poor'}>"
      ]
     },
     "execution_count": 151,
     "metadata": {},
     "output_type": "execute_result"
    },
    {
     "data": {
      "image/png": "[encoded data removed]",
      "text/plain": [
       "<Figure size 432x288 with 1 Axes>"
      ]
     },
     "metadata": {
      "needs_background": "light"
     },
     "output_type": "display_data"
    }
   ],
   "source": [
    "data_test.poor.value_counts().plot.bar(title='Number of Poor')"
   ]
  },
  {
   "cell_type": "markdown",
   "metadata": {},
   "source": [
    "## Numerical features"
   ]
  },
  {
   "cell_type": "code",
   "execution_count": 26,
   "metadata": {},
   "outputs": [
    {
     "data": {
      "text/html": [
       "<div>\n",
       "<style scoped>\n",
       "    .dataframe tbody tr th:only-of-type {\n",
       "        vertical-align: middle;\n",
       "    }\n",
       "\n",
       "    .dataframe tbody tr th {\n",
       "        vertical-align: top;\n",
       "    }\n",
       "\n",
       "    .dataframe thead th {\n",
       "        text-align: right;\n",
       "    }\n",
       "</style>\n",
       "<table border=\"1\" class=\"dataframe\">\n",
       "  <thead>\n",
       "    <tr style=\"text-align: right;\">\n",
       "      <th></th>\n",
       "      <th>Unnamed: 0</th>\n",
       "      <th>omtioxzz</th>\n",
       "      <th>yfmzwkru</th>\n",
       "      <th>tiwrsloh</th>\n",
       "      <th>weioazcf</th>\n",
       "    </tr>\n",
       "  </thead>\n",
       "  <tbody>\n",
       "    <tr>\n",
       "      <th>count</th>\n",
       "      <td>6562.000000</td>\n",
       "      <td>6361.000000</td>\n",
       "      <td>6353.000000</td>\n",
       "      <td>6355.000000</td>\n",
       "      <td>6366.000000</td>\n",
       "    </tr>\n",
       "    <tr>\n",
       "      <th>mean</th>\n",
       "      <td>4113.757543</td>\n",
       "      <td>17.455117</td>\n",
       "      <td>-2.826696</td>\n",
       "      <td>-4.194335</td>\n",
       "      <td>-7.461828</td>\n",
       "    </tr>\n",
       "    <tr>\n",
       "      <th>std</th>\n",
       "      <td>2353.382080</td>\n",
       "      <td>10.924393</td>\n",
       "      <td>12.615775</td>\n",
       "      <td>4.476410</td>\n",
       "      <td>11.198626</td>\n",
       "    </tr>\n",
       "    <tr>\n",
       "      <th>min</th>\n",
       "      <td>0.000000</td>\n",
       "      <td>-127.000000</td>\n",
       "      <td>-4.000000</td>\n",
       "      <td>-31.000000</td>\n",
       "      <td>-74.500000</td>\n",
       "    </tr>\n",
       "    <tr>\n",
       "      <th>25%</th>\n",
       "      <td>2088.500000</td>\n",
       "      <td>12.000000</td>\n",
       "      <td>-4.000000</td>\n",
       "      <td>-7.000000</td>\n",
       "      <td>-14.500000</td>\n",
       "    </tr>\n",
       "    <tr>\n",
       "      <th>50%</th>\n",
       "      <td>4115.500000</td>\n",
       "      <td>12.000000</td>\n",
       "      <td>-3.000000</td>\n",
       "      <td>-3.000000</td>\n",
       "      <td>-4.500000</td>\n",
       "    </tr>\n",
       "    <tr>\n",
       "      <th>75%</th>\n",
       "      <td>6156.750000</td>\n",
       "      <td>21.000000</td>\n",
       "      <td>-2.000000</td>\n",
       "      <td>-1.000000</td>\n",
       "      <td>0.500000</td>\n",
       "    </tr>\n",
       "    <tr>\n",
       "      <th>max</th>\n",
       "      <td>8202.000000</td>\n",
       "      <td>111.000000</td>\n",
       "      <td>1000.000000</td>\n",
       "      <td>3.000000</td>\n",
       "      <td>10.500000</td>\n",
       "    </tr>\n",
       "  </tbody>\n",
       "</table>\n",
       "</div>"
      ],
      "text/plain": [
       "        Unnamed: 0     omtioxzz     yfmzwkru     tiwrsloh     weioazcf\n",
       "count  6562.000000  6361.000000  6353.000000  6355.000000  6366.000000\n",
       "mean   4113.757543    17.455117    -2.826696    -4.194335    -7.461828\n",
       "std    2353.382080    10.924393    12.615775     4.476410    11.198626\n",
       "min       0.000000  -127.000000    -4.000000   -31.000000   -74.500000\n",
       "25%    2088.500000    12.000000    -4.000000    -7.000000   -14.500000\n",
       "50%    4115.500000    12.000000    -3.000000    -3.000000    -4.500000\n",
       "75%    6156.750000    21.000000    -2.000000    -1.000000     0.500000\n",
       "max    8202.000000   111.000000  1000.000000     3.000000    10.500000"
      ]
     },
     "execution_count": 26,
     "metadata": {},
     "output_type": "execute_result"
    }
   ],
   "source": [
    "data_train.describe()"
   ]
  },
  {
   "cell_type": "markdown",
   "metadata": {},
   "source": [
    "Descriptive statistics of the four numerical variables uncover the following:\n",
    "<ul>\n",
    "    <li>there are missing values</li>\n",
    "    <li>skewed distributions and presence of outliers</li>\n",
    "</ul>"
   ]
  },
  {
   "cell_type": "markdown",
   "metadata": {},
   "source": [
    "## Categorical features"
   ]
  },
  {
   "cell_type": "code",
   "execution_count": 15,
   "metadata": {},
   "outputs": [
    {
     "name": "stderr",
     "output_type": "stream",
     "text": [
      "/home/isabel/anaconda3/envs/DD_Pover-T_Tests/lib/python3.8/site-packages/seaborn/_decorators.py:36: FutureWarning: Pass the following variables as keyword args: x, y. From version 0.12, the only valid positional argument will be `data`, and passing other arguments without an explicit keyword will result in an error or misinterpretation.\n",
      "  warnings.warn(\n"
     ]
    },
    {
     "data": {
      "image/png": "[encoded data removed]",
      "text/plain": [
       "<Figure size 432x288 with 1 Axes>"
      ]
     },
     "metadata": {},
     "output_type": "display_data"
    }
   ],
   "source": [
    "kjkrfgld_count = cat_data_train['kjkrfgld'].value_counts()\n",
    "sns.set(style=\"darkgrid\")\n",
    "sns.barplot(kjkrfgld_count.index, kjkrfgld_count.values, alpha=0.9)\n",
    "plt.title('Frequency Distribution kjkrfgld')\n",
    "plt.ylabel('Number of Occurrences', fontsize=12)\n",
    "plt.xlabel('kjkrfgld', fontsize=12)\n",
    "plt.show()"
   ]
  },
  {
   "cell_type": "code",
   "execution_count": 62,
   "metadata": {},
   "outputs": [
    {
     "name": "stderr",
     "output_type": "stream",
     "text": [
      "/home/isabel/anaconda3/envs/DD_Pover-T_Tests/lib/python3.8/site-packages/seaborn/_decorators.py:36: FutureWarning: Pass the following variables as keyword args: x, y. From version 0.12, the only valid positional argument will be `data`, and passing other arguments without an explicit keyword will result in an error or misinterpretation.\n",
      "  warnings.warn(\n"
     ]
    },
    {
     "data": {
      "image/png": "[encoded data removed]",
      "text/plain": [
       "<Figure size 432x288 with 1 Axes>"
      ]
     },
     "metadata": {},
     "output_type": "display_data"
    }
   ],
   "source": [
    "bpowgknt_count = cat_data_train['bpowgknt'].value_counts()\n",
    "sns.set(style=\"darkgrid\")\n",
    "sns.barplot(bpowgknt_count.index, bpowgknt_count.values, alpha=0.9)\n",
    "plt.title('Frequency Distribution bpowgknt')\n",
    "plt.ylabel('Number of Occurrences', fontsize=12)\n",
    "plt.xlabel('bpowgknt', fontsize=12)\n",
    "plt.show()"
   ]
  },
  {
   "cell_type": "code",
   "execution_count": 64,
   "metadata": {},
   "outputs": [
    {
     "name": "stderr",
     "output_type": "stream",
     "text": [
      "/home/isabel/anaconda3/envs/DD_Pover-T_Tests/lib/python3.8/site-packages/seaborn/_decorators.py:36: FutureWarning: Pass the following variables as keyword args: x, y. From version 0.12, the only valid positional argument will be `data`, and passing other arguments without an explicit keyword will result in an error or misinterpretation.\n",
      "  warnings.warn(\n"
     ]
    },
    {
     "data": {
      "image/png": "[encoded data removed]",
      "text/plain": [
       "<Figure size 432x288 with 1 Axes>"
      ]
     },
     "metadata": {},
     "output_type": "display_data"
    }
   ],
   "source": [
    "raksnhjf_count = cat_data_train['raksnhjf'].value_counts()\n",
    "sns.set(style=\"darkgrid\")\n",
    "sns.barplot(raksnhjf_count.index, raksnhjf_count.values, alpha=0.9)\n",
    "plt.title('Frequency Distribution raksnhjf')\n",
    "plt.ylabel('Number of Occurrences', fontsize=12)\n",
    "plt.xlabel('raksnhjf', fontsize=12)\n",
    "plt.show()"
   ]
  },
  {
   "cell_type": "code",
   "execution_count": 68,
   "metadata": {},
   "outputs": [
    {
     "name": "stderr",
     "output_type": "stream",
     "text": [
      "/home/isabel/anaconda3/envs/DD_Pover-T_Tests/lib/python3.8/site-packages/seaborn/_decorators.py:36: FutureWarning: Pass the following variables as keyword args: x, y. From version 0.12, the only valid positional argument will be `data`, and passing other arguments without an explicit keyword will result in an error or misinterpretation.\n",
      "  warnings.warn(\n"
     ]
    },
    {
     "data": {
      "image/png": "[encoded data removed]",
      "text/plain": [
       "<Figure size 1584x720 with 1 Axes>"
      ]
     },
     "metadata": {},
     "output_type": "display_data"
    }
   ],
   "source": [
    "vwpsxrgk_count = cat_data_train['vwpsxrgk'].value_counts()\n",
    "sns.set(style=\"darkgrid\")\n",
    "sns.set(rc={'figure.figsize':(22,10)})\n",
    "sns.barplot(vwpsxrgk_count.index, vwpsxrgk_count.values, alpha=0.9)\n",
    "plt.title('Frequency Distribution vwpsxrgk')\n",
    "plt.ylabel('Number of Occurrences', fontsize=12)\n",
    "plt.xlabel('vwpsxrgk', fontsize=12)\n",
    "plt.show()"
   ]
  },
  {
   "cell_type": "markdown",
   "metadata": {},
   "source": [
    "# Data Preprocessing\n",
    "<div style = \"float:right\"><a style=\"text-decoration:none\" href = \"#inicio\">Inicio</a></div>"
   ]
  },
  {
   "cell_type": "markdown",
   "metadata": {},
   "source": [
    "## Binary target variable"
   ]
  },
  {
   "cell_type": "markdown",
   "metadata": {},
   "source": [
    "Let's transform our target variable into a binary (0, 1) variable."
   ]
  },
  {
   "cell_type": "code",
   "execution_count": 5,
   "metadata": {},
   "outputs": [],
   "source": [
    "data_train['poor'] = data_train['poor'].apply(lambda x: 1 if x == True else 0)"
   ]
  },
  {
   "cell_type": "code",
   "execution_count": 6,
   "metadata": {},
   "outputs": [],
   "source": [
    "data_test['poor'] = data_test['poor'].apply(lambda x: 1 if x == True else 0)"
   ]
  },
  {
   "cell_type": "markdown",
   "metadata": {},
   "source": [
    "## Numerical features"
   ]
  },
  {
   "cell_type": "markdown",
   "metadata": {},
   "source": [
    "Two-step approach:\n",
    "<ol>\n",
    "    <li> adopt an <b>imputation</b> method for missing values based on the distribution's median,</li>\n",
    "    <li> <b>standardize</b> data to avoid degradation of the predictive performance of many machine learning algorithms. Unscaled data can also slow down or even prevent the convergence of many gradient-based estimators.<br>\n",
    "        We first use PowerTransformer method since it accounts for skewed distributions (and outliers?). However, we shall perform other methods and visualize plots in order to make the most accurate data standardization.</li>\n",
    "</ul>\n",
    "    \n",
    "[Documentation](https://scikit-learn.org/stable/auto_examples/preprocessing/plot_all_scaling.html#sphx-glr-auto-examples-preprocessing-plot-all-scaling-py)"
   ]
  },
  {
   "cell_type": "code",
   "execution_count": 7,
   "metadata": {},
   "outputs": [],
   "source": [
    "def num_proc(data):\n",
    "    # Numerical features\n",
    "    data = data.drop('Unnamed: 0', axis=1)\n",
    "    num_data = data.select_dtypes(include=['float64']).copy()\n",
    "    \n",
    "    # Imputation\n",
    "    median_imputer = SimpleImputer(strategy='median')\n",
    "    num_data.iloc[:,:] = median_imputer.fit_transform(num_data)\n",
    "    \n",
    "    # Standardization\n",
    "    scaler = PowerTransformer()\n",
    "    num_data.iloc[:, 0:4] = scaler.fit_transform(num_data)\n",
    "    \n",
    "    return num_data"
   ]
  },
  {
   "cell_type": "markdown",
   "metadata": {},
   "source": [
    "### Train data"
   ]
  },
  {
   "cell_type": "code",
   "execution_count": 8,
   "metadata": {},
   "outputs": [
    {
     "data": {
      "text/html": [
       "<div>\n",
       "<style scoped>\n",
       "    .dataframe tbody tr th:only-of-type {\n",
       "        vertical-align: middle;\n",
       "    }\n",
       "\n",
       "    .dataframe tbody tr th {\n",
       "        vertical-align: top;\n",
       "    }\n",
       "\n",
       "    .dataframe thead th {\n",
       "        text-align: right;\n",
       "    }\n",
       "</style>\n",
       "<table border=\"1\" class=\"dataframe\">\n",
       "  <thead>\n",
       "    <tr style=\"text-align: right;\">\n",
       "      <th></th>\n",
       "      <th>omtioxzz</th>\n",
       "      <th>yfmzwkru</th>\n",
       "      <th>tiwrsloh</th>\n",
       "      <th>weioazcf</th>\n",
       "    </tr>\n",
       "    <tr>\n",
       "      <th>id</th>\n",
       "      <th></th>\n",
       "      <th></th>\n",
       "      <th></th>\n",
       "      <th></th>\n",
       "    </tr>\n",
       "  </thead>\n",
       "  <tbody>\n",
       "    <tr>\n",
       "      <th>29252</th>\n",
       "      <td>-0.480203</td>\n",
       "      <td>0.102811</td>\n",
       "      <td>0.638589</td>\n",
       "      <td>0.628295</td>\n",
       "    </tr>\n",
       "    <tr>\n",
       "      <th>98286</th>\n",
       "      <td>0.350762</td>\n",
       "      <td>1.159184</td>\n",
       "      <td>-0.279685</td>\n",
       "      <td>-0.280701</td>\n",
       "    </tr>\n",
       "    <tr>\n",
       "      <th>49040</th>\n",
       "      <td>-0.480203</td>\n",
       "      <td>0.102811</td>\n",
       "      <td>-0.279685</td>\n",
       "      <td>-0.280701</td>\n",
       "    </tr>\n",
       "    <tr>\n",
       "      <th>35261</th>\n",
       "      <td>-0.480203</td>\n",
       "      <td>1.907488</td>\n",
       "      <td>-0.279685</td>\n",
       "      <td>-0.280701</td>\n",
       "    </tr>\n",
       "    <tr>\n",
       "      <th>98833</th>\n",
       "      <td>0.350762</td>\n",
       "      <td>-1.263886</td>\n",
       "      <td>-0.279685</td>\n",
       "      <td>-0.280701</td>\n",
       "    </tr>\n",
       "  </tbody>\n",
       "</table>\n",
       "</div>"
      ],
      "text/plain": [
       "       omtioxzz  yfmzwkru  tiwrsloh  weioazcf\n",
       "id                                           \n",
       "29252 -0.480203  0.102811  0.638589  0.628295\n",
       "98286  0.350762  1.159184 -0.279685 -0.280701\n",
       "49040 -0.480203  0.102811 -0.279685 -0.280701\n",
       "35261 -0.480203  1.907488 -0.279685 -0.280701\n",
       "98833  0.350762 -1.263886 -0.279685 -0.280701"
      ]
     },
     "execution_count": 8,
     "metadata": {},
     "output_type": "execute_result"
    }
   ],
   "source": [
    "num_data_train = num_proc(data_train)\n",
    "num_data_train.head()"
   ]
  },
  {
   "cell_type": "code",
   "execution_count": 9,
   "metadata": {},
   "outputs": [
    {
     "name": "stdout",
     "output_type": "stream",
     "text": [
      "0\n"
     ]
    }
   ],
   "source": [
    "print(num_data_train.isnull().values.sum())"
   ]
  },
  {
   "cell_type": "code",
   "execution_count": 60,
   "metadata": {},
   "outputs": [
    {
     "data": {
      "text/html": [
       "<div>\n",
       "<style scoped>\n",
       "    .dataframe tbody tr th:only-of-type {\n",
       "        vertical-align: middle;\n",
       "    }\n",
       "\n",
       "    .dataframe tbody tr th {\n",
       "        vertical-align: top;\n",
       "    }\n",
       "\n",
       "    .dataframe thead th {\n",
       "        text-align: right;\n",
       "    }\n",
       "</style>\n",
       "<table border=\"1\" class=\"dataframe\">\n",
       "  <thead>\n",
       "    <tr style=\"text-align: right;\">\n",
       "      <th></th>\n",
       "      <th>omtioxzz</th>\n",
       "      <th>yfmzwkru</th>\n",
       "      <th>tiwrsloh</th>\n",
       "      <th>weioazcf</th>\n",
       "    </tr>\n",
       "  </thead>\n",
       "  <tbody>\n",
       "    <tr>\n",
       "      <th>count</th>\n",
       "      <td>6.562000e+03</td>\n",
       "      <td>6.562000e+03</td>\n",
       "      <td>6.562000e+03</td>\n",
       "      <td>6.562000e+03</td>\n",
       "    </tr>\n",
       "    <tr>\n",
       "      <th>mean</th>\n",
       "      <td>-6.496886e-18</td>\n",
       "      <td>-5.100055e-16</td>\n",
       "      <td>1.461799e-17</td>\n",
       "      <td>1.375174e-16</td>\n",
       "    </tr>\n",
       "    <tr>\n",
       "      <th>std</th>\n",
       "      <td>1.000076e+00</td>\n",
       "      <td>1.000076e+00</td>\n",
       "      <td>1.000076e+00</td>\n",
       "      <td>1.000076e+00</td>\n",
       "    </tr>\n",
       "    <tr>\n",
       "      <th>min</th>\n",
       "      <td>-1.607661e+01</td>\n",
       "      <td>-1.263886e+00</td>\n",
       "      <td>-4.726749e+00</td>\n",
       "      <td>-4.873746e+00</td>\n",
       "    </tr>\n",
       "    <tr>\n",
       "      <th>25%</th>\n",
       "      <td>-4.802031e-01</td>\n",
       "      <td>-1.263886e+00</td>\n",
       "      <td>-6.870227e-01</td>\n",
       "      <td>-6.811696e-01</td>\n",
       "    </tr>\n",
       "    <tr>\n",
       "      <th>50%</th>\n",
       "      <td>-4.802031e-01</td>\n",
       "      <td>1.028108e-01</td>\n",
       "      <td>1.557923e-01</td>\n",
       "      <td>1.438061e-01</td>\n",
       "    </tr>\n",
       "    <tr>\n",
       "      <th>75%</th>\n",
       "      <td>3.507622e-01</td>\n",
       "      <td>1.159184e+00</td>\n",
       "      <td>6.385893e-01</td>\n",
       "      <td>6.282954e-01</td>\n",
       "    </tr>\n",
       "    <tr>\n",
       "      <th>max</th>\n",
       "      <td>8.342011e+00</td>\n",
       "      <td>4.207054e+00</td>\n",
       "      <td>1.974409e+00</td>\n",
       "      <td>1.957637e+00</td>\n",
       "    </tr>\n",
       "  </tbody>\n",
       "</table>\n",
       "</div>"
      ],
      "text/plain": [
       "           omtioxzz      yfmzwkru      tiwrsloh      weioazcf\n",
       "count  6.562000e+03  6.562000e+03  6.562000e+03  6.562000e+03\n",
       "mean  -6.496886e-18 -5.100055e-16  1.461799e-17  1.375174e-16\n",
       "std    1.000076e+00  1.000076e+00  1.000076e+00  1.000076e+00\n",
       "min   -1.607661e+01 -1.263886e+00 -4.726749e+00 -4.873746e+00\n",
       "25%   -4.802031e-01 -1.263886e+00 -6.870227e-01 -6.811696e-01\n",
       "50%   -4.802031e-01  1.028108e-01  1.557923e-01  1.438061e-01\n",
       "75%    3.507622e-01  1.159184e+00  6.385893e-01  6.282954e-01\n",
       "max    8.342011e+00  4.207054e+00  1.974409e+00  1.957637e+00"
      ]
     },
     "execution_count": 60,
     "metadata": {},
     "output_type": "execute_result"
    }
   ],
   "source": [
    "num_data_train.describe()"
   ]
  },
  {
   "cell_type": "markdown",
   "metadata": {},
   "source": [
    "### Test data"
   ]
  },
  {
   "cell_type": "code",
   "execution_count": 10,
   "metadata": {},
   "outputs": [
    {
     "data": {
      "text/html": [
       "<div>\n",
       "<style scoped>\n",
       "    .dataframe tbody tr th:only-of-type {\n",
       "        vertical-align: middle;\n",
       "    }\n",
       "\n",
       "    .dataframe tbody tr th {\n",
       "        vertical-align: top;\n",
       "    }\n",
       "\n",
       "    .dataframe thead th {\n",
       "        text-align: right;\n",
       "    }\n",
       "</style>\n",
       "<table border=\"1\" class=\"dataframe\">\n",
       "  <thead>\n",
       "    <tr style=\"text-align: right;\">\n",
       "      <th></th>\n",
       "      <th>omtioxzz</th>\n",
       "      <th>yfmzwkru</th>\n",
       "      <th>tiwrsloh</th>\n",
       "      <th>weioazcf</th>\n",
       "    </tr>\n",
       "    <tr>\n",
       "      <th>id</th>\n",
       "      <th></th>\n",
       "      <th></th>\n",
       "      <th></th>\n",
       "      <th></th>\n",
       "    </tr>\n",
       "  </thead>\n",
       "  <tbody>\n",
       "    <tr>\n",
       "      <th>42706</th>\n",
       "      <td>0.404017</td>\n",
       "      <td>0.101349</td>\n",
       "      <td>-0.278625</td>\n",
       "      <td>-0.278740</td>\n",
       "    </tr>\n",
       "    <tr>\n",
       "      <th>65531</th>\n",
       "      <td>0.404017</td>\n",
       "      <td>1.177563</td>\n",
       "      <td>-1.074606</td>\n",
       "      <td>-1.071908</td>\n",
       "    </tr>\n",
       "    <tr>\n",
       "      <th>64452</th>\n",
       "      <td>1.174058</td>\n",
       "      <td>-1.248141</td>\n",
       "      <td>-1.074606</td>\n",
       "      <td>-1.071908</td>\n",
       "    </tr>\n",
       "    <tr>\n",
       "      <th>78022</th>\n",
       "      <td>0.404017</td>\n",
       "      <td>1.177563</td>\n",
       "      <td>1.970861</td>\n",
       "      <td>1.973978</td>\n",
       "    </tr>\n",
       "    <tr>\n",
       "      <th>45674</th>\n",
       "      <td>1.174058</td>\n",
       "      <td>-1.248141</td>\n",
       "      <td>-0.278625</td>\n",
       "      <td>-0.278740</td>\n",
       "    </tr>\n",
       "  </tbody>\n",
       "</table>\n",
       "</div>"
      ],
      "text/plain": [
       "       omtioxzz  yfmzwkru  tiwrsloh  weioazcf\n",
       "id                                           \n",
       "42706  0.404017  0.101349 -0.278625 -0.278740\n",
       "65531  0.404017  1.177563 -1.074606 -1.071908\n",
       "64452  1.174058 -1.248141 -1.074606 -1.071908\n",
       "78022  0.404017  1.177563  1.970861  1.973978\n",
       "45674  1.174058 -1.248141 -0.278625 -0.278740"
      ]
     },
     "execution_count": 10,
     "metadata": {},
     "output_type": "execute_result"
    }
   ],
   "source": [
    "num_data_test = num_proc(data_test)\n",
    "num_data_test.head()"
   ]
  },
  {
   "cell_type": "code",
   "execution_count": 12,
   "metadata": {},
   "outputs": [
    {
     "name": "stdout",
     "output_type": "stream",
     "text": [
      "0\n"
     ]
    }
   ],
   "source": [
    "print(num_data_test.isnull().values.sum())"
   ]
  },
  {
   "cell_type": "code",
   "execution_count": 11,
   "metadata": {},
   "outputs": [
    {
     "data": {
      "text/html": [
       "<div>\n",
       "<style scoped>\n",
       "    .dataframe tbody tr th:only-of-type {\n",
       "        vertical-align: middle;\n",
       "    }\n",
       "\n",
       "    .dataframe tbody tr th {\n",
       "        vertical-align: top;\n",
       "    }\n",
       "\n",
       "    .dataframe thead th {\n",
       "        text-align: right;\n",
       "    }\n",
       "</style>\n",
       "<table border=\"1\" class=\"dataframe\">\n",
       "  <thead>\n",
       "    <tr style=\"text-align: right;\">\n",
       "      <th></th>\n",
       "      <th>omtioxzz</th>\n",
       "      <th>yfmzwkru</th>\n",
       "      <th>tiwrsloh</th>\n",
       "      <th>weioazcf</th>\n",
       "    </tr>\n",
       "  </thead>\n",
       "  <tbody>\n",
       "    <tr>\n",
       "      <th>count</th>\n",
       "      <td>1.641000e+03</td>\n",
       "      <td>1.641000e+03</td>\n",
       "      <td>1.641000e+03</td>\n",
       "      <td>1.641000e+03</td>\n",
       "    </tr>\n",
       "    <tr>\n",
       "      <th>mean</th>\n",
       "      <td>-9.742359e-18</td>\n",
       "      <td>6.278409e-16</td>\n",
       "      <td>-1.380168e-17</td>\n",
       "      <td>-2.381466e-17</td>\n",
       "    </tr>\n",
       "    <tr>\n",
       "      <th>std</th>\n",
       "      <td>1.000305e+00</td>\n",
       "      <td>1.000305e+00</td>\n",
       "      <td>1.000305e+00</td>\n",
       "      <td>1.000305e+00</td>\n",
       "    </tr>\n",
       "    <tr>\n",
       "      <th>min</th>\n",
       "      <td>-3.328899e+00</td>\n",
       "      <td>-1.248141e+00</td>\n",
       "      <td>-3.491585e+00</td>\n",
       "      <td>-3.579589e+00</td>\n",
       "    </tr>\n",
       "    <tr>\n",
       "      <th>25%</th>\n",
       "      <td>-4.428214e-01</td>\n",
       "      <td>-1.248141e+00</td>\n",
       "      <td>-6.863999e-01</td>\n",
       "      <td>-6.829049e-01</td>\n",
       "    </tr>\n",
       "    <tr>\n",
       "      <th>50%</th>\n",
       "      <td>-4.428214e-01</td>\n",
       "      <td>1.013492e-01</td>\n",
       "      <td>1.570566e-01</td>\n",
       "      <td>1.494899e-01</td>\n",
       "    </tr>\n",
       "    <tr>\n",
       "      <th>75%</th>\n",
       "      <td>4.040173e-01</td>\n",
       "      <td>1.177563e+00</td>\n",
       "      <td>6.396304e-01</td>\n",
       "      <td>6.377120e-01</td>\n",
       "    </tr>\n",
       "    <tr>\n",
       "      <th>max</th>\n",
       "      <td>4.485813e+00</td>\n",
       "      <td>2.724022e+00</td>\n",
       "      <td>1.970861e+00</td>\n",
       "      <td>1.973978e+00</td>\n",
       "    </tr>\n",
       "  </tbody>\n",
       "</table>\n",
       "</div>"
      ],
      "text/plain": [
       "           omtioxzz      yfmzwkru      tiwrsloh      weioazcf\n",
       "count  1.641000e+03  1.641000e+03  1.641000e+03  1.641000e+03\n",
       "mean  -9.742359e-18  6.278409e-16 -1.380168e-17 -2.381466e-17\n",
       "std    1.000305e+00  1.000305e+00  1.000305e+00  1.000305e+00\n",
       "min   -3.328899e+00 -1.248141e+00 -3.491585e+00 -3.579589e+00\n",
       "25%   -4.428214e-01 -1.248141e+00 -6.863999e-01 -6.829049e-01\n",
       "50%   -4.428214e-01  1.013492e-01  1.570566e-01  1.494899e-01\n",
       "75%    4.040173e-01  1.177563e+00  6.396304e-01  6.377120e-01\n",
       "max    4.485813e+00  2.724022e+00  1.970861e+00  1.973978e+00"
      ]
     },
     "execution_count": 11,
     "metadata": {},
     "output_type": "execute_result"
    }
   ],
   "source": [
    "num_data_test.describe()"
   ]
  },
  {
   "cell_type": "markdown",
   "metadata": {},
   "source": [
    "## Categorical features"
   ]
  },
  {
   "cell_type": "markdown",
   "metadata": {},
   "source": [
    "Typically, any standard work-flow in feature engineering involves some form of transformation of these categorical values into numeric labels and then applying some encoding scheme on these values.<br>\n",
    "\n",
    "The lack of context information difficults the decision on the encoding scheme. But, we will lately come back to this issue."
   ]
  },
  {
   "cell_type": "markdown",
   "metadata": {},
   "source": [
    "Categorical values also need NAs imputation, similarly to numerical values.<br>\n",
    "\n",
    "As categorical values are strings and we cannot perform operations on strings, we have the necessity to convert/encode strings to numeric values and impute NAs.<br>\n",
    "\n",
    "As suggested by this [DataCamp course](https://learn.datacamp.com/courses/dealing-with-missing-data-in-python), we may follow this three step-approach:<br>\n",
    "<ol>\n",
    "    <li>Convert non-missing categorical columns to ordinal values</li>\n",
    "    <li>Impute the missing values in the ordinal DataFrame</li>\n",
    "    <li>Convert back from ordinal values to categorical values</li>\n",
    "</ol>"
   ]
  },
  {
   "cell_type": "code",
   "execution_count": 13,
   "metadata": {},
   "outputs": [],
   "source": [
    "def cat_proc(data):\n",
    "    # Select object types\n",
    "    cat_data = data.select_dtypes(include=['object']).copy()\n",
    "    \n",
    "    # NAs imputation\n",
    "    # Ordinal Encoding of cat_data_train DataFrame\n",
    "    ordinal_enc_dict = {}\n",
    "\n",
    "    for col_name in cat_data:\n",
    "        # Create an Ordinal Encoder for col\n",
    "        ordinal_enc_dict[col_name] = OrdinalEncoder()\n",
    "        col = cat_data[col_name]\n",
    "    \n",
    "        # Select non-null values of columns (Ordinal Encoder does not work with NAs)\n",
    "        col_not_null = col[col.notnull()]\n",
    "        reshaped_vals = col_not_null.values.reshape(-1, 1)\n",
    "        encoded_vals = ordinal_enc_dict[col_name].fit_transform(reshaped_vals)\n",
    "    \n",
    "        # Store the values to non-null values of the column in data\n",
    "        cat_data.loc[col.notnull(), col_name] = np.squeeze(encoded_vals)\n",
    "        \n",
    "        \n",
    "    # Create KNN imputer\n",
    "    KNN_imputer = KNN()\n",
    "\n",
    "    # Impute and round the users DataFrame\n",
    "    cat_data.iloc[:, :] = np.round(KNN_imputer.fit_transform(cat_data))\n",
    "    \n",
    "    # Loop over the columns\n",
    "    for col_name in cat_data:\n",
    "    \n",
    "        # Reshape the data\n",
    "        reshaped = cat_data[col_name].values.reshape(-1, 1)\n",
    "    \n",
    "        # Perform inverse transform of the ordinally encoded columns\n",
    "        cat_data[col_name] = ordinal_enc_dict[col_name].inverse_transform(reshaped)\n",
    "        \n",
    "    return cat_data      "
   ]
  },
  {
   "cell_type": "markdown",
   "metadata": {},
   "source": [
    "### Train data"
   ]
  },
  {
   "cell_type": "code",
   "execution_count": 14,
   "metadata": {
    "scrolled": true
   },
   "outputs": [
    {
     "name": "stdout",
     "output_type": "stream",
     "text": [
      "Imputing row 1/6562 with 1 missing, elapsed time: 3.496\n",
      "Imputing row 101/6562 with 0 missing, elapsed time: 3.506\n",
      "Imputing row 201/6562 with 0 missing, elapsed time: 3.507\n",
      "Imputing row 301/6562 with 0 missing, elapsed time: 3.507\n",
      "Imputing row 401/6562 with 0 missing, elapsed time: 3.508\n",
      "Imputing row 501/6562 with 0 missing, elapsed time: 3.509\n",
      "Imputing row 601/6562 with 0 missing, elapsed time: 3.509\n",
      "Imputing row 701/6562 with 0 missing, elapsed time: 3.510\n",
      "Imputing row 801/6562 with 0 missing, elapsed time: 3.510\n",
      "Imputing row 901/6562 with 0 missing, elapsed time: 3.511\n",
      "Imputing row 1001/6562 with 0 missing, elapsed time: 3.511\n",
      "Imputing row 1101/6562 with 0 missing, elapsed time: 3.512\n",
      "Imputing row 1201/6562 with 0 missing, elapsed time: 3.512\n",
      "Imputing row 1301/6562 with 1 missing, elapsed time: 3.513\n",
      "Imputing row 1401/6562 with 1 missing, elapsed time: 3.513\n",
      "Imputing row 1501/6562 with 1 missing, elapsed time: 3.514\n",
      "Imputing row 1601/6562 with 0 missing, elapsed time: 3.514\n",
      "Imputing row 1701/6562 with 0 missing, elapsed time: 3.515\n",
      "Imputing row 1801/6562 with 0 missing, elapsed time: 3.515\n",
      "Imputing row 1901/6562 with 0 missing, elapsed time: 3.516\n",
      "Imputing row 2001/6562 with 0 missing, elapsed time: 3.516\n",
      "Imputing row 2101/6562 with 0 missing, elapsed time: 3.517\n",
      "Imputing row 2201/6562 with 0 missing, elapsed time: 3.517\n",
      "Imputing row 2301/6562 with 0 missing, elapsed time: 3.518\n",
      "Imputing row 2401/6562 with 0 missing, elapsed time: 3.518\n",
      "Imputing row 2501/6562 with 0 missing, elapsed time: 3.519\n",
      "Imputing row 2601/6562 with 1 missing, elapsed time: 3.519\n",
      "Imputing row 2701/6562 with 0 missing, elapsed time: 3.520\n",
      "Imputing row 2801/6562 with 0 missing, elapsed time: 3.521\n",
      "Imputing row 2901/6562 with 0 missing, elapsed time: 3.521\n",
      "Imputing row 3001/6562 with 0 missing, elapsed time: 3.521\n",
      "Imputing row 3101/6562 with 0 missing, elapsed time: 3.522\n",
      "Imputing row 3201/6562 with 0 missing, elapsed time: 3.523\n",
      "Imputing row 3301/6562 with 0 missing, elapsed time: 3.523\n",
      "Imputing row 3401/6562 with 0 missing, elapsed time: 3.524\n",
      "Imputing row 3501/6562 with 0 missing, elapsed time: 3.524\n",
      "Imputing row 3601/6562 with 0 missing, elapsed time: 3.525\n",
      "Imputing row 3701/6562 with 0 missing, elapsed time: 3.525\n",
      "Imputing row 3801/6562 with 0 missing, elapsed time: 3.526\n",
      "Imputing row 3901/6562 with 0 missing, elapsed time: 3.526\n",
      "Imputing row 4001/6562 with 0 missing, elapsed time: 3.527\n",
      "Imputing row 4101/6562 with 0 missing, elapsed time: 3.527\n",
      "Imputing row 4201/6562 with 0 missing, elapsed time: 3.528\n",
      "Imputing row 4301/6562 with 1 missing, elapsed time: 3.528\n",
      "Imputing row 4401/6562 with 0 missing, elapsed time: 3.529\n",
      "Imputing row 4501/6562 with 0 missing, elapsed time: 3.529\n",
      "Imputing row 4601/6562 with 0 missing, elapsed time: 3.530\n",
      "Imputing row 4701/6562 with 0 missing, elapsed time: 3.530\n",
      "Imputing row 4801/6562 with 0 missing, elapsed time: 3.531\n",
      "Imputing row 4901/6562 with 0 missing, elapsed time: 3.532\n",
      "Imputing row 5001/6562 with 0 missing, elapsed time: 3.532\n",
      "Imputing row 5101/6562 with 0 missing, elapsed time: 3.533\n",
      "Imputing row 5201/6562 with 0 missing, elapsed time: 3.533\n",
      "Imputing row 5301/6562 with 0 missing, elapsed time: 3.534\n",
      "Imputing row 5401/6562 with 0 missing, elapsed time: 3.534\n",
      "Imputing row 5501/6562 with 0 missing, elapsed time: 3.535\n",
      "Imputing row 5601/6562 with 0 missing, elapsed time: 3.535\n",
      "Imputing row 5701/6562 with 0 missing, elapsed time: 3.536\n",
      "Imputing row 5801/6562 with 0 missing, elapsed time: 3.537\n",
      "Imputing row 5901/6562 with 0 missing, elapsed time: 3.537\n",
      "Imputing row 6001/6562 with 0 missing, elapsed time: 3.538\n",
      "Imputing row 6101/6562 with 0 missing, elapsed time: 3.538\n",
      "Imputing row 6201/6562 with 0 missing, elapsed time: 3.539\n",
      "Imputing row 6301/6562 with 0 missing, elapsed time: 3.539\n",
      "Imputing row 6401/6562 with 0 missing, elapsed time: 3.540\n",
      "Imputing row 6501/6562 with 0 missing, elapsed time: 3.540\n"
     ]
    },
    {
     "data": {
      "text/html": [
       "<div>\n",
       "<style scoped>\n",
       "    .dataframe tbody tr th:only-of-type {\n",
       "        vertical-align: middle;\n",
       "    }\n",
       "\n",
       "    .dataframe tbody tr th {\n",
       "        vertical-align: top;\n",
       "    }\n",
       "\n",
       "    .dataframe thead th {\n",
       "        text-align: right;\n",
       "    }\n",
       "</style>\n",
       "<table border=\"1\" class=\"dataframe\">\n",
       "  <thead>\n",
       "    <tr style=\"text-align: right;\">\n",
       "      <th></th>\n",
       "      <th>kjkrfgld</th>\n",
       "      <th>bpowgknt</th>\n",
       "      <th>raksnhjf</th>\n",
       "      <th>vwpsxrgk</th>\n",
       "    </tr>\n",
       "    <tr>\n",
       "      <th>id</th>\n",
       "      <th></th>\n",
       "      <th></th>\n",
       "      <th></th>\n",
       "      <th></th>\n",
       "    </tr>\n",
       "  </thead>\n",
       "  <tbody>\n",
       "    <tr>\n",
       "      <th>29252</th>\n",
       "      <td>KfoTG</td>\n",
       "      <td>zPfZR</td>\n",
       "      <td>DtMvg</td>\n",
       "      <td>ZCIYy</td>\n",
       "    </tr>\n",
       "    <tr>\n",
       "      <th>98286</th>\n",
       "      <td>ljBjd</td>\n",
       "      <td>THHLT</td>\n",
       "      <td>DtMvg</td>\n",
       "      <td>esAQH</td>\n",
       "    </tr>\n",
       "    <tr>\n",
       "      <th>49040</th>\n",
       "      <td>Lsuai</td>\n",
       "      <td>zPfZR</td>\n",
       "      <td>zeYAm</td>\n",
       "      <td>ZCIYy</td>\n",
       "    </tr>\n",
       "    <tr>\n",
       "      <th>35261</th>\n",
       "      <td>KfoTG</td>\n",
       "      <td>mDadf</td>\n",
       "      <td>zeYAm</td>\n",
       "      <td>ZCIYy</td>\n",
       "    </tr>\n",
       "    <tr>\n",
       "      <th>98833</th>\n",
       "      <td>KfoTG</td>\n",
       "      <td>THHLT</td>\n",
       "      <td>DtMvg</td>\n",
       "      <td>ARuYG</td>\n",
       "    </tr>\n",
       "  </tbody>\n",
       "</table>\n",
       "</div>"
      ],
      "text/plain": [
       "      kjkrfgld bpowgknt raksnhjf vwpsxrgk\n",
       "id                                       \n",
       "29252    KfoTG    zPfZR    DtMvg    ZCIYy\n",
       "98286    ljBjd    THHLT    DtMvg    esAQH\n",
       "49040    Lsuai    zPfZR    zeYAm    ZCIYy\n",
       "35261    KfoTG    mDadf    zeYAm    ZCIYy\n",
       "98833    KfoTG    THHLT    DtMvg    ARuYG"
      ]
     },
     "execution_count": 14,
     "metadata": {},
     "output_type": "execute_result"
    }
   ],
   "source": [
    "cat_data_train = cat_proc(data_train)\n",
    "cat_data_train.head()"
   ]
  },
  {
   "cell_type": "code",
   "execution_count": 15,
   "metadata": {},
   "outputs": [
    {
     "name": "stdout",
     "output_type": "stream",
     "text": [
      "0\n"
     ]
    }
   ],
   "source": [
    "print(cat_data_train.isnull().values.sum())"
   ]
  },
  {
   "cell_type": "markdown",
   "metadata": {},
   "source": [
    "### Test data"
   ]
  },
  {
   "cell_type": "code",
   "execution_count": 16,
   "metadata": {},
   "outputs": [
    {
     "name": "stdout",
     "output_type": "stream",
     "text": [
      "Imputing row 1/1641 with 0 missing, elapsed time: 0.245\n",
      "Imputing row 101/1641 with 0 missing, elapsed time: 0.246\n",
      "Imputing row 201/1641 with 0 missing, elapsed time: 0.246\n",
      "Imputing row 301/1641 with 0 missing, elapsed time: 0.247\n",
      "Imputing row 401/1641 with 0 missing, elapsed time: 0.247\n",
      "Imputing row 501/1641 with 0 missing, elapsed time: 0.247\n",
      "Imputing row 601/1641 with 0 missing, elapsed time: 0.248\n",
      "Imputing row 701/1641 with 1 missing, elapsed time: 0.248\n",
      "Imputing row 801/1641 with 1 missing, elapsed time: 0.249\n",
      "Imputing row 901/1641 with 0 missing, elapsed time: 0.249\n",
      "Imputing row 1001/1641 with 0 missing, elapsed time: 0.249\n",
      "Imputing row 1101/1641 with 0 missing, elapsed time: 0.250\n",
      "Imputing row 1201/1641 with 0 missing, elapsed time: 0.250\n",
      "Imputing row 1301/1641 with 0 missing, elapsed time: 0.251\n",
      "Imputing row 1401/1641 with 1 missing, elapsed time: 0.251\n",
      "Imputing row 1501/1641 with 0 missing, elapsed time: 0.252\n",
      "Imputing row 1601/1641 with 0 missing, elapsed time: 0.252\n"
     ]
    },
    {
     "data": {
      "text/html": [
       "<div>\n",
       "<style scoped>\n",
       "    .dataframe tbody tr th:only-of-type {\n",
       "        vertical-align: middle;\n",
       "    }\n",
       "\n",
       "    .dataframe tbody tr th {\n",
       "        vertical-align: top;\n",
       "    }\n",
       "\n",
       "    .dataframe thead th {\n",
       "        text-align: right;\n",
       "    }\n",
       "</style>\n",
       "<table border=\"1\" class=\"dataframe\">\n",
       "  <thead>\n",
       "    <tr style=\"text-align: right;\">\n",
       "      <th></th>\n",
       "      <th>kjkrfgld</th>\n",
       "      <th>bpowgknt</th>\n",
       "      <th>raksnhjf</th>\n",
       "      <th>vwpsxrgk</th>\n",
       "    </tr>\n",
       "    <tr>\n",
       "      <th>id</th>\n",
       "      <th></th>\n",
       "      <th></th>\n",
       "      <th></th>\n",
       "      <th></th>\n",
       "    </tr>\n",
       "  </thead>\n",
       "  <tbody>\n",
       "    <tr>\n",
       "      <th>42706</th>\n",
       "      <td>qzGkS</td>\n",
       "      <td>zPfZR</td>\n",
       "      <td>rXCdD</td>\n",
       "      <td>IJnCs</td>\n",
       "    </tr>\n",
       "    <tr>\n",
       "      <th>65531</th>\n",
       "      <td>KfoTG</td>\n",
       "      <td>THHLT</td>\n",
       "      <td>DtMvg</td>\n",
       "      <td>XHmQd</td>\n",
       "    </tr>\n",
       "    <tr>\n",
       "      <th>64452</th>\n",
       "      <td>tnDpM</td>\n",
       "      <td>THHLT</td>\n",
       "      <td>qTmDg</td>\n",
       "      <td>yygvO</td>\n",
       "    </tr>\n",
       "    <tr>\n",
       "      <th>78022</th>\n",
       "      <td>Lsuai</td>\n",
       "      <td>WXYiE</td>\n",
       "      <td>DtMvg</td>\n",
       "      <td>XAmOF</td>\n",
       "    </tr>\n",
       "    <tr>\n",
       "      <th>45674</th>\n",
       "      <td>Lsuai</td>\n",
       "      <td>zPfZR</td>\n",
       "      <td>DtMvg</td>\n",
       "      <td>hmAUm</td>\n",
       "    </tr>\n",
       "  </tbody>\n",
       "</table>\n",
       "</div>"
      ],
      "text/plain": [
       "      kjkrfgld bpowgknt raksnhjf vwpsxrgk\n",
       "id                                       \n",
       "42706    qzGkS    zPfZR    rXCdD    IJnCs\n",
       "65531    KfoTG    THHLT    DtMvg    XHmQd\n",
       "64452    tnDpM    THHLT    qTmDg    yygvO\n",
       "78022    Lsuai    WXYiE    DtMvg    XAmOF\n",
       "45674    Lsuai    zPfZR    DtMvg    hmAUm"
      ]
     },
     "execution_count": 16,
     "metadata": {},
     "output_type": "execute_result"
    }
   ],
   "source": [
    "cat_data_test = cat_proc(data_test)\n",
    "cat_data_test.head()"
   ]
  },
  {
   "cell_type": "code",
   "execution_count": 17,
   "metadata": {},
   "outputs": [
    {
     "name": "stdout",
     "output_type": "stream",
     "text": [
      "0\n"
     ]
    }
   ],
   "source": [
    "print(cat_data_test.isnull().values.sum())"
   ]
  },
  {
   "cell_type": "code",
   "execution_count": 19,
   "metadata": {},
   "outputs": [
    {
     "data": {
      "text/plain": [
       "kjkrfgld    object\n",
       "bpowgknt    object\n",
       "raksnhjf    object\n",
       "vwpsxrgk    object\n",
       "dtype: object"
      ]
     },
     "execution_count": 19,
     "metadata": {},
     "output_type": "execute_result"
    }
   ],
   "source": [
    "# cat_data_train = cat_data_train.astype('category')\n",
    "cat_data_train.dtypes"
   ]
  },
  {
   "cell_type": "code",
   "execution_count": 65,
   "metadata": {},
   "outputs": [],
   "source": [
    "# Label Encoder\n",
    "# cat_data_train = cat_data_train.apply(lambda col: cat_data_train[col].cat.codes, axis=1)\n",
    "# cat_data_train.head()"
   ]
  },
  {
   "cell_type": "markdown",
   "metadata": {},
   "source": [
    "## Features and targets"
   ]
  },
  {
   "cell_type": "code",
   "execution_count": 18,
   "metadata": {},
   "outputs": [],
   "source": [
    "train = pd.concat([num_data_train, cat_data_train], axis=1)\n",
    "train = train.join(data_train['poor'])"
   ]
  },
  {
   "cell_type": "code",
   "execution_count": 19,
   "metadata": {},
   "outputs": [],
   "source": [
    "test = pd.concat([num_data_test, cat_data_test], axis=1)\n",
    "test = test.join(data_test['poor'])"
   ]
  },
  {
   "cell_type": "code",
   "execution_count": 20,
   "metadata": {},
   "outputs": [
    {
     "data": {
      "text/html": [
       "<div>\n",
       "<style scoped>\n",
       "    .dataframe tbody tr th:only-of-type {\n",
       "        vertical-align: middle;\n",
       "    }\n",
       "\n",
       "    .dataframe tbody tr th {\n",
       "        vertical-align: top;\n",
       "    }\n",
       "\n",
       "    .dataframe thead th {\n",
       "        text-align: right;\n",
       "    }\n",
       "</style>\n",
       "<table border=\"1\" class=\"dataframe\">\n",
       "  <thead>\n",
       "    <tr style=\"text-align: right;\">\n",
       "      <th></th>\n",
       "      <th>omtioxzz</th>\n",
       "      <th>yfmzwkru</th>\n",
       "      <th>tiwrsloh</th>\n",
       "      <th>weioazcf</th>\n",
       "      <th>kjkrfgld</th>\n",
       "      <th>bpowgknt</th>\n",
       "      <th>raksnhjf</th>\n",
       "      <th>vwpsxrgk</th>\n",
       "      <th>poor</th>\n",
       "    </tr>\n",
       "    <tr>\n",
       "      <th>id</th>\n",
       "      <th></th>\n",
       "      <th></th>\n",
       "      <th></th>\n",
       "      <th></th>\n",
       "      <th></th>\n",
       "      <th></th>\n",
       "      <th></th>\n",
       "      <th></th>\n",
       "      <th></th>\n",
       "    </tr>\n",
       "  </thead>\n",
       "  <tbody>\n",
       "    <tr>\n",
       "      <th>29252</th>\n",
       "      <td>-0.480203</td>\n",
       "      <td>0.102811</td>\n",
       "      <td>0.638589</td>\n",
       "      <td>0.628295</td>\n",
       "      <td>KfoTG</td>\n",
       "      <td>zPfZR</td>\n",
       "      <td>DtMvg</td>\n",
       "      <td>ZCIYy</td>\n",
       "      <td>0</td>\n",
       "    </tr>\n",
       "    <tr>\n",
       "      <th>98286</th>\n",
       "      <td>0.350762</td>\n",
       "      <td>1.159184</td>\n",
       "      <td>-0.279685</td>\n",
       "      <td>-0.280701</td>\n",
       "      <td>ljBjd</td>\n",
       "      <td>THHLT</td>\n",
       "      <td>DtMvg</td>\n",
       "      <td>esAQH</td>\n",
       "      <td>1</td>\n",
       "    </tr>\n",
       "    <tr>\n",
       "      <th>49040</th>\n",
       "      <td>-0.480203</td>\n",
       "      <td>0.102811</td>\n",
       "      <td>-0.279685</td>\n",
       "      <td>-0.280701</td>\n",
       "      <td>Lsuai</td>\n",
       "      <td>zPfZR</td>\n",
       "      <td>zeYAm</td>\n",
       "      <td>ZCIYy</td>\n",
       "      <td>1</td>\n",
       "    </tr>\n",
       "    <tr>\n",
       "      <th>35261</th>\n",
       "      <td>-0.480203</td>\n",
       "      <td>1.907488</td>\n",
       "      <td>-0.279685</td>\n",
       "      <td>-0.280701</td>\n",
       "      <td>KfoTG</td>\n",
       "      <td>mDadf</td>\n",
       "      <td>zeYAm</td>\n",
       "      <td>ZCIYy</td>\n",
       "      <td>0</td>\n",
       "    </tr>\n",
       "    <tr>\n",
       "      <th>98833</th>\n",
       "      <td>0.350762</td>\n",
       "      <td>-1.263886</td>\n",
       "      <td>-0.279685</td>\n",
       "      <td>-0.280701</td>\n",
       "      <td>KfoTG</td>\n",
       "      <td>THHLT</td>\n",
       "      <td>DtMvg</td>\n",
       "      <td>ARuYG</td>\n",
       "      <td>1</td>\n",
       "    </tr>\n",
       "  </tbody>\n",
       "</table>\n",
       "</div>"
      ],
      "text/plain": [
       "       omtioxzz  yfmzwkru  tiwrsloh  weioazcf kjkrfgld bpowgknt raksnhjf  \\\n",
       "id                                                                         \n",
       "29252 -0.480203  0.102811  0.638589  0.628295    KfoTG    zPfZR    DtMvg   \n",
       "98286  0.350762  1.159184 -0.279685 -0.280701    ljBjd    THHLT    DtMvg   \n",
       "49040 -0.480203  0.102811 -0.279685 -0.280701    Lsuai    zPfZR    zeYAm   \n",
       "35261 -0.480203  1.907488 -0.279685 -0.280701    KfoTG    mDadf    zeYAm   \n",
       "98833  0.350762 -1.263886 -0.279685 -0.280701    KfoTG    THHLT    DtMvg   \n",
       "\n",
       "      vwpsxrgk  poor  \n",
       "id                    \n",
       "29252    ZCIYy     0  \n",
       "98286    esAQH     1  \n",
       "49040    ZCIYy     1  \n",
       "35261    ZCIYy     0  \n",
       "98833    ARuYG     1  "
      ]
     },
     "execution_count": 20,
     "metadata": {},
     "output_type": "execute_result"
    }
   ],
   "source": [
    "train.head()"
   ]
  },
  {
   "cell_type": "code",
   "execution_count": 21,
   "metadata": {},
   "outputs": [
    {
     "data": {
      "text/html": [
       "<div>\n",
       "<style scoped>\n",
       "    .dataframe tbody tr th:only-of-type {\n",
       "        vertical-align: middle;\n",
       "    }\n",
       "\n",
       "    .dataframe tbody tr th {\n",
       "        vertical-align: top;\n",
       "    }\n",
       "\n",
       "    .dataframe thead th {\n",
       "        text-align: right;\n",
       "    }\n",
       "</style>\n",
       "<table border=\"1\" class=\"dataframe\">\n",
       "  <thead>\n",
       "    <tr style=\"text-align: right;\">\n",
       "      <th></th>\n",
       "      <th>omtioxzz</th>\n",
       "      <th>yfmzwkru</th>\n",
       "      <th>tiwrsloh</th>\n",
       "      <th>weioazcf</th>\n",
       "      <th>kjkrfgld</th>\n",
       "      <th>bpowgknt</th>\n",
       "      <th>raksnhjf</th>\n",
       "      <th>vwpsxrgk</th>\n",
       "      <th>poor</th>\n",
       "    </tr>\n",
       "    <tr>\n",
       "      <th>id</th>\n",
       "      <th></th>\n",
       "      <th></th>\n",
       "      <th></th>\n",
       "      <th></th>\n",
       "      <th></th>\n",
       "      <th></th>\n",
       "      <th></th>\n",
       "      <th></th>\n",
       "      <th></th>\n",
       "    </tr>\n",
       "  </thead>\n",
       "  <tbody>\n",
       "    <tr>\n",
       "      <th>42706</th>\n",
       "      <td>0.404017</td>\n",
       "      <td>0.101349</td>\n",
       "      <td>-0.278625</td>\n",
       "      <td>-0.278740</td>\n",
       "      <td>qzGkS</td>\n",
       "      <td>zPfZR</td>\n",
       "      <td>rXCdD</td>\n",
       "      <td>IJnCs</td>\n",
       "      <td>0</td>\n",
       "    </tr>\n",
       "    <tr>\n",
       "      <th>65531</th>\n",
       "      <td>0.404017</td>\n",
       "      <td>1.177563</td>\n",
       "      <td>-1.074606</td>\n",
       "      <td>-1.071908</td>\n",
       "      <td>KfoTG</td>\n",
       "      <td>THHLT</td>\n",
       "      <td>DtMvg</td>\n",
       "      <td>XHmQd</td>\n",
       "      <td>1</td>\n",
       "    </tr>\n",
       "    <tr>\n",
       "      <th>64452</th>\n",
       "      <td>1.174058</td>\n",
       "      <td>-1.248141</td>\n",
       "      <td>-1.074606</td>\n",
       "      <td>-1.071908</td>\n",
       "      <td>tnDpM</td>\n",
       "      <td>THHLT</td>\n",
       "      <td>qTmDg</td>\n",
       "      <td>yygvO</td>\n",
       "      <td>1</td>\n",
       "    </tr>\n",
       "    <tr>\n",
       "      <th>78022</th>\n",
       "      <td>0.404017</td>\n",
       "      <td>1.177563</td>\n",
       "      <td>1.970861</td>\n",
       "      <td>1.973978</td>\n",
       "      <td>Lsuai</td>\n",
       "      <td>WXYiE</td>\n",
       "      <td>DtMvg</td>\n",
       "      <td>XAmOF</td>\n",
       "      <td>0</td>\n",
       "    </tr>\n",
       "    <tr>\n",
       "      <th>45674</th>\n",
       "      <td>1.174058</td>\n",
       "      <td>-1.248141</td>\n",
       "      <td>-0.278625</td>\n",
       "      <td>-0.278740</td>\n",
       "      <td>Lsuai</td>\n",
       "      <td>zPfZR</td>\n",
       "      <td>DtMvg</td>\n",
       "      <td>hmAUm</td>\n",
       "      <td>1</td>\n",
       "    </tr>\n",
       "  </tbody>\n",
       "</table>\n",
       "</div>"
      ],
      "text/plain": [
       "       omtioxzz  yfmzwkru  tiwrsloh  weioazcf kjkrfgld bpowgknt raksnhjf  \\\n",
       "id                                                                         \n",
       "42706  0.404017  0.101349 -0.278625 -0.278740    qzGkS    zPfZR    rXCdD   \n",
       "65531  0.404017  1.177563 -1.074606 -1.071908    KfoTG    THHLT    DtMvg   \n",
       "64452  1.174058 -1.248141 -1.074606 -1.071908    tnDpM    THHLT    qTmDg   \n",
       "78022  0.404017  1.177563  1.970861  1.973978    Lsuai    WXYiE    DtMvg   \n",
       "45674  1.174058 -1.248141 -0.278625 -0.278740    Lsuai    zPfZR    DtMvg   \n",
       "\n",
       "      vwpsxrgk  poor  \n",
       "id                    \n",
       "42706    IJnCs     0  \n",
       "65531    XHmQd     1  \n",
       "64452    yygvO     1  \n",
       "78022    XAmOF     0  \n",
       "45674    hmAUm     1  "
      ]
     },
     "execution_count": 21,
     "metadata": {},
     "output_type": "execute_result"
    }
   ],
   "source": [
    "test.head()"
   ]
  },
  {
   "cell_type": "code",
   "execution_count": 22,
   "metadata": {},
   "outputs": [],
   "source": [
    "y_train = train.iloc[:, -1]"
   ]
  },
  {
   "cell_type": "code",
   "execution_count": 23,
   "metadata": {},
   "outputs": [],
   "source": [
    "X_train = train.iloc[:, 0:-1]"
   ]
  },
  {
   "cell_type": "code",
   "execution_count": 24,
   "metadata": {},
   "outputs": [],
   "source": [
    "y_test = test.iloc[:, -1]"
   ]
  },
  {
   "cell_type": "code",
   "execution_count": 25,
   "metadata": {},
   "outputs": [],
   "source": [
    "X_test = test.iloc[:, 0:-1]"
   ]
  },
  {
   "cell_type": "markdown",
   "metadata": {},
   "source": [
    "# Model Building\n",
    "<div style = \"float:right\"><a style=\"text-decoration:none\" href = \"#inicio\">Inicio</a></div>"
   ]
  },
  {
   "cell_type": "markdown",
   "metadata": {},
   "source": [
    "## Create Pipeline"
   ]
  },
  {
   "cell_type": "markdown",
   "metadata": {},
   "source": [
    "So far, we have imputed NAs in numerical and categorical values and scaled numerical values in a step-by-step approach. Alternatively, this data preprocessing could have been embedded in a data pipeline. To be noted that Ordinal Encoder (category_encoders) in a pipeline would have resolved both NA imputation and ordinal categorical encoding. In the previous section, we used <i>out-of-the-pipe</i> scikit-learn's Ordinal Encoder to convert non-missing categorical columns to ordinal values only before imputing NAs (and ultimately converting categories back to strings).<br>\n",
    "\n",
    "However, there is a data preprocessing's last step, namely categorical feature encoding that, for a matter of simplicity, will be tackled with a column transform and plugged into a model pipeline.<br>\n",
    "\n",
    "We will opt for an ordinal encoder for those variables with a low dimensionality (and coincidentally, uneven frequency distribution among categories) and for a target encoder for the variable with a greater dimensionality. With target encoding, each category is replaced with the mean target value for samples having that category. This prevents increasing the dimensionality of our data but it also captures correlations in target values, which is precisely the source of overfitting. This should be carefully addressed; as such, we will train sigma variable of target encoder (or the noise). \n",
    "\n",
    "Check for reference this [video](https://www.youtube.com/watch?v=Ma-CDFLd03g) (minute 58 onwards) and this [tutorial](https://www.datacamp.com/community/tutorials/categorical-data). For more information on target encoding, read this [post](https://brendanhasz.github.io/2019/03/04/target-encoding).<br>\n",
    "\n",
    "We shall start with a <b>Logistic Regression</b> and <b>Random Forest Classifier</b> as our baseline."
   ]
  },
  {
   "cell_type": "code",
   "execution_count": 29,
   "metadata": {},
   "outputs": [],
   "source": [
    "# Recall that in this step, we will be using Ordinal Encoder from category_encoders\n",
    "from category_encoders import OrdinalEncoder, LeaveOneOutEncoder"
   ]
  },
  {
   "cell_type": "code",
   "execution_count": 83,
   "metadata": {},
   "outputs": [],
   "source": [
    "ordinal_enc = OrdinalEncoder()\n",
    "target_enc = LeaveOneOutEncoder()\n",
    "\n",
    "column_trans = ColumnTransformer(\n",
    "                   [('ordinal_encoder', ordinal_enc, ['kjkrfgld', 'bpowgknt', 'raksnhjf']),\n",
    "                   ('target_encoder', target_enc, ['vwpsxrgk'])\n",
    "                   # remainder='passthrough'\n",
    "    ])"
   ]
  },
  {
   "cell_type": "code",
   "execution_count": 82,
   "metadata": {},
   "outputs": [
    {
     "data": {
      "text/plain": [
       "1.0609683398231704"
      ]
     },
     "execution_count": 82,
     "metadata": {},
     "output_type": "execute_result"
    }
   ],
   "source": [
    "clf = LogisticRegression()\n",
    "pipe = Pipeline([('column_transform', column_trans), ('classifier', clf)])\n",
    "\n",
    "pipe.fit(X_train, y_train)\n",
    "pipe.predict(X_test)\n",
    "\n",
    "y_pred = rscv.best_estimator_.predict_proba(X_test)\n",
    "log_loss(y_test, y_pred, eps=1e-15, normalize=True, sample_weight=None, labels=None)"
   ]
  },
  {
   "cell_type": "code",
   "execution_count": 84,
   "metadata": {},
   "outputs": [],
   "source": [
    "clf = RandomForestClassifier()\n",
    "pipe = Pipeline([('column_transform', column_trans), ('classifier', clf)])"
   ]
  },
  {
   "cell_type": "markdown",
   "metadata": {},
   "source": [
    "### Train"
   ]
  },
  {
   "cell_type": "code",
   "execution_count": 85,
   "metadata": {
    "collapsed": true
   },
   "outputs": [
    {
     "data": {
      "text/plain": [
       "RandomizedSearchCV(cv=5,\n",
       "                   estimator=Pipeline(steps=[('column_transform',\n",
       "                                              ColumnTransformer(transformers=[('ordinal_encoder',\n",
       "                                                                               OrdinalEncoder(),\n",
       "                                                                               ['kjkrfgld',\n",
       "                                                                                'bpowgknt',\n",
       "                                                                                'raksnhjf']),\n",
       "                                                                              ('target_encoder',\n",
       "                                                                               LeaveOneOutEncoder(),\n",
       "                                                                               ['vwpsxrgk'])])),\n",
       "                                             ('classifier',\n",
       "                                              RandomForestClassifier())]),\n",
       "                   n_iter=5, n_jobs=10,\n",
       "                   param_distributions={'classifier__bootstrap': [True],\n",
       "                                        'classifier__max_depth': [80, 90, 100,\n",
       "                                                                  110],\n",
       "                                        'classifier__max_features': [2, 3],\n",
       "                                        'classifier__min_samples_leaf': [3, 4,\n",
       "                                                                         5],\n",
       "                                        'classifier__n_estimators': [100, 200,\n",
       "                                                                     300,\n",
       "                                                                     1000],\n",
       "                                        'column_transform__target_encoder__sigma': [0.01,\n",
       "                                                                                    0.02,\n",
       "                                                                                    0.03,\n",
       "                                                                                    0.04,\n",
       "                                                                                    0.05,\n",
       "                                                                                    0.06]},\n",
       "                   random_state=1, scoring='neg_log_loss')"
      ]
     },
     "execution_count": 85,
     "metadata": {},
     "output_type": "execute_result"
    }
   ],
   "source": [
    "# Hyperparameters can be accessed with a double underscore\n",
    "param_grid = {\n",
    "    'column_transform__target_encoder__sigma': [0.01, 0.02, 0.03, 0.04, 0.05, 0.06],\n",
    "    'classifier__bootstrap': [True],\n",
    "    'classifier__max_depth': [80, 90, 100, 110],\n",
    "    'classifier__max_features': [2, 3],\n",
    "    'classifier__min_samples_leaf': [3, 4, 5],\n",
    "#     'classifier_min_samples_split': [8, 10, 12],\n",
    "    'classifier__n_estimators': [100, 200, 300, 1000]\n",
    "}\n",
    "\n",
    "rscv = RandomizedSearchCV(pipe,\n",
    "                          cv=5,\n",
    "                          n_iter=5,\n",
    "                          n_jobs=10,\n",
    "                          param_distributions = param_grid,\n",
    "                          scoring='neg_log_loss',\n",
    "                          random_state=1)\n",
    "\n",
    "\n",
    "rscv.fit(X_train, y_train)\n"
   ]
  },
  {
   "cell_type": "code",
   "execution_count": 86,
   "metadata": {},
   "outputs": [
    {
     "data": {
      "text/plain": [
       "{'column_transform__target_encoder__sigma': 0.02,\n",
       " 'classifier__n_estimators': 300,\n",
       " 'classifier__min_samples_leaf': 4,\n",
       " 'classifier__max_features': 2,\n",
       " 'classifier__max_depth': 80,\n",
       " 'classifier__bootstrap': True}"
      ]
     },
     "execution_count": 86,
     "metadata": {},
     "output_type": "execute_result"
    }
   ],
   "source": [
    "rscv.best_params_"
   ]
  },
  {
   "cell_type": "code",
   "execution_count": 87,
   "metadata": {},
   "outputs": [
    {
     "data": {
      "text/plain": [
       "-0.6434269455402452"
      ]
     },
     "execution_count": 87,
     "metadata": {},
     "output_type": "execute_result"
    }
   ],
   "source": [
    "rscv.best_score_"
   ]
  },
  {
   "cell_type": "markdown",
   "metadata": {},
   "source": [
    "### Test"
   ]
  },
  {
   "cell_type": "markdown",
   "metadata": {},
   "source": [
    "Metrics [Documentation](https://scikit-learn.org/stable/modules/generated/sklearn.metrics.log_loss.html#sklearn.metrics.log_loss)"
   ]
  },
  {
   "cell_type": "code",
   "execution_count": 88,
   "metadata": {},
   "outputs": [
    {
     "data": {
      "text/plain": [
       "0.6397872577306624"
      ]
     },
     "execution_count": 88,
     "metadata": {},
     "output_type": "execute_result"
    }
   ],
   "source": [
    "y_pred = rscv.best_estimator_.predict_proba(X_test)\n",
    "log_loss(y_test, y_pred, eps=1e-15, normalize=True, sample_weight=None, labels=None)"
   ]
  },
  {
   "cell_type": "markdown",
   "metadata": {},
   "source": [
    "Both train and test metrics are similar, so we could infer that the model has not committed apparent overfitting... Nonetheless, we have to lower the log loss for a better predicted probability.<br>\n",
    "\n",
    "Next steps,\n",
    "<ul>\n",
    "    <li>build additional models (catboost, lightboost, xgb, nn) and loop over them</li>\n",
    "    <li>compare log-loss metrics and others, such as confusion matrix, roc_auc, accuracy and f1 score</li>\n",
    "</ul>"
   ]
  },
  {
   "cell_type": "markdown",
   "metadata": {},
   "source": [
    "## Boosting methods"
   ]
  },
  {
   "cell_type": "markdown",
   "metadata": {},
   "source": [
    "[Read](https://machinelearningmastery.com/gradient-boosting-with-scikit-learn-xgboost-lightgbm-and-catboost/) on methods' differences."
   ]
  },
  {
   "cell_type": "code",
   "execution_count": 39,
   "metadata": {
    "collapsed": true
   },
   "outputs": [
    {
     "ename": "SyntaxError",
     "evalue": "invalid syntax (<ipython-input-39-c2589b93afb3>, line 12)",
     "output_type": "error",
     "traceback": [
      "\u001b[0;36m  File \u001b[0;32m\"<ipython-input-39-c2589b93afb3>\"\u001b[0;36m, line \u001b[0;32m12\u001b[0m\n\u001b[0;31m    rscv = RandomizedSearchCV(pipe,\u001b[0m\n\u001b[0m    ^\u001b[0m\n\u001b[0;31mSyntaxError\u001b[0m\u001b[0;31m:\u001b[0m invalid syntax\n"
     ]
    }
   ],
   "source": [
    "classifier = {'CB': CatBoostClassifier(), 'LGB': LGBMClassifier(), 'XGB': XGBClassifier()}\n",
    "results = pd.DataFrame()\n",
    "\n",
    "for key, value in classifier.items():\n",
    "    # Define pipeline\n",
    "    pipe = Pipeline([('column_transform', column_trans), ('classifier', value)\n",
    "                     \n",
    "    # Hyperparameter tunning\n",
    "                     \n",
    "                     \n",
    "    # RandomizedSearchCV\n",
    "    rscv = RandomizedSearchCV(pipe,\n",
    "                          cv=5,\n",
    "                          n_iter=5,\n",
    "                          n_jobs=10,\n",
    "                          param_distributions = param_grid,\n",
    "                          scoring='neg_log_loss',\n",
    "                          random_state=1)\n",
    "                     \n",
    "    # Fit the model\n",
    "    rscv.fit(X_train, y_train)\n",
    "                     \n",
    "    # Best parameters and scoring\n",
    "    rscv.best_params_\n",
    "    rscv.best_score_\n",
    "                     \n",
    "    # Predict\n",
    "    y_pred = rscv.best_estimator_.predict_proba(X_test)\n",
    "    log_loss(y_test, y_pred, eps=1e-15, normalize=True, sample_weight=None, labels=None)\n",
    "    results[key].append(y_pred)\n",
    "\n",
    "results_final = pd.concat(data_train.index, results)\n",
    "    "
   ]
  },
  {
   "cell_type": "markdown",
   "metadata": {},
   "source": [
    "### CatBoost"
   ]
  },
  {
   "cell_type": "code",
   "execution_count": 89,
   "metadata": {},
   "outputs": [],
   "source": [
    "clf = CatBoostClassifier()\n",
    "pipe = Pipeline([('column_transform', column_trans), ('classifier', clf)])"
   ]
  },
  {
   "cell_type": "markdown",
   "metadata": {},
   "source": [
    "Hyperparameters tunning [Documentation](https://catboost.ai/docs/concepts/python-reference_parameters-list.html)"
   ]
  },
  {
   "cell_type": "code",
   "execution_count": 93,
   "metadata": {},
   "outputs": [],
   "source": [
    "# Hyperparameters can be accessed with a double underscore\n",
    "param_grid_CB = {\n",
    "        'column_transform__target_encoder__sigma': [0.01, 0.02, 0.03, 0.04, 0.05, 0.06],\n",
    "        'classifier__n_estimators': [100, 200, 300, 1000],\n",
    "        'classifier__learning_rate' : [0.01, 0.02, 0.03],\n",
    "        'classifier__depth' : [6, 7, 8],\n",
    "        'classifier__l2_leaf_reg' : [3, 4, 5],\n",
    "        'classifier__loss_function' : 'Logloss',\n",
    "        'classifier__logging_level' : 'Silent',\n",
    "}\n",
    "\n",
    "rscv = RandomizedSearchCV(pipe,\n",
    "                          cv=5,\n",
    "                          n_iter=5,\n",
    "                          n_jobs=10,\n",
    "                          param_distributions = param_grid,\n",
    "                          scoring='neg_log_loss',\n",
    "                          random_state=1)"
   ]
  },
  {
   "cell_type": "code",
   "execution_count": 94,
   "metadata": {
    "collapsed": true
   },
   "outputs": [
    {
     "ename": "TypeError",
     "evalue": "__init__() got an unexpected keyword argument 'min_samples_leaf'",
     "output_type": "error",
     "traceback": [
      "\u001b[0;31m---------------------------------------------------------------------------\u001b[0m",
      "\u001b[0;31mTypeError\u001b[0m                                 Traceback (most recent call last)",
      "\u001b[0;32m<ipython-input-94-fb234e506943>\u001b[0m in \u001b[0;36m<module>\u001b[0;34m\u001b[0m\n\u001b[0;32m----> 1\u001b[0;31m \u001b[0mrscv\u001b[0m\u001b[0;34m.\u001b[0m\u001b[0mfit\u001b[0m\u001b[0;34m(\u001b[0m\u001b[0mX_train\u001b[0m\u001b[0;34m,\u001b[0m \u001b[0my_train\u001b[0m\u001b[0;34m)\u001b[0m\u001b[0;34m\u001b[0m\u001b[0;34m\u001b[0m\u001b[0m\n\u001b[0m",
      "\u001b[0;32m~/anaconda3/envs/DD_Pover-T_Tests/lib/python3.8/site-packages/sklearn/utils/validation.py\u001b[0m in \u001b[0;36minner_f\u001b[0;34m(*args, **kwargs)\u001b[0m\n\u001b[1;32m     70\u001b[0m                           FutureWarning)\n\u001b[1;32m     71\u001b[0m         \u001b[0mkwargs\u001b[0m\u001b[0;34m.\u001b[0m\u001b[0mupdate\u001b[0m\u001b[0;34m(\u001b[0m\u001b[0;34m{\u001b[0m\u001b[0mk\u001b[0m\u001b[0;34m:\u001b[0m \u001b[0marg\u001b[0m \u001b[0;32mfor\u001b[0m \u001b[0mk\u001b[0m\u001b[0;34m,\u001b[0m \u001b[0marg\u001b[0m \u001b[0;32min\u001b[0m \u001b[0mzip\u001b[0m\u001b[0;34m(\u001b[0m\u001b[0msig\u001b[0m\u001b[0;34m.\u001b[0m\u001b[0mparameters\u001b[0m\u001b[0;34m,\u001b[0m \u001b[0margs\u001b[0m\u001b[0;34m)\u001b[0m\u001b[0;34m}\u001b[0m\u001b[0;34m)\u001b[0m\u001b[0;34m\u001b[0m\u001b[0;34m\u001b[0m\u001b[0m\n\u001b[0;32m---> 72\u001b[0;31m         \u001b[0;32mreturn\u001b[0m \u001b[0mf\u001b[0m\u001b[0;34m(\u001b[0m\u001b[0;34m**\u001b[0m\u001b[0mkwargs\u001b[0m\u001b[0;34m)\u001b[0m\u001b[0;34m\u001b[0m\u001b[0;34m\u001b[0m\u001b[0m\n\u001b[0m\u001b[1;32m     73\u001b[0m     \u001b[0;32mreturn\u001b[0m \u001b[0minner_f\u001b[0m\u001b[0;34m\u001b[0m\u001b[0;34m\u001b[0m\u001b[0m\n\u001b[1;32m     74\u001b[0m \u001b[0;34m\u001b[0m\u001b[0m\n",
      "\u001b[0;32m~/anaconda3/envs/DD_Pover-T_Tests/lib/python3.8/site-packages/sklearn/model_selection/_search.py\u001b[0m in \u001b[0;36mfit\u001b[0;34m(self, X, y, groups, **fit_params)\u001b[0m\n\u001b[1;32m    759\u001b[0m             \u001b[0;31m# we clone again after setting params in case some\u001b[0m\u001b[0;34m\u001b[0m\u001b[0;34m\u001b[0m\u001b[0;34m\u001b[0m\u001b[0m\n\u001b[1;32m    760\u001b[0m             \u001b[0;31m# of the params are estimators as well.\u001b[0m\u001b[0;34m\u001b[0m\u001b[0;34m\u001b[0m\u001b[0;34m\u001b[0m\u001b[0m\n\u001b[0;32m--> 761\u001b[0;31m             self.best_estimator_ = clone(clone(base_estimator).set_params(\n\u001b[0m\u001b[1;32m    762\u001b[0m                 **self.best_params_))\n\u001b[1;32m    763\u001b[0m             \u001b[0mrefit_start_time\u001b[0m \u001b[0;34m=\u001b[0m \u001b[0mtime\u001b[0m\u001b[0;34m.\u001b[0m\u001b[0mtime\u001b[0m\u001b[0;34m(\u001b[0m\u001b[0;34m)\u001b[0m\u001b[0;34m\u001b[0m\u001b[0;34m\u001b[0m\u001b[0m\n",
      "\u001b[0;32m~/anaconda3/envs/DD_Pover-T_Tests/lib/python3.8/site-packages/sklearn/utils/validation.py\u001b[0m in \u001b[0;36minner_f\u001b[0;34m(*args, **kwargs)\u001b[0m\n\u001b[1;32m     70\u001b[0m                           FutureWarning)\n\u001b[1;32m     71\u001b[0m         \u001b[0mkwargs\u001b[0m\u001b[0;34m.\u001b[0m\u001b[0mupdate\u001b[0m\u001b[0;34m(\u001b[0m\u001b[0;34m{\u001b[0m\u001b[0mk\u001b[0m\u001b[0;34m:\u001b[0m \u001b[0marg\u001b[0m \u001b[0;32mfor\u001b[0m \u001b[0mk\u001b[0m\u001b[0;34m,\u001b[0m \u001b[0marg\u001b[0m \u001b[0;32min\u001b[0m \u001b[0mzip\u001b[0m\u001b[0;34m(\u001b[0m\u001b[0msig\u001b[0m\u001b[0;34m.\u001b[0m\u001b[0mparameters\u001b[0m\u001b[0;34m,\u001b[0m \u001b[0margs\u001b[0m\u001b[0;34m)\u001b[0m\u001b[0;34m}\u001b[0m\u001b[0;34m)\u001b[0m\u001b[0;34m\u001b[0m\u001b[0;34m\u001b[0m\u001b[0m\n\u001b[0;32m---> 72\u001b[0;31m         \u001b[0;32mreturn\u001b[0m \u001b[0mf\u001b[0m\u001b[0;34m(\u001b[0m\u001b[0;34m**\u001b[0m\u001b[0mkwargs\u001b[0m\u001b[0;34m)\u001b[0m\u001b[0;34m\u001b[0m\u001b[0;34m\u001b[0m\u001b[0m\n\u001b[0m\u001b[1;32m     73\u001b[0m     \u001b[0;32mreturn\u001b[0m \u001b[0minner_f\u001b[0m\u001b[0;34m\u001b[0m\u001b[0;34m\u001b[0m\u001b[0m\n\u001b[1;32m     74\u001b[0m \u001b[0;34m\u001b[0m\u001b[0m\n",
      "\u001b[0;32m~/anaconda3/envs/DD_Pover-T_Tests/lib/python3.8/site-packages/sklearn/base.py\u001b[0m in \u001b[0;36mclone\u001b[0;34m(estimator, safe)\u001b[0m\n\u001b[1;32m     85\u001b[0m     \u001b[0mnew_object_params\u001b[0m \u001b[0;34m=\u001b[0m \u001b[0mestimator\u001b[0m\u001b[0;34m.\u001b[0m\u001b[0mget_params\u001b[0m\u001b[0;34m(\u001b[0m\u001b[0mdeep\u001b[0m\u001b[0;34m=\u001b[0m\u001b[0;32mFalse\u001b[0m\u001b[0;34m)\u001b[0m\u001b[0;34m\u001b[0m\u001b[0;34m\u001b[0m\u001b[0m\n\u001b[1;32m     86\u001b[0m     \u001b[0;32mfor\u001b[0m \u001b[0mname\u001b[0m\u001b[0;34m,\u001b[0m \u001b[0mparam\u001b[0m \u001b[0;32min\u001b[0m \u001b[0mnew_object_params\u001b[0m\u001b[0;34m.\u001b[0m\u001b[0mitems\u001b[0m\u001b[0;34m(\u001b[0m\u001b[0;34m)\u001b[0m\u001b[0;34m:\u001b[0m\u001b[0;34m\u001b[0m\u001b[0;34m\u001b[0m\u001b[0m\n\u001b[0;32m---> 87\u001b[0;31m         \u001b[0mnew_object_params\u001b[0m\u001b[0;34m[\u001b[0m\u001b[0mname\u001b[0m\u001b[0;34m]\u001b[0m \u001b[0;34m=\u001b[0m \u001b[0mclone\u001b[0m\u001b[0;34m(\u001b[0m\u001b[0mparam\u001b[0m\u001b[0;34m,\u001b[0m \u001b[0msafe\u001b[0m\u001b[0;34m=\u001b[0m\u001b[0;32mFalse\u001b[0m\u001b[0;34m)\u001b[0m\u001b[0;34m\u001b[0m\u001b[0;34m\u001b[0m\u001b[0m\n\u001b[0m\u001b[1;32m     88\u001b[0m     \u001b[0mnew_object\u001b[0m \u001b[0;34m=\u001b[0m \u001b[0mklass\u001b[0m\u001b[0;34m(\u001b[0m\u001b[0;34m**\u001b[0m\u001b[0mnew_object_params\u001b[0m\u001b[0;34m)\u001b[0m\u001b[0;34m\u001b[0m\u001b[0;34m\u001b[0m\u001b[0m\n\u001b[1;32m     89\u001b[0m     \u001b[0mparams_set\u001b[0m \u001b[0;34m=\u001b[0m \u001b[0mnew_object\u001b[0m\u001b[0;34m.\u001b[0m\u001b[0mget_params\u001b[0m\u001b[0;34m(\u001b[0m\u001b[0mdeep\u001b[0m\u001b[0;34m=\u001b[0m\u001b[0;32mFalse\u001b[0m\u001b[0;34m)\u001b[0m\u001b[0;34m\u001b[0m\u001b[0;34m\u001b[0m\u001b[0m\n",
      "\u001b[0;32m~/anaconda3/envs/DD_Pover-T_Tests/lib/python3.8/site-packages/sklearn/utils/validation.py\u001b[0m in \u001b[0;36minner_f\u001b[0;34m(*args, **kwargs)\u001b[0m\n\u001b[1;32m     70\u001b[0m                           FutureWarning)\n\u001b[1;32m     71\u001b[0m         \u001b[0mkwargs\u001b[0m\u001b[0;34m.\u001b[0m\u001b[0mupdate\u001b[0m\u001b[0;34m(\u001b[0m\u001b[0;34m{\u001b[0m\u001b[0mk\u001b[0m\u001b[0;34m:\u001b[0m \u001b[0marg\u001b[0m \u001b[0;32mfor\u001b[0m \u001b[0mk\u001b[0m\u001b[0;34m,\u001b[0m \u001b[0marg\u001b[0m \u001b[0;32min\u001b[0m \u001b[0mzip\u001b[0m\u001b[0;34m(\u001b[0m\u001b[0msig\u001b[0m\u001b[0;34m.\u001b[0m\u001b[0mparameters\u001b[0m\u001b[0;34m,\u001b[0m \u001b[0margs\u001b[0m\u001b[0;34m)\u001b[0m\u001b[0;34m}\u001b[0m\u001b[0;34m)\u001b[0m\u001b[0;34m\u001b[0m\u001b[0;34m\u001b[0m\u001b[0m\n\u001b[0;32m---> 72\u001b[0;31m         \u001b[0;32mreturn\u001b[0m \u001b[0mf\u001b[0m\u001b[0;34m(\u001b[0m\u001b[0;34m**\u001b[0m\u001b[0mkwargs\u001b[0m\u001b[0;34m)\u001b[0m\u001b[0;34m\u001b[0m\u001b[0;34m\u001b[0m\u001b[0m\n\u001b[0m\u001b[1;32m     73\u001b[0m     \u001b[0;32mreturn\u001b[0m \u001b[0minner_f\u001b[0m\u001b[0;34m\u001b[0m\u001b[0;34m\u001b[0m\u001b[0m\n\u001b[1;32m     74\u001b[0m \u001b[0;34m\u001b[0m\u001b[0m\n",
      "\u001b[0;32m~/anaconda3/envs/DD_Pover-T_Tests/lib/python3.8/site-packages/sklearn/base.py\u001b[0m in \u001b[0;36mclone\u001b[0;34m(estimator, safe)\u001b[0m\n\u001b[1;32m     66\u001b[0m     \u001b[0;31m# XXX: not handling dictionaries\u001b[0m\u001b[0;34m\u001b[0m\u001b[0;34m\u001b[0m\u001b[0;34m\u001b[0m\u001b[0m\n\u001b[1;32m     67\u001b[0m     \u001b[0;32mif\u001b[0m \u001b[0mestimator_type\u001b[0m \u001b[0;32min\u001b[0m \u001b[0;34m(\u001b[0m\u001b[0mlist\u001b[0m\u001b[0;34m,\u001b[0m \u001b[0mtuple\u001b[0m\u001b[0;34m,\u001b[0m \u001b[0mset\u001b[0m\u001b[0;34m,\u001b[0m \u001b[0mfrozenset\u001b[0m\u001b[0;34m)\u001b[0m\u001b[0;34m:\u001b[0m\u001b[0;34m\u001b[0m\u001b[0;34m\u001b[0m\u001b[0m\n\u001b[0;32m---> 68\u001b[0;31m         \u001b[0;32mreturn\u001b[0m \u001b[0mestimator_type\u001b[0m\u001b[0;34m(\u001b[0m\u001b[0;34m[\u001b[0m\u001b[0mclone\u001b[0m\u001b[0;34m(\u001b[0m\u001b[0me\u001b[0m\u001b[0;34m,\u001b[0m \u001b[0msafe\u001b[0m\u001b[0;34m=\u001b[0m\u001b[0msafe\u001b[0m\u001b[0;34m)\u001b[0m \u001b[0;32mfor\u001b[0m \u001b[0me\u001b[0m \u001b[0;32min\u001b[0m \u001b[0mestimator\u001b[0m\u001b[0;34m]\u001b[0m\u001b[0;34m)\u001b[0m\u001b[0;34m\u001b[0m\u001b[0;34m\u001b[0m\u001b[0m\n\u001b[0m\u001b[1;32m     69\u001b[0m     \u001b[0;32melif\u001b[0m \u001b[0;32mnot\u001b[0m \u001b[0mhasattr\u001b[0m\u001b[0;34m(\u001b[0m\u001b[0mestimator\u001b[0m\u001b[0;34m,\u001b[0m \u001b[0;34m'get_params'\u001b[0m\u001b[0;34m)\u001b[0m \u001b[0;32mor\u001b[0m \u001b[0misinstance\u001b[0m\u001b[0;34m(\u001b[0m\u001b[0mestimator\u001b[0m\u001b[0;34m,\u001b[0m \u001b[0mtype\u001b[0m\u001b[0;34m)\u001b[0m\u001b[0;34m:\u001b[0m\u001b[0;34m\u001b[0m\u001b[0;34m\u001b[0m\u001b[0m\n\u001b[1;32m     70\u001b[0m         \u001b[0;32mif\u001b[0m \u001b[0;32mnot\u001b[0m \u001b[0msafe\u001b[0m\u001b[0;34m:\u001b[0m\u001b[0;34m\u001b[0m\u001b[0;34m\u001b[0m\u001b[0m\n",
      "\u001b[0;32m~/anaconda3/envs/DD_Pover-T_Tests/lib/python3.8/site-packages/sklearn/base.py\u001b[0m in \u001b[0;36m<listcomp>\u001b[0;34m(.0)\u001b[0m\n\u001b[1;32m     66\u001b[0m     \u001b[0;31m# XXX: not handling dictionaries\u001b[0m\u001b[0;34m\u001b[0m\u001b[0;34m\u001b[0m\u001b[0;34m\u001b[0m\u001b[0m\n\u001b[1;32m     67\u001b[0m     \u001b[0;32mif\u001b[0m \u001b[0mestimator_type\u001b[0m \u001b[0;32min\u001b[0m \u001b[0;34m(\u001b[0m\u001b[0mlist\u001b[0m\u001b[0;34m,\u001b[0m \u001b[0mtuple\u001b[0m\u001b[0;34m,\u001b[0m \u001b[0mset\u001b[0m\u001b[0;34m,\u001b[0m \u001b[0mfrozenset\u001b[0m\u001b[0;34m)\u001b[0m\u001b[0;34m:\u001b[0m\u001b[0;34m\u001b[0m\u001b[0;34m\u001b[0m\u001b[0m\n\u001b[0;32m---> 68\u001b[0;31m         \u001b[0;32mreturn\u001b[0m \u001b[0mestimator_type\u001b[0m\u001b[0;34m(\u001b[0m\u001b[0;34m[\u001b[0m\u001b[0mclone\u001b[0m\u001b[0;34m(\u001b[0m\u001b[0me\u001b[0m\u001b[0;34m,\u001b[0m \u001b[0msafe\u001b[0m\u001b[0;34m=\u001b[0m\u001b[0msafe\u001b[0m\u001b[0;34m)\u001b[0m \u001b[0;32mfor\u001b[0m \u001b[0me\u001b[0m \u001b[0;32min\u001b[0m \u001b[0mestimator\u001b[0m\u001b[0;34m]\u001b[0m\u001b[0;34m)\u001b[0m\u001b[0;34m\u001b[0m\u001b[0;34m\u001b[0m\u001b[0m\n\u001b[0m\u001b[1;32m     69\u001b[0m     \u001b[0;32melif\u001b[0m \u001b[0;32mnot\u001b[0m \u001b[0mhasattr\u001b[0m\u001b[0;34m(\u001b[0m\u001b[0mestimator\u001b[0m\u001b[0;34m,\u001b[0m \u001b[0;34m'get_params'\u001b[0m\u001b[0;34m)\u001b[0m \u001b[0;32mor\u001b[0m \u001b[0misinstance\u001b[0m\u001b[0;34m(\u001b[0m\u001b[0mestimator\u001b[0m\u001b[0;34m,\u001b[0m \u001b[0mtype\u001b[0m\u001b[0;34m)\u001b[0m\u001b[0;34m:\u001b[0m\u001b[0;34m\u001b[0m\u001b[0;34m\u001b[0m\u001b[0m\n\u001b[1;32m     70\u001b[0m         \u001b[0;32mif\u001b[0m \u001b[0;32mnot\u001b[0m \u001b[0msafe\u001b[0m\u001b[0;34m:\u001b[0m\u001b[0;34m\u001b[0m\u001b[0;34m\u001b[0m\u001b[0m\n",
      "\u001b[0;32m~/anaconda3/envs/DD_Pover-T_Tests/lib/python3.8/site-packages/sklearn/utils/validation.py\u001b[0m in \u001b[0;36minner_f\u001b[0;34m(*args, **kwargs)\u001b[0m\n\u001b[1;32m     70\u001b[0m                           FutureWarning)\n\u001b[1;32m     71\u001b[0m         \u001b[0mkwargs\u001b[0m\u001b[0;34m.\u001b[0m\u001b[0mupdate\u001b[0m\u001b[0;34m(\u001b[0m\u001b[0;34m{\u001b[0m\u001b[0mk\u001b[0m\u001b[0;34m:\u001b[0m \u001b[0marg\u001b[0m \u001b[0;32mfor\u001b[0m \u001b[0mk\u001b[0m\u001b[0;34m,\u001b[0m \u001b[0marg\u001b[0m \u001b[0;32min\u001b[0m \u001b[0mzip\u001b[0m\u001b[0;34m(\u001b[0m\u001b[0msig\u001b[0m\u001b[0;34m.\u001b[0m\u001b[0mparameters\u001b[0m\u001b[0;34m,\u001b[0m \u001b[0margs\u001b[0m\u001b[0;34m)\u001b[0m\u001b[0;34m}\u001b[0m\u001b[0;34m)\u001b[0m\u001b[0;34m\u001b[0m\u001b[0;34m\u001b[0m\u001b[0m\n\u001b[0;32m---> 72\u001b[0;31m         \u001b[0;32mreturn\u001b[0m \u001b[0mf\u001b[0m\u001b[0;34m(\u001b[0m\u001b[0;34m**\u001b[0m\u001b[0mkwargs\u001b[0m\u001b[0;34m)\u001b[0m\u001b[0;34m\u001b[0m\u001b[0;34m\u001b[0m\u001b[0m\n\u001b[0m\u001b[1;32m     73\u001b[0m     \u001b[0;32mreturn\u001b[0m \u001b[0minner_f\u001b[0m\u001b[0;34m\u001b[0m\u001b[0;34m\u001b[0m\u001b[0m\n\u001b[1;32m     74\u001b[0m \u001b[0;34m\u001b[0m\u001b[0m\n",
      "\u001b[0;32m~/anaconda3/envs/DD_Pover-T_Tests/lib/python3.8/site-packages/sklearn/base.py\u001b[0m in \u001b[0;36mclone\u001b[0;34m(estimator, safe)\u001b[0m\n\u001b[1;32m     66\u001b[0m     \u001b[0;31m# XXX: not handling dictionaries\u001b[0m\u001b[0;34m\u001b[0m\u001b[0;34m\u001b[0m\u001b[0;34m\u001b[0m\u001b[0m\n\u001b[1;32m     67\u001b[0m     \u001b[0;32mif\u001b[0m \u001b[0mestimator_type\u001b[0m \u001b[0;32min\u001b[0m \u001b[0;34m(\u001b[0m\u001b[0mlist\u001b[0m\u001b[0;34m,\u001b[0m \u001b[0mtuple\u001b[0m\u001b[0;34m,\u001b[0m \u001b[0mset\u001b[0m\u001b[0;34m,\u001b[0m \u001b[0mfrozenset\u001b[0m\u001b[0;34m)\u001b[0m\u001b[0;34m:\u001b[0m\u001b[0;34m\u001b[0m\u001b[0;34m\u001b[0m\u001b[0m\n\u001b[0;32m---> 68\u001b[0;31m         \u001b[0;32mreturn\u001b[0m \u001b[0mestimator_type\u001b[0m\u001b[0;34m(\u001b[0m\u001b[0;34m[\u001b[0m\u001b[0mclone\u001b[0m\u001b[0;34m(\u001b[0m\u001b[0me\u001b[0m\u001b[0;34m,\u001b[0m \u001b[0msafe\u001b[0m\u001b[0;34m=\u001b[0m\u001b[0msafe\u001b[0m\u001b[0;34m)\u001b[0m \u001b[0;32mfor\u001b[0m \u001b[0me\u001b[0m \u001b[0;32min\u001b[0m \u001b[0mestimator\u001b[0m\u001b[0;34m]\u001b[0m\u001b[0;34m)\u001b[0m\u001b[0;34m\u001b[0m\u001b[0;34m\u001b[0m\u001b[0m\n\u001b[0m\u001b[1;32m     69\u001b[0m     \u001b[0;32melif\u001b[0m \u001b[0;32mnot\u001b[0m \u001b[0mhasattr\u001b[0m\u001b[0;34m(\u001b[0m\u001b[0mestimator\u001b[0m\u001b[0;34m,\u001b[0m \u001b[0;34m'get_params'\u001b[0m\u001b[0;34m)\u001b[0m \u001b[0;32mor\u001b[0m \u001b[0misinstance\u001b[0m\u001b[0;34m(\u001b[0m\u001b[0mestimator\u001b[0m\u001b[0;34m,\u001b[0m \u001b[0mtype\u001b[0m\u001b[0;34m)\u001b[0m\u001b[0;34m:\u001b[0m\u001b[0;34m\u001b[0m\u001b[0;34m\u001b[0m\u001b[0m\n\u001b[1;32m     70\u001b[0m         \u001b[0;32mif\u001b[0m \u001b[0;32mnot\u001b[0m \u001b[0msafe\u001b[0m\u001b[0;34m:\u001b[0m\u001b[0;34m\u001b[0m\u001b[0;34m\u001b[0m\u001b[0m\n",
      "\u001b[0;32m~/anaconda3/envs/DD_Pover-T_Tests/lib/python3.8/site-packages/sklearn/base.py\u001b[0m in \u001b[0;36m<listcomp>\u001b[0;34m(.0)\u001b[0m\n\u001b[1;32m     66\u001b[0m     \u001b[0;31m# XXX: not handling dictionaries\u001b[0m\u001b[0;34m\u001b[0m\u001b[0;34m\u001b[0m\u001b[0;34m\u001b[0m\u001b[0m\n\u001b[1;32m     67\u001b[0m     \u001b[0;32mif\u001b[0m \u001b[0mestimator_type\u001b[0m \u001b[0;32min\u001b[0m \u001b[0;34m(\u001b[0m\u001b[0mlist\u001b[0m\u001b[0;34m,\u001b[0m \u001b[0mtuple\u001b[0m\u001b[0;34m,\u001b[0m \u001b[0mset\u001b[0m\u001b[0;34m,\u001b[0m \u001b[0mfrozenset\u001b[0m\u001b[0;34m)\u001b[0m\u001b[0;34m:\u001b[0m\u001b[0;34m\u001b[0m\u001b[0;34m\u001b[0m\u001b[0m\n\u001b[0;32m---> 68\u001b[0;31m         \u001b[0;32mreturn\u001b[0m \u001b[0mestimator_type\u001b[0m\u001b[0;34m(\u001b[0m\u001b[0;34m[\u001b[0m\u001b[0mclone\u001b[0m\u001b[0;34m(\u001b[0m\u001b[0me\u001b[0m\u001b[0;34m,\u001b[0m \u001b[0msafe\u001b[0m\u001b[0;34m=\u001b[0m\u001b[0msafe\u001b[0m\u001b[0;34m)\u001b[0m \u001b[0;32mfor\u001b[0m \u001b[0me\u001b[0m \u001b[0;32min\u001b[0m \u001b[0mestimator\u001b[0m\u001b[0;34m]\u001b[0m\u001b[0;34m)\u001b[0m\u001b[0;34m\u001b[0m\u001b[0;34m\u001b[0m\u001b[0m\n\u001b[0m\u001b[1;32m     69\u001b[0m     \u001b[0;32melif\u001b[0m \u001b[0;32mnot\u001b[0m \u001b[0mhasattr\u001b[0m\u001b[0;34m(\u001b[0m\u001b[0mestimator\u001b[0m\u001b[0;34m,\u001b[0m \u001b[0;34m'get_params'\u001b[0m\u001b[0;34m)\u001b[0m \u001b[0;32mor\u001b[0m \u001b[0misinstance\u001b[0m\u001b[0;34m(\u001b[0m\u001b[0mestimator\u001b[0m\u001b[0;34m,\u001b[0m \u001b[0mtype\u001b[0m\u001b[0;34m)\u001b[0m\u001b[0;34m:\u001b[0m\u001b[0;34m\u001b[0m\u001b[0;34m\u001b[0m\u001b[0m\n\u001b[1;32m     70\u001b[0m         \u001b[0;32mif\u001b[0m \u001b[0;32mnot\u001b[0m \u001b[0msafe\u001b[0m\u001b[0;34m:\u001b[0m\u001b[0;34m\u001b[0m\u001b[0;34m\u001b[0m\u001b[0m\n",
      "\u001b[0;32m~/anaconda3/envs/DD_Pover-T_Tests/lib/python3.8/site-packages/sklearn/utils/validation.py\u001b[0m in \u001b[0;36minner_f\u001b[0;34m(*args, **kwargs)\u001b[0m\n\u001b[1;32m     70\u001b[0m                           FutureWarning)\n\u001b[1;32m     71\u001b[0m         \u001b[0mkwargs\u001b[0m\u001b[0;34m.\u001b[0m\u001b[0mupdate\u001b[0m\u001b[0;34m(\u001b[0m\u001b[0;34m{\u001b[0m\u001b[0mk\u001b[0m\u001b[0;34m:\u001b[0m \u001b[0marg\u001b[0m \u001b[0;32mfor\u001b[0m \u001b[0mk\u001b[0m\u001b[0;34m,\u001b[0m \u001b[0marg\u001b[0m \u001b[0;32min\u001b[0m \u001b[0mzip\u001b[0m\u001b[0;34m(\u001b[0m\u001b[0msig\u001b[0m\u001b[0;34m.\u001b[0m\u001b[0mparameters\u001b[0m\u001b[0;34m,\u001b[0m \u001b[0margs\u001b[0m\u001b[0;34m)\u001b[0m\u001b[0;34m}\u001b[0m\u001b[0;34m)\u001b[0m\u001b[0;34m\u001b[0m\u001b[0;34m\u001b[0m\u001b[0m\n\u001b[0;32m---> 72\u001b[0;31m         \u001b[0;32mreturn\u001b[0m \u001b[0mf\u001b[0m\u001b[0;34m(\u001b[0m\u001b[0;34m**\u001b[0m\u001b[0mkwargs\u001b[0m\u001b[0;34m)\u001b[0m\u001b[0;34m\u001b[0m\u001b[0;34m\u001b[0m\u001b[0m\n\u001b[0m\u001b[1;32m     73\u001b[0m     \u001b[0;32mreturn\u001b[0m \u001b[0minner_f\u001b[0m\u001b[0;34m\u001b[0m\u001b[0;34m\u001b[0m\u001b[0m\n\u001b[1;32m     74\u001b[0m \u001b[0;34m\u001b[0m\u001b[0m\n",
      "\u001b[0;32m~/anaconda3/envs/DD_Pover-T_Tests/lib/python3.8/site-packages/sklearn/base.py\u001b[0m in \u001b[0;36mclone\u001b[0;34m(estimator, safe)\u001b[0m\n\u001b[1;32m     86\u001b[0m     \u001b[0;32mfor\u001b[0m \u001b[0mname\u001b[0m\u001b[0;34m,\u001b[0m \u001b[0mparam\u001b[0m \u001b[0;32min\u001b[0m \u001b[0mnew_object_params\u001b[0m\u001b[0;34m.\u001b[0m\u001b[0mitems\u001b[0m\u001b[0;34m(\u001b[0m\u001b[0;34m)\u001b[0m\u001b[0;34m:\u001b[0m\u001b[0;34m\u001b[0m\u001b[0;34m\u001b[0m\u001b[0m\n\u001b[1;32m     87\u001b[0m         \u001b[0mnew_object_params\u001b[0m\u001b[0;34m[\u001b[0m\u001b[0mname\u001b[0m\u001b[0;34m]\u001b[0m \u001b[0;34m=\u001b[0m \u001b[0mclone\u001b[0m\u001b[0;34m(\u001b[0m\u001b[0mparam\u001b[0m\u001b[0;34m,\u001b[0m \u001b[0msafe\u001b[0m\u001b[0;34m=\u001b[0m\u001b[0;32mFalse\u001b[0m\u001b[0;34m)\u001b[0m\u001b[0;34m\u001b[0m\u001b[0;34m\u001b[0m\u001b[0m\n\u001b[0;32m---> 88\u001b[0;31m     \u001b[0mnew_object\u001b[0m \u001b[0;34m=\u001b[0m \u001b[0mklass\u001b[0m\u001b[0;34m(\u001b[0m\u001b[0;34m**\u001b[0m\u001b[0mnew_object_params\u001b[0m\u001b[0;34m)\u001b[0m\u001b[0;34m\u001b[0m\u001b[0;34m\u001b[0m\u001b[0m\n\u001b[0m\u001b[1;32m     89\u001b[0m     \u001b[0mparams_set\u001b[0m \u001b[0;34m=\u001b[0m \u001b[0mnew_object\u001b[0m\u001b[0;34m.\u001b[0m\u001b[0mget_params\u001b[0m\u001b[0;34m(\u001b[0m\u001b[0mdeep\u001b[0m\u001b[0;34m=\u001b[0m\u001b[0;32mFalse\u001b[0m\u001b[0;34m)\u001b[0m\u001b[0;34m\u001b[0m\u001b[0;34m\u001b[0m\u001b[0m\n\u001b[1;32m     90\u001b[0m \u001b[0;34m\u001b[0m\u001b[0m\n",
      "\u001b[0;31mTypeError\u001b[0m: __init__() got an unexpected keyword argument 'min_samples_leaf'"
     ]
    }
   ],
   "source": [
    "rscv.fit(X_train, y_train)"
   ]
  },
  {
   "cell_type": "code",
   "execution_count": 67,
   "metadata": {},
   "outputs": [
    {
     "data": {
      "text/plain": [
       "{'column_transform__target_encoder__sigma': 0.01,\n",
       " 'classifier__n_estimators': 100,\n",
       " 'classifier__min_samples_leaf': 3,\n",
       " 'classifier__max_features': 3,\n",
       " 'classifier__max_depth': 80,\n",
       " 'classifier__bootstrap': True}"
      ]
     },
     "execution_count": 67,
     "metadata": {},
     "output_type": "execute_result"
    }
   ],
   "source": [
    "rscv.best_params_"
   ]
  },
  {
   "cell_type": "code",
   "execution_count": 68,
   "metadata": {},
   "outputs": [
    {
     "data": {
      "text/plain": [
       "-1.049902458858454"
      ]
     },
     "execution_count": 68,
     "metadata": {},
     "output_type": "execute_result"
    }
   ],
   "source": [
    "rscv.best_score_"
   ]
  },
  {
   "cell_type": "code",
   "execution_count": 69,
   "metadata": {},
   "outputs": [
    {
     "data": {
      "text/plain": [
       "1.1082566304657915"
      ]
     },
     "execution_count": 69,
     "metadata": {},
     "output_type": "execute_result"
    }
   ],
   "source": [
    "y_pred = rscv.best_estimator_.predict_proba(X_test)\n",
    "log_loss(y_test, y_pred, eps=1e-15, normalize=True, sample_weight=None, labels=None)"
   ]
  },
  {
   "cell_type": "markdown",
   "metadata": {},
   "source": [
    "### Light Gradient Boosting"
   ]
  },
  {
   "cell_type": "markdown",
   "metadata": {},
   "source": [
    "[Hyperparameter tunning](https://lightgbm.readthedocs.io/en/latest/Parameters-Tuning.html)"
   ]
  },
  {
   "cell_type": "code",
   "execution_count": 95,
   "metadata": {},
   "outputs": [],
   "source": [
    "clf = LGBMClassifier()\n",
    "pipe = Pipeline([('column_transform', column_trans), ('classifier', clf)])"
   ]
  },
  {
   "cell_type": "code",
   "execution_count": 96,
   "metadata": {},
   "outputs": [],
   "source": [
    "# Hyperparameters can be accessed with a double underscore\n",
    "param_grid_LGBM = {\n",
    "        'column_transform__target_encoder__sigma': [0.01, 0.02, 0.03, 0.04, 0.05, 0.06],\n",
    "        'classifier__n_estimators': [100, 200, 300, 1000],\n",
    "        'classifier__learning_rate' : [0.01, 0.02, 0.03],\n",
    "        'classifier__max_depth' : [6, 7, 8],\n",
    "        'classifier__l2_leaf_reg' : [3, 4, 5],\n",
    "        'classifier__loss_function' : 'Logloss',\n",
    "        'classifier__silent' : True,\n",
    "        'classifier__boosting_type' : 'gbdt',\n",
    "        'classifier__objective' : 'binary',\n",
    "        'classifier__gamma' : 0.3,\n",
    "        'classifier__subsample' : 0.6,\n",
    "        'classifier__reg_alpha' : 0.02,\n",
    "        'classifier__is_unbalance' : True,\n",
    "        'classifier__reg_lambda' : 0.01,\n",
    "}\n",
    "\n",
    "rscv = RandomizedSearchCV(pipe,\n",
    "                          cv=5,\n",
    "                          n_iter=5,\n",
    "                          n_jobs=10,\n",
    "                          param_distributions = param_grid,\n",
    "                          scoring='neg_log_loss',\n",
    "                          random_state=1)"
   ]
  },
  {
   "cell_type": "code",
   "execution_count": 97,
   "metadata": {
    "collapsed": true
   },
   "outputs": [
    {
     "data": {
      "text/plain": [
       "RandomizedSearchCV(cv=5,\n",
       "                   estimator=Pipeline(steps=[('column_transform',\n",
       "                                              ColumnTransformer(transformers=[('ordinal_encoder',\n",
       "                                                                               OrdinalEncoder(),\n",
       "                                                                               ['kjkrfgld',\n",
       "                                                                                'bpowgknt',\n",
       "                                                                                'raksnhjf']),\n",
       "                                                                              ('target_encoder',\n",
       "                                                                               LeaveOneOutEncoder(),\n",
       "                                                                               ['vwpsxrgk'])])),\n",
       "                                             ('classifier', LGBMClassifier())]),\n",
       "                   n_iter=5, n_jobs=10,\n",
       "                   param_distributions={'classifier__bootstrap': [True],\n",
       "                                        'classifier__max_depth': [80, 90, 100,\n",
       "                                                                  110],\n",
       "                                        'classifier__max_features': [2, 3],\n",
       "                                        'classifier__min_samples_leaf': [3, 4,\n",
       "                                                                         5],\n",
       "                                        'classifier__n_estimators': [100, 200,\n",
       "                                                                     300,\n",
       "                                                                     1000],\n",
       "                                        'column_transform__target_encoder__sigma': [0.01,\n",
       "                                                                                    0.02,\n",
       "                                                                                    0.03,\n",
       "                                                                                    0.04,\n",
       "                                                                                    0.05,\n",
       "                                                                                    0.06]},\n",
       "                   random_state=1, scoring='neg_log_loss')"
      ]
     },
     "execution_count": 97,
     "metadata": {},
     "output_type": "execute_result"
    }
   ],
   "source": [
    "rscv.fit(X_train, y_train)"
   ]
  },
  {
   "cell_type": "code",
   "execution_count": 98,
   "metadata": {},
   "outputs": [
    {
     "data": {
      "text/plain": [
       "{'column_transform__target_encoder__sigma': 0.04,\n",
       " 'classifier__n_estimators': 200,\n",
       " 'classifier__min_samples_leaf': 5,\n",
       " 'classifier__max_features': 3,\n",
       " 'classifier__max_depth': 80,\n",
       " 'classifier__bootstrap': True}"
      ]
     },
     "execution_count": 98,
     "metadata": {},
     "output_type": "execute_result"
    }
   ],
   "source": [
    "rscv.best_params_"
   ]
  },
  {
   "cell_type": "code",
   "execution_count": 99,
   "metadata": {},
   "outputs": [
    {
     "data": {
      "text/plain": [
       "-0.6581906227844617"
      ]
     },
     "execution_count": 99,
     "metadata": {},
     "output_type": "execute_result"
    }
   ],
   "source": [
    "rscv.best_score_"
   ]
  },
  {
   "cell_type": "code",
   "execution_count": 100,
   "metadata": {},
   "outputs": [
    {
     "data": {
      "text/plain": [
       "0.642762653901469"
      ]
     },
     "execution_count": 100,
     "metadata": {},
     "output_type": "execute_result"
    }
   ],
   "source": [
    "y_pred = rscv.best_estimator_.predict_proba(X_test)\n",
    "log_loss(y_test, y_pred, eps=1e-15, normalize=True, sample_weight=None, labels=None)"
   ]
  },
  {
   "cell_type": "markdown",
   "metadata": {},
   "source": [
    "### Extreme Gradient Boosting"
   ]
  },
  {
   "cell_type": "code",
   "execution_count": 101,
   "metadata": {},
   "outputs": [],
   "source": [
    "clf = XGBClassifier()\n",
    "pipe = Pipeline([('column_transform', column_trans), ('classifier', clf)])"
   ]
  },
  {
   "cell_type": "code",
   "execution_count": 102,
   "metadata": {},
   "outputs": [],
   "source": [
    "# Hyperparameters can be accessed with a double underscore\n",
    "param_grid_CB = {\n",
    "        'column_transform__target_encoder__sigma': [0.01, 0.02, 0.03, 0.04, 0.05, 0.06],\n",
    "        'classifier__n_estimators': [100, 200, 300, 1000],\n",
    "        'classifier__learning_rate' : [0.01, 0.02, 0.03],\n",
    "        'classifier__max_depth' : [3, 4, 5],\n",
    "        'classifier__objective' : 'binary:logistic',\n",
    "        'classifier__silent' : True,\n",
    "        'classifier__gamma' : 0.3,\n",
    "        'classifier__subsample' : 0.7,\n",
    "        'classifier__reg_alpha' : 0.05\n",
    "}\n",
    "\n",
    "rscv = RandomizedSearchCV(pipe,\n",
    "                          cv=5,\n",
    "                          n_iter=5,\n",
    "                          n_jobs=10,\n",
    "                          param_distributions = param_grid,\n",
    "                          scoring='neg_log_loss',\n",
    "                          random_state=1)"
   ]
  },
  {
   "cell_type": "code",
   "execution_count": 103,
   "metadata": {
    "collapsed": true
   },
   "outputs": [
    {
     "name": "stderr",
     "output_type": "stream",
     "text": [
      "/home/isabel/anaconda3/envs/DD_Pover-T_Tests/lib/python3.8/site-packages/xgboost/sklearn.py:888: UserWarning: The use of label encoder in XGBClassifier is deprecated and will be removed in a future release. To remove this warning, do the following: 1) Pass option use_label_encoder=False when constructing XGBClassifier object; and 2) Encode your labels (y) as integers starting with 0, i.e. 0, 1, 2, ..., [num_class - 1].\n",
      "  warnings.warn(label_encoder_deprecation_msg, UserWarning)\n"
     ]
    },
    {
     "name": "stdout",
     "output_type": "stream",
     "text": [
      "[19:48:59] WARNING: /home/conda/feedstock_root/build_artifacts/xgboost_1607604574104/work/src/learner.cc:541: \n",
      "Parameters: { bootstrap, max_features, min_samples_leaf } might not be used.\n",
      "\n",
      "  This may not be accurate due to some parameters are only used in language bindings but\n",
      "  passed down to XGBoost core.  Or some parameters are not used but slip through this\n",
      "  verification. Please open an issue if you find above cases.\n",
      "\n",
      "\n",
      "[19:48:59] WARNING: /home/conda/feedstock_root/build_artifacts/xgboost_1607604574104/work/src/learner.cc:1061: Starting in XGBoost 1.3.0, the default evaluation metric used with the objective 'binary:logistic' was changed from 'error' to 'logloss'. Explicitly set eval_metric if you'd like to restore the old behavior.\n"
     ]
    },
    {
     "data": {
      "text/plain": [
       "RandomizedSearchCV(cv=5,\n",
       "                   estimator=Pipeline(steps=[('column_transform',\n",
       "                                              ColumnTransformer(transformers=[('ordinal_encoder',\n",
       "                                                                               OrdinalEncoder(),\n",
       "                                                                               ['kjkrfgld',\n",
       "                                                                                'bpowgknt',\n",
       "                                                                                'raksnhjf']),\n",
       "                                                                              ('target_encoder',\n",
       "                                                                               LeaveOneOutEncoder(),\n",
       "                                                                               ['vwpsxrgk'])])),\n",
       "                                             ('classifier',\n",
       "                                              XGBClassifier(base_score=None,\n",
       "                                                            booster=None,\n",
       "                                                            colsample_bylevel=None,\n",
       "                                                            colsample_bynode=None,\n",
       "                                                            colsample_bytree=N...\n",
       "                                                            verbosity=None))]),\n",
       "                   n_iter=5, n_jobs=10,\n",
       "                   param_distributions={'classifier__bootstrap': [True],\n",
       "                                        'classifier__max_depth': [80, 90, 100,\n",
       "                                                                  110],\n",
       "                                        'classifier__max_features': [2, 3],\n",
       "                                        'classifier__min_samples_leaf': [3, 4,\n",
       "                                                                         5],\n",
       "                                        'classifier__n_estimators': [100, 200,\n",
       "                                                                     300,\n",
       "                                                                     1000],\n",
       "                                        'column_transform__target_encoder__sigma': [0.01,\n",
       "                                                                                    0.02,\n",
       "                                                                                    0.03,\n",
       "                                                                                    0.04,\n",
       "                                                                                    0.05,\n",
       "                                                                                    0.06]},\n",
       "                   random_state=1, scoring='neg_log_loss')"
      ]
     },
     "execution_count": 103,
     "metadata": {},
     "output_type": "execute_result"
    }
   ],
   "source": [
    "rscv.fit(X_train, y_train)"
   ]
  },
  {
   "cell_type": "code",
   "execution_count": 104,
   "metadata": {},
   "outputs": [
    {
     "data": {
      "text/plain": [
       "{'column_transform__target_encoder__sigma': 0.01,\n",
       " 'classifier__n_estimators': 100,\n",
       " 'classifier__min_samples_leaf': 3,\n",
       " 'classifier__max_features': 3,\n",
       " 'classifier__max_depth': 80,\n",
       " 'classifier__bootstrap': True}"
      ]
     },
     "execution_count": 104,
     "metadata": {},
     "output_type": "execute_result"
    }
   ],
   "source": [
    "rscv.best_params_"
   ]
  },
  {
   "cell_type": "code",
   "execution_count": 105,
   "metadata": {},
   "outputs": [
    {
     "data": {
      "text/plain": [
       "-1.0080221850750244"
      ]
     },
     "execution_count": 105,
     "metadata": {},
     "output_type": "execute_result"
    }
   ],
   "source": [
    "rscv.best_score_"
   ]
  },
  {
   "cell_type": "code",
   "execution_count": 106,
   "metadata": {},
   "outputs": [
    {
     "data": {
      "text/plain": [
       "0.9698355597690081"
      ]
     },
     "execution_count": 106,
     "metadata": {},
     "output_type": "execute_result"
    }
   ],
   "source": [
    "y_pred = rscv.best_estimator_.predict_proba(X_test)\n",
    "log_loss(y_test, y_pred, eps=1e-15, normalize=True, sample_weight=None, labels=None)"
   ]
  },
  {
   "cell_type": "markdown",
   "metadata": {},
   "source": [
    "## A Neural Network model for binary classification"
   ]
  },
  {
   "cell_type": "markdown",
   "metadata": {},
   "source": [
    "Check this DataCamp [course](https://learn.datacamp.com/courses/deep-learning-with-keras-in-python) for more information.<br>\n",
    "Debug Attribute error with the following [GitHub issue](https://github.com/tensorflow/tensorflow/issues/38589)."
   ]
  },
  {
   "cell_type": "code",
   "execution_count": 119,
   "metadata": {},
   "outputs": [
    {
     "ename": "SyntaxError",
     "evalue": "invalid syntax (<ipython-input-119-252077236823>, line 19)",
     "output_type": "error",
     "traceback": [
      "\u001b[0;36m  File \u001b[0;32m\"<ipython-input-119-252077236823>\"\u001b[0;36m, line \u001b[0;32m19\u001b[0m\n\u001b[0;31m    random_search = RandomizedSearchCV(pipe, params_dist=params, cv=3)\u001b[0m\n\u001b[0m    ^\u001b[0m\n\u001b[0;31mSyntaxError\u001b[0m\u001b[0;31m:\u001b[0m invalid syntax\n"
     ]
    }
   ],
   "source": [
    "# Function that creates a Keras model\n",
    "def create_model(optimizer='sgd', activation='tanh'):\n",
    "    model = Sequential()\n",
    "    model.add(Dense(4, input_shape=(2,), activation=activation))\n",
    "    model.add(Dense(1, activation='sigmoid'))\n",
    "    model.compile(optimizer=optimizer, loss='binary_crossentropy')\n",
    "    return model\n",
    "    \n",
    "# Create a model a sklearn estimator\n",
    "model = KerasClassifier(build_fn=create_model, epochs=6, batch_size=16)\n",
    "    \n",
    "# Plug the model into the pipeline\n",
    "pipe = Pipeline([('column_transform', column_trans), ('classifier', model)])\n",
    "    \n",
    "# Random search on a Keras model\n",
    "params = dict(optimizer=['sgd', 'adam'], epochs=3,\n",
    "              batch_size=[5, 10, 20], activation=['tanh', 'LeakyReLU']\n",
    "              \n",
    "rscv_nn = RandomizedSearchCV(pipe, params_dist=params, cv=3)\n",
    "              \n",
    "rscv_nn.fit(X_train, y_train)\n",
    "              \n",
    "rscv_nn.best_scores_\n",
    "rscv_nn.best_params_\n",
    "              "
   ]
  },
  {
   "cell_type": "code",
   "execution_count": null,
   "metadata": {},
   "outputs": [],
   "source": []
  },
  {
   "cell_type": "code",
   "execution_count": null,
   "metadata": {},
   "outputs": [],
   "source": [
    "preds = model.predict(X_test)\n",
    "\n",
    "test_loss, test_acc = model.evaluate(X_test, y_test)\n",
    "print('Test accuracy: {}, Test loss: {}'.format(test_acc, test_loss))"
   ]
  },
  {
   "cell_type": "markdown",
   "metadata": {},
   "source": [
    "## Ensembling Models"
   ]
  },
  {
   "cell_type": "markdown",
   "metadata": {},
   "source": [
    "DataCamp [Webinar](https://www.datacamp.com/resources/webinars/applied-machine-learning-stacking-ensemble-models?utm_medium=email&utm_source=customerio&utm_campaign=livetraining&utm_id=3679156): Applied Machine Learning - Stacking Ensemble Models"
   ]
  },
  {
   "cell_type": "code",
   "execution_count": null,
   "metadata": {},
   "outputs": [],
   "source": []
  },
  {
   "cell_type": "code",
   "execution_count": null,
   "metadata": {},
   "outputs": [],
   "source": []
  },
  {
   "cell_type": "code",
   "execution_count": null,
   "metadata": {},
   "outputs": [],
   "source": []
  },
  {
   "cell_type": "code",
   "execution_count": null,
   "metadata": {},
   "outputs": [],
   "source": [
    "results = pd.DataFrame({\n",
    "    'predicted': y_pred\n",
    "}).set_index('id').\\\n",
    "to_csv('../model/results.csv')"
   ]
  },
  {
   "cell_type": "markdown",
   "metadata": {},
   "source": [
    "# Productivization Plan\n",
    "<div style = \"float:right\"><a style=\"text-decoration:none\" href = \"#inicio\">Inicio</a></div>"
   ]
  },
  {
   "cell_type": "markdown",
   "metadata": {},
   "source": [
    "After building a model in lab conditions, we shall export a copy of it to the production server, where new data will be labelled. This process is called model deployment or pushing to production. To enable this, we shall serialize our model, that is, convert it to a binary file with pickle.<br>\n",
    "\n",
    "Ideally, we should encapsulate the whole process into a single object (pipeline) to interact with production otherwise, we will have to repeat one or various processes in production. We shall aim at avoiding bugs eventually causing financial problems."
   ]
  },
  {
   "cell_type": "markdown",
   "metadata": {},
   "source": [
    "<b>Figure 1</b>: <b>Model Deployment</b> (<i>source: DataCamp</i>)<br>\n",
    "<img src=\"../images/model_deployment.png\">"
   ]
  },
  {
   "cell_type": "code",
   "execution_count": null,
   "metadata": {},
   "outputs": [],
   "source": [
    "joblib.dump(rscv.best_estimator_, 'model/trained_pipeline.pkl')"
   ]
  },
  {
   "cell_type": "markdown",
   "metadata": {},
   "source": [
    "Save pickle file in write mode."
   ]
  },
  {
   "cell_type": "code",
   "execution_count": null,
   "metadata": {},
   "outputs": [],
   "source": [
    "with open('../model/model.pkl', 'wb') as file:\n",
    "    pickle.dump(rscv.best_estimator_, file=file)"
   ]
  },
  {
   "cell_type": "markdown",
   "metadata": {},
   "source": [
    "Load pickle file in read mode."
   ]
  },
  {
   "cell_type": "code",
   "execution_count": null,
   "metadata": {},
   "outputs": [],
   "source": [
    "with open('../model/model.pkl', 'rb') as file:\n",
    "    clf2 = pickle.load(file)"
   ]
  },
  {
   "cell_type": "markdown",
   "metadata": {},
   "source": [
    "# Next steps\n",
    "<div style = \"float:right\"><a style=\"text-decoration:none\" href = \"#inicio\">Inicio</a></div>"
   ]
  },
  {
   "cell_type": "markdown",
   "metadata": {},
   "source": [
    "Building on the previous idea,\n",
    "<ul>\n",
    "    <li>Build a robust pipeline</li>\n",
    "    <li>Feature importances assessment and feature extraction</li>\n",
    "    \n",
    "</ul>\n",
    "\n",
    "Check this Stackoverflow [post](https://stackoverflow.com/questions/54646709/sklearn-pipeline-get-feature-names-after-onehotencode-in-columntransformer) and [Datacamp course](https://learn.datacamp.com/courses/designing-machine-learning-workflows-in-python)"
   ]
  },
  {
   "cell_type": "code",
   "execution_count": null,
   "metadata": {},
   "outputs": [],
   "source": []
  }
 ],
 "metadata": {
  "kernelspec": {
   "display_name": "Python 3",
   "language": "python",
   "name": "python3"
  },
  "language_info": {
   "codemirror_mode": {
    "name": "ipython",
    "version": 3
   },
   "file_extension": ".py",
   "mimetype": "text/x-python",
   "name": "python",
   "nbconvert_exporter": "python",
   "pygments_lexer": "ipython3",
   "version": "3.8.5"
  }
 },
 "nbformat": 4,
 "nbformat_minor": 4
}
