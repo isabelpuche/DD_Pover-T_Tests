{
 "cells": [
  {
   "cell_type": "markdown",
   "metadata": {},
   "source": [
    "# Table of Contents\n",
    "\n",
    "1. [Business Understanding](#Business-Understanding)\n",
    "2. [Exploratory Data Analysis](#Exploratory-Data-Analysis)\n",
    "3. [Data Preprocessing](#Data-Preprocessing)\n",
    "4. [Model Building](#Model-Building)\n",
    "5. [Productivization Plan](#Productivization-Plan)"
   ]
  },
  {
   "cell_type": "code",
   "execution_count": 51,
   "metadata": {},
   "outputs": [],
   "source": [
    "%matplotlib inline\n",
    "import matplotlib.pyplot as plt\n",
    "import seaborn as sns\n",
    "import copy\n",
    "import pandas as pd\n",
    "import numpy as np\n",
    "\n",
    "from sklearn.impute import SimpleImputer\n",
    "from sklearn.preprocessing import PowerTransformer\n",
    "from sklearn.compose import ColumnTransformer\n",
    "\n",
    "from sklearn.linear_model import LogisticRegression\n",
    "from sklearn.ensemble import RandomForestClassifier\n",
    "from catboost import CatBoostClassifier\n",
    "from lightgbm import LGBMClassifier\n",
    "from xgboost import XGBClassifier\n",
    "\n",
    "from sklearn.model_selection import RandomizedSearchCV, RepeatedStratifiedKFold\n",
    "\n",
    "from sklearn.ensemble import StackingClassifier\n",
    "\n",
    "from sklearn.pipeline import Pipeline\n",
    "from sklearn.model_selection import cross_val_score\n",
    "\n",
    "from category_encoders import OrdinalEncoder, LeaveOneOutEncoder\n",
    "\n",
    "# from tensorflow import keras\n",
    "# from keras.models import Sequential\n",
    "# from keras.layers import Dense\n",
    "# from keras.wrappers.scikit_learn import KerasClassifier\n",
    "\n",
    "from sklearn.metrics import log_loss, accuracy_score, roc_auc_score, make_scorer\n",
    "\n",
    "import joblib\n",
    "import pickle"
   ]
  },
  {
   "cell_type": "markdown",
   "metadata": {},
   "source": [
    "# Business Understanding\n",
    "<div style = \"float:right\"><a style=\"text-decoration:none\" href = \"#inicio\">Inicio</a></div>"
   ]
  },
  {
   "cell_type": "markdown",
   "metadata": {},
   "source": [
    "Given a set of features, we are asked to <b>predict whether or not a given household is poor or not</b>. This is a binary classification, which specifically posits the following problem: what is the <b>probability</b> of a given household of being poor. This probability is actually the prediction value and the loss function measures the prediction performance. For a binary classification, the typical loss function is the binary cross-entropy or <b>log loss</b>.<br>\n",
    "\n",
    "Log Loss is a slight twist on the Likelihood Function. In fact, Log Loss is -1 * the log of the likelihood function. The likelihood function answers the question \"How likely did the model think the actually observed set of outcomes was\" and is computed iteratively stepping through all predictions by multiplying the probability associated with the actual outcome and subsequently by the previous result.<br>\n",
    "\n",
    "Predictions ranging between 0 and 1, if you multiply enough numbers in this range, the result gets so small that computers can't keep track of it. So, as a clever computational trick, we instead keep track of the log of the Likelihood. We multiply this by negative 1 to maintain a common convention that lower loss scores are better. Lower loss scores are associated with higher probabilities and viceversa<br>\n",
    "\n",
    "Since data is anonimized and no context information has been provided, no economic analysis is possible."
   ]
  },
  {
   "cell_type": "markdown",
   "metadata": {},
   "source": [
    "# Exploratory Data Analysis\n",
    "<div style = \"float:right\"><a style=\"text-decoration:none\" href = \"#inicio\">Inicio</a></div>"
   ]
  },
  {
   "cell_type": "markdown",
   "metadata": {},
   "source": [
    "## Load Data"
   ]
  },
  {
   "cell_type": "code",
   "execution_count": 4,
   "metadata": {},
   "outputs": [
    {
     "data": {
      "text/html": [
       "<div>\n",
       "<style scoped>\n",
       "    .dataframe tbody tr th:only-of-type {\n",
       "        vertical-align: middle;\n",
       "    }\n",
       "\n",
       "    .dataframe tbody tr th {\n",
       "        vertical-align: top;\n",
       "    }\n",
       "\n",
       "    .dataframe thead th {\n",
       "        text-align: right;\n",
       "    }\n",
       "</style>\n",
       "<table border=\"1\" class=\"dataframe\">\n",
       "  <thead>\n",
       "    <tr style=\"text-align: right;\">\n",
       "      <th></th>\n",
       "      <th>Unnamed: 0</th>\n",
       "      <th>id</th>\n",
       "      <th>kjkrfgld</th>\n",
       "      <th>bpowgknt</th>\n",
       "      <th>raksnhjf</th>\n",
       "      <th>vwpsxrgk</th>\n",
       "      <th>omtioxzz</th>\n",
       "      <th>yfmzwkru</th>\n",
       "      <th>tiwrsloh</th>\n",
       "      <th>weioazcf</th>\n",
       "      <th>poor</th>\n",
       "    </tr>\n",
       "  </thead>\n",
       "  <tbody>\n",
       "    <tr>\n",
       "      <th>0</th>\n",
       "      <td>2225</td>\n",
       "      <td>29252</td>\n",
       "      <td>KfoTG</td>\n",
       "      <td>zPfZR</td>\n",
       "      <td>DtMvg</td>\n",
       "      <td>NaN</td>\n",
       "      <td>12.0</td>\n",
       "      <td>-3.0</td>\n",
       "      <td>-1.0</td>\n",
       "      <td>0.5</td>\n",
       "      <td>False</td>\n",
       "    </tr>\n",
       "    <tr>\n",
       "      <th>1</th>\n",
       "      <td>1598</td>\n",
       "      <td>98286</td>\n",
       "      <td>ljBjd</td>\n",
       "      <td>THHLT</td>\n",
       "      <td>DtMvg</td>\n",
       "      <td>esAQH</td>\n",
       "      <td>21.0</td>\n",
       "      <td>-2.0</td>\n",
       "      <td>-5.0</td>\n",
       "      <td>-9.5</td>\n",
       "      <td>True</td>\n",
       "    </tr>\n",
       "    <tr>\n",
       "      <th>2</th>\n",
       "      <td>7896</td>\n",
       "      <td>49040</td>\n",
       "      <td>Lsuai</td>\n",
       "      <td>zPfZR</td>\n",
       "      <td>zeYAm</td>\n",
       "      <td>ZCIYy</td>\n",
       "      <td>12.0</td>\n",
       "      <td>-3.0</td>\n",
       "      <td>-5.0</td>\n",
       "      <td>-9.5</td>\n",
       "      <td>True</td>\n",
       "    </tr>\n",
       "    <tr>\n",
       "      <th>3</th>\n",
       "      <td>1458</td>\n",
       "      <td>35261</td>\n",
       "      <td>KfoTG</td>\n",
       "      <td>mDadf</td>\n",
       "      <td>zeYAm</td>\n",
       "      <td>ZCIYy</td>\n",
       "      <td>12.0</td>\n",
       "      <td>-1.0</td>\n",
       "      <td>-5.0</td>\n",
       "      <td>-9.5</td>\n",
       "      <td>False</td>\n",
       "    </tr>\n",
       "    <tr>\n",
       "      <th>4</th>\n",
       "      <td>1817</td>\n",
       "      <td>98833</td>\n",
       "      <td>KfoTG</td>\n",
       "      <td>THHLT</td>\n",
       "      <td>DtMvg</td>\n",
       "      <td>ARuYG</td>\n",
       "      <td>21.0</td>\n",
       "      <td>-4.0</td>\n",
       "      <td>-5.0</td>\n",
       "      <td>-9.5</td>\n",
       "      <td>True</td>\n",
       "    </tr>\n",
       "  </tbody>\n",
       "</table>\n",
       "</div>"
      ],
      "text/plain": [
       "   Unnamed: 0     id kjkrfgld bpowgknt raksnhjf vwpsxrgk  omtioxzz  yfmzwkru  \\\n",
       "0        2225  29252    KfoTG    zPfZR    DtMvg      NaN      12.0      -3.0   \n",
       "1        1598  98286    ljBjd    THHLT    DtMvg    esAQH      21.0      -2.0   \n",
       "2        7896  49040    Lsuai    zPfZR    zeYAm    ZCIYy      12.0      -3.0   \n",
       "3        1458  35261    KfoTG    mDadf    zeYAm    ZCIYy      12.0      -1.0   \n",
       "4        1817  98833    KfoTG    THHLT    DtMvg    ARuYG      21.0      -4.0   \n",
       "\n",
       "   tiwrsloh  weioazcf   poor  \n",
       "0      -1.0       0.5  False  \n",
       "1      -5.0      -9.5   True  \n",
       "2      -5.0      -9.5   True  \n",
       "3      -5.0      -9.5  False  \n",
       "4      -5.0      -9.5   True  "
      ]
     },
     "execution_count": 4,
     "metadata": {},
     "output_type": "execute_result"
    }
   ],
   "source": [
    "# Train dataset\n",
    "data_train = pd.read_csv('../data/Exercise_train (1).csv', sep=',')\n",
    "data_train.head()"
   ]
  },
  {
   "cell_type": "code",
   "execution_count": 5,
   "metadata": {},
   "outputs": [
    {
     "data": {
      "text/html": [
       "<div>\n",
       "<style scoped>\n",
       "    .dataframe tbody tr th:only-of-type {\n",
       "        vertical-align: middle;\n",
       "    }\n",
       "\n",
       "    .dataframe tbody tr th {\n",
       "        vertical-align: top;\n",
       "    }\n",
       "\n",
       "    .dataframe thead th {\n",
       "        text-align: right;\n",
       "    }\n",
       "</style>\n",
       "<table border=\"1\" class=\"dataframe\">\n",
       "  <thead>\n",
       "    <tr style=\"text-align: right;\">\n",
       "      <th></th>\n",
       "      <th>Unnamed: 0</th>\n",
       "      <th>id</th>\n",
       "      <th>kjkrfgld</th>\n",
       "      <th>bpowgknt</th>\n",
       "      <th>raksnhjf</th>\n",
       "      <th>vwpsxrgk</th>\n",
       "      <th>omtioxzz</th>\n",
       "      <th>yfmzwkru</th>\n",
       "      <th>tiwrsloh</th>\n",
       "      <th>weioazcf</th>\n",
       "      <th>poor</th>\n",
       "    </tr>\n",
       "  </thead>\n",
       "  <tbody>\n",
       "    <tr>\n",
       "      <th>0</th>\n",
       "      <td>2197</td>\n",
       "      <td>42706</td>\n",
       "      <td>qzGkS</td>\n",
       "      <td>zPfZR</td>\n",
       "      <td>rXCdD</td>\n",
       "      <td>IJnCs</td>\n",
       "      <td>21.0</td>\n",
       "      <td>-3.0</td>\n",
       "      <td>-5.0</td>\n",
       "      <td>-9.5</td>\n",
       "      <td>False</td>\n",
       "    </tr>\n",
       "    <tr>\n",
       "      <th>1</th>\n",
       "      <td>4823</td>\n",
       "      <td>65531</td>\n",
       "      <td>KfoTG</td>\n",
       "      <td>THHLT</td>\n",
       "      <td>DtMvg</td>\n",
       "      <td>XHmQd</td>\n",
       "      <td>21.0</td>\n",
       "      <td>-2.0</td>\n",
       "      <td>-9.0</td>\n",
       "      <td>-19.5</td>\n",
       "      <td>True</td>\n",
       "    </tr>\n",
       "    <tr>\n",
       "      <th>2</th>\n",
       "      <td>4165</td>\n",
       "      <td>64452</td>\n",
       "      <td>tnDpM</td>\n",
       "      <td>THHLT</td>\n",
       "      <td>qTmDg</td>\n",
       "      <td>yygvO</td>\n",
       "      <td>30.0</td>\n",
       "      <td>-4.0</td>\n",
       "      <td>-9.0</td>\n",
       "      <td>-19.5</td>\n",
       "      <td>True</td>\n",
       "    </tr>\n",
       "    <tr>\n",
       "      <th>3</th>\n",
       "      <td>4962</td>\n",
       "      <td>78022</td>\n",
       "      <td>NaN</td>\n",
       "      <td>WXYiE</td>\n",
       "      <td>DtMvg</td>\n",
       "      <td>XAmOF</td>\n",
       "      <td>21.0</td>\n",
       "      <td>-2.0</td>\n",
       "      <td>3.0</td>\n",
       "      <td>10.5</td>\n",
       "      <td>False</td>\n",
       "    </tr>\n",
       "    <tr>\n",
       "      <th>4</th>\n",
       "      <td>4671</td>\n",
       "      <td>45674</td>\n",
       "      <td>Lsuai</td>\n",
       "      <td>zPfZR</td>\n",
       "      <td>DtMvg</td>\n",
       "      <td>hmAUm</td>\n",
       "      <td>30.0</td>\n",
       "      <td>-4.0</td>\n",
       "      <td>-5.0</td>\n",
       "      <td>-9.5</td>\n",
       "      <td>True</td>\n",
       "    </tr>\n",
       "  </tbody>\n",
       "</table>\n",
       "</div>"
      ],
      "text/plain": [
       "   Unnamed: 0     id kjkrfgld bpowgknt raksnhjf vwpsxrgk  omtioxzz  yfmzwkru  \\\n",
       "0        2197  42706    qzGkS    zPfZR    rXCdD    IJnCs      21.0      -3.0   \n",
       "1        4823  65531    KfoTG    THHLT    DtMvg    XHmQd      21.0      -2.0   \n",
       "2        4165  64452    tnDpM    THHLT    qTmDg    yygvO      30.0      -4.0   \n",
       "3        4962  78022      NaN    WXYiE    DtMvg    XAmOF      21.0      -2.0   \n",
       "4        4671  45674    Lsuai    zPfZR    DtMvg    hmAUm      30.0      -4.0   \n",
       "\n",
       "   tiwrsloh  weioazcf   poor  \n",
       "0      -5.0      -9.5  False  \n",
       "1      -9.0     -19.5   True  \n",
       "2      -9.0     -19.5   True  \n",
       "3       3.0      10.5  False  \n",
       "4      -5.0      -9.5   True  "
      ]
     },
     "execution_count": 5,
     "metadata": {},
     "output_type": "execute_result"
    }
   ],
   "source": [
    "# Test dataset\n",
    "data_test = pd.read_csv('../data/Exercise_test (1).csv', sep=',')\n",
    "data_test.head()"
   ]
  },
  {
   "cell_type": "code",
   "execution_count": 3,
   "metadata": {},
   "outputs": [
    {
     "name": "stdout",
     "output_type": "stream",
     "text": [
      "<class 'pandas.core.frame.DataFrame'>\n",
      "RangeIndex: 6562 entries, 0 to 6561\n",
      "Data columns (total 11 columns):\n",
      " #   Column      Non-Null Count  Dtype  \n",
      "---  ------      --------------  -----  \n",
      " 0   Unnamed: 0  6562 non-null   int64  \n",
      " 1   id          6562 non-null   int64  \n",
      " 2   kjkrfgld    6366 non-null   object \n",
      " 3   bpowgknt    6357 non-null   object \n",
      " 4   raksnhjf    6381 non-null   object \n",
      " 5   vwpsxrgk    6364 non-null   object \n",
      " 6   omtioxzz    6361 non-null   float64\n",
      " 7   yfmzwkru    6353 non-null   float64\n",
      " 8   tiwrsloh    6355 non-null   float64\n",
      " 9   weioazcf    6366 non-null   float64\n",
      " 10  poor        6562 non-null   bool   \n",
      "dtypes: bool(1), float64(4), int64(2), object(4)\n",
      "memory usage: 519.2+ KB\n"
     ]
    }
   ],
   "source": [
    "data_train.info()"
   ]
  },
  {
   "cell_type": "code",
   "execution_count": 8,
   "metadata": {},
   "outputs": [
    {
     "name": "stdout",
     "output_type": "stream",
     "text": [
      "<class 'pandas.core.frame.DataFrame'>\n",
      "RangeIndex: 1641 entries, 0 to 1640\n",
      "Data columns (total 11 columns):\n",
      " #   Column      Non-Null Count  Dtype  \n",
      "---  ------      --------------  -----  \n",
      " 0   Unnamed: 0  1641 non-null   int64  \n",
      " 1   id          1641 non-null   int64  \n",
      " 2   kjkrfgld    1595 non-null   object \n",
      " 3   bpowgknt    1592 non-null   object \n",
      " 4   raksnhjf    1605 non-null   object \n",
      " 5   vwpsxrgk    1596 non-null   object \n",
      " 6   omtioxzz    1587 non-null   float64\n",
      " 7   yfmzwkru    1597 non-null   float64\n",
      " 8   tiwrsloh    1601 non-null   float64\n",
      " 9   weioazcf    1579 non-null   float64\n",
      " 10  poor        1641 non-null   bool   \n",
      "dtypes: bool(1), float64(4), int64(2), object(4)\n",
      "memory usage: 129.9+ KB\n"
     ]
    }
   ],
   "source": [
    "data_test.info()"
   ]
  },
  {
   "cell_type": "markdown",
   "metadata": {},
   "source": [
    "In both datasets, we encounter:\n",
    "<ul>\n",
    "    <li> same number of non-null values in the Unnamed: 0 column (supposedly, individuals <code>iid</code>) and households <code>id</code>, so that individuals analysis becomes irrelevant</li>\n",
    "    <li> four possible categorical (nominal) variables represented as object (strings) with missing values both in train and in test(around 3% of each dataset)</li>\n",
    "    <li> four continuous variables represented as float, with missing values both in train and in test(around 3% of each dataset)</li>\n",
    "    <li> target variable represented as a boolean</li>\n",
    "</ul>"
   ]
  },
  {
   "cell_type": "markdown",
   "metadata": {},
   "source": [
    "#### No duplicates / Unique observations"
   ]
  },
  {
   "cell_type": "code",
   "execution_count": 17,
   "metadata": {},
   "outputs": [
    {
     "data": {
      "text/html": [
       "<div>\n",
       "<style scoped>\n",
       "    .dataframe tbody tr th:only-of-type {\n",
       "        vertical-align: middle;\n",
       "    }\n",
       "\n",
       "    .dataframe tbody tr th {\n",
       "        vertical-align: top;\n",
       "    }\n",
       "\n",
       "    .dataframe thead th {\n",
       "        text-align: right;\n",
       "    }\n",
       "</style>\n",
       "<table border=\"1\" class=\"dataframe\">\n",
       "  <thead>\n",
       "    <tr style=\"text-align: right;\">\n",
       "      <th></th>\n",
       "      <th>Unnamed: 0</th>\n",
       "      <th>id</th>\n",
       "      <th>kjkrfgld</th>\n",
       "      <th>bpowgknt</th>\n",
       "      <th>raksnhjf</th>\n",
       "      <th>vwpsxrgk</th>\n",
       "      <th>omtioxzz</th>\n",
       "      <th>yfmzwkru</th>\n",
       "      <th>tiwrsloh</th>\n",
       "      <th>weioazcf</th>\n",
       "      <th>poor</th>\n",
       "    </tr>\n",
       "  </thead>\n",
       "  <tbody>\n",
       "  </tbody>\n",
       "</table>\n",
       "</div>"
      ],
      "text/plain": [
       "Empty DataFrame\n",
       "Columns: [Unnamed: 0, id, kjkrfgld, bpowgknt, raksnhjf, vwpsxrgk, omtioxzz, yfmzwkru, tiwrsloh, weioazcf, poor]\n",
       "Index: []"
      ]
     },
     "execution_count": 17,
     "metadata": {},
     "output_type": "execute_result"
    }
   ],
   "source": [
    "column_names = [x for x in data_train.columns]\n",
    "duplicates = data_train.duplicated(subset=column_names, keep=False)\n",
    "data_train[duplicates]"
   ]
  },
  {
   "cell_type": "code",
   "execution_count": 7,
   "metadata": {},
   "outputs": [
    {
     "data": {
      "text/plain": [
       "6562"
      ]
     },
     "execution_count": 7,
     "metadata": {},
     "output_type": "execute_result"
    }
   ],
   "source": [
    "data_train.id.nunique() "
   ]
  },
  {
   "cell_type": "code",
   "execution_count": 9,
   "metadata": {},
   "outputs": [
    {
     "data": {
      "text/html": [
       "<div>\n",
       "<style scoped>\n",
       "    .dataframe tbody tr th:only-of-type {\n",
       "        vertical-align: middle;\n",
       "    }\n",
       "\n",
       "    .dataframe tbody tr th {\n",
       "        vertical-align: top;\n",
       "    }\n",
       "\n",
       "    .dataframe thead th {\n",
       "        text-align: right;\n",
       "    }\n",
       "</style>\n",
       "<table border=\"1\" class=\"dataframe\">\n",
       "  <thead>\n",
       "    <tr style=\"text-align: right;\">\n",
       "      <th></th>\n",
       "      <th>Unnamed: 0</th>\n",
       "      <th>id</th>\n",
       "      <th>kjkrfgld</th>\n",
       "      <th>bpowgknt</th>\n",
       "      <th>raksnhjf</th>\n",
       "      <th>vwpsxrgk</th>\n",
       "      <th>omtioxzz</th>\n",
       "      <th>yfmzwkru</th>\n",
       "      <th>tiwrsloh</th>\n",
       "      <th>weioazcf</th>\n",
       "      <th>poor</th>\n",
       "    </tr>\n",
       "  </thead>\n",
       "  <tbody>\n",
       "  </tbody>\n",
       "</table>\n",
       "</div>"
      ],
      "text/plain": [
       "Empty DataFrame\n",
       "Columns: [Unnamed: 0, id, kjkrfgld, bpowgknt, raksnhjf, vwpsxrgk, omtioxzz, yfmzwkru, tiwrsloh, weioazcf, poor]\n",
       "Index: []"
      ]
     },
     "execution_count": 9,
     "metadata": {},
     "output_type": "execute_result"
    }
   ],
   "source": [
    "column_names = [x for x in data_test.columns]\n",
    "duplicates = data_test.duplicated(subset=column_names, keep=False)\n",
    "data_test[duplicates]"
   ]
  },
  {
   "cell_type": "code",
   "execution_count": 8,
   "metadata": {},
   "outputs": [
    {
     "data": {
      "text/plain": [
       "1641"
      ]
     },
     "execution_count": 8,
     "metadata": {},
     "output_type": "execute_result"
    }
   ],
   "source": [
    "data_test.id.nunique()"
   ]
  },
  {
   "cell_type": "code",
   "execution_count": null,
   "metadata": {},
   "outputs": [],
   "source": []
  },
  {
   "cell_type": "code",
   "execution_count": 6,
   "metadata": {},
   "outputs": [],
   "source": [
    "data_train = data_train.set_index('id')\n",
    "data_test = data_test.set_index('id')"
   ]
  },
  {
   "cell_type": "markdown",
   "metadata": {},
   "source": [
    "## Target"
   ]
  },
  {
   "cell_type": "code",
   "execution_count": 150,
   "metadata": {},
   "outputs": [
    {
     "data": {
      "text/plain": [
       "<AxesSubplot:title={'center':'Number of Poor'}>"
      ]
     },
     "execution_count": 150,
     "metadata": {},
     "output_type": "execute_result"
    },
    {
     "data": {
      "image/png": "[encoded data removed]",
      "text/plain": [
       "<Figure size 432x288 with 1 Axes>"
      ]
     },
     "metadata": {
      "needs_background": "light"
     },
     "output_type": "display_data"
    }
   ],
   "source": [
    "data_train.poor.value_counts().plot.bar(title='Number of Poor')"
   ]
  },
  {
   "cell_type": "code",
   "execution_count": 151,
   "metadata": {},
   "outputs": [
    {
     "data": {
      "text/plain": [
       "<AxesSubplot:title={'center':'Number of Poor'}>"
      ]
     },
     "execution_count": 151,
     "metadata": {},
     "output_type": "execute_result"
    },
    {
     "data": {
      "image/png": "[encoded data removed]",
      "text/plain": [
       "<Figure size 432x288 with 1 Axes>"
      ]
     },
     "metadata": {
      "needs_background": "light"
     },
     "output_type": "display_data"
    }
   ],
   "source": [
    "data_test.poor.value_counts().plot.bar(title='Number of Poor')"
   ]
  },
  {
   "cell_type": "markdown",
   "metadata": {},
   "source": [
    "## Numerical features"
   ]
  },
  {
   "cell_type": "code",
   "execution_count": 26,
   "metadata": {},
   "outputs": [
    {
     "data": {
      "text/html": [
       "<div>\n",
       "<style scoped>\n",
       "    .dataframe tbody tr th:only-of-type {\n",
       "        vertical-align: middle;\n",
       "    }\n",
       "\n",
       "    .dataframe tbody tr th {\n",
       "        vertical-align: top;\n",
       "    }\n",
       "\n",
       "    .dataframe thead th {\n",
       "        text-align: right;\n",
       "    }\n",
       "</style>\n",
       "<table border=\"1\" class=\"dataframe\">\n",
       "  <thead>\n",
       "    <tr style=\"text-align: right;\">\n",
       "      <th></th>\n",
       "      <th>Unnamed: 0</th>\n",
       "      <th>omtioxzz</th>\n",
       "      <th>yfmzwkru</th>\n",
       "      <th>tiwrsloh</th>\n",
       "      <th>weioazcf</th>\n",
       "    </tr>\n",
       "  </thead>\n",
       "  <tbody>\n",
       "    <tr>\n",
       "      <th>count</th>\n",
       "      <td>6562.000000</td>\n",
       "      <td>6361.000000</td>\n",
       "      <td>6353.000000</td>\n",
       "      <td>6355.000000</td>\n",
       "      <td>6366.000000</td>\n",
       "    </tr>\n",
       "    <tr>\n",
       "      <th>mean</th>\n",
       "      <td>4113.757543</td>\n",
       "      <td>17.455117</td>\n",
       "      <td>-2.826696</td>\n",
       "      <td>-4.194335</td>\n",
       "      <td>-7.461828</td>\n",
       "    </tr>\n",
       "    <tr>\n",
       "      <th>std</th>\n",
       "      <td>2353.382080</td>\n",
       "      <td>10.924393</td>\n",
       "      <td>12.615775</td>\n",
       "      <td>4.476410</td>\n",
       "      <td>11.198626</td>\n",
       "    </tr>\n",
       "    <tr>\n",
       "      <th>min</th>\n",
       "      <td>0.000000</td>\n",
       "      <td>-127.000000</td>\n",
       "      <td>-4.000000</td>\n",
       "      <td>-31.000000</td>\n",
       "      <td>-74.500000</td>\n",
       "    </tr>\n",
       "    <tr>\n",
       "      <th>25%</th>\n",
       "      <td>2088.500000</td>\n",
       "      <td>12.000000</td>\n",
       "      <td>-4.000000</td>\n",
       "      <td>-7.000000</td>\n",
       "      <td>-14.500000</td>\n",
       "    </tr>\n",
       "    <tr>\n",
       "      <th>50%</th>\n",
       "      <td>4115.500000</td>\n",
       "      <td>12.000000</td>\n",
       "      <td>-3.000000</td>\n",
       "      <td>-3.000000</td>\n",
       "      <td>-4.500000</td>\n",
       "    </tr>\n",
       "    <tr>\n",
       "      <th>75%</th>\n",
       "      <td>6156.750000</td>\n",
       "      <td>21.000000</td>\n",
       "      <td>-2.000000</td>\n",
       "      <td>-1.000000</td>\n",
       "      <td>0.500000</td>\n",
       "    </tr>\n",
       "    <tr>\n",
       "      <th>max</th>\n",
       "      <td>8202.000000</td>\n",
       "      <td>111.000000</td>\n",
       "      <td>1000.000000</td>\n",
       "      <td>3.000000</td>\n",
       "      <td>10.500000</td>\n",
       "    </tr>\n",
       "  </tbody>\n",
       "</table>\n",
       "</div>"
      ],
      "text/plain": [
       "        Unnamed: 0     omtioxzz     yfmzwkru     tiwrsloh     weioazcf\n",
       "count  6562.000000  6361.000000  6353.000000  6355.000000  6366.000000\n",
       "mean   4113.757543    17.455117    -2.826696    -4.194335    -7.461828\n",
       "std    2353.382080    10.924393    12.615775     4.476410    11.198626\n",
       "min       0.000000  -127.000000    -4.000000   -31.000000   -74.500000\n",
       "25%    2088.500000    12.000000    -4.000000    -7.000000   -14.500000\n",
       "50%    4115.500000    12.000000    -3.000000    -3.000000    -4.500000\n",
       "75%    6156.750000    21.000000    -2.000000    -1.000000     0.500000\n",
       "max    8202.000000   111.000000  1000.000000     3.000000    10.500000"
      ]
     },
     "execution_count": 26,
     "metadata": {},
     "output_type": "execute_result"
    }
   ],
   "source": [
    "data_train.describe()"
   ]
  },
  {
   "cell_type": "markdown",
   "metadata": {},
   "source": [
    "Descriptive statistics of the four numerical variables uncover the following:\n",
    "<ul>\n",
    "    <li>there are missing values</li>\n",
    "    <li>skewed distributions and presence of outliers</li>\n",
    "</ul>"
   ]
  },
  {
   "cell_type": "markdown",
   "metadata": {},
   "source": [
    "## Categorical features"
   ]
  },
  {
   "cell_type": "code",
   "execution_count": 15,
   "metadata": {},
   "outputs": [
    {
     "name": "stderr",
     "output_type": "stream",
     "text": [
      "/home/isabel/anaconda3/envs/DD_Pover-T_Tests/lib/python3.8/site-packages/seaborn/_decorators.py:36: FutureWarning: Pass the following variables as keyword args: x, y. From version 0.12, the only valid positional argument will be `data`, and passing other arguments without an explicit keyword will result in an error or misinterpretation.\n",
      "  warnings.warn(\n"
     ]
    },
    {
     "data": {
      "image/png": "[encoded data removed]",
      "text/plain": [
       "<Figure size 432x288 with 1 Axes>"
      ]
     },
     "metadata": {},
     "output_type": "display_data"
    }
   ],
   "source": [
    "kjkrfgld_count = cat_data_train['kjkrfgld'].value_counts()\n",
    "sns.set(style=\"darkgrid\")\n",
    "sns.barplot(kjkrfgld_count.index, kjkrfgld_count.values, alpha=0.9)\n",
    "plt.title('Frequency Distribution kjkrfgld')\n",
    "plt.ylabel('Number of Occurrences', fontsize=12)\n",
    "plt.xlabel('kjkrfgld', fontsize=12)\n",
    "plt.show()"
   ]
  },
  {
   "cell_type": "code",
   "execution_count": 62,
   "metadata": {},
   "outputs": [
    {
     "name": "stderr",
     "output_type": "stream",
     "text": [
      "/home/isabel/anaconda3/envs/DD_Pover-T_Tests/lib/python3.8/site-packages/seaborn/_decorators.py:36: FutureWarning: Pass the following variables as keyword args: x, y. From version 0.12, the only valid positional argument will be `data`, and passing other arguments without an explicit keyword will result in an error or misinterpretation.\n",
      "  warnings.warn(\n"
     ]
    },
    {
     "data": {
      "image/png": "[encoded data removed]",
      "text/plain": [
       "<Figure size 432x288 with 1 Axes>"
      ]
     },
     "metadata": {},
     "output_type": "display_data"
    }
   ],
   "source": [
    "bpowgknt_count = cat_data_train['bpowgknt'].value_counts()\n",
    "sns.set(style=\"darkgrid\")\n",
    "sns.barplot(bpowgknt_count.index, bpowgknt_count.values, alpha=0.9)\n",
    "plt.title('Frequency Distribution bpowgknt')\n",
    "plt.ylabel('Number of Occurrences', fontsize=12)\n",
    "plt.xlabel('bpowgknt', fontsize=12)\n",
    "plt.show()"
   ]
  },
  {
   "cell_type": "code",
   "execution_count": 64,
   "metadata": {},
   "outputs": [
    {
     "name": "stderr",
     "output_type": "stream",
     "text": [
      "/home/isabel/anaconda3/envs/DD_Pover-T_Tests/lib/python3.8/site-packages/seaborn/_decorators.py:36: FutureWarning: Pass the following variables as keyword args: x, y. From version 0.12, the only valid positional argument will be `data`, and passing other arguments without an explicit keyword will result in an error or misinterpretation.\n",
      "  warnings.warn(\n"
     ]
    },
    {
     "data": {
      "image/png": "[encoded data removed]",
      "text/plain": [
       "<Figure size 432x288 with 1 Axes>"
      ]
     },
     "metadata": {},
     "output_type": "display_data"
    }
   ],
   "source": [
    "raksnhjf_count = cat_data_train['raksnhjf'].value_counts()\n",
    "sns.set(style=\"darkgrid\")\n",
    "sns.barplot(raksnhjf_count.index, raksnhjf_count.values, alpha=0.9)\n",
    "plt.title('Frequency Distribution raksnhjf')\n",
    "plt.ylabel('Number of Occurrences', fontsize=12)\n",
    "plt.xlabel('raksnhjf', fontsize=12)\n",
    "plt.show()"
   ]
  },
  {
   "cell_type": "code",
   "execution_count": 68,
   "metadata": {},
   "outputs": [
    {
     "name": "stderr",
     "output_type": "stream",
     "text": [
      "/home/isabel/anaconda3/envs/DD_Pover-T_Tests/lib/python3.8/site-packages/seaborn/_decorators.py:36: FutureWarning: Pass the following variables as keyword args: x, y. From version 0.12, the only valid positional argument will be `data`, and passing other arguments without an explicit keyword will result in an error or misinterpretation.\n",
      "  warnings.warn(\n"
     ]
    },
    {
     "data": {
      "image/png": "[encoded data removed]",
      "text/plain": [
       "<Figure size 1584x720 with 1 Axes>"
      ]
     },
     "metadata": {},
     "output_type": "display_data"
    }
   ],
   "source": [
    "vwpsxrgk_count = cat_data_train['vwpsxrgk'].value_counts()\n",
    "sns.set(style=\"darkgrid\")\n",
    "sns.set(rc={'figure.figsize':(22,10)})\n",
    "sns.barplot(vwpsxrgk_count.index, vwpsxrgk_count.values, alpha=0.9)\n",
    "plt.title('Frequency Distribution vwpsxrgk')\n",
    "plt.ylabel('Number of Occurrences', fontsize=12)\n",
    "plt.xlabel('vwpsxrgk', fontsize=12)\n",
    "plt.show()"
   ]
  },
  {
   "cell_type": "markdown",
   "metadata": {},
   "source": [
    "# Data Preprocessing\n",
    "<div style = \"float:right\"><a style=\"text-decoration:none\" href = \"#inicio\">Inicio</a></div>"
   ]
  },
  {
   "cell_type": "markdown",
   "metadata": {},
   "source": [
    "## Target preprocessing"
   ]
  },
  {
   "cell_type": "markdown",
   "metadata": {},
   "source": [
    "Let's transform our target variable into a binary (0, 1) variable."
   ]
  },
  {
   "cell_type": "code",
   "execution_count": 7,
   "metadata": {},
   "outputs": [],
   "source": [
    "data_train['poor'] = data_train['poor'].apply(lambda x: 1 if x == True else 0)"
   ]
  },
  {
   "cell_type": "code",
   "execution_count": 8,
   "metadata": {},
   "outputs": [],
   "source": [
    "data_test['poor'] = data_test['poor'].apply(lambda x: 1 if x == True else 0)"
   ]
  },
  {
   "cell_type": "markdown",
   "metadata": {},
   "source": [
    "## Train, Test datasets"
   ]
  },
  {
   "cell_type": "code",
   "execution_count": 9,
   "metadata": {},
   "outputs": [],
   "source": [
    "X_train = data_train.drop('poor', 1)\n",
    "y_train = data_train['poor']"
   ]
  },
  {
   "cell_type": "code",
   "execution_count": 10,
   "metadata": {},
   "outputs": [],
   "source": [
    "X_test = data_test.drop('poor', 1)\n",
    "y_test = data_test['poor']"
   ]
  },
  {
   "cell_type": "markdown",
   "metadata": {},
   "source": [
    "## Features preprocessing"
   ]
  },
  {
   "cell_type": "markdown",
   "metadata": {},
   "source": [
    "Data preprocessing can be embedded in a data pipeline. To be noted that Ordinal Encoder (category_encoders) in a pipeline would have resolved both NA imputation and ordinal categorical encoding. In the previous section, we used <i>out-of-the-pipe</i> scikit-learn's Ordinal Encoder to convert non-missing categorical columns to ordinal values only before imputing NAs (and ultimately converting categories back to strings).<br>\n",
    "\n",
    "However, there is a data preprocessing's last step, namely categorical feature encoding that, for a matter of simplicity, will be tackled with a column transform and plugged into a model pipeline.<br>\n",
    "\n",
    "We will opt for an ordinal encoder for those variables with a low dimensionality (and coincidentally, uneven frequency distribution among categories) and for a target encoder for the variable with a greater dimensionality. With target encoding, each category is replaced with the mean target value for samples having that category. This prevents increasing the dimensionality of our data but it also captures correlations in target values, which is precisely the source of overfitting. This should be carefully addressed; as such, we will train sigma variable of target encoder (or the noise). \n",
    "\n",
    "Check for reference this [video](https://www.youtube.com/watch?v=Ma-CDFLd03g) (1:17 min onwards) and this [tutorial](https://www.datacamp.com/community/tutorials/categorical-data). For more information on target encoding, read this [post](https://brendanhasz.github.io/2019/03/04/target-encoding).<br>"
   ]
  },
  {
   "cell_type": "code",
   "execution_count": 11,
   "metadata": {},
   "outputs": [],
   "source": [
    "# Categorical features: (i) ordinal encoder for low dimensionality categorical variables (which implicitely impute NAs)\n",
    "low_dim_cat = ['kjkrfgld', 'bpowgknt', 'raksnhjf']\n",
    "ordinal_enc = OrdinalEncoder()\n",
    "\n",
    "# Categorical features (suite): (ii) target encoder for the high dimensionality categorical variable (it also tackles NAs imputation)\n",
    "high_dim_cat = ['vwpsxrgk']\n",
    "target_enc = LeaveOneOutEncoder()\n",
    "    \n",
    "# Numerical features: (i) impute NAs using median strategy, (ii) scale data using Power Transformer to properly address for skewed distributions and outliers\n",
    "numeric_features = data_train.select_dtypes(include=['float64']).columns.copy()\n",
    "numeric_transformer = Pipeline(steps=[\n",
    "    ('imputer', SimpleImputer(strategy='median')),\n",
    "    ('scaler', PowerTransformer())])\n",
    "\n",
    "# Preprocessor with a Column Transformer\n",
    "preprocessor = ColumnTransformer(\n",
    "    transformers=[\n",
    "        ('num', numeric_transformer, numeric_features),\n",
    "        ('ordinal_encoder', ordinal_enc, low_dim_cat),\n",
    "        ('target_encoder', target_enc, high_dim_cat)])"
   ]
  },
  {
   "cell_type": "markdown",
   "metadata": {},
   "source": [
    "# Model Building\n",
    "<div style = \"float:right\"><a style=\"text-decoration:none\" href = \"#inicio\">Inicio</a></div>"
   ]
  },
  {
   "cell_type": "markdown",
   "metadata": {},
   "source": [
    "## Baseline model: Logistic Regression"
   ]
  },
  {
   "cell_type": "code",
   "execution_count": 56,
   "metadata": {},
   "outputs": [
    {
     "data": {
      "text/plain": [
       "0.5165545774500514"
      ]
     },
     "execution_count": 56,
     "metadata": {},
     "output_type": "execute_result"
    }
   ],
   "source": [
    "# Logistic Regression\n",
    "clf = LogisticRegression()\n",
    "pipe = Pipeline(steps=[('preprocessor', preprocessor),\n",
    "                      ('classifier',  clf)])\n",
    "\n",
    "lr = pipe.fit(X_train, y_train)\n",
    "\n",
    "pipe.predict(X_test)\n",
    "\n",
    "y_pred = pipe.predict_proba(X_test)\n",
    "log_loss(y_test, y_pred, eps=1e-15, normalize=True, sample_weight=None, labels=None)\n"
   ]
  },
  {
   "cell_type": "markdown",
   "metadata": {},
   "source": [
    "## Random Forest Classifier"
   ]
  },
  {
   "cell_type": "markdown",
   "metadata": {},
   "source": [
    "From now on, we will perform some hyperparameter tuning and cross-validation.<br>\n",
    "Explain about noise in target encoder."
   ]
  },
  {
   "cell_type": "code",
   "execution_count": 13,
   "metadata": {},
   "outputs": [],
   "source": [
    "clf_rf = RandomForestClassifier()\n",
    "pipe_rf = Pipeline([('preprocessor', preprocessor), ('classifier',  clf_rf)])"
   ]
  },
  {
   "cell_type": "code",
   "execution_count": 14,
   "metadata": {},
   "outputs": [],
   "source": [
    "# Hyperparameters can be accessed with a double underscore\n",
    "param_grid = {\n",
    "    'preprocessor__target_encoder__sigma': [0.01, 0.02, 0.03, 0.04, 0.05, 0.06],\n",
    "    'classifier__bootstrap': [True],\n",
    "    'classifier__max_depth': [80, 90, 100, 110],\n",
    "    'classifier__max_features': [2, 3],\n",
    "    'classifier__min_samples_leaf': [3, 4, 5],\n",
    "#     'classifier__min_samples_split': [8, 10, 12],\n",
    "    'classifier__n_estimators': [100, 200, 300, 1000]\n",
    "}\n",
    "\n",
    "rscv_rf = RandomizedSearchCV(pipe_rf,\n",
    "                          cv=5,\n",
    "                          n_iter=5,\n",
    "                          n_jobs=10,\n",
    "                          param_distributions = param_grid,\n",
    "                          scoring='neg_log_loss',\n",
    "                          random_state=1)\n"
   ]
  },
  {
   "cell_type": "code",
   "execution_count": 68,
   "metadata": {},
   "outputs": [
    {
     "data": {
      "text/plain": [
       "array([-0.5599944 , -0.57126105, -0.60031365, -0.58997122, -0.60401031])"
      ]
     },
     "execution_count": 68,
     "metadata": {},
     "output_type": "execute_result"
    }
   ],
   "source": [
    "cross_val_score(pipe_rf, X_train, y_train, cv=5, scoring='neg_log_loss')"
   ]
  },
  {
   "cell_type": "code",
   "execution_count": 38,
   "metadata": {
    "collapsed": true
   },
   "outputs": [
    {
     "data": {
      "text/plain": [
       "RandomizedSearchCV(cv=5,\n",
       "                   estimator=Pipeline(steps=[('preprocessor',\n",
       "                                              ColumnTransformer(transformers=[('num',\n",
       "                                                                               Pipeline(steps=[('imputer',\n",
       "                                                                                                SimpleImputer(strategy='median')),\n",
       "                                                                                               ('scaler',\n",
       "                                                                                                PowerTransformer())]),\n",
       "                                                                               Index(['omtioxzz', 'yfmzwkru', 'tiwrsloh', 'weioazcf'], dtype='object')),\n",
       "                                                                              ('ordinal_encoder',\n",
       "                                                                               OrdinalEncoder(),\n",
       "                                                                               ['kjkrfgld',\n",
       "                                                                                'bpowgknt',\n",
       "                                                                                'raksnhjf']),\n",
       "                                                                              ('target_en...\n",
       "                                              RandomForestClassifier())]),\n",
       "                   n_iter=5, n_jobs=10,\n",
       "                   param_distributions={'classifier__bootstrap': [True],\n",
       "                                        'classifier__max_depth': [80, 90, 100,\n",
       "                                                                  110],\n",
       "                                        'classifier__max_features': [2, 3],\n",
       "                                        'classifier__min_samples_leaf': [3, 4,\n",
       "                                                                         5],\n",
       "                                        'classifier__n_estimators': [100, 200,\n",
       "                                                                     300,\n",
       "                                                                     1000],\n",
       "                                        'preprocessor__target_encoder__sigma': [0.01,\n",
       "                                                                                0.02,\n",
       "                                                                                0.03,\n",
       "                                                                                0.04,\n",
       "                                                                                0.05,\n",
       "                                                                                0.06]},\n",
       "                   random_state=1, scoring='neg_log_loss')"
      ]
     },
     "execution_count": 38,
     "metadata": {},
     "output_type": "execute_result"
    }
   ],
   "source": [
    "rf_fit = rscv_rf.fit(X_train, y_train)\n",
    "rf_fit"
   ]
  },
  {
   "cell_type": "code",
   "execution_count": 16,
   "metadata": {},
   "outputs": [
    {
     "data": {
      "text/plain": [
       "{'preprocessor__target_encoder__sigma': 0.02,\n",
       " 'classifier__n_estimators': 300,\n",
       " 'classifier__min_samples_leaf': 4,\n",
       " 'classifier__max_features': 2,\n",
       " 'classifier__max_depth': 80,\n",
       " 'classifier__bootstrap': True}"
      ]
     },
     "execution_count": 16,
     "metadata": {},
     "output_type": "execute_result"
    }
   ],
   "source": [
    "rscv_rf.best_params_"
   ]
  },
  {
   "cell_type": "code",
   "execution_count": 17,
   "metadata": {},
   "outputs": [
    {
     "data": {
      "text/plain": [
       "-0.49623545803375035"
      ]
     },
     "execution_count": 17,
     "metadata": {},
     "output_type": "execute_result"
    }
   ],
   "source": [
    "rscv_rf.best_score_"
   ]
  },
  {
   "cell_type": "markdown",
   "metadata": {},
   "source": [
    "Metrics [Documentation](https://scikit-learn.org/stable/modules/generated/sklearn.metrics.log_loss.html#sklearn.metrics.log_loss)"
   ]
  },
  {
   "cell_type": "code",
   "execution_count": 18,
   "metadata": {},
   "outputs": [
    {
     "data": {
      "text/plain": [
       "0.4976755244147369"
      ]
     },
     "execution_count": 18,
     "metadata": {},
     "output_type": "execute_result"
    }
   ],
   "source": [
    "y_pred_rf = rscv_rf.best_estimator_.predict_proba(X_test)\n",
    "log_loss(y_test, y_pred_rf, eps=1e-15, normalize=True, sample_weight=None, labels=None)"
   ]
  },
  {
   "cell_type": "markdown",
   "metadata": {},
   "source": [
    "## Gradient Boosting Methods"
   ]
  },
  {
   "cell_type": "markdown",
   "metadata": {},
   "source": [
    "[Read](https://machinelearningmastery.com/gradient-boosting-with-scikit-learn-xgboost-lightgbm-and-catboost/) on methods' differences."
   ]
  },
  {
   "cell_type": "markdown",
   "metadata": {},
   "source": [
    "### Extreme Gradient Boosting"
   ]
  },
  {
   "cell_type": "code",
   "execution_count": 19,
   "metadata": {},
   "outputs": [],
   "source": [
    "clf_xgb = XGBClassifier()\n",
    "pipe_xgb = Pipeline([('preprocessor', preprocessor), ('classifier',  clf_xgb)])"
   ]
  },
  {
   "cell_type": "code",
   "execution_count": 20,
   "metadata": {},
   "outputs": [],
   "source": [
    "# Hyperparameters can be accessed with a double underscore\n",
    "param_grid_XGB = {\n",
    "        'preprocessor__target_encoder__sigma': [0.01, 0.02, 0.03, 0.04, 0.05, 0.06],\n",
    "        'classifier__n_estimators': [100, 200, 300, 1000],\n",
    "        'classifier__learning_rate' : [0.01, 0.02, 0.03],\n",
    "        'classifier__max_depth' : [3, 4, 5],\n",
    "#         'classifier__objective' : 'binary:logistic',\n",
    "#         'classifier__silent' : True,\n",
    "#         'classifier__gamma' : 0.3,\n",
    "#         'classifier__subsample' : 0.7,\n",
    "#         'classifier__reg_alpha' : 0.05\n",
    "}\n",
    "\n",
    "rscv_xgb = RandomizedSearchCV(pipe_xgb,\n",
    "                          cv=5,\n",
    "                          n_iter=5,\n",
    "                          n_jobs=10,\n",
    "                          param_distributions = param_grid_XGB,\n",
    "                          scoring='neg_log_loss',\n",
    "                          random_state=1)"
   ]
  },
  {
   "cell_type": "code",
   "execution_count": 39,
   "metadata": {
    "collapsed": true
   },
   "outputs": [
    {
     "name": "stderr",
     "output_type": "stream",
     "text": [
      "/home/isabel/anaconda3/envs/DD_Pover-T_Tests/lib/python3.8/site-packages/xgboost/sklearn.py:888: UserWarning: The use of label encoder in XGBClassifier is deprecated and will be removed in a future release. To remove this warning, do the following: 1) Pass option use_label_encoder=False when constructing XGBClassifier object; and 2) Encode your labels (y) as integers starting with 0, i.e. 0, 1, 2, ..., [num_class - 1].\n",
      "  warnings.warn(label_encoder_deprecation_msg, UserWarning)\n"
     ]
    },
    {
     "name": "stdout",
     "output_type": "stream",
     "text": [
      "[18:39:10] WARNING: /home/conda/feedstock_root/build_artifacts/xgboost_1607604574104/work/src/learner.cc:1061: Starting in XGBoost 1.3.0, the default evaluation metric used with the objective 'binary:logistic' was changed from 'error' to 'logloss'. Explicitly set eval_metric if you'd like to restore the old behavior.\n"
     ]
    },
    {
     "data": {
      "text/plain": [
       "RandomizedSearchCV(cv=5,\n",
       "                   estimator=Pipeline(steps=[('preprocessor',\n",
       "                                              ColumnTransformer(transformers=[('num',\n",
       "                                                                               Pipeline(steps=[('imputer',\n",
       "                                                                                                SimpleImputer(strategy='median')),\n",
       "                                                                                               ('scaler',\n",
       "                                                                                                PowerTransformer())]),\n",
       "                                                                               Index(['omtioxzz', 'yfmzwkru', 'tiwrsloh', 'weioazcf'], dtype='object')),\n",
       "                                                                              ('ordinal_encoder',\n",
       "                                                                               OrdinalEncoder(),\n",
       "                                                                               ['kjkrfgld',\n",
       "                                                                                'bpowgknt',\n",
       "                                                                                'raksnhjf']),\n",
       "                                                                              ('target_en...\n",
       "                                                            scale_pos_weight=None,\n",
       "                                                            subsample=None,\n",
       "                                                            tree_method=None,\n",
       "                                                            validate_parameters=None,\n",
       "                                                            verbosity=None))]),\n",
       "                   n_iter=5, n_jobs=10,\n",
       "                   param_distributions={'classifier__learning_rate': [0.01,\n",
       "                                                                      0.02,\n",
       "                                                                      0.03],\n",
       "                                        'classifier__max_depth': [3, 4, 5],\n",
       "                                        'classifier__n_estimators': [100, 200,\n",
       "                                                                     300,\n",
       "                                                                     1000],\n",
       "                                        'preprocessor__target_encoder__sigma': [0.01,\n",
       "                                                                                0.02,\n",
       "                                                                                0.03,\n",
       "                                                                                0.04,\n",
       "                                                                                0.05,\n",
       "                                                                                0.06]},\n",
       "                   random_state=1, scoring='neg_log_loss')"
      ]
     },
     "execution_count": 39,
     "metadata": {},
     "output_type": "execute_result"
    }
   ],
   "source": [
    "xgb_fit = rscv_xgb.fit(X_train, y_train)\n",
    "xgb_fit"
   ]
  },
  {
   "cell_type": "code",
   "execution_count": 22,
   "metadata": {},
   "outputs": [
    {
     "data": {
      "text/plain": [
       "{'preprocessor__target_encoder__sigma': 0.03,\n",
       " 'classifier__n_estimators': 300,\n",
       " 'classifier__max_depth': 5,\n",
       " 'classifier__learning_rate': 0.01}"
      ]
     },
     "execution_count": 22,
     "metadata": {},
     "output_type": "execute_result"
    }
   ],
   "source": [
    "rscv_xgb.best_params_"
   ]
  },
  {
   "cell_type": "code",
   "execution_count": 23,
   "metadata": {},
   "outputs": [
    {
     "data": {
      "text/plain": [
       "-0.4998994450134585"
      ]
     },
     "execution_count": 23,
     "metadata": {},
     "output_type": "execute_result"
    }
   ],
   "source": [
    "rscv_xgb.best_score_"
   ]
  },
  {
   "cell_type": "code",
   "execution_count": 24,
   "metadata": {},
   "outputs": [
    {
     "data": {
      "text/plain": [
       "0.501031834830795"
      ]
     },
     "execution_count": 24,
     "metadata": {},
     "output_type": "execute_result"
    }
   ],
   "source": [
    "y_pred_xgb = rscv_xgb.best_estimator_.predict_proba(X_test)\n",
    "log_loss(y_test, y_pred_xgb, eps=1e-15, normalize=True, sample_weight=None, labels=None)"
   ]
  },
  {
   "cell_type": "markdown",
   "metadata": {},
   "source": [
    "### Light Gradient Boosting"
   ]
  },
  {
   "cell_type": "markdown",
   "metadata": {},
   "source": [
    "[Hyperparameter tunning](https://lightgbm.readthedocs.io/en/latest/Parameters-Tuning.html)"
   ]
  },
  {
   "cell_type": "code",
   "execution_count": 25,
   "metadata": {},
   "outputs": [],
   "source": [
    "clf_lgb = LGBMClassifier()\n",
    "pipe_lgb = Pipeline([('preprocessor', preprocessor), ('classifier',  clf_lgb)])"
   ]
  },
  {
   "cell_type": "code",
   "execution_count": 26,
   "metadata": {},
   "outputs": [],
   "source": [
    "# Hyperparameters can be accessed with a double underscore\n",
    "param_grid_LGB = {\n",
    "        'preprocessor__target_encoder__sigma': [0.01, 0.02, 0.03, 0.04, 0.05, 0.06],\n",
    "        'classifier__n_estimators': [100, 200, 300, 1000],\n",
    "        'classifier__learning_rate' : [0.01, 0.02, 0.03],\n",
    "        'classifier__max_depth' : [6, 7, 8],\n",
    "        'classifier__l2_leaf_reg' : [3, 4, 5],\n",
    "#         'classifier__loss_function' : 'Logloss',\n",
    "#         'classifier__silent' : True,\n",
    "#         'classifier__boosting_type' : 'gbdt',\n",
    "#         'classifier__objective' : 'binary',\n",
    "#         'classifier__gamma' : 0.3,\n",
    "#         'classifier__subsample' : 0.6,\n",
    "#         'classifier__reg_alpha' : 0.02,\n",
    "#         'classifier__is_unbalance' : True,\n",
    "#         'classifier__reg_lambda' : 0.01,\n",
    "}\n",
    "\n",
    "rscv_lgb = RandomizedSearchCV(pipe_lgb,\n",
    "                          cv=5,\n",
    "                          n_iter=5,\n",
    "                          n_jobs=10,\n",
    "                          param_distributions = param_grid_LGB,\n",
    "                          scoring='neg_log_loss',\n",
    "                          random_state=1)"
   ]
  },
  {
   "cell_type": "code",
   "execution_count": 41,
   "metadata": {
    "collapsed": true
   },
   "outputs": [
    {
     "data": {
      "text/plain": [
       "RandomizedSearchCV(cv=5,\n",
       "                   estimator=Pipeline(steps=[('preprocessor',\n",
       "                                              ColumnTransformer(transformers=[('num',\n",
       "                                                                               Pipeline(steps=[('imputer',\n",
       "                                                                                                SimpleImputer(strategy='median')),\n",
       "                                                                                               ('scaler',\n",
       "                                                                                                PowerTransformer())]),\n",
       "                                                                               Index(['omtioxzz', 'yfmzwkru', 'tiwrsloh', 'weioazcf'], dtype='object')),\n",
       "                                                                              ('ordinal_encoder',\n",
       "                                                                               OrdinalEncoder(),\n",
       "                                                                               ['kjkrfgld',\n",
       "                                                                                'bpowgknt',\n",
       "                                                                                'raksnhjf']),\n",
       "                                                                              ('target_en...\n",
       "                                                                               ['vwpsxrgk'])])),\n",
       "                                             ('classifier', LGBMClassifier())]),\n",
       "                   n_iter=5, n_jobs=10,\n",
       "                   param_distributions={'classifier__l2_leaf_reg': [3, 4, 5],\n",
       "                                        'classifier__learning_rate': [0.01,\n",
       "                                                                      0.02,\n",
       "                                                                      0.03],\n",
       "                                        'classifier__max_depth': [6, 7, 8],\n",
       "                                        'classifier__n_estimators': [100, 200,\n",
       "                                                                     300,\n",
       "                                                                     1000],\n",
       "                                        'preprocessor__target_encoder__sigma': [0.01,\n",
       "                                                                                0.02,\n",
       "                                                                                0.03,\n",
       "                                                                                0.04,\n",
       "                                                                                0.05,\n",
       "                                                                                0.06]},\n",
       "                   random_state=1, scoring='neg_log_loss')"
      ]
     },
     "execution_count": 41,
     "metadata": {},
     "output_type": "execute_result"
    }
   ],
   "source": [
    "lgb_fit = rscv_lgb.fit(X_train, y_train)\n",
    "lgb_fit"
   ]
  },
  {
   "cell_type": "code",
   "execution_count": 28,
   "metadata": {},
   "outputs": [
    {
     "data": {
      "text/plain": [
       "{'preprocessor__target_encoder__sigma': 0.02,\n",
       " 'classifier__n_estimators': 300,\n",
       " 'classifier__max_depth': 7,\n",
       " 'classifier__learning_rate': 0.01,\n",
       " 'classifier__l2_leaf_reg': 3}"
      ]
     },
     "execution_count": 28,
     "metadata": {},
     "output_type": "execute_result"
    }
   ],
   "source": [
    "rscv_lgb.best_params_"
   ]
  },
  {
   "cell_type": "code",
   "execution_count": 29,
   "metadata": {},
   "outputs": [
    {
     "data": {
      "text/plain": [
       "-0.49621701720734324"
      ]
     },
     "execution_count": 29,
     "metadata": {},
     "output_type": "execute_result"
    }
   ],
   "source": [
    "rscv_lgb.best_score_"
   ]
  },
  {
   "cell_type": "code",
   "execution_count": 30,
   "metadata": {},
   "outputs": [
    {
     "data": {
      "text/plain": [
       "0.4975177479683505"
      ]
     },
     "execution_count": 30,
     "metadata": {},
     "output_type": "execute_result"
    }
   ],
   "source": [
    "y_pred_lgb = rscv_lgb.best_estimator_.predict_proba(X_test)\n",
    "log_loss(y_test, y_pred_lgb, eps=1e-15, normalize=True, sample_weight=None, labels=None)"
   ]
  },
  {
   "cell_type": "markdown",
   "metadata": {},
   "source": [
    "### CatBoost"
   ]
  },
  {
   "cell_type": "code",
   "execution_count": 31,
   "metadata": {},
   "outputs": [],
   "source": [
    "clf_cb = CatBoostClassifier()\n",
    "pipe_cb = Pipeline([('preprocessor', preprocessor), ('classifier',  clf_cb)])"
   ]
  },
  {
   "cell_type": "markdown",
   "metadata": {},
   "source": [
    "Hyperparameters tunning [Documentation](https://catboost.ai/docs/concepts/python-reference_parameters-list.html)"
   ]
  },
  {
   "cell_type": "code",
   "execution_count": 32,
   "metadata": {},
   "outputs": [],
   "source": [
    "# Hyperparameters can be accessed with a double underscore\n",
    "param_grid_CB = {\n",
    "        'preprocessor__target_encoder__sigma': [0.01, 0.02, 0.03, 0.04, 0.05, 0.06],\n",
    "        'classifier__n_estimators': [100, 200, 300, 1000],\n",
    "        'classifier__learning_rate' : [0.01, 0.02, 0.03],\n",
    "        'classifier__depth' : [6, 7, 8],\n",
    "        'classifier__l2_leaf_reg' : [3, 4, 5],\n",
    "#         'classifier__loss_function' : 'Logloss',\n",
    "#         'classifier__logging_level' : 'Silent',\n",
    "}\n",
    "\n",
    "rscv_cb = RandomizedSearchCV(pipe_cb,\n",
    "                          cv=5,\n",
    "                          n_iter=5,\n",
    "                          n_jobs=10,\n",
    "                          param_distributions = param_grid_CB,\n",
    "                          scoring='neg_log_loss',\n",
    "                          random_state=1)"
   ]
  },
  {
   "cell_type": "code",
   "execution_count": 42,
   "metadata": {
    "collapsed": true
   },
   "outputs": [
    {
     "name": "stdout",
     "output_type": "stream",
     "text": [
      "0:\tlearn: 0.6892266\ttotal: 2.94ms\tremaining: 2.94s\n",
      "1:\tlearn: 0.6852680\ttotal: 5.78ms\tremaining: 2.88s\n",
      "2:\tlearn: 0.6815974\ttotal: 8.46ms\tremaining: 2.81s\n",
      "3:\tlearn: 0.6777878\ttotal: 11.2ms\tremaining: 2.78s\n",
      "4:\tlearn: 0.6740181\ttotal: 13.8ms\tremaining: 2.75s\n",
      "5:\tlearn: 0.6705922\ttotal: 16.5ms\tremaining: 2.73s\n",
      "6:\tlearn: 0.6671515\ttotal: 19.2ms\tremaining: 2.72s\n",
      "7:\tlearn: 0.6636360\ttotal: 24.1ms\tremaining: 2.99s\n",
      "8:\tlearn: 0.6604588\ttotal: 26.9ms\tremaining: 2.96s\n",
      "9:\tlearn: 0.6573361\ttotal: 29.6ms\tremaining: 2.93s\n",
      "10:\tlearn: 0.6541495\ttotal: 32.3ms\tremaining: 2.9s\n",
      "11:\tlearn: 0.6513206\ttotal: 34.9ms\tremaining: 2.88s\n",
      "12:\tlearn: 0.6483316\ttotal: 37.6ms\tremaining: 2.85s\n",
      "13:\tlearn: 0.6456917\ttotal: 40.3ms\tremaining: 2.84s\n",
      "14:\tlearn: 0.6426534\ttotal: 43ms\tremaining: 2.82s\n",
      "15:\tlearn: 0.6398176\ttotal: 45.7ms\tremaining: 2.81s\n",
      "16:\tlearn: 0.6375460\ttotal: 48.3ms\tremaining: 2.79s\n",
      "17:\tlearn: 0.6348912\ttotal: 50.9ms\tremaining: 2.78s\n",
      "18:\tlearn: 0.6322881\ttotal: 53.7ms\tremaining: 2.77s\n",
      "19:\tlearn: 0.6296289\ttotal: 56.3ms\tremaining: 2.76s\n",
      "20:\tlearn: 0.6272557\ttotal: 59ms\tremaining: 2.75s\n",
      "21:\tlearn: 0.6247805\ttotal: 61.6ms\tremaining: 2.74s\n",
      "22:\tlearn: 0.6220551\ttotal: 64.3ms\tremaining: 2.73s\n",
      "23:\tlearn: 0.6196314\ttotal: 66.9ms\tremaining: 2.72s\n",
      "24:\tlearn: 0.6174044\ttotal: 69.6ms\tremaining: 2.71s\n",
      "25:\tlearn: 0.6149978\ttotal: 72.2ms\tremaining: 2.7s\n",
      "26:\tlearn: 0.6127061\ttotal: 74.8ms\tremaining: 2.7s\n",
      "27:\tlearn: 0.6106320\ttotal: 77.5ms\tremaining: 2.69s\n",
      "28:\tlearn: 0.6084415\ttotal: 80.2ms\tremaining: 2.68s\n",
      "29:\tlearn: 0.6064876\ttotal: 82.9ms\tremaining: 2.68s\n",
      "30:\tlearn: 0.6045227\ttotal: 85.5ms\tremaining: 2.67s\n",
      "31:\tlearn: 0.6028086\ttotal: 88.1ms\tremaining: 2.67s\n",
      "32:\tlearn: 0.6008829\ttotal: 90.8ms\tremaining: 2.66s\n",
      "33:\tlearn: 0.5988001\ttotal: 93.5ms\tremaining: 2.65s\n",
      "34:\tlearn: 0.5967686\ttotal: 96.1ms\tremaining: 2.65s\n",
      "35:\tlearn: 0.5947476\ttotal: 98.6ms\tremaining: 2.64s\n",
      "36:\tlearn: 0.5930628\ttotal: 101ms\tremaining: 2.63s\n",
      "37:\tlearn: 0.5914185\ttotal: 103ms\tremaining: 2.61s\n",
      "38:\tlearn: 0.5895701\ttotal: 106ms\tremaining: 2.6s\n",
      "39:\tlearn: 0.5879871\ttotal: 108ms\tremaining: 2.58s\n",
      "40:\tlearn: 0.5865524\ttotal: 110ms\tremaining: 2.57s\n",
      "41:\tlearn: 0.5847439\ttotal: 112ms\tremaining: 2.55s\n",
      "42:\tlearn: 0.5830838\ttotal: 114ms\tremaining: 2.54s\n",
      "43:\tlearn: 0.5815570\ttotal: 116ms\tremaining: 2.52s\n",
      "44:\tlearn: 0.5802672\ttotal: 118ms\tremaining: 2.5s\n",
      "45:\tlearn: 0.5786691\ttotal: 120ms\tremaining: 2.48s\n",
      "46:\tlearn: 0.5773684\ttotal: 122ms\tremaining: 2.46s\n",
      "47:\tlearn: 0.5759228\ttotal: 124ms\tremaining: 2.45s\n",
      "48:\tlearn: 0.5745424\ttotal: 126ms\tremaining: 2.44s\n",
      "49:\tlearn: 0.5729335\ttotal: 128ms\tremaining: 2.43s\n",
      "50:\tlearn: 0.5714388\ttotal: 130ms\tremaining: 2.42s\n",
      "51:\tlearn: 0.5698864\ttotal: 132ms\tremaining: 2.4s\n",
      "52:\tlearn: 0.5684419\ttotal: 134ms\tremaining: 2.39s\n",
      "53:\tlearn: 0.5673213\ttotal: 136ms\tremaining: 2.38s\n",
      "54:\tlearn: 0.5660517\ttotal: 138ms\tremaining: 2.37s\n",
      "55:\tlearn: 0.5647912\ttotal: 140ms\tremaining: 2.36s\n",
      "56:\tlearn: 0.5635242\ttotal: 142ms\tremaining: 2.35s\n",
      "57:\tlearn: 0.5621227\ttotal: 144ms\tremaining: 2.34s\n",
      "58:\tlearn: 0.5607959\ttotal: 146ms\tremaining: 2.33s\n",
      "59:\tlearn: 0.5599135\ttotal: 148ms\tremaining: 2.31s\n",
      "60:\tlearn: 0.5587057\ttotal: 150ms\tremaining: 2.31s\n",
      "61:\tlearn: 0.5575667\ttotal: 152ms\tremaining: 2.3s\n",
      "62:\tlearn: 0.5564314\ttotal: 154ms\tremaining: 2.29s\n",
      "63:\tlearn: 0.5552490\ttotal: 156ms\tremaining: 2.28s\n",
      "64:\tlearn: 0.5541664\ttotal: 158ms\tremaining: 2.27s\n",
      "65:\tlearn: 0.5531139\ttotal: 160ms\tremaining: 2.26s\n",
      "66:\tlearn: 0.5520898\ttotal: 162ms\tremaining: 2.25s\n",
      "67:\tlearn: 0.5510792\ttotal: 164ms\tremaining: 2.25s\n",
      "68:\tlearn: 0.5499357\ttotal: 166ms\tremaining: 2.24s\n",
      "69:\tlearn: 0.5488167\ttotal: 169ms\tremaining: 2.24s\n",
      "70:\tlearn: 0.5477711\ttotal: 171ms\tremaining: 2.23s\n",
      "71:\tlearn: 0.5467562\ttotal: 173ms\tremaining: 2.23s\n",
      "72:\tlearn: 0.5458209\ttotal: 175ms\tremaining: 2.22s\n",
      "73:\tlearn: 0.5447533\ttotal: 177ms\tremaining: 2.21s\n",
      "74:\tlearn: 0.5438258\ttotal: 179ms\tremaining: 2.2s\n",
      "75:\tlearn: 0.5428542\ttotal: 181ms\tremaining: 2.2s\n",
      "76:\tlearn: 0.5421643\ttotal: 183ms\tremaining: 2.19s\n",
      "77:\tlearn: 0.5412047\ttotal: 185ms\tremaining: 2.18s\n",
      "78:\tlearn: 0.5403241\ttotal: 187ms\tremaining: 2.18s\n",
      "79:\tlearn: 0.5393095\ttotal: 189ms\tremaining: 2.17s\n",
      "80:\tlearn: 0.5384357\ttotal: 191ms\tremaining: 2.17s\n",
      "81:\tlearn: 0.5375717\ttotal: 193ms\tremaining: 2.16s\n",
      "82:\tlearn: 0.5366926\ttotal: 195ms\tremaining: 2.15s\n",
      "83:\tlearn: 0.5358250\ttotal: 197ms\tremaining: 2.15s\n",
      "84:\tlearn: 0.5350172\ttotal: 199ms\tremaining: 2.14s\n",
      "85:\tlearn: 0.5341418\ttotal: 203ms\tremaining: 2.16s\n",
      "86:\tlearn: 0.5334501\ttotal: 206ms\tremaining: 2.17s\n",
      "87:\tlearn: 0.5326843\ttotal: 210ms\tremaining: 2.18s\n",
      "88:\tlearn: 0.5320307\ttotal: 214ms\tremaining: 2.19s\n",
      "89:\tlearn: 0.5311078\ttotal: 218ms\tremaining: 2.2s\n",
      "90:\tlearn: 0.5303377\ttotal: 223ms\tremaining: 2.23s\n",
      "91:\tlearn: 0.5295968\ttotal: 228ms\tremaining: 2.25s\n",
      "92:\tlearn: 0.5288468\ttotal: 230ms\tremaining: 2.25s\n",
      "93:\tlearn: 0.5282020\ttotal: 233ms\tremaining: 2.24s\n",
      "94:\tlearn: 0.5274514\ttotal: 235ms\tremaining: 2.24s\n",
      "95:\tlearn: 0.5267935\ttotal: 237ms\tremaining: 2.23s\n",
      "96:\tlearn: 0.5261878\ttotal: 240ms\tremaining: 2.23s\n",
      "97:\tlearn: 0.5254939\ttotal: 242ms\tremaining: 2.23s\n",
      "98:\tlearn: 0.5247973\ttotal: 244ms\tremaining: 2.22s\n",
      "99:\tlearn: 0.5242483\ttotal: 246ms\tremaining: 2.21s\n",
      "100:\tlearn: 0.5237328\ttotal: 248ms\tremaining: 2.21s\n",
      "101:\tlearn: 0.5230677\ttotal: 251ms\tremaining: 2.21s\n",
      "102:\tlearn: 0.5223876\ttotal: 253ms\tremaining: 2.2s\n",
      "103:\tlearn: 0.5216965\ttotal: 255ms\tremaining: 2.2s\n",
      "104:\tlearn: 0.5211204\ttotal: 257ms\tremaining: 2.19s\n",
      "105:\tlearn: 0.5204591\ttotal: 259ms\tremaining: 2.19s\n",
      "106:\tlearn: 0.5198645\ttotal: 262ms\tremaining: 2.18s\n",
      "107:\tlearn: 0.5192915\ttotal: 264ms\tremaining: 2.18s\n",
      "108:\tlearn: 0.5187450\ttotal: 269ms\tremaining: 2.19s\n",
      "109:\tlearn: 0.5180863\ttotal: 271ms\tremaining: 2.19s\n",
      "110:\tlearn: 0.5174659\ttotal: 273ms\tremaining: 2.19s\n",
      "111:\tlearn: 0.5168849\ttotal: 275ms\tremaining: 2.18s\n",
      "112:\tlearn: 0.5162898\ttotal: 278ms\tremaining: 2.18s\n",
      "113:\tlearn: 0.5157806\ttotal: 280ms\tremaining: 2.17s\n",
      "114:\tlearn: 0.5153137\ttotal: 282ms\tremaining: 2.17s\n",
      "115:\tlearn: 0.5147252\ttotal: 284ms\tremaining: 2.16s\n",
      "116:\tlearn: 0.5142439\ttotal: 286ms\tremaining: 2.16s\n",
      "117:\tlearn: 0.5136990\ttotal: 288ms\tremaining: 2.15s\n",
      "118:\tlearn: 0.5131855\ttotal: 290ms\tremaining: 2.15s\n",
      "119:\tlearn: 0.5126941\ttotal: 292ms\tremaining: 2.14s\n",
      "120:\tlearn: 0.5122548\ttotal: 294ms\tremaining: 2.14s\n",
      "121:\tlearn: 0.5118093\ttotal: 297ms\tremaining: 2.13s\n",
      "122:\tlearn: 0.5114039\ttotal: 299ms\tremaining: 2.13s\n",
      "123:\tlearn: 0.5109843\ttotal: 301ms\tremaining: 2.12s\n",
      "124:\tlearn: 0.5104876\ttotal: 303ms\tremaining: 2.12s\n",
      "125:\tlearn: 0.5100024\ttotal: 305ms\tremaining: 2.11s\n",
      "126:\tlearn: 0.5094914\ttotal: 307ms\tremaining: 2.11s\n",
      "127:\tlearn: 0.5089726\ttotal: 309ms\tremaining: 2.11s\n",
      "128:\tlearn: 0.5086134\ttotal: 311ms\tremaining: 2.1s\n",
      "129:\tlearn: 0.5081758\ttotal: 313ms\tremaining: 2.1s\n",
      "130:\tlearn: 0.5077437\ttotal: 315ms\tremaining: 2.09s\n",
      "131:\tlearn: 0.5073272\ttotal: 317ms\tremaining: 2.09s\n",
      "132:\tlearn: 0.5068833\ttotal: 319ms\tremaining: 2.08s\n",
      "133:\tlearn: 0.5064391\ttotal: 322ms\tremaining: 2.08s\n",
      "134:\tlearn: 0.5059399\ttotal: 324ms\tremaining: 2.07s\n",
      "135:\tlearn: 0.5055155\ttotal: 326ms\tremaining: 2.07s\n",
      "136:\tlearn: 0.5051043\ttotal: 328ms\tremaining: 2.06s\n",
      "137:\tlearn: 0.5047180\ttotal: 330ms\tremaining: 2.06s\n",
      "138:\tlearn: 0.5042609\ttotal: 332ms\tremaining: 2.06s\n",
      "139:\tlearn: 0.5038348\ttotal: 335ms\tremaining: 2.06s\n",
      "140:\tlearn: 0.5033308\ttotal: 337ms\tremaining: 2.05s\n",
      "141:\tlearn: 0.5029273\ttotal: 340ms\tremaining: 2.05s\n",
      "142:\tlearn: 0.5026269\ttotal: 342ms\tremaining: 2.05s\n",
      "143:\tlearn: 0.5022531\ttotal: 344ms\tremaining: 2.05s\n",
      "144:\tlearn: 0.5018372\ttotal: 346ms\tremaining: 2.04s\n",
      "145:\tlearn: 0.5014142\ttotal: 349ms\tremaining: 2.04s\n",
      "146:\tlearn: 0.5009740\ttotal: 351ms\tremaining: 2.03s\n",
      "147:\tlearn: 0.5005862\ttotal: 353ms\tremaining: 2.03s\n",
      "148:\tlearn: 0.5003375\ttotal: 355ms\tremaining: 2.02s\n",
      "149:\tlearn: 0.5000210\ttotal: 358ms\tremaining: 2.03s\n",
      "150:\tlearn: 0.4996546\ttotal: 361ms\tremaining: 2.03s\n",
      "151:\tlearn: 0.4993095\ttotal: 363ms\tremaining: 2.02s\n",
      "152:\tlearn: 0.4990314\ttotal: 365ms\tremaining: 2.02s\n",
      "153:\tlearn: 0.4986579\ttotal: 367ms\tremaining: 2.02s\n",
      "154:\tlearn: 0.4983410\ttotal: 369ms\tremaining: 2.01s\n",
      "155:\tlearn: 0.4979526\ttotal: 372ms\tremaining: 2.01s\n",
      "156:\tlearn: 0.4976054\ttotal: 374ms\tremaining: 2.01s\n",
      "157:\tlearn: 0.4972389\ttotal: 376ms\tremaining: 2s\n",
      "158:\tlearn: 0.4970193\ttotal: 378ms\tremaining: 2s\n",
      "159:\tlearn: 0.4967212\ttotal: 380ms\tremaining: 2s\n",
      "160:\tlearn: 0.4963398\ttotal: 383ms\tremaining: 1.99s\n",
      "161:\tlearn: 0.4959882\ttotal: 385ms\tremaining: 1.99s\n",
      "162:\tlearn: 0.4956472\ttotal: 387ms\tremaining: 1.99s\n",
      "163:\tlearn: 0.4953058\ttotal: 389ms\tremaining: 1.98s\n",
      "164:\tlearn: 0.4950503\ttotal: 391ms\tremaining: 1.98s\n",
      "165:\tlearn: 0.4947499\ttotal: 393ms\tremaining: 1.98s\n"
     ]
    },
    {
     "name": "stdout",
     "output_type": "stream",
     "text": [
      "166:\tlearn: 0.4944086\ttotal: 396ms\tremaining: 1.97s\n",
      "167:\tlearn: 0.4941303\ttotal: 401ms\tremaining: 1.98s\n",
      "168:\tlearn: 0.4938156\ttotal: 404ms\tremaining: 1.99s\n",
      "169:\tlearn: 0.4935129\ttotal: 408ms\tremaining: 1.99s\n",
      "170:\tlearn: 0.4932132\ttotal: 411ms\tremaining: 1.99s\n",
      "171:\tlearn: 0.4930864\ttotal: 414ms\tremaining: 1.99s\n",
      "172:\tlearn: 0.4927961\ttotal: 418ms\tremaining: 2s\n",
      "173:\tlearn: 0.4924777\ttotal: 426ms\tremaining: 2.02s\n",
      "174:\tlearn: 0.4921739\ttotal: 430ms\tremaining: 2.03s\n",
      "175:\tlearn: 0.4919066\ttotal: 434ms\tremaining: 2.03s\n",
      "176:\tlearn: 0.4916039\ttotal: 439ms\tremaining: 2.04s\n",
      "177:\tlearn: 0.4913073\ttotal: 445ms\tremaining: 2.05s\n",
      "178:\tlearn: 0.4910215\ttotal: 448ms\tremaining: 2.05s\n",
      "179:\tlearn: 0.4907252\ttotal: 450ms\tremaining: 2.05s\n",
      "180:\tlearn: 0.4903993\ttotal: 453ms\tremaining: 2.05s\n",
      "181:\tlearn: 0.4902356\ttotal: 456ms\tremaining: 2.05s\n",
      "182:\tlearn: 0.4900569\ttotal: 459ms\tremaining: 2.05s\n",
      "183:\tlearn: 0.4898594\ttotal: 461ms\tremaining: 2.04s\n",
      "184:\tlearn: 0.4895940\ttotal: 463ms\tremaining: 2.04s\n",
      "185:\tlearn: 0.4893531\ttotal: 466ms\tremaining: 2.04s\n",
      "186:\tlearn: 0.4890788\ttotal: 468ms\tremaining: 2.04s\n",
      "187:\tlearn: 0.4888487\ttotal: 472ms\tremaining: 2.04s\n",
      "188:\tlearn: 0.4885870\ttotal: 474ms\tremaining: 2.04s\n",
      "189:\tlearn: 0.4883516\ttotal: 477ms\tremaining: 2.03s\n",
      "190:\tlearn: 0.4880928\ttotal: 479ms\tremaining: 2.03s\n",
      "191:\tlearn: 0.4878589\ttotal: 482ms\tremaining: 2.03s\n",
      "192:\tlearn: 0.4875581\ttotal: 484ms\tremaining: 2.02s\n",
      "193:\tlearn: 0.4872789\ttotal: 487ms\tremaining: 2.02s\n",
      "194:\tlearn: 0.4869913\ttotal: 490ms\tremaining: 2.02s\n",
      "195:\tlearn: 0.4867520\ttotal: 492ms\tremaining: 2.02s\n",
      "196:\tlearn: 0.4865018\ttotal: 495ms\tremaining: 2.02s\n",
      "197:\tlearn: 0.4863141\ttotal: 497ms\tremaining: 2.01s\n",
      "198:\tlearn: 0.4860781\ttotal: 500ms\tremaining: 2.01s\n",
      "199:\tlearn: 0.4858121\ttotal: 503ms\tremaining: 2.01s\n",
      "200:\tlearn: 0.4856635\ttotal: 505ms\tremaining: 2.01s\n",
      "201:\tlearn: 0.4854032\ttotal: 507ms\tremaining: 2s\n",
      "202:\tlearn: 0.4852066\ttotal: 511ms\tremaining: 2.01s\n",
      "203:\tlearn: 0.4849917\ttotal: 514ms\tremaining: 2s\n",
      "204:\tlearn: 0.4847811\ttotal: 516ms\tremaining: 2s\n",
      "205:\tlearn: 0.4845378\ttotal: 519ms\tremaining: 2s\n",
      "206:\tlearn: 0.4842804\ttotal: 521ms\tremaining: 2s\n",
      "207:\tlearn: 0.4839884\ttotal: 524ms\tremaining: 1.99s\n",
      "208:\tlearn: 0.4837070\ttotal: 526ms\tremaining: 1.99s\n",
      "209:\tlearn: 0.4834982\ttotal: 528ms\tremaining: 1.99s\n",
      "210:\tlearn: 0.4832726\ttotal: 530ms\tremaining: 1.98s\n",
      "211:\tlearn: 0.4830806\ttotal: 532ms\tremaining: 1.98s\n",
      "212:\tlearn: 0.4830053\ttotal: 533ms\tremaining: 1.97s\n",
      "213:\tlearn: 0.4827821\ttotal: 536ms\tremaining: 1.97s\n",
      "214:\tlearn: 0.4825464\ttotal: 538ms\tremaining: 1.96s\n",
      "215:\tlearn: 0.4822782\ttotal: 540ms\tremaining: 1.96s\n",
      "216:\tlearn: 0.4821208\ttotal: 543ms\tremaining: 1.96s\n",
      "217:\tlearn: 0.4818897\ttotal: 545ms\tremaining: 1.95s\n",
      "218:\tlearn: 0.4817378\ttotal: 547ms\tremaining: 1.95s\n",
      "219:\tlearn: 0.4815279\ttotal: 549ms\tremaining: 1.95s\n",
      "220:\tlearn: 0.4813249\ttotal: 551ms\tremaining: 1.94s\n",
      "221:\tlearn: 0.4810993\ttotal: 553ms\tremaining: 1.94s\n",
      "222:\tlearn: 0.4808186\ttotal: 555ms\tremaining: 1.94s\n",
      "223:\tlearn: 0.4806732\ttotal: 557ms\tremaining: 1.93s\n",
      "224:\tlearn: 0.4804873\ttotal: 560ms\tremaining: 1.93s\n",
      "225:\tlearn: 0.4803209\ttotal: 562ms\tremaining: 1.93s\n",
      "226:\tlearn: 0.4801556\ttotal: 564ms\tremaining: 1.92s\n",
      "227:\tlearn: 0.4799038\ttotal: 567ms\tremaining: 1.92s\n",
      "228:\tlearn: 0.4798547\ttotal: 568ms\tremaining: 1.91s\n",
      "229:\tlearn: 0.4796702\ttotal: 570ms\tremaining: 1.91s\n",
      "230:\tlearn: 0.4794299\ttotal: 572ms\tremaining: 1.91s\n",
      "231:\tlearn: 0.4792632\ttotal: 575ms\tremaining: 1.9s\n",
      "232:\tlearn: 0.4790888\ttotal: 578ms\tremaining: 1.9s\n",
      "233:\tlearn: 0.4788681\ttotal: 581ms\tremaining: 1.9s\n",
      "234:\tlearn: 0.4786514\ttotal: 583ms\tremaining: 1.9s\n",
      "235:\tlearn: 0.4784733\ttotal: 585ms\tremaining: 1.9s\n",
      "236:\tlearn: 0.4783122\ttotal: 587ms\tremaining: 1.89s\n",
      "237:\tlearn: 0.4780844\ttotal: 590ms\tremaining: 1.89s\n",
      "238:\tlearn: 0.4778782\ttotal: 592ms\tremaining: 1.88s\n",
      "239:\tlearn: 0.4776744\ttotal: 595ms\tremaining: 1.88s\n",
      "240:\tlearn: 0.4774753\ttotal: 599ms\tremaining: 1.89s\n",
      "241:\tlearn: 0.4773098\ttotal: 603ms\tremaining: 1.89s\n",
      "242:\tlearn: 0.4771414\ttotal: 606ms\tremaining: 1.89s\n",
      "243:\tlearn: 0.4769654\ttotal: 609ms\tremaining: 1.89s\n",
      "244:\tlearn: 0.4767995\ttotal: 611ms\tremaining: 1.88s\n",
      "245:\tlearn: 0.4765982\ttotal: 614ms\tremaining: 1.88s\n",
      "246:\tlearn: 0.4764219\ttotal: 616ms\tremaining: 1.88s\n",
      "247:\tlearn: 0.4762740\ttotal: 618ms\tremaining: 1.87s\n",
      "248:\tlearn: 0.4760951\ttotal: 620ms\tremaining: 1.87s\n",
      "249:\tlearn: 0.4758674\ttotal: 623ms\tremaining: 1.87s\n",
      "250:\tlearn: 0.4756697\ttotal: 625ms\tremaining: 1.86s\n",
      "251:\tlearn: 0.4754778\ttotal: 627ms\tremaining: 1.86s\n",
      "252:\tlearn: 0.4752783\ttotal: 629ms\tremaining: 1.86s\n",
      "253:\tlearn: 0.4751408\ttotal: 632ms\tremaining: 1.85s\n",
      "254:\tlearn: 0.4749941\ttotal: 634ms\tremaining: 1.85s\n",
      "255:\tlearn: 0.4748309\ttotal: 636ms\tremaining: 1.85s\n",
      "256:\tlearn: 0.4746280\ttotal: 638ms\tremaining: 1.84s\n",
      "257:\tlearn: 0.4744615\ttotal: 640ms\tremaining: 1.84s\n",
      "258:\tlearn: 0.4742662\ttotal: 642ms\tremaining: 1.84s\n",
      "259:\tlearn: 0.4740382\ttotal: 645ms\tremaining: 1.83s\n",
      "260:\tlearn: 0.4739187\ttotal: 647ms\tremaining: 1.83s\n",
      "261:\tlearn: 0.4736876\ttotal: 649ms\tremaining: 1.83s\n",
      "262:\tlearn: 0.4735216\ttotal: 651ms\tremaining: 1.82s\n",
      "263:\tlearn: 0.4733643\ttotal: 653ms\tremaining: 1.82s\n",
      "264:\tlearn: 0.4731686\ttotal: 655ms\tremaining: 1.82s\n",
      "265:\tlearn: 0.4729892\ttotal: 657ms\tremaining: 1.81s\n",
      "266:\tlearn: 0.4728354\ttotal: 659ms\tremaining: 1.81s\n",
      "267:\tlearn: 0.4726537\ttotal: 661ms\tremaining: 1.81s\n",
      "268:\tlearn: 0.4725487\ttotal: 664ms\tremaining: 1.8s\n",
      "269:\tlearn: 0.4723776\ttotal: 666ms\tremaining: 1.8s\n",
      "270:\tlearn: 0.4722262\ttotal: 668ms\tremaining: 1.79s\n",
      "271:\tlearn: 0.4721094\ttotal: 670ms\tremaining: 1.79s\n",
      "272:\tlearn: 0.4719176\ttotal: 672ms\tremaining: 1.79s\n",
      "273:\tlearn: 0.4718312\ttotal: 674ms\tremaining: 1.78s\n",
      "274:\tlearn: 0.4716567\ttotal: 676ms\tremaining: 1.78s\n",
      "275:\tlearn: 0.4715046\ttotal: 678ms\tremaining: 1.78s\n",
      "276:\tlearn: 0.4713867\ttotal: 681ms\tremaining: 1.78s\n",
      "277:\tlearn: 0.4712207\ttotal: 683ms\tremaining: 1.77s\n",
      "278:\tlearn: 0.4710781\ttotal: 685ms\tremaining: 1.77s\n",
      "279:\tlearn: 0.4709597\ttotal: 687ms\tremaining: 1.77s\n",
      "280:\tlearn: 0.4709003\ttotal: 689ms\tremaining: 1.76s\n",
      "281:\tlearn: 0.4707735\ttotal: 692ms\tremaining: 1.76s\n",
      "282:\tlearn: 0.4706170\ttotal: 694ms\tremaining: 1.76s\n",
      "283:\tlearn: 0.4704602\ttotal: 696ms\tremaining: 1.75s\n",
      "284:\tlearn: 0.4703094\ttotal: 698ms\tremaining: 1.75s\n",
      "285:\tlearn: 0.4701493\ttotal: 700ms\tremaining: 1.75s\n",
      "286:\tlearn: 0.4699835\ttotal: 703ms\tremaining: 1.75s\n",
      "287:\tlearn: 0.4697986\ttotal: 705ms\tremaining: 1.74s\n",
      "288:\tlearn: 0.4695822\ttotal: 707ms\tremaining: 1.74s\n",
      "289:\tlearn: 0.4694744\ttotal: 710ms\tremaining: 1.74s\n",
      "290:\tlearn: 0.4693134\ttotal: 712ms\tremaining: 1.73s\n",
      "291:\tlearn: 0.4691645\ttotal: 714ms\tremaining: 1.73s\n",
      "292:\tlearn: 0.4689713\ttotal: 717ms\tremaining: 1.73s\n",
      "293:\tlearn: 0.4688266\ttotal: 719ms\tremaining: 1.73s\n",
      "294:\tlearn: 0.4687124\ttotal: 721ms\tremaining: 1.72s\n",
      "295:\tlearn: 0.4686190\ttotal: 723ms\tremaining: 1.72s\n",
      "296:\tlearn: 0.4685063\ttotal: 725ms\tremaining: 1.72s\n",
      "297:\tlearn: 0.4683874\ttotal: 727ms\tremaining: 1.71s\n",
      "298:\tlearn: 0.4682189\ttotal: 730ms\tremaining: 1.71s\n",
      "299:\tlearn: 0.4680841\ttotal: 732ms\tremaining: 1.71s\n",
      "300:\tlearn: 0.4679121\ttotal: 734ms\tremaining: 1.7s\n",
      "301:\tlearn: 0.4677126\ttotal: 736ms\tremaining: 1.7s\n",
      "302:\tlearn: 0.4675801\ttotal: 739ms\tremaining: 1.7s\n",
      "303:\tlearn: 0.4674274\ttotal: 741ms\tremaining: 1.7s\n",
      "304:\tlearn: 0.4672394\ttotal: 743ms\tremaining: 1.69s\n",
      "305:\tlearn: 0.4670632\ttotal: 745ms\tremaining: 1.69s\n",
      "306:\tlearn: 0.4669267\ttotal: 747ms\tremaining: 1.69s\n",
      "307:\tlearn: 0.4667854\ttotal: 749ms\tremaining: 1.68s\n",
      "308:\tlearn: 0.4666566\ttotal: 752ms\tremaining: 1.68s\n",
      "309:\tlearn: 0.4665360\ttotal: 756ms\tremaining: 1.68s\n",
      "310:\tlearn: 0.4663973\ttotal: 758ms\tremaining: 1.68s\n",
      "311:\tlearn: 0.4662878\ttotal: 760ms\tremaining: 1.68s\n",
      "312:\tlearn: 0.4661484\ttotal: 762ms\tremaining: 1.67s\n",
      "313:\tlearn: 0.4660257\ttotal: 765ms\tremaining: 1.67s\n",
      "314:\tlearn: 0.4659449\ttotal: 767ms\tremaining: 1.67s\n",
      "315:\tlearn: 0.4657861\ttotal: 769ms\tremaining: 1.66s\n",
      "316:\tlearn: 0.4656235\ttotal: 771ms\tremaining: 1.66s\n",
      "317:\tlearn: 0.4654397\ttotal: 773ms\tremaining: 1.66s\n",
      "318:\tlearn: 0.4653041\ttotal: 775ms\tremaining: 1.65s\n",
      "319:\tlearn: 0.4651485\ttotal: 777ms\tremaining: 1.65s\n",
      "320:\tlearn: 0.4649532\ttotal: 779ms\tremaining: 1.65s\n",
      "321:\tlearn: 0.4647819\ttotal: 781ms\tremaining: 1.65s\n",
      "322:\tlearn: 0.4646575\ttotal: 784ms\tremaining: 1.64s\n",
      "323:\tlearn: 0.4645477\ttotal: 786ms\tremaining: 1.64s\n",
      "324:\tlearn: 0.4643836\ttotal: 788ms\tremaining: 1.64s\n",
      "325:\tlearn: 0.4642762\ttotal: 791ms\tremaining: 1.64s\n",
      "326:\tlearn: 0.4641459\ttotal: 794ms\tremaining: 1.63s\n",
      "327:\tlearn: 0.4639905\ttotal: 798ms\tremaining: 1.64s\n",
      "328:\tlearn: 0.4638634\ttotal: 802ms\tremaining: 1.64s\n",
      "329:\tlearn: 0.4637545\ttotal: 807ms\tremaining: 1.64s\n",
      "330:\tlearn: 0.4636099\ttotal: 810ms\tremaining: 1.64s\n",
      "331:\tlearn: 0.4634857\ttotal: 813ms\tremaining: 1.64s\n",
      "332:\tlearn: 0.4633699\ttotal: 816ms\tremaining: 1.63s\n",
      "333:\tlearn: 0.4633067\ttotal: 818ms\tremaining: 1.63s\n",
      "334:\tlearn: 0.4631950\ttotal: 820ms\tremaining: 1.63s\n",
      "335:\tlearn: 0.4630585\ttotal: 823ms\tremaining: 1.63s\n",
      "336:\tlearn: 0.4629488\ttotal: 825ms\tremaining: 1.62s\n",
      "337:\tlearn: 0.4628055\ttotal: 828ms\tremaining: 1.62s\n",
      "338:\tlearn: 0.4627069\ttotal: 831ms\tremaining: 1.62s\n",
      "339:\tlearn: 0.4626231\ttotal: 833ms\tremaining: 1.62s\n",
      "340:\tlearn: 0.4624999\ttotal: 835ms\tremaining: 1.61s\n",
      "341:\tlearn: 0.4624116\ttotal: 837ms\tremaining: 1.61s\n",
      "342:\tlearn: 0.4622428\ttotal: 840ms\tremaining: 1.61s\n",
      "343:\tlearn: 0.4621188\ttotal: 842ms\tremaining: 1.6s\n",
      "344:\tlearn: 0.4619603\ttotal: 845ms\tremaining: 1.6s\n",
      "345:\tlearn: 0.4618097\ttotal: 847ms\tremaining: 1.6s\n",
      "346:\tlearn: 0.4616928\ttotal: 850ms\tremaining: 1.6s\n",
      "347:\tlearn: 0.4615751\ttotal: 852ms\tremaining: 1.6s\n",
      "348:\tlearn: 0.4614513\ttotal: 854ms\tremaining: 1.59s\n",
      "349:\tlearn: 0.4613447\ttotal: 857ms\tremaining: 1.59s\n",
      "350:\tlearn: 0.4612383\ttotal: 859ms\tremaining: 1.59s\n",
      "351:\tlearn: 0.4610857\ttotal: 861ms\tremaining: 1.58s\n",
      "352:\tlearn: 0.4608952\ttotal: 865ms\tremaining: 1.58s\n",
      "353:\tlearn: 0.4607920\ttotal: 867ms\tremaining: 1.58s\n",
      "354:\tlearn: 0.4607055\ttotal: 870ms\tremaining: 1.58s\n",
      "355:\tlearn: 0.4605947\ttotal: 872ms\tremaining: 1.58s\n",
      "356:\tlearn: 0.4604859\ttotal: 874ms\tremaining: 1.57s\n",
      "357:\tlearn: 0.4603556\ttotal: 877ms\tremaining: 1.57s\n",
      "358:\tlearn: 0.4602432\ttotal: 879ms\tremaining: 1.57s\n",
      "359:\tlearn: 0.4600931\ttotal: 882ms\tremaining: 1.57s\n",
      "360:\tlearn: 0.4600298\ttotal: 884ms\tremaining: 1.56s\n",
      "361:\tlearn: 0.4599638\ttotal: 886ms\tremaining: 1.56s\n",
      "362:\tlearn: 0.4597957\ttotal: 888ms\tremaining: 1.56s\n",
      "363:\tlearn: 0.4597177\ttotal: 891ms\tremaining: 1.56s\n",
      "364:\tlearn: 0.4595808\ttotal: 893ms\tremaining: 1.55s\n",
      "365:\tlearn: 0.4594474\ttotal: 895ms\tremaining: 1.55s\n",
      "366:\tlearn: 0.4592824\ttotal: 898ms\tremaining: 1.55s\n",
      "367:\tlearn: 0.4592085\ttotal: 900ms\tremaining: 1.55s\n",
      "368:\tlearn: 0.4590793\ttotal: 903ms\tremaining: 1.54s\n",
      "369:\tlearn: 0.4589778\ttotal: 905ms\tremaining: 1.54s\n",
      "370:\tlearn: 0.4588592\ttotal: 908ms\tremaining: 1.54s\n",
      "371:\tlearn: 0.4587161\ttotal: 911ms\tremaining: 1.54s\n",
      "372:\tlearn: 0.4585933\ttotal: 913ms\tremaining: 1.53s\n",
      "373:\tlearn: 0.4584579\ttotal: 915ms\tremaining: 1.53s\n",
      "374:\tlearn: 0.4583543\ttotal: 918ms\tremaining: 1.53s\n",
      "375:\tlearn: 0.4582464\ttotal: 920ms\tremaining: 1.53s\n",
      "376:\tlearn: 0.4581341\ttotal: 922ms\tremaining: 1.52s\n",
      "377:\tlearn: 0.4580347\ttotal: 924ms\tremaining: 1.52s\n",
      "378:\tlearn: 0.4579000\ttotal: 927ms\tremaining: 1.52s\n",
      "379:\tlearn: 0.4577574\ttotal: 930ms\tremaining: 1.52s\n",
      "380:\tlearn: 0.4575807\ttotal: 932ms\tremaining: 1.51s\n",
      "381:\tlearn: 0.4575647\ttotal: 934ms\tremaining: 1.51s\n",
      "382:\tlearn: 0.4574824\ttotal: 936ms\tremaining: 1.51s\n",
      "383:\tlearn: 0.4574050\ttotal: 938ms\tremaining: 1.5s\n",
      "384:\tlearn: 0.4572656\ttotal: 941ms\tremaining: 1.5s\n",
      "385:\tlearn: 0.4571491\ttotal: 943ms\tremaining: 1.5s\n",
      "386:\tlearn: 0.4570036\ttotal: 945ms\tremaining: 1.5s\n",
      "387:\tlearn: 0.4568285\ttotal: 947ms\tremaining: 1.49s\n",
      "388:\tlearn: 0.4566803\ttotal: 949ms\tremaining: 1.49s\n",
      "389:\tlearn: 0.4565394\ttotal: 951ms\tremaining: 1.49s\n",
      "390:\tlearn: 0.4564403\ttotal: 953ms\tremaining: 1.48s\n",
      "391:\tlearn: 0.4563478\ttotal: 955ms\tremaining: 1.48s\n",
      "392:\tlearn: 0.4561828\ttotal: 958ms\tremaining: 1.48s\n",
      "393:\tlearn: 0.4561119\ttotal: 960ms\tremaining: 1.48s\n",
      "394:\tlearn: 0.4559744\ttotal: 962ms\tremaining: 1.47s\n",
      "395:\tlearn: 0.4559109\ttotal: 964ms\tremaining: 1.47s\n",
      "396:\tlearn: 0.4558269\ttotal: 966ms\tremaining: 1.47s\n",
      "397:\tlearn: 0.4556540\ttotal: 968ms\tremaining: 1.46s\n",
      "398:\tlearn: 0.4555164\ttotal: 970ms\tremaining: 1.46s\n",
      "399:\tlearn: 0.4553573\ttotal: 973ms\tremaining: 1.46s\n",
      "400:\tlearn: 0.4552206\ttotal: 975ms\tremaining: 1.46s\n",
      "401:\tlearn: 0.4551032\ttotal: 977ms\tremaining: 1.45s\n",
      "402:\tlearn: 0.4550386\ttotal: 979ms\tremaining: 1.45s\n",
      "403:\tlearn: 0.4549094\ttotal: 981ms\tremaining: 1.45s\n",
      "404:\tlearn: 0.4548211\ttotal: 984ms\tremaining: 1.45s\n"
     ]
    },
    {
     "name": "stdout",
     "output_type": "stream",
     "text": [
      "405:\tlearn: 0.4546895\ttotal: 986ms\tremaining: 1.44s\n",
      "406:\tlearn: 0.4545813\ttotal: 989ms\tremaining: 1.44s\n",
      "407:\tlearn: 0.4544556\ttotal: 994ms\tremaining: 1.44s\n",
      "408:\tlearn: 0.4543806\ttotal: 1000ms\tremaining: 1.44s\n",
      "409:\tlearn: 0.4542714\ttotal: 1s\tremaining: 1.45s\n",
      "410:\tlearn: 0.4541963\ttotal: 1.01s\tremaining: 1.44s\n",
      "411:\tlearn: 0.4540787\ttotal: 1.01s\tremaining: 1.44s\n",
      "412:\tlearn: 0.4539339\ttotal: 1.01s\tremaining: 1.44s\n",
      "413:\tlearn: 0.4538526\ttotal: 1.01s\tremaining: 1.44s\n",
      "414:\tlearn: 0.4537236\ttotal: 1.02s\tremaining: 1.43s\n",
      "415:\tlearn: 0.4535871\ttotal: 1.02s\tremaining: 1.43s\n",
      "416:\tlearn: 0.4534716\ttotal: 1.02s\tremaining: 1.43s\n",
      "417:\tlearn: 0.4533704\ttotal: 1.02s\tremaining: 1.43s\n",
      "418:\tlearn: 0.4533157\ttotal: 1.03s\tremaining: 1.42s\n",
      "419:\tlearn: 0.4532005\ttotal: 1.03s\tremaining: 1.42s\n",
      "420:\tlearn: 0.4531197\ttotal: 1.03s\tremaining: 1.42s\n",
      "421:\tlearn: 0.4530198\ttotal: 1.03s\tremaining: 1.41s\n",
      "422:\tlearn: 0.4529348\ttotal: 1.03s\tremaining: 1.41s\n",
      "423:\tlearn: 0.4528278\ttotal: 1.04s\tremaining: 1.41s\n",
      "424:\tlearn: 0.4527282\ttotal: 1.04s\tremaining: 1.41s\n",
      "425:\tlearn: 0.4526873\ttotal: 1.04s\tremaining: 1.4s\n",
      "426:\tlearn: 0.4526104\ttotal: 1.04s\tremaining: 1.4s\n",
      "427:\tlearn: 0.4524683\ttotal: 1.04s\tremaining: 1.4s\n",
      "428:\tlearn: 0.4523685\ttotal: 1.05s\tremaining: 1.4s\n",
      "429:\tlearn: 0.4523088\ttotal: 1.05s\tremaining: 1.39s\n",
      "430:\tlearn: 0.4522109\ttotal: 1.05s\tremaining: 1.39s\n",
      "431:\tlearn: 0.4521075\ttotal: 1.05s\tremaining: 1.39s\n",
      "432:\tlearn: 0.4520439\ttotal: 1.06s\tremaining: 1.39s\n",
      "433:\tlearn: 0.4519168\ttotal: 1.06s\tremaining: 1.38s\n",
      "434:\tlearn: 0.4518628\ttotal: 1.06s\tremaining: 1.38s\n",
      "435:\tlearn: 0.4517966\ttotal: 1.06s\tremaining: 1.38s\n",
      "436:\tlearn: 0.4516973\ttotal: 1.07s\tremaining: 1.38s\n",
      "437:\tlearn: 0.4516706\ttotal: 1.07s\tremaining: 1.37s\n",
      "438:\tlearn: 0.4515918\ttotal: 1.07s\tremaining: 1.37s\n",
      "439:\tlearn: 0.4514863\ttotal: 1.07s\tremaining: 1.37s\n",
      "440:\tlearn: 0.4514251\ttotal: 1.08s\tremaining: 1.37s\n",
      "441:\tlearn: 0.4513329\ttotal: 1.08s\tremaining: 1.36s\n",
      "442:\tlearn: 0.4512925\ttotal: 1.08s\tremaining: 1.36s\n",
      "443:\tlearn: 0.4511981\ttotal: 1.08s\tremaining: 1.36s\n",
      "444:\tlearn: 0.4511244\ttotal: 1.09s\tremaining: 1.35s\n",
      "445:\tlearn: 0.4509802\ttotal: 1.09s\tremaining: 1.35s\n",
      "446:\tlearn: 0.4508874\ttotal: 1.09s\tremaining: 1.35s\n",
      "447:\tlearn: 0.4507723\ttotal: 1.09s\tremaining: 1.35s\n",
      "448:\tlearn: 0.4506975\ttotal: 1.1s\tremaining: 1.34s\n",
      "449:\tlearn: 0.4506020\ttotal: 1.1s\tremaining: 1.34s\n",
      "450:\tlearn: 0.4504952\ttotal: 1.1s\tremaining: 1.34s\n",
      "451:\tlearn: 0.4503986\ttotal: 1.1s\tremaining: 1.34s\n",
      "452:\tlearn: 0.4503013\ttotal: 1.1s\tremaining: 1.33s\n",
      "453:\tlearn: 0.4502286\ttotal: 1.11s\tremaining: 1.33s\n",
      "454:\tlearn: 0.4501066\ttotal: 1.11s\tremaining: 1.33s\n",
      "455:\tlearn: 0.4499652\ttotal: 1.11s\tremaining: 1.33s\n",
      "456:\tlearn: 0.4498565\ttotal: 1.11s\tremaining: 1.32s\n",
      "457:\tlearn: 0.4497511\ttotal: 1.12s\tremaining: 1.32s\n",
      "458:\tlearn: 0.4497047\ttotal: 1.12s\tremaining: 1.32s\n",
      "459:\tlearn: 0.4496357\ttotal: 1.12s\tremaining: 1.32s\n",
      "460:\tlearn: 0.4495521\ttotal: 1.12s\tremaining: 1.31s\n",
      "461:\tlearn: 0.4494501\ttotal: 1.13s\tremaining: 1.31s\n",
      "462:\tlearn: 0.4493915\ttotal: 1.13s\tremaining: 1.31s\n",
      "463:\tlearn: 0.4492461\ttotal: 1.13s\tremaining: 1.31s\n",
      "464:\tlearn: 0.4491019\ttotal: 1.13s\tremaining: 1.3s\n",
      "465:\tlearn: 0.4489852\ttotal: 1.14s\tremaining: 1.3s\n",
      "466:\tlearn: 0.4489060\ttotal: 1.14s\tremaining: 1.3s\n",
      "467:\tlearn: 0.4488070\ttotal: 1.14s\tremaining: 1.3s\n",
      "468:\tlearn: 0.4487294\ttotal: 1.14s\tremaining: 1.29s\n",
      "469:\tlearn: 0.4486475\ttotal: 1.14s\tremaining: 1.29s\n",
      "470:\tlearn: 0.4485315\ttotal: 1.15s\tremaining: 1.29s\n",
      "471:\tlearn: 0.4484298\ttotal: 1.15s\tremaining: 1.29s\n",
      "472:\tlearn: 0.4482994\ttotal: 1.15s\tremaining: 1.28s\n",
      "473:\tlearn: 0.4482354\ttotal: 1.15s\tremaining: 1.28s\n",
      "474:\tlearn: 0.4481901\ttotal: 1.16s\tremaining: 1.28s\n",
      "475:\tlearn: 0.4480765\ttotal: 1.16s\tremaining: 1.27s\n",
      "476:\tlearn: 0.4480260\ttotal: 1.16s\tremaining: 1.27s\n",
      "477:\tlearn: 0.4479478\ttotal: 1.16s\tremaining: 1.27s\n",
      "478:\tlearn: 0.4478708\ttotal: 1.17s\tremaining: 1.27s\n",
      "479:\tlearn: 0.4478268\ttotal: 1.17s\tremaining: 1.26s\n",
      "480:\tlearn: 0.4477413\ttotal: 1.17s\tremaining: 1.26s\n",
      "481:\tlearn: 0.4476657\ttotal: 1.17s\tremaining: 1.26s\n",
      "482:\tlearn: 0.4476218\ttotal: 1.17s\tremaining: 1.26s\n",
      "483:\tlearn: 0.4475759\ttotal: 1.18s\tremaining: 1.25s\n",
      "484:\tlearn: 0.4474850\ttotal: 1.18s\tremaining: 1.25s\n",
      "485:\tlearn: 0.4474180\ttotal: 1.18s\tremaining: 1.25s\n",
      "486:\tlearn: 0.4473760\ttotal: 1.19s\tremaining: 1.25s\n",
      "487:\tlearn: 0.4473248\ttotal: 1.19s\tremaining: 1.25s\n",
      "488:\tlearn: 0.4472232\ttotal: 1.19s\tremaining: 1.25s\n",
      "489:\tlearn: 0.4471680\ttotal: 1.2s\tremaining: 1.25s\n",
      "490:\tlearn: 0.4470546\ttotal: 1.2s\tremaining: 1.24s\n",
      "491:\tlearn: 0.4469458\ttotal: 1.2s\tremaining: 1.24s\n",
      "492:\tlearn: 0.4468569\ttotal: 1.2s\tremaining: 1.24s\n",
      "493:\tlearn: 0.4467535\ttotal: 1.21s\tremaining: 1.24s\n",
      "494:\tlearn: 0.4467067\ttotal: 1.21s\tremaining: 1.23s\n",
      "495:\tlearn: 0.4466037\ttotal: 1.21s\tremaining: 1.23s\n",
      "496:\tlearn: 0.4464743\ttotal: 1.21s\tremaining: 1.23s\n",
      "497:\tlearn: 0.4463371\ttotal: 1.22s\tremaining: 1.23s\n",
      "498:\tlearn: 0.4462840\ttotal: 1.22s\tremaining: 1.22s\n",
      "499:\tlearn: 0.4462466\ttotal: 1.22s\tremaining: 1.22s\n",
      "500:\tlearn: 0.4460860\ttotal: 1.22s\tremaining: 1.22s\n",
      "501:\tlearn: 0.4460215\ttotal: 1.23s\tremaining: 1.22s\n",
      "502:\tlearn: 0.4459323\ttotal: 1.23s\tremaining: 1.21s\n",
      "503:\tlearn: 0.4458576\ttotal: 1.23s\tremaining: 1.21s\n",
      "504:\tlearn: 0.4457729\ttotal: 1.23s\tremaining: 1.21s\n",
      "505:\tlearn: 0.4456110\ttotal: 1.24s\tremaining: 1.21s\n",
      "506:\tlearn: 0.4454953\ttotal: 1.24s\tremaining: 1.2s\n",
      "507:\tlearn: 0.4453960\ttotal: 1.24s\tremaining: 1.2s\n",
      "508:\tlearn: 0.4453336\ttotal: 1.24s\tremaining: 1.2s\n",
      "509:\tlearn: 0.4452977\ttotal: 1.25s\tremaining: 1.2s\n",
      "510:\tlearn: 0.4452383\ttotal: 1.25s\tremaining: 1.19s\n",
      "511:\tlearn: 0.4451908\ttotal: 1.25s\tremaining: 1.19s\n",
      "512:\tlearn: 0.4451432\ttotal: 1.25s\tremaining: 1.19s\n",
      "513:\tlearn: 0.4450831\ttotal: 1.25s\tremaining: 1.19s\n",
      "514:\tlearn: 0.4449907\ttotal: 1.26s\tremaining: 1.18s\n",
      "515:\tlearn: 0.4449420\ttotal: 1.26s\tremaining: 1.18s\n",
      "516:\tlearn: 0.4448592\ttotal: 1.26s\tremaining: 1.18s\n",
      "517:\tlearn: 0.4447514\ttotal: 1.26s\tremaining: 1.18s\n",
      "518:\tlearn: 0.4446067\ttotal: 1.26s\tremaining: 1.17s\n",
      "519:\tlearn: 0.4444961\ttotal: 1.27s\tremaining: 1.17s\n",
      "520:\tlearn: 0.4444033\ttotal: 1.27s\tremaining: 1.17s\n",
      "521:\tlearn: 0.4442650\ttotal: 1.27s\tremaining: 1.17s\n",
      "522:\tlearn: 0.4442340\ttotal: 1.27s\tremaining: 1.16s\n",
      "523:\tlearn: 0.4441477\ttotal: 1.28s\tremaining: 1.16s\n",
      "524:\tlearn: 0.4440404\ttotal: 1.28s\tremaining: 1.16s\n",
      "525:\tlearn: 0.4439459\ttotal: 1.28s\tremaining: 1.16s\n",
      "526:\tlearn: 0.4438657\ttotal: 1.28s\tremaining: 1.15s\n",
      "527:\tlearn: 0.4437801\ttotal: 1.29s\tremaining: 1.15s\n",
      "528:\tlearn: 0.4436839\ttotal: 1.29s\tremaining: 1.15s\n",
      "529:\tlearn: 0.4435967\ttotal: 1.29s\tremaining: 1.15s\n",
      "530:\tlearn: 0.4435382\ttotal: 1.29s\tremaining: 1.14s\n",
      "531:\tlearn: 0.4434345\ttotal: 1.29s\tremaining: 1.14s\n",
      "532:\tlearn: 0.4433746\ttotal: 1.3s\tremaining: 1.14s\n",
      "533:\tlearn: 0.4433522\ttotal: 1.3s\tremaining: 1.13s\n",
      "534:\tlearn: 0.4432056\ttotal: 1.3s\tremaining: 1.13s\n",
      "535:\tlearn: 0.4431025\ttotal: 1.3s\tremaining: 1.13s\n",
      "536:\tlearn: 0.4430273\ttotal: 1.31s\tremaining: 1.13s\n",
      "537:\tlearn: 0.4429334\ttotal: 1.31s\tremaining: 1.12s\n",
      "538:\tlearn: 0.4428496\ttotal: 1.31s\tremaining: 1.12s\n",
      "539:\tlearn: 0.4428186\ttotal: 1.31s\tremaining: 1.12s\n",
      "540:\tlearn: 0.4427316\ttotal: 1.32s\tremaining: 1.12s\n",
      "541:\tlearn: 0.4426672\ttotal: 1.32s\tremaining: 1.11s\n",
      "542:\tlearn: 0.4425762\ttotal: 1.32s\tremaining: 1.11s\n",
      "543:\tlearn: 0.4424523\ttotal: 1.32s\tremaining: 1.11s\n",
      "544:\tlearn: 0.4423693\ttotal: 1.33s\tremaining: 1.11s\n",
      "545:\tlearn: 0.4422268\ttotal: 1.33s\tremaining: 1.1s\n",
      "546:\tlearn: 0.4422084\ttotal: 1.33s\tremaining: 1.1s\n",
      "547:\tlearn: 0.4421191\ttotal: 1.33s\tremaining: 1.1s\n",
      "548:\tlearn: 0.4420704\ttotal: 1.33s\tremaining: 1.1s\n",
      "549:\tlearn: 0.4419582\ttotal: 1.34s\tremaining: 1.09s\n",
      "550:\tlearn: 0.4418483\ttotal: 1.34s\tremaining: 1.09s\n",
      "551:\tlearn: 0.4417687\ttotal: 1.34s\tremaining: 1.09s\n",
      "552:\tlearn: 0.4416985\ttotal: 1.34s\tremaining: 1.09s\n",
      "553:\tlearn: 0.4416409\ttotal: 1.35s\tremaining: 1.08s\n",
      "554:\tlearn: 0.4415699\ttotal: 1.35s\tremaining: 1.08s\n",
      "555:\tlearn: 0.4415023\ttotal: 1.35s\tremaining: 1.08s\n",
      "556:\tlearn: 0.4413903\ttotal: 1.35s\tremaining: 1.08s\n",
      "557:\tlearn: 0.4413130\ttotal: 1.36s\tremaining: 1.07s\n",
      "558:\tlearn: 0.4411725\ttotal: 1.36s\tremaining: 1.07s\n",
      "559:\tlearn: 0.4410955\ttotal: 1.36s\tremaining: 1.07s\n",
      "560:\tlearn: 0.4409446\ttotal: 1.36s\tremaining: 1.07s\n",
      "561:\tlearn: 0.4408706\ttotal: 1.37s\tremaining: 1.06s\n",
      "562:\tlearn: 0.4407316\ttotal: 1.37s\tremaining: 1.06s\n",
      "563:\tlearn: 0.4406361\ttotal: 1.37s\tremaining: 1.06s\n",
      "564:\tlearn: 0.4405205\ttotal: 1.37s\tremaining: 1.06s\n",
      "565:\tlearn: 0.4404635\ttotal: 1.38s\tremaining: 1.05s\n",
      "566:\tlearn: 0.4403729\ttotal: 1.38s\tremaining: 1.05s\n",
      "567:\tlearn: 0.4402850\ttotal: 1.38s\tremaining: 1.05s\n"
     ]
    },
    {
     "name": "stdout",
     "output_type": "stream",
     "text": [
      "568:\tlearn: 0.4401747\ttotal: 1.38s\tremaining: 1.05s\n",
      "569:\tlearn: 0.4401148\ttotal: 1.39s\tremaining: 1.04s\n",
      "570:\tlearn: 0.4400670\ttotal: 1.39s\tremaining: 1.04s\n",
      "571:\tlearn: 0.4399390\ttotal: 1.39s\tremaining: 1.04s\n",
      "572:\tlearn: 0.4398147\ttotal: 1.39s\tremaining: 1.04s\n",
      "573:\tlearn: 0.4397288\ttotal: 1.4s\tremaining: 1.03s\n",
      "574:\tlearn: 0.4396881\ttotal: 1.4s\tremaining: 1.03s\n",
      "575:\tlearn: 0.4396597\ttotal: 1.4s\tremaining: 1.03s\n",
      "576:\tlearn: 0.4395788\ttotal: 1.41s\tremaining: 1.03s\n",
      "577:\tlearn: 0.4394395\ttotal: 1.41s\tremaining: 1.03s\n",
      "578:\tlearn: 0.4393786\ttotal: 1.41s\tremaining: 1.03s\n",
      "579:\tlearn: 0.4393346\ttotal: 1.42s\tremaining: 1.02s\n",
      "580:\tlearn: 0.4392394\ttotal: 1.42s\tremaining: 1.02s\n",
      "581:\tlearn: 0.4392308\ttotal: 1.42s\tremaining: 1.02s\n",
      "582:\tlearn: 0.4391925\ttotal: 1.42s\tremaining: 1.02s\n",
      "583:\tlearn: 0.4391717\ttotal: 1.43s\tremaining: 1.01s\n",
      "584:\tlearn: 0.4391315\ttotal: 1.43s\tremaining: 1.01s\n",
      "585:\tlearn: 0.4390726\ttotal: 1.43s\tremaining: 1.01s\n",
      "586:\tlearn: 0.4389843\ttotal: 1.43s\tremaining: 1.01s\n",
      "587:\tlearn: 0.4389594\ttotal: 1.43s\tremaining: 1s\n",
      "588:\tlearn: 0.4389545\ttotal: 1.44s\tremaining: 1s\n",
      "589:\tlearn: 0.4388474\ttotal: 1.44s\tremaining: 1000ms\n",
      "590:\tlearn: 0.4387694\ttotal: 1.44s\tremaining: 997ms\n",
      "591:\tlearn: 0.4386709\ttotal: 1.44s\tremaining: 995ms\n",
      "592:\tlearn: 0.4386418\ttotal: 1.45s\tremaining: 993ms\n",
      "593:\tlearn: 0.4385996\ttotal: 1.45s\tremaining: 990ms\n",
      "594:\tlearn: 0.4385048\ttotal: 1.45s\tremaining: 988ms\n",
      "595:\tlearn: 0.4384640\ttotal: 1.45s\tremaining: 985ms\n",
      "596:\tlearn: 0.4384014\ttotal: 1.46s\tremaining: 983ms\n",
      "597:\tlearn: 0.4383379\ttotal: 1.46s\tremaining: 980ms\n",
      "598:\tlearn: 0.4383018\ttotal: 1.46s\tremaining: 978ms\n",
      "599:\tlearn: 0.4382431\ttotal: 1.46s\tremaining: 975ms\n",
      "600:\tlearn: 0.4381747\ttotal: 1.47s\tremaining: 973ms\n",
      "601:\tlearn: 0.4381072\ttotal: 1.47s\tremaining: 970ms\n",
      "602:\tlearn: 0.4380001\ttotal: 1.47s\tremaining: 968ms\n",
      "603:\tlearn: 0.4379344\ttotal: 1.47s\tremaining: 966ms\n",
      "604:\tlearn: 0.4378555\ttotal: 1.48s\tremaining: 963ms\n",
      "605:\tlearn: 0.4377161\ttotal: 1.48s\tremaining: 961ms\n",
      "606:\tlearn: 0.4376624\ttotal: 1.48s\tremaining: 958ms\n",
      "607:\tlearn: 0.4375599\ttotal: 1.48s\tremaining: 956ms\n",
      "608:\tlearn: 0.4375280\ttotal: 1.48s\tremaining: 953ms\n",
      "609:\tlearn: 0.4374581\ttotal: 1.49s\tremaining: 952ms\n",
      "610:\tlearn: 0.4373691\ttotal: 1.49s\tremaining: 949ms\n",
      "611:\tlearn: 0.4373036\ttotal: 1.49s\tremaining: 947ms\n",
      "612:\tlearn: 0.4371703\ttotal: 1.5s\tremaining: 945ms\n",
      "613:\tlearn: 0.4370582\ttotal: 1.5s\tremaining: 942ms\n",
      "614:\tlearn: 0.4369781\ttotal: 1.5s\tremaining: 939ms\n",
      "615:\tlearn: 0.4369175\ttotal: 1.5s\tremaining: 937ms\n",
      "616:\tlearn: 0.4368181\ttotal: 1.5s\tremaining: 934ms\n",
      "617:\tlearn: 0.4367539\ttotal: 1.51s\tremaining: 932ms\n",
      "618:\tlearn: 0.4367186\ttotal: 1.51s\tremaining: 929ms\n",
      "619:\tlearn: 0.4366390\ttotal: 1.51s\tremaining: 927ms\n",
      "620:\tlearn: 0.4366018\ttotal: 1.51s\tremaining: 924ms\n",
      "621:\tlearn: 0.4365746\ttotal: 1.52s\tremaining: 922ms\n",
      "622:\tlearn: 0.4365238\ttotal: 1.52s\tremaining: 919ms\n",
      "623:\tlearn: 0.4364598\ttotal: 1.52s\tremaining: 917ms\n",
      "624:\tlearn: 0.4364349\ttotal: 1.52s\tremaining: 915ms\n",
      "625:\tlearn: 0.4363826\ttotal: 1.53s\tremaining: 912ms\n",
      "626:\tlearn: 0.4363139\ttotal: 1.53s\tremaining: 910ms\n",
      "627:\tlearn: 0.4362386\ttotal: 1.53s\tremaining: 907ms\n",
      "628:\tlearn: 0.4361820\ttotal: 1.53s\tremaining: 905ms\n",
      "629:\tlearn: 0.4361259\ttotal: 1.54s\tremaining: 902ms\n",
      "630:\tlearn: 0.4360498\ttotal: 1.54s\tremaining: 900ms\n",
      "631:\tlearn: 0.4359693\ttotal: 1.54s\tremaining: 897ms\n",
      "632:\tlearn: 0.4359153\ttotal: 1.54s\tremaining: 895ms\n",
      "633:\tlearn: 0.4358063\ttotal: 1.55s\tremaining: 893ms\n",
      "634:\tlearn: 0.4357700\ttotal: 1.55s\tremaining: 890ms\n",
      "635:\tlearn: 0.4357352\ttotal: 1.55s\tremaining: 888ms\n",
      "636:\tlearn: 0.4356905\ttotal: 1.55s\tremaining: 885ms\n",
      "637:\tlearn: 0.4356510\ttotal: 1.56s\tremaining: 883ms\n",
      "638:\tlearn: 0.4355787\ttotal: 1.56s\tremaining: 881ms\n",
      "639:\tlearn: 0.4355323\ttotal: 1.56s\tremaining: 878ms\n",
      "640:\tlearn: 0.4354588\ttotal: 1.56s\tremaining: 876ms\n",
      "641:\tlearn: 0.4354234\ttotal: 1.56s\tremaining: 873ms\n",
      "642:\tlearn: 0.4353716\ttotal: 1.57s\tremaining: 871ms\n",
      "643:\tlearn: 0.4353392\ttotal: 1.57s\tremaining: 868ms\n",
      "644:\tlearn: 0.4352534\ttotal: 1.57s\tremaining: 866ms\n",
      "645:\tlearn: 0.4351871\ttotal: 1.57s\tremaining: 863ms\n",
      "646:\tlearn: 0.4350913\ttotal: 1.58s\tremaining: 861ms\n",
      "647:\tlearn: 0.4350350\ttotal: 1.58s\tremaining: 858ms\n",
      "648:\tlearn: 0.4349702\ttotal: 1.58s\tremaining: 857ms\n",
      "649:\tlearn: 0.4348896\ttotal: 1.59s\tremaining: 854ms\n",
      "650:\tlearn: 0.4347848\ttotal: 1.59s\tremaining: 852ms\n",
      "651:\tlearn: 0.4346742\ttotal: 1.59s\tremaining: 849ms\n",
      "652:\tlearn: 0.4345619\ttotal: 1.59s\tremaining: 848ms\n",
      "653:\tlearn: 0.4344829\ttotal: 1.6s\tremaining: 846ms\n",
      "654:\tlearn: 0.4344446\ttotal: 1.6s\tremaining: 844ms\n",
      "655:\tlearn: 0.4343624\ttotal: 1.6s\tremaining: 842ms\n",
      "656:\tlearn: 0.4343405\ttotal: 1.61s\tremaining: 840ms\n",
      "657:\tlearn: 0.4342458\ttotal: 1.61s\tremaining: 838ms\n",
      "658:\tlearn: 0.4341431\ttotal: 1.61s\tremaining: 835ms\n",
      "659:\tlearn: 0.4341075\ttotal: 1.62s\tremaining: 833ms\n",
      "660:\tlearn: 0.4340612\ttotal: 1.62s\tremaining: 830ms\n",
      "661:\tlearn: 0.4340263\ttotal: 1.62s\tremaining: 828ms\n",
      "662:\tlearn: 0.4339913\ttotal: 1.62s\tremaining: 826ms\n",
      "663:\tlearn: 0.4339329\ttotal: 1.63s\tremaining: 823ms\n",
      "664:\tlearn: 0.4338411\ttotal: 1.63s\tremaining: 821ms\n",
      "665:\tlearn: 0.4338036\ttotal: 1.63s\tremaining: 818ms\n",
      "666:\tlearn: 0.4336935\ttotal: 1.63s\tremaining: 816ms\n",
      "667:\tlearn: 0.4336688\ttotal: 1.64s\tremaining: 813ms\n",
      "668:\tlearn: 0.4335799\ttotal: 1.64s\tremaining: 810ms\n",
      "669:\tlearn: 0.4334733\ttotal: 1.64s\tremaining: 808ms\n",
      "670:\tlearn: 0.4333831\ttotal: 1.64s\tremaining: 805ms\n",
      "671:\tlearn: 0.4332874\ttotal: 1.65s\tremaining: 803ms\n",
      "672:\tlearn: 0.4332737\ttotal: 1.65s\tremaining: 800ms\n",
      "673:\tlearn: 0.4332056\ttotal: 1.65s\tremaining: 798ms\n",
      "674:\tlearn: 0.4331311\ttotal: 1.65s\tremaining: 795ms\n",
      "675:\tlearn: 0.4330781\ttotal: 1.65s\tremaining: 793ms\n",
      "676:\tlearn: 0.4329680\ttotal: 1.66s\tremaining: 790ms\n",
      "677:\tlearn: 0.4328448\ttotal: 1.66s\tremaining: 788ms\n",
      "678:\tlearn: 0.4327368\ttotal: 1.66s\tremaining: 785ms\n",
      "679:\tlearn: 0.4326519\ttotal: 1.66s\tremaining: 783ms\n",
      "680:\tlearn: 0.4325753\ttotal: 1.67s\tremaining: 780ms\n",
      "681:\tlearn: 0.4324799\ttotal: 1.67s\tremaining: 778ms\n",
      "682:\tlearn: 0.4324361\ttotal: 1.67s\tremaining: 775ms\n",
      "683:\tlearn: 0.4323210\ttotal: 1.67s\tremaining: 773ms\n",
      "684:\tlearn: 0.4322171\ttotal: 1.68s\tremaining: 770ms\n",
      "685:\tlearn: 0.4321686\ttotal: 1.68s\tremaining: 768ms\n",
      "686:\tlearn: 0.4321327\ttotal: 1.68s\tremaining: 766ms\n",
      "687:\tlearn: 0.4321107\ttotal: 1.68s\tremaining: 763ms\n",
      "688:\tlearn: 0.4320463\ttotal: 1.68s\tremaining: 761ms\n",
      "689:\tlearn: 0.4319521\ttotal: 1.69s\tremaining: 758ms\n",
      "690:\tlearn: 0.4318786\ttotal: 1.69s\tremaining: 756ms\n",
      "691:\tlearn: 0.4317850\ttotal: 1.69s\tremaining: 754ms\n",
      "692:\tlearn: 0.4317172\ttotal: 1.7s\tremaining: 751ms\n",
      "693:\tlearn: 0.4316576\ttotal: 1.7s\tremaining: 749ms\n",
      "694:\tlearn: 0.4315582\ttotal: 1.7s\tremaining: 746ms\n",
      "695:\tlearn: 0.4315233\ttotal: 1.7s\tremaining: 744ms\n",
      "696:\tlearn: 0.4314289\ttotal: 1.71s\tremaining: 741ms\n",
      "697:\tlearn: 0.4313432\ttotal: 1.71s\tremaining: 739ms\n",
      "698:\tlearn: 0.4312534\ttotal: 1.71s\tremaining: 736ms\n",
      "699:\tlearn: 0.4311625\ttotal: 1.71s\tremaining: 734ms\n",
      "700:\tlearn: 0.4310689\ttotal: 1.71s\tremaining: 731ms\n",
      "701:\tlearn: 0.4309772\ttotal: 1.72s\tremaining: 729ms\n",
      "702:\tlearn: 0.4308833\ttotal: 1.72s\tremaining: 726ms\n",
      "703:\tlearn: 0.4307955\ttotal: 1.72s\tremaining: 724ms\n",
      "704:\tlearn: 0.4307905\ttotal: 1.72s\tremaining: 721ms\n",
      "705:\tlearn: 0.4307380\ttotal: 1.73s\tremaining: 719ms\n",
      "706:\tlearn: 0.4306755\ttotal: 1.73s\tremaining: 716ms\n",
      "707:\tlearn: 0.4306394\ttotal: 1.73s\tremaining: 715ms\n",
      "708:\tlearn: 0.4304885\ttotal: 1.74s\tremaining: 713ms\n",
      "709:\tlearn: 0.4304455\ttotal: 1.74s\tremaining: 711ms\n",
      "710:\tlearn: 0.4303964\ttotal: 1.74s\tremaining: 708ms\n",
      "711:\tlearn: 0.4303224\ttotal: 1.74s\tremaining: 706ms\n",
      "712:\tlearn: 0.4302344\ttotal: 1.75s\tremaining: 703ms\n",
      "713:\tlearn: 0.4301817\ttotal: 1.75s\tremaining: 701ms\n",
      "714:\tlearn: 0.4300920\ttotal: 1.75s\tremaining: 698ms\n",
      "715:\tlearn: 0.4299788\ttotal: 1.75s\tremaining: 696ms\n",
      "716:\tlearn: 0.4299289\ttotal: 1.75s\tremaining: 693ms\n",
      "717:\tlearn: 0.4298368\ttotal: 1.76s\tremaining: 691ms\n",
      "718:\tlearn: 0.4297790\ttotal: 1.76s\tremaining: 688ms\n",
      "719:\tlearn: 0.4297147\ttotal: 1.76s\tremaining: 686ms\n",
      "720:\tlearn: 0.4296536\ttotal: 1.76s\tremaining: 683ms\n",
      "721:\tlearn: 0.4296377\ttotal: 1.77s\tremaining: 681ms\n",
      "722:\tlearn: 0.4295522\ttotal: 1.77s\tremaining: 678ms\n",
      "723:\tlearn: 0.4295208\ttotal: 1.77s\tremaining: 676ms\n",
      "724:\tlearn: 0.4295146\ttotal: 1.77s\tremaining: 673ms\n",
      "725:\tlearn: 0.4294744\ttotal: 1.78s\tremaining: 670ms\n",
      "726:\tlearn: 0.4293967\ttotal: 1.78s\tremaining: 668ms\n",
      "727:\tlearn: 0.4293492\ttotal: 1.78s\tremaining: 666ms\n",
      "728:\tlearn: 0.4292719\ttotal: 1.78s\tremaining: 663ms\n",
      "729:\tlearn: 0.4291848\ttotal: 1.79s\tremaining: 661ms\n",
      "730:\tlearn: 0.4291245\ttotal: 1.79s\tremaining: 659ms\n",
      "731:\tlearn: 0.4290388\ttotal: 1.79s\tremaining: 657ms\n",
      "732:\tlearn: 0.4290067\ttotal: 1.8s\tremaining: 655ms\n",
      "733:\tlearn: 0.4288978\ttotal: 1.8s\tremaining: 653ms\n",
      "734:\tlearn: 0.4287935\ttotal: 1.8s\tremaining: 651ms\n",
      "735:\tlearn: 0.4287417\ttotal: 1.81s\tremaining: 648ms\n",
      "736:\tlearn: 0.4287055\ttotal: 1.81s\tremaining: 646ms\n",
      "737:\tlearn: 0.4286636\ttotal: 1.81s\tremaining: 643ms\n",
      "738:\tlearn: 0.4286104\ttotal: 1.81s\tremaining: 641ms\n",
      "739:\tlearn: 0.4285149\ttotal: 1.82s\tremaining: 638ms\n",
      "740:\tlearn: 0.4284091\ttotal: 1.82s\tremaining: 636ms\n",
      "741:\tlearn: 0.4283540\ttotal: 1.82s\tremaining: 633ms\n",
      "742:\tlearn: 0.4282681\ttotal: 1.82s\tremaining: 631ms\n",
      "743:\tlearn: 0.4282344\ttotal: 1.83s\tremaining: 629ms\n",
      "744:\tlearn: 0.4281864\ttotal: 1.83s\tremaining: 626ms\n",
      "745:\tlearn: 0.4281370\ttotal: 1.83s\tremaining: 624ms\n",
      "746:\tlearn: 0.4280373\ttotal: 1.83s\tremaining: 621ms\n",
      "747:\tlearn: 0.4279534\ttotal: 1.84s\tremaining: 619ms\n",
      "748:\tlearn: 0.4278765\ttotal: 1.84s\tremaining: 617ms\n",
      "749:\tlearn: 0.4277874\ttotal: 1.84s\tremaining: 615ms\n",
      "750:\tlearn: 0.4277247\ttotal: 1.85s\tremaining: 613ms\n",
      "751:\tlearn: 0.4276947\ttotal: 1.85s\tremaining: 611ms\n",
      "752:\tlearn: 0.4276201\ttotal: 1.86s\tremaining: 609ms\n",
      "753:\tlearn: 0.4275424\ttotal: 1.86s\tremaining: 606ms\n",
      "754:\tlearn: 0.4274884\ttotal: 1.86s\tremaining: 604ms\n",
      "755:\tlearn: 0.4274421\ttotal: 1.86s\tremaining: 601ms\n",
      "756:\tlearn: 0.4274380\ttotal: 1.86s\tremaining: 599ms\n",
      "757:\tlearn: 0.4273417\ttotal: 1.87s\tremaining: 596ms\n",
      "758:\tlearn: 0.4272957\ttotal: 1.87s\tremaining: 594ms\n",
      "759:\tlearn: 0.4272418\ttotal: 1.87s\tremaining: 591ms\n",
      "760:\tlearn: 0.4271875\ttotal: 1.87s\tremaining: 588ms\n",
      "761:\tlearn: 0.4271170\ttotal: 1.88s\tremaining: 586ms\n",
      "762:\tlearn: 0.4270639\ttotal: 1.88s\tremaining: 583ms\n",
      "763:\tlearn: 0.4269965\ttotal: 1.88s\tremaining: 581ms\n",
      "764:\tlearn: 0.4269013\ttotal: 1.88s\tremaining: 579ms\n",
      "765:\tlearn: 0.4268526\ttotal: 1.89s\tremaining: 576ms\n",
      "766:\tlearn: 0.4268123\ttotal: 1.89s\tremaining: 574ms\n",
      "767:\tlearn: 0.4267587\ttotal: 1.89s\tremaining: 571ms\n",
      "768:\tlearn: 0.4266863\ttotal: 1.89s\tremaining: 569ms\n",
      "769:\tlearn: 0.4266260\ttotal: 1.9s\tremaining: 566ms\n",
      "770:\tlearn: 0.4265292\ttotal: 1.9s\tremaining: 564ms\n",
      "771:\tlearn: 0.4264410\ttotal: 1.9s\tremaining: 561ms\n",
      "772:\tlearn: 0.4263644\ttotal: 1.9s\tremaining: 559ms\n",
      "773:\tlearn: 0.4262665\ttotal: 1.9s\tremaining: 556ms\n",
      "774:\tlearn: 0.4261988\ttotal: 1.91s\tremaining: 554ms\n",
      "775:\tlearn: 0.4261452\ttotal: 1.91s\tremaining: 551ms\n",
      "776:\tlearn: 0.4260806\ttotal: 1.91s\tremaining: 549ms\n",
      "777:\tlearn: 0.4260283\ttotal: 1.91s\tremaining: 546ms\n",
      "778:\tlearn: 0.4259514\ttotal: 1.92s\tremaining: 544ms\n",
      "779:\tlearn: 0.4258723\ttotal: 1.92s\tremaining: 541ms\n",
      "780:\tlearn: 0.4258169\ttotal: 1.92s\tremaining: 539ms\n",
      "781:\tlearn: 0.4257388\ttotal: 1.92s\tremaining: 536ms\n",
      "782:\tlearn: 0.4256821\ttotal: 1.93s\tremaining: 534ms\n",
      "783:\tlearn: 0.4256389\ttotal: 1.93s\tremaining: 531ms\n",
      "784:\tlearn: 0.4255745\ttotal: 1.93s\tremaining: 529ms\n",
      "785:\tlearn: 0.4255445\ttotal: 1.93s\tremaining: 527ms\n",
      "786:\tlearn: 0.4254702\ttotal: 1.94s\tremaining: 524ms\n",
      "787:\tlearn: 0.4254050\ttotal: 1.94s\tremaining: 522ms\n",
      "788:\tlearn: 0.4253099\ttotal: 1.94s\tremaining: 519ms\n",
      "789:\tlearn: 0.4252519\ttotal: 1.94s\tremaining: 517ms\n",
      "790:\tlearn: 0.4251791\ttotal: 1.95s\tremaining: 514ms\n",
      "791:\tlearn: 0.4251657\ttotal: 1.95s\tremaining: 512ms\n",
      "792:\tlearn: 0.4250591\ttotal: 1.95s\tremaining: 509ms\n",
      "793:\tlearn: 0.4250262\ttotal: 1.95s\tremaining: 507ms\n",
      "794:\tlearn: 0.4249093\ttotal: 1.96s\tremaining: 504ms\n",
      "795:\tlearn: 0.4248191\ttotal: 1.96s\tremaining: 502ms\n",
      "796:\tlearn: 0.4247433\ttotal: 1.96s\tremaining: 499ms\n",
      "797:\tlearn: 0.4246670\ttotal: 1.96s\tremaining: 497ms\n",
      "798:\tlearn: 0.4246281\ttotal: 1.96s\tremaining: 494ms\n",
      "799:\tlearn: 0.4245786\ttotal: 1.97s\tremaining: 492ms\n",
      "800:\tlearn: 0.4245193\ttotal: 1.97s\tremaining: 489ms\n",
      "801:\tlearn: 0.4244486\ttotal: 1.97s\tremaining: 487ms\n"
     ]
    },
    {
     "name": "stdout",
     "output_type": "stream",
     "text": [
      "802:\tlearn: 0.4243572\ttotal: 1.98s\tremaining: 485ms\n",
      "803:\tlearn: 0.4242663\ttotal: 1.98s\tremaining: 483ms\n",
      "804:\tlearn: 0.4242194\ttotal: 1.98s\tremaining: 481ms\n",
      "805:\tlearn: 0.4241485\ttotal: 1.99s\tremaining: 479ms\n",
      "806:\tlearn: 0.4240701\ttotal: 1.99s\tremaining: 476ms\n",
      "807:\tlearn: 0.4239915\ttotal: 1.99s\tremaining: 474ms\n",
      "808:\tlearn: 0.4239119\ttotal: 2s\tremaining: 471ms\n",
      "809:\tlearn: 0.4238569\ttotal: 2s\tremaining: 469ms\n",
      "810:\tlearn: 0.4237392\ttotal: 2s\tremaining: 466ms\n",
      "811:\tlearn: 0.4237046\ttotal: 2s\tremaining: 464ms\n",
      "812:\tlearn: 0.4236162\ttotal: 2.01s\tremaining: 462ms\n",
      "813:\tlearn: 0.4235797\ttotal: 2.01s\tremaining: 459ms\n",
      "814:\tlearn: 0.4234900\ttotal: 2.01s\tremaining: 457ms\n",
      "815:\tlearn: 0.4234395\ttotal: 2.02s\tremaining: 454ms\n",
      "816:\tlearn: 0.4233440\ttotal: 2.02s\tremaining: 452ms\n",
      "817:\tlearn: 0.4232387\ttotal: 2.02s\tremaining: 449ms\n",
      "818:\tlearn: 0.4231292\ttotal: 2.02s\tremaining: 447ms\n",
      "819:\tlearn: 0.4230897\ttotal: 2.02s\tremaining: 444ms\n",
      "820:\tlearn: 0.4230340\ttotal: 2.03s\tremaining: 442ms\n",
      "821:\tlearn: 0.4229595\ttotal: 2.03s\tremaining: 439ms\n",
      "822:\tlearn: 0.4229091\ttotal: 2.03s\tremaining: 437ms\n",
      "823:\tlearn: 0.4228557\ttotal: 2.03s\tremaining: 434ms\n",
      "824:\tlearn: 0.4227990\ttotal: 2.04s\tremaining: 432ms\n",
      "825:\tlearn: 0.4227228\ttotal: 2.04s\tremaining: 429ms\n",
      "826:\tlearn: 0.4226847\ttotal: 2.04s\tremaining: 427ms\n",
      "827:\tlearn: 0.4226313\ttotal: 2.04s\tremaining: 424ms\n",
      "828:\tlearn: 0.4225463\ttotal: 2.04s\tremaining: 422ms\n",
      "829:\tlearn: 0.4224758\ttotal: 2.05s\tremaining: 419ms\n",
      "830:\tlearn: 0.4224075\ttotal: 2.05s\tremaining: 417ms\n",
      "831:\tlearn: 0.4223606\ttotal: 2.05s\tremaining: 415ms\n",
      "832:\tlearn: 0.4223065\ttotal: 2.06s\tremaining: 412ms\n",
      "833:\tlearn: 0.4222211\ttotal: 2.06s\tremaining: 410ms\n",
      "834:\tlearn: 0.4221284\ttotal: 2.06s\tremaining: 407ms\n",
      "835:\tlearn: 0.4220686\ttotal: 2.06s\tremaining: 405ms\n",
      "836:\tlearn: 0.4219795\ttotal: 2.06s\tremaining: 402ms\n",
      "837:\tlearn: 0.4219334\ttotal: 2.07s\tremaining: 400ms\n",
      "838:\tlearn: 0.4218783\ttotal: 2.07s\tremaining: 397ms\n",
      "839:\tlearn: 0.4217963\ttotal: 2.07s\tremaining: 395ms\n",
      "840:\tlearn: 0.4217404\ttotal: 2.07s\tremaining: 392ms\n",
      "841:\tlearn: 0.4216405\ttotal: 2.08s\tremaining: 390ms\n",
      "842:\tlearn: 0.4215565\ttotal: 2.08s\tremaining: 387ms\n",
      "843:\tlearn: 0.4215164\ttotal: 2.08s\tremaining: 385ms\n",
      "844:\tlearn: 0.4214862\ttotal: 2.08s\tremaining: 382ms\n",
      "845:\tlearn: 0.4214316\ttotal: 2.08s\tremaining: 380ms\n",
      "846:\tlearn: 0.4213474\ttotal: 2.09s\tremaining: 377ms\n",
      "847:\tlearn: 0.4212673\ttotal: 2.09s\tremaining: 375ms\n",
      "848:\tlearn: 0.4212382\ttotal: 2.09s\tremaining: 372ms\n",
      "849:\tlearn: 0.4211730\ttotal: 2.1s\tremaining: 370ms\n",
      "850:\tlearn: 0.4211353\ttotal: 2.1s\tremaining: 367ms\n",
      "851:\tlearn: 0.4211326\ttotal: 2.1s\tremaining: 365ms\n",
      "852:\tlearn: 0.4210831\ttotal: 2.1s\tremaining: 362ms\n",
      "853:\tlearn: 0.4210275\ttotal: 2.1s\tremaining: 360ms\n",
      "854:\tlearn: 0.4209661\ttotal: 2.11s\tremaining: 357ms\n",
      "855:\tlearn: 0.4208829\ttotal: 2.11s\tremaining: 355ms\n",
      "856:\tlearn: 0.4208396\ttotal: 2.11s\tremaining: 352ms\n",
      "857:\tlearn: 0.4208371\ttotal: 2.11s\tremaining: 350ms\n",
      "858:\tlearn: 0.4207803\ttotal: 2.11s\tremaining: 347ms\n",
      "859:\tlearn: 0.4207512\ttotal: 2.12s\tremaining: 345ms\n",
      "860:\tlearn: 0.4206878\ttotal: 2.12s\tremaining: 343ms\n",
      "861:\tlearn: 0.4206126\ttotal: 2.13s\tremaining: 340ms\n",
      "862:\tlearn: 0.4205358\ttotal: 2.13s\tremaining: 339ms\n",
      "863:\tlearn: 0.4204882\ttotal: 2.14s\tremaining: 336ms\n",
      "864:\tlearn: 0.4204227\ttotal: 2.14s\tremaining: 334ms\n",
      "865:\tlearn: 0.4203637\ttotal: 2.15s\tremaining: 332ms\n",
      "866:\tlearn: 0.4203013\ttotal: 2.15s\tremaining: 330ms\n",
      "867:\tlearn: 0.4202021\ttotal: 2.15s\tremaining: 328ms\n",
      "868:\tlearn: 0.4201288\ttotal: 2.16s\tremaining: 326ms\n",
      "869:\tlearn: 0.4200185\ttotal: 2.16s\tremaining: 323ms\n",
      "870:\tlearn: 0.4199899\ttotal: 2.17s\tremaining: 321ms\n",
      "871:\tlearn: 0.4199185\ttotal: 2.17s\tremaining: 319ms\n",
      "872:\tlearn: 0.4198698\ttotal: 2.18s\tremaining: 317ms\n",
      "873:\tlearn: 0.4198404\ttotal: 2.18s\tremaining: 315ms\n",
      "874:\tlearn: 0.4197099\ttotal: 2.19s\tremaining: 313ms\n",
      "875:\tlearn: 0.4196751\ttotal: 2.19s\tremaining: 310ms\n",
      "876:\tlearn: 0.4195693\ttotal: 2.19s\tremaining: 308ms\n",
      "877:\tlearn: 0.4195239\ttotal: 2.2s\tremaining: 305ms\n",
      "878:\tlearn: 0.4194490\ttotal: 2.2s\tremaining: 303ms\n",
      "879:\tlearn: 0.4193561\ttotal: 2.2s\tremaining: 300ms\n",
      "880:\tlearn: 0.4192860\ttotal: 2.21s\tremaining: 298ms\n",
      "881:\tlearn: 0.4191934\ttotal: 2.21s\tremaining: 295ms\n",
      "882:\tlearn: 0.4191390\ttotal: 2.21s\tremaining: 293ms\n",
      "883:\tlearn: 0.4190831\ttotal: 2.21s\tremaining: 291ms\n",
      "884:\tlearn: 0.4189617\ttotal: 2.22s\tremaining: 288ms\n",
      "885:\tlearn: 0.4188899\ttotal: 2.22s\tremaining: 286ms\n",
      "886:\tlearn: 0.4187730\ttotal: 2.22s\tremaining: 283ms\n",
      "887:\tlearn: 0.4187245\ttotal: 2.23s\tremaining: 281ms\n",
      "888:\tlearn: 0.4186583\ttotal: 2.23s\tremaining: 278ms\n",
      "889:\tlearn: 0.4185577\ttotal: 2.23s\tremaining: 276ms\n",
      "890:\tlearn: 0.4185198\ttotal: 2.23s\tremaining: 273ms\n",
      "891:\tlearn: 0.4185169\ttotal: 2.23s\tremaining: 271ms\n",
      "892:\tlearn: 0.4184153\ttotal: 2.24s\tremaining: 268ms\n",
      "893:\tlearn: 0.4183552\ttotal: 2.24s\tremaining: 266ms\n",
      "894:\tlearn: 0.4182610\ttotal: 2.24s\tremaining: 263ms\n",
      "895:\tlearn: 0.4182225\ttotal: 2.25s\tremaining: 261ms\n",
      "896:\tlearn: 0.4181561\ttotal: 2.25s\tremaining: 258ms\n",
      "897:\tlearn: 0.4181083\ttotal: 2.25s\tremaining: 256ms\n",
      "898:\tlearn: 0.4180126\ttotal: 2.25s\tremaining: 253ms\n",
      "899:\tlearn: 0.4179364\ttotal: 2.25s\tremaining: 250ms\n",
      "900:\tlearn: 0.4178629\ttotal: 2.25s\tremaining: 248ms\n",
      "901:\tlearn: 0.4177819\ttotal: 2.26s\tremaining: 245ms\n",
      "902:\tlearn: 0.4177524\ttotal: 2.26s\tremaining: 243ms\n",
      "903:\tlearn: 0.4177046\ttotal: 2.26s\tremaining: 240ms\n",
      "904:\tlearn: 0.4176342\ttotal: 2.27s\tremaining: 238ms\n",
      "905:\tlearn: 0.4175404\ttotal: 2.27s\tremaining: 235ms\n",
      "906:\tlearn: 0.4174774\ttotal: 2.27s\tremaining: 233ms\n",
      "907:\tlearn: 0.4174346\ttotal: 2.27s\tremaining: 230ms\n",
      "908:\tlearn: 0.4174032\ttotal: 2.28s\tremaining: 228ms\n",
      "909:\tlearn: 0.4173478\ttotal: 2.28s\tremaining: 226ms\n",
      "910:\tlearn: 0.4172790\ttotal: 2.29s\tremaining: 223ms\n",
      "911:\tlearn: 0.4171995\ttotal: 2.29s\tremaining: 221ms\n",
      "912:\tlearn: 0.4171305\ttotal: 2.29s\tremaining: 218ms\n",
      "913:\tlearn: 0.4170498\ttotal: 2.29s\tremaining: 216ms\n",
      "914:\tlearn: 0.4169512\ttotal: 2.3s\tremaining: 213ms\n",
      "915:\tlearn: 0.4168626\ttotal: 2.3s\tremaining: 211ms\n",
      "916:\tlearn: 0.4167254\ttotal: 2.3s\tremaining: 208ms\n",
      "917:\tlearn: 0.4166201\ttotal: 2.3s\tremaining: 206ms\n",
      "918:\tlearn: 0.4166160\ttotal: 2.31s\tremaining: 203ms\n",
      "919:\tlearn: 0.4165628\ttotal: 2.31s\tremaining: 201ms\n",
      "920:\tlearn: 0.4164986\ttotal: 2.31s\tremaining: 198ms\n",
      "921:\tlearn: 0.4164194\ttotal: 2.31s\tremaining: 196ms\n",
      "922:\tlearn: 0.4163434\ttotal: 2.32s\tremaining: 193ms\n",
      "923:\tlearn: 0.4162943\ttotal: 2.32s\tremaining: 191ms\n",
      "924:\tlearn: 0.4161560\ttotal: 2.32s\tremaining: 188ms\n",
      "925:\tlearn: 0.4161081\ttotal: 2.33s\tremaining: 186ms\n",
      "926:\tlearn: 0.4160486\ttotal: 2.33s\tremaining: 184ms\n",
      "927:\tlearn: 0.4159407\ttotal: 2.33s\tremaining: 181ms\n",
      "928:\tlearn: 0.4158853\ttotal: 2.34s\tremaining: 179ms\n",
      "929:\tlearn: 0.4158037\ttotal: 2.34s\tremaining: 176ms\n",
      "930:\tlearn: 0.4157584\ttotal: 2.34s\tremaining: 174ms\n",
      "931:\tlearn: 0.4157300\ttotal: 2.35s\tremaining: 171ms\n",
      "932:\tlearn: 0.4156885\ttotal: 2.35s\tremaining: 169ms\n",
      "933:\tlearn: 0.4156404\ttotal: 2.35s\tremaining: 166ms\n",
      "934:\tlearn: 0.4155547\ttotal: 2.35s\tremaining: 164ms\n",
      "935:\tlearn: 0.4154719\ttotal: 2.35s\tremaining: 161ms\n",
      "936:\tlearn: 0.4154327\ttotal: 2.36s\tremaining: 159ms\n",
      "937:\tlearn: 0.4153171\ttotal: 2.36s\tremaining: 156ms\n",
      "938:\tlearn: 0.4152350\ttotal: 2.36s\tremaining: 153ms\n",
      "939:\tlearn: 0.4151268\ttotal: 2.36s\tremaining: 151ms\n",
      "940:\tlearn: 0.4150758\ttotal: 2.37s\tremaining: 148ms\n",
      "941:\tlearn: 0.4150131\ttotal: 2.37s\tremaining: 146ms\n",
      "942:\tlearn: 0.4148708\ttotal: 2.38s\tremaining: 144ms\n",
      "943:\tlearn: 0.4147979\ttotal: 2.38s\tremaining: 141ms\n",
      "944:\tlearn: 0.4147463\ttotal: 2.38s\tremaining: 139ms\n",
      "945:\tlearn: 0.4146929\ttotal: 2.39s\tremaining: 136ms\n",
      "946:\tlearn: 0.4146070\ttotal: 2.39s\tremaining: 134ms\n",
      "947:\tlearn: 0.4145376\ttotal: 2.4s\tremaining: 131ms\n",
      "948:\tlearn: 0.4144801\ttotal: 2.4s\tremaining: 129ms\n",
      "949:\tlearn: 0.4144213\ttotal: 2.4s\tremaining: 126ms\n",
      "950:\tlearn: 0.4143134\ttotal: 2.41s\tremaining: 124ms\n",
      "951:\tlearn: 0.4142278\ttotal: 2.41s\tremaining: 122ms\n",
      "952:\tlearn: 0.4141195\ttotal: 2.42s\tremaining: 119ms\n",
      "953:\tlearn: 0.4140555\ttotal: 2.42s\tremaining: 117ms\n",
      "954:\tlearn: 0.4139847\ttotal: 2.42s\tremaining: 114ms\n",
      "955:\tlearn: 0.4138967\ttotal: 2.43s\tremaining: 112ms\n",
      "956:\tlearn: 0.4137871\ttotal: 2.43s\tremaining: 109ms\n",
      "957:\tlearn: 0.4136883\ttotal: 2.44s\tremaining: 107ms\n",
      "958:\tlearn: 0.4136002\ttotal: 2.44s\tremaining: 104ms\n",
      "959:\tlearn: 0.4135141\ttotal: 2.45s\tremaining: 102ms\n",
      "960:\tlearn: 0.4134376\ttotal: 2.45s\tremaining: 99.4ms\n",
      "961:\tlearn: 0.4133647\ttotal: 2.45s\tremaining: 96.9ms\n",
      "962:\tlearn: 0.4132975\ttotal: 2.46s\tremaining: 94.4ms\n",
      "963:\tlearn: 0.4132287\ttotal: 2.46s\tremaining: 91.8ms\n",
      "964:\tlearn: 0.4131441\ttotal: 2.46s\tremaining: 89.3ms\n",
      "965:\tlearn: 0.4130738\ttotal: 2.46s\tremaining: 86.8ms\n",
      "966:\tlearn: 0.4129748\ttotal: 2.47s\tremaining: 84.2ms\n",
      "967:\tlearn: 0.4128877\ttotal: 2.47s\tremaining: 81.7ms\n",
      "968:\tlearn: 0.4127968\ttotal: 2.47s\tremaining: 79.1ms\n",
      "969:\tlearn: 0.4127383\ttotal: 2.48s\tremaining: 76.6ms\n",
      "970:\tlearn: 0.4126789\ttotal: 2.48s\tremaining: 74ms\n",
      "971:\tlearn: 0.4125723\ttotal: 2.48s\tremaining: 71.5ms\n",
      "972:\tlearn: 0.4125160\ttotal: 2.48s\tremaining: 68.9ms\n",
      "973:\tlearn: 0.4124283\ttotal: 2.48s\tremaining: 66.3ms\n",
      "974:\tlearn: 0.4123619\ttotal: 2.49s\tremaining: 63.8ms\n",
      "975:\tlearn: 0.4122892\ttotal: 2.49s\tremaining: 61.2ms\n",
      "976:\tlearn: 0.4122305\ttotal: 2.49s\tremaining: 58.7ms\n",
      "977:\tlearn: 0.4121553\ttotal: 2.5s\tremaining: 56.1ms\n",
      "978:\tlearn: 0.4120790\ttotal: 2.5s\tremaining: 53.6ms\n",
      "979:\tlearn: 0.4119561\ttotal: 2.5s\tremaining: 51.1ms\n",
      "980:\tlearn: 0.4119062\ttotal: 2.5s\tremaining: 48.5ms\n",
      "981:\tlearn: 0.4118354\ttotal: 2.5s\tremaining: 45.9ms\n",
      "982:\tlearn: 0.4117696\ttotal: 2.51s\tremaining: 43.4ms\n",
      "983:\tlearn: 0.4116955\ttotal: 2.51s\tremaining: 40.8ms\n",
      "984:\tlearn: 0.4116504\ttotal: 2.51s\tremaining: 38.3ms\n",
      "985:\tlearn: 0.4115815\ttotal: 2.51s\tremaining: 35.7ms\n",
      "986:\tlearn: 0.4115182\ttotal: 2.52s\tremaining: 33.2ms\n",
      "987:\tlearn: 0.4114753\ttotal: 2.52s\tremaining: 30.6ms\n",
      "988:\tlearn: 0.4113903\ttotal: 2.52s\tremaining: 28.1ms\n",
      "989:\tlearn: 0.4113392\ttotal: 2.53s\tremaining: 25.5ms\n",
      "990:\tlearn: 0.4112528\ttotal: 2.53s\tremaining: 23ms\n",
      "991:\tlearn: 0.4111921\ttotal: 2.53s\tremaining: 20.4ms\n",
      "992:\tlearn: 0.4111216\ttotal: 2.54s\tremaining: 17.9ms\n",
      "993:\tlearn: 0.4110540\ttotal: 2.54s\tremaining: 15.3ms\n",
      "994:\tlearn: 0.4109685\ttotal: 2.54s\tremaining: 12.8ms\n",
      "995:\tlearn: 0.4109269\ttotal: 2.54s\tremaining: 10.2ms\n",
      "996:\tlearn: 0.4108572\ttotal: 2.54s\tremaining: 7.66ms\n",
      "997:\tlearn: 0.4107714\ttotal: 2.55s\tremaining: 5.11ms\n",
      "998:\tlearn: 0.4107129\ttotal: 2.55s\tremaining: 2.55ms\n",
      "999:\tlearn: 0.4106269\ttotal: 2.55s\tremaining: 0us\n"
     ]
    },
    {
     "data": {
      "text/plain": [
       "RandomizedSearchCV(cv=5,\n",
       "                   estimator=Pipeline(steps=[('preprocessor',\n",
       "                                              ColumnTransformer(transformers=[('num',\n",
       "                                                                               Pipeline(steps=[('imputer',\n",
       "                                                                                                SimpleImputer(strategy='median')),\n",
       "                                                                                               ('scaler',\n",
       "                                                                                                PowerTransformer())]),\n",
       "                                                                               Index(['omtioxzz', 'yfmzwkru', 'tiwrsloh', 'weioazcf'], dtype='object')),\n",
       "                                                                              ('ordinal_encoder',\n",
       "                                                                               OrdinalEncoder(),\n",
       "                                                                               ['kjkrfgld',\n",
       "                                                                                'bpowgknt',\n",
       "                                                                                'raksnhjf']),\n",
       "                                                                              ('target_en...\n",
       "                                              <catboost.core.CatBoostClassifier object at 0x7fc4e2f30f70>)]),\n",
       "                   n_iter=5, n_jobs=10,\n",
       "                   param_distributions={'classifier__depth': [6, 7, 8],\n",
       "                                        'classifier__l2_leaf_reg': [3, 4, 5],\n",
       "                                        'classifier__learning_rate': [0.01,\n",
       "                                                                      0.02,\n",
       "                                                                      0.03],\n",
       "                                        'classifier__n_estimators': [100, 200,\n",
       "                                                                     300,\n",
       "                                                                     1000],\n",
       "                                        'preprocessor__target_encoder__sigma': [0.01,\n",
       "                                                                                0.02,\n",
       "                                                                                0.03,\n",
       "                                                                                0.04,\n",
       "                                                                                0.05,\n",
       "                                                                                0.06]},\n",
       "                   random_state=1, scoring='neg_log_loss')"
      ]
     },
     "execution_count": 42,
     "metadata": {},
     "output_type": "execute_result"
    }
   ],
   "source": [
    "cb_fit = rscv_cb.fit(X_train, y_train)\n",
    "cb_fit"
   ]
  },
  {
   "cell_type": "code",
   "execution_count": 34,
   "metadata": {},
   "outputs": [
    {
     "data": {
      "text/plain": [
       "{'preprocessor__target_encoder__sigma': 0.02,\n",
       " 'classifier__n_estimators': 1000,\n",
       " 'classifier__learning_rate': 0.01,\n",
       " 'classifier__l2_leaf_reg': 3,\n",
       " 'classifier__depth': 7}"
      ]
     },
     "execution_count": 34,
     "metadata": {},
     "output_type": "execute_result"
    }
   ],
   "source": [
    "rscv_cb.best_params_"
   ]
  },
  {
   "cell_type": "code",
   "execution_count": 35,
   "metadata": {},
   "outputs": [
    {
     "data": {
      "text/plain": [
       "-0.48449509401353297"
      ]
     },
     "execution_count": 35,
     "metadata": {},
     "output_type": "execute_result"
    }
   ],
   "source": [
    "rscv_cb.best_score_"
   ]
  },
  {
   "cell_type": "code",
   "execution_count": 36,
   "metadata": {},
   "outputs": [
    {
     "data": {
      "text/plain": [
       "0.48796665517308857"
      ]
     },
     "execution_count": 36,
     "metadata": {},
     "output_type": "execute_result"
    }
   ],
   "source": [
    "y_pred_cb = rscv_cb.best_estimator_.predict_proba(X_test)\n",
    "log_loss(y_test, y_pred_cb, eps=1e-15, normalize=True, sample_weight=None, labels=None)"
   ]
  },
  {
   "cell_type": "markdown",
   "metadata": {},
   "source": [
    "## Ensembling Models"
   ]
  },
  {
   "cell_type": "markdown",
   "metadata": {},
   "source": [
    "<b>Figure 1</b>: <b>Ensembling Arquitecture</b> (<i>source: [Datacamp](https://www.datacamp.com/resources/webinars/applied-machine-learning-stacking-ensemble-models?utm_medium=email&utm_source=customerio&utm_campaign=livetraining&utm_id=3679156))</i>)<br>\n",
    "<p align=\"center\">\n",
    "<img src=\"https://github.com/datacamp/Applied-Machine-Learning-Ensemble-Modeling-live-training/blob/master/assets/stacking.png?raw=True\" alt = \"Stacking\" width=\"90%\">\n",
    "</p>\n",
    "<br><br>"
   ]
  },
  {
   "cell_type": "markdown",
   "metadata": {},
   "source": [
    "Check [documentation](https://scikit-learn.org/stable/modules/generated/sklearn.ensemble.StackingClassifier.html) for more information."
   ]
  },
  {
   "cell_type": "code",
   "execution_count": 59,
   "metadata": {},
   "outputs": [
    {
     "data": {
      "text/plain": [
       "0.7416209628275442"
      ]
     },
     "execution_count": 59,
     "metadata": {},
     "output_type": "execute_result"
    }
   ],
   "source": [
    "estimators = [\n",
    "    ('rf', pipe_rf),\n",
    "    ('xgb', pipe_xgb),\n",
    "    ('lgb', pipe_lgb),\n",
    "    ('cb', pipe_cb)\n",
    "]\n",
    "\n",
    "clf_stack = StackingClassifier(\n",
    "    estimators=estimators, final_estimator=LogisticRegression(), cv=5, stack_method='predict_proba', n_jobs=-1\n",
    ")\n",
    "\n",
    "clf_stack.fit(X_train, y_train).score(X_test, y_test)"
   ]
  },
  {
   "cell_type": "code",
   "execution_count": 62,
   "metadata": {},
   "outputs": [
    {
     "data": {
      "text/plain": [
       "0.7428397318708104"
      ]
     },
     "execution_count": 62,
     "metadata": {},
     "output_type": "execute_result"
    }
   ],
   "source": [
    "estimators = [\n",
    "    ('rf', rscv_rf),\n",
    "    ('xgb', rscv_xgb),\n",
    "    ('lgb', rscv_lgb),\n",
    "    ('cb', rscv_cb)\n",
    "]\n",
    "\n",
    "clf_stack = StackingClassifier(\n",
    "    estimators=estimators, final_estimator=LogisticRegression(), cv=5, stack_method='predict_proba', n_jobs=-1\n",
    ")\n",
    "\n",
    "clf_stack.fit(X_train, y_train).score(X_test, y_test)"
   ]
  },
  {
   "cell_type": "markdown",
   "metadata": {},
   "source": [
    "## A Neural Network model for binary classification"
   ]
  },
  {
   "cell_type": "markdown",
   "metadata": {},
   "source": [
    "Check this DataCamp [course](https://learn.datacamp.com/courses/deep-learning-with-keras-in-python) for more information.<br>\n",
    "\n",
    "However, an unresolved Attribute error pops up while importing tensorflow / keras libraries ([GitHub issue](https://github.com/tensorflow/tensorflow/issues/38012)). Unluckily, this solution (python 3.6) is not valid for python 3.8. Therefore, this neural network could not be fitted."
   ]
  },
  {
   "cell_type": "code",
   "execution_count": 119,
   "metadata": {
    "collapsed": true
   },
   "outputs": [
    {
     "ename": "SyntaxError",
     "evalue": "invalid syntax (<ipython-input-119-252077236823>, line 19)",
     "output_type": "error",
     "traceback": [
      "\u001b[0;36m  File \u001b[0;32m\"<ipython-input-119-252077236823>\"\u001b[0;36m, line \u001b[0;32m19\u001b[0m\n\u001b[0;31m    random_search = RandomizedSearchCV(pipe, params_dist=params, cv=3)\u001b[0m\n\u001b[0m    ^\u001b[0m\n\u001b[0;31mSyntaxError\u001b[0m\u001b[0;31m:\u001b[0m invalid syntax\n"
     ]
    }
   ],
   "source": [
    "# Function that creates a Keras model\n",
    "def create_model(optimizer='sgd', activation='tanh'):\n",
    "    model = Sequential()\n",
    "    model.add(Dense(4, input_shape=(2,), activation=activation))\n",
    "    model.add(Dense(1, activation='sigmoid'))\n",
    "    model.compile(optimizer=optimizer, loss='binary_crossentropy')\n",
    "    return model\n",
    "    \n",
    "# Create a model a sklearn estimator\n",
    "model = KerasClassifier(build_fn=create_model, epochs=6, batch_size=16)\n",
    "    \n",
    "# Plug the model into the pipeline\n",
    "pipe = Pipeline([('column_transform', column_trans), ('classifier', model)])\n",
    "    \n",
    "# Random search on a Keras model\n",
    "params = dict(optimizer=['sgd', 'adam'], epochs=3,\n",
    "              batch_size=[5, 10, 20], activation=['tanh', 'LeakyReLU']\n",
    "              \n",
    "rscv_nn = RandomizedSearchCV(pipe, params_dist=params, cv=3)\n",
    "              \n",
    "# Model fit\n",
    "rscv_nn.fit(X_train, y_train)\n",
    "              \n",
    "rscv_nn.best_scores_\n",
    "rscv_nn.best_params_\n",
    "              "
   ]
  },
  {
   "cell_type": "code",
   "execution_count": null,
   "metadata": {},
   "outputs": [],
   "source": [
    "# Model test\n",
    "y_pred_nn = model.predict_proba(X_test)\n",
    "\n",
    "test_loss, test_acc = model.evaluate(X_test, y_test)\n",
    "print('Test accuracy: {}, Test loss: {}'.format(test_acc, test_loss))"
   ]
  },
  {
   "cell_type": "markdown",
   "metadata": {},
   "source": [
    "## Save results in .csv file"
   ]
  },
  {
   "cell_type": "code",
   "execution_count": 72,
   "metadata": {},
   "outputs": [
    {
     "data": {
      "text/plain": [
       "array([[0.60399086, 0.39600914],\n",
       "       [0.48768158, 0.51231842],\n",
       "       [0.36755581, 0.63244419],\n",
       "       ...,\n",
       "       [0.93259486, 0.06740514],\n",
       "       [0.30439007, 0.69560993],\n",
       "       [0.60212311, 0.39787689]])"
      ]
     },
     "execution_count": 72,
     "metadata": {},
     "output_type": "execute_result"
    }
   ],
   "source": [
    "y_pred_cb"
   ]
  },
  {
   "cell_type": "code",
   "execution_count": 123,
   "metadata": {},
   "outputs": [],
   "source": [
    "index = data_test.reset_index().id\n",
    "results = pd.DataFrame(index=index)\n",
    "results['poor'] = y_pred_cb[:, 1]"
   ]
  },
  {
   "cell_type": "code",
   "execution_count": 129,
   "metadata": {},
   "outputs": [
    {
     "data": {
      "text/html": [
       "<div>\n",
       "<style scoped>\n",
       "    .dataframe tbody tr th:only-of-type {\n",
       "        vertical-align: middle;\n",
       "    }\n",
       "\n",
       "    .dataframe tbody tr th {\n",
       "        vertical-align: top;\n",
       "    }\n",
       "\n",
       "    .dataframe thead th {\n",
       "        text-align: right;\n",
       "    }\n",
       "</style>\n",
       "<table border=\"1\" class=\"dataframe\">\n",
       "  <thead>\n",
       "    <tr style=\"text-align: right;\">\n",
       "      <th></th>\n",
       "      <th>poor</th>\n",
       "    </tr>\n",
       "    <tr>\n",
       "      <th>id</th>\n",
       "      <th></th>\n",
       "    </tr>\n",
       "  </thead>\n",
       "  <tbody>\n",
       "    <tr>\n",
       "      <th>30092</th>\n",
       "      <td>0.758359</td>\n",
       "    </tr>\n",
       "    <tr>\n",
       "      <th>38226</th>\n",
       "      <td>0.415584</td>\n",
       "    </tr>\n",
       "    <tr>\n",
       "      <th>36893</th>\n",
       "      <td>0.067405</td>\n",
       "    </tr>\n",
       "    <tr>\n",
       "      <th>97193</th>\n",
       "      <td>0.695610</td>\n",
       "    </tr>\n",
       "    <tr>\n",
       "      <th>83638</th>\n",
       "      <td>0.397877</td>\n",
       "    </tr>\n",
       "  </tbody>\n",
       "</table>\n",
       "</div>"
      ],
      "text/plain": [
       "           poor\n",
       "id             \n",
       "30092  0.758359\n",
       "38226  0.415584\n",
       "36893  0.067405\n",
       "97193  0.695610\n",
       "83638  0.397877"
      ]
     },
     "execution_count": 129,
     "metadata": {},
     "output_type": "execute_result"
    }
   ],
   "source": [
    "results.tail()"
   ]
  },
  {
   "cell_type": "code",
   "execution_count": 130,
   "metadata": {},
   "outputs": [],
   "source": [
    "results.to_csv('../model/results.csv')"
   ]
  },
  {
   "cell_type": "markdown",
   "metadata": {},
   "source": [
    "# Productivization Plan\n",
    "<div style = \"float:right\"><a style=\"text-decoration:none\" href = \"#inicio\">Inicio</a></div>"
   ]
  },
  {
   "cell_type": "markdown",
   "metadata": {},
   "source": [
    "After building a model in lab conditions, we shall export a copy of it to the production server, where new data will be labelled. This process is called model deployment or pushing to production. To enable this, we shall serialize our model, that is, convert it to a binary file with pickle.<br>\n",
    "\n",
    "As proceeded, we encapsulate the whole process into a single object (pipeline) to interact with production unless we want to repeat one or various processes in production. We shall aim at avoiding bugs which can eventually cause financial problems."
   ]
  },
  {
   "cell_type": "markdown",
   "metadata": {},
   "source": [
    "<b>Figure 1</b>: <b>Model Deployment</b> (<i>source: [Datacamp](https://learn.datacamp.com/courses/designing-machine-learning-workflows-in-python)</i>)<br>\n",
    "<p align=\"center\">\n",
    "<img src=\"../images/model_deployment.png\">"
   ]
  },
  {
   "cell_type": "markdown",
   "metadata": {},
   "source": [
    "Save pickle file in write mode."
   ]
  },
  {
   "cell_type": "code",
   "execution_count": 67,
   "metadata": {},
   "outputs": [],
   "source": [
    "with open('../model/model.pkl', 'wb') as file:\n",
    "    pickle.dump(rscv_cb.best_estimator_, file=file)"
   ]
  },
  {
   "cell_type": "markdown",
   "metadata": {},
   "source": [
    "Load pickle file in read mode."
   ]
  },
  {
   "cell_type": "code",
   "execution_count": 68,
   "metadata": {},
   "outputs": [],
   "source": [
    "with open('../model/model.pkl', 'rb') as file:\n",
    "    clf2 = pickle.load(file)"
   ]
  }
 ],
 "metadata": {
  "kernelspec": {
   "display_name": "Python 3",
   "language": "python",
   "name": "python3"
  },
  "language_info": {
   "codemirror_mode": {
    "name": "ipython",
    "version": 3
   },
   "file_extension": ".py",
   "mimetype": "text/x-python",
   "name": "python",
   "nbconvert_exporter": "python",
   "pygments_lexer": "ipython3",
   "version": "3.8.5"
  }
 },
 "nbformat": 4,
 "nbformat_minor": 4
}
