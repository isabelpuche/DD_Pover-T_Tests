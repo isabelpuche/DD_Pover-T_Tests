{
 "cells": [
  {
   "cell_type": "markdown",
   "metadata": {},
   "source": [
    "# Table of Contents\n",
    "\n",
    "1. [Business Understanding](#Business-Understanding)\n",
    "2. [Exploratory Data Analysis](#Exploratory-Data-Analysis)\n",
    "3. [Data Preprocessing](#Data-Preprocessing)\n",
    "4. [Model Building](#Model-Building)\n",
    "5. [Productivization Plan](#Productivization-Plan)"
   ]
  },
  {
   "cell_type": "code",
   "execution_count": 1,
   "metadata": {},
   "outputs": [],
   "source": [
    "%matplotlib inline\n",
    "import matplotlib.pyplot as plt\n",
    "import seaborn as sns\n",
    "import copy\n",
    "import pandas as pd\n",
    "import numpy as np\n",
    "\n",
    "from sklearn.impute import SimpleImputer\n",
    "from sklearn.preprocessing import PowerTransformer\n",
    "from sklearn.compose import ColumnTransformer\n",
    "\n",
    "from sklearn.pipeline import Pipeline\n",
    "from category_encoders import OrdinalEncoder, LeaveOneOutEncoder\n",
    "\n",
    "from sklearn.model_selection import RandomizedSearchCV\n",
    "\n",
    "from sklearn.model_selection import cross_val_score\n",
    "\n",
    "from sklearn.linear_model import LogisticRegression\n",
    "from sklearn.ensemble import RandomForestClassifier\n",
    "\n",
    "from catboost import CatBoostClassifier\n",
    "from lightgbm import LGBMClassifier\n",
    "from xgboost import XGBClassifier\n",
    "\n",
    "from sklearn.ensemble import StackingClassifier\n",
    "\n",
    "# from tensorflow import keras\n",
    "# from keras.models import Sequential\n",
    "# from keras.layers import Dense\n",
    "# from keras.wrappers.scikit_learn import KerasClassifier\n",
    "\n",
    "from sklearn.metrics import log_loss, accuracy_score, roc_auc_score, make_scorer\n",
    "\n",
    "import pickle\n",
    "\n",
    "\n",
    "random_state = np.random.RandomState(1)\n",
    "np.random.seed(1) # for reproducibility"
   ]
  },
  {
   "cell_type": "markdown",
   "metadata": {},
   "source": [
    "# Business Understanding\n",
    "<div style = \"float:right\"><a style=\"text-decoration:none\" href = \"#inicio\">Inicio</a></div>"
   ]
  },
  {
   "cell_type": "markdown",
   "metadata": {},
   "source": [
    "Given a set of features, we are asked to <b>predict whether or not a given household is poor or not</b>. This is a <b>binary classification</b>, which specifically posits the following problem: what is the <b>probability</b> of a given household of being poor. This probability is actually the prediction value and the loss function measures the prediction performance. For a binary classification, the typical loss function is the binary cross-entropy or <b>log loss</b>.<br>\n",
    "\n",
    "Log Loss is a slight twist on the Likelihood Function. In fact, Log Loss is -1 * the log of the likelihood function. The likelihood function answers the question \"how likely did the model think the actually observed set of outcomes was\" and is computed iteratively stepping through all predictions by multiplying the probability associated with the actual outcome and subsequently by the previous result.<br>\n",
    "\n",
    "Predictions range between 0 and 1, and their resulting multiplication gets so small that computers can't keep track of it. So, as a clever computational trick, we instead keep track of the log of the Likelihood. We multiply this by negative 1 to maintain a common convention that lower loss scores are better. Lower loss scores are associated with higher probabilities and viceversa.<br>\n",
    "\n",
    "Since data is anonimized and no context information has been provided, no economic analysis on variables is possible. Let's now have some insights on the data."
   ]
  },
  {
   "cell_type": "markdown",
   "metadata": {},
   "source": [
    "# Exploratory Data Analysis\n",
    "<div style = \"float:right\"><a style=\"text-decoration:none\" href = \"#inicio\">Inicio</a></div>"
   ]
  },
  {
   "cell_type": "markdown",
   "metadata": {},
   "source": [
    "## Load Data"
   ]
  },
  {
   "cell_type": "code",
   "execution_count": 2,
   "metadata": {},
   "outputs": [
    {
     "data": {
      "text/html": [
       "<div>\n",
       "<style scoped>\n",
       "    .dataframe tbody tr th:only-of-type {\n",
       "        vertical-align: middle;\n",
       "    }\n",
       "\n",
       "    .dataframe tbody tr th {\n",
       "        vertical-align: top;\n",
       "    }\n",
       "\n",
       "    .dataframe thead th {\n",
       "        text-align: right;\n",
       "    }\n",
       "</style>\n",
       "<table border=\"1\" class=\"dataframe\">\n",
       "  <thead>\n",
       "    <tr style=\"text-align: right;\">\n",
       "      <th></th>\n",
       "      <th>Unnamed: 0</th>\n",
       "      <th>id</th>\n",
       "      <th>kjkrfgld</th>\n",
       "      <th>bpowgknt</th>\n",
       "      <th>raksnhjf</th>\n",
       "      <th>vwpsxrgk</th>\n",
       "      <th>omtioxzz</th>\n",
       "      <th>yfmzwkru</th>\n",
       "      <th>tiwrsloh</th>\n",
       "      <th>weioazcf</th>\n",
       "      <th>poor</th>\n",
       "    </tr>\n",
       "  </thead>\n",
       "  <tbody>\n",
       "    <tr>\n",
       "      <th>0</th>\n",
       "      <td>2225</td>\n",
       "      <td>29252</td>\n",
       "      <td>KfoTG</td>\n",
       "      <td>zPfZR</td>\n",
       "      <td>DtMvg</td>\n",
       "      <td>NaN</td>\n",
       "      <td>12.0</td>\n",
       "      <td>-3.0</td>\n",
       "      <td>-1.0</td>\n",
       "      <td>0.5</td>\n",
       "      <td>False</td>\n",
       "    </tr>\n",
       "    <tr>\n",
       "      <th>1</th>\n",
       "      <td>1598</td>\n",
       "      <td>98286</td>\n",
       "      <td>ljBjd</td>\n",
       "      <td>THHLT</td>\n",
       "      <td>DtMvg</td>\n",
       "      <td>esAQH</td>\n",
       "      <td>21.0</td>\n",
       "      <td>-2.0</td>\n",
       "      <td>-5.0</td>\n",
       "      <td>-9.5</td>\n",
       "      <td>True</td>\n",
       "    </tr>\n",
       "    <tr>\n",
       "      <th>2</th>\n",
       "      <td>7896</td>\n",
       "      <td>49040</td>\n",
       "      <td>Lsuai</td>\n",
       "      <td>zPfZR</td>\n",
       "      <td>zeYAm</td>\n",
       "      <td>ZCIYy</td>\n",
       "      <td>12.0</td>\n",
       "      <td>-3.0</td>\n",
       "      <td>-5.0</td>\n",
       "      <td>-9.5</td>\n",
       "      <td>True</td>\n",
       "    </tr>\n",
       "    <tr>\n",
       "      <th>3</th>\n",
       "      <td>1458</td>\n",
       "      <td>35261</td>\n",
       "      <td>KfoTG</td>\n",
       "      <td>mDadf</td>\n",
       "      <td>zeYAm</td>\n",
       "      <td>ZCIYy</td>\n",
       "      <td>12.0</td>\n",
       "      <td>-1.0</td>\n",
       "      <td>-5.0</td>\n",
       "      <td>-9.5</td>\n",
       "      <td>False</td>\n",
       "    </tr>\n",
       "    <tr>\n",
       "      <th>4</th>\n",
       "      <td>1817</td>\n",
       "      <td>98833</td>\n",
       "      <td>KfoTG</td>\n",
       "      <td>THHLT</td>\n",
       "      <td>DtMvg</td>\n",
       "      <td>ARuYG</td>\n",
       "      <td>21.0</td>\n",
       "      <td>-4.0</td>\n",
       "      <td>-5.0</td>\n",
       "      <td>-9.5</td>\n",
       "      <td>True</td>\n",
       "    </tr>\n",
       "  </tbody>\n",
       "</table>\n",
       "</div>"
      ],
      "text/plain": [
       "   Unnamed: 0     id kjkrfgld bpowgknt raksnhjf vwpsxrgk  omtioxzz  yfmzwkru  \\\n",
       "0        2225  29252    KfoTG    zPfZR    DtMvg      NaN      12.0      -3.0   \n",
       "1        1598  98286    ljBjd    THHLT    DtMvg    esAQH      21.0      -2.0   \n",
       "2        7896  49040    Lsuai    zPfZR    zeYAm    ZCIYy      12.0      -3.0   \n",
       "3        1458  35261    KfoTG    mDadf    zeYAm    ZCIYy      12.0      -1.0   \n",
       "4        1817  98833    KfoTG    THHLT    DtMvg    ARuYG      21.0      -4.0   \n",
       "\n",
       "   tiwrsloh  weioazcf   poor  \n",
       "0      -1.0       0.5  False  \n",
       "1      -5.0      -9.5   True  \n",
       "2      -5.0      -9.5   True  \n",
       "3      -5.0      -9.5  False  \n",
       "4      -5.0      -9.5   True  "
      ]
     },
     "execution_count": 2,
     "metadata": {},
     "output_type": "execute_result"
    }
   ],
   "source": [
    "# Train dataset\n",
    "data_train = pd.read_csv('../data/Exercise_train (1).csv', sep=',')\n",
    "data_train.head()"
   ]
  },
  {
   "cell_type": "code",
   "execution_count": 3,
   "metadata": {},
   "outputs": [
    {
     "data": {
      "text/html": [
       "<div>\n",
       "<style scoped>\n",
       "    .dataframe tbody tr th:only-of-type {\n",
       "        vertical-align: middle;\n",
       "    }\n",
       "\n",
       "    .dataframe tbody tr th {\n",
       "        vertical-align: top;\n",
       "    }\n",
       "\n",
       "    .dataframe thead th {\n",
       "        text-align: right;\n",
       "    }\n",
       "</style>\n",
       "<table border=\"1\" class=\"dataframe\">\n",
       "  <thead>\n",
       "    <tr style=\"text-align: right;\">\n",
       "      <th></th>\n",
       "      <th>Unnamed: 0</th>\n",
       "      <th>id</th>\n",
       "      <th>kjkrfgld</th>\n",
       "      <th>bpowgknt</th>\n",
       "      <th>raksnhjf</th>\n",
       "      <th>vwpsxrgk</th>\n",
       "      <th>omtioxzz</th>\n",
       "      <th>yfmzwkru</th>\n",
       "      <th>tiwrsloh</th>\n",
       "      <th>weioazcf</th>\n",
       "      <th>poor</th>\n",
       "    </tr>\n",
       "  </thead>\n",
       "  <tbody>\n",
       "    <tr>\n",
       "      <th>0</th>\n",
       "      <td>2197</td>\n",
       "      <td>42706</td>\n",
       "      <td>qzGkS</td>\n",
       "      <td>zPfZR</td>\n",
       "      <td>rXCdD</td>\n",
       "      <td>IJnCs</td>\n",
       "      <td>21.0</td>\n",
       "      <td>-3.0</td>\n",
       "      <td>-5.0</td>\n",
       "      <td>-9.5</td>\n",
       "      <td>False</td>\n",
       "    </tr>\n",
       "    <tr>\n",
       "      <th>1</th>\n",
       "      <td>4823</td>\n",
       "      <td>65531</td>\n",
       "      <td>KfoTG</td>\n",
       "      <td>THHLT</td>\n",
       "      <td>DtMvg</td>\n",
       "      <td>XHmQd</td>\n",
       "      <td>21.0</td>\n",
       "      <td>-2.0</td>\n",
       "      <td>-9.0</td>\n",
       "      <td>-19.5</td>\n",
       "      <td>True</td>\n",
       "    </tr>\n",
       "    <tr>\n",
       "      <th>2</th>\n",
       "      <td>4165</td>\n",
       "      <td>64452</td>\n",
       "      <td>tnDpM</td>\n",
       "      <td>THHLT</td>\n",
       "      <td>qTmDg</td>\n",
       "      <td>yygvO</td>\n",
       "      <td>30.0</td>\n",
       "      <td>-4.0</td>\n",
       "      <td>-9.0</td>\n",
       "      <td>-19.5</td>\n",
       "      <td>True</td>\n",
       "    </tr>\n",
       "    <tr>\n",
       "      <th>3</th>\n",
       "      <td>4962</td>\n",
       "      <td>78022</td>\n",
       "      <td>NaN</td>\n",
       "      <td>WXYiE</td>\n",
       "      <td>DtMvg</td>\n",
       "      <td>XAmOF</td>\n",
       "      <td>21.0</td>\n",
       "      <td>-2.0</td>\n",
       "      <td>3.0</td>\n",
       "      <td>10.5</td>\n",
       "      <td>False</td>\n",
       "    </tr>\n",
       "    <tr>\n",
       "      <th>4</th>\n",
       "      <td>4671</td>\n",
       "      <td>45674</td>\n",
       "      <td>Lsuai</td>\n",
       "      <td>zPfZR</td>\n",
       "      <td>DtMvg</td>\n",
       "      <td>hmAUm</td>\n",
       "      <td>30.0</td>\n",
       "      <td>-4.0</td>\n",
       "      <td>-5.0</td>\n",
       "      <td>-9.5</td>\n",
       "      <td>True</td>\n",
       "    </tr>\n",
       "  </tbody>\n",
       "</table>\n",
       "</div>"
      ],
      "text/plain": [
       "   Unnamed: 0     id kjkrfgld bpowgknt raksnhjf vwpsxrgk  omtioxzz  yfmzwkru  \\\n",
       "0        2197  42706    qzGkS    zPfZR    rXCdD    IJnCs      21.0      -3.0   \n",
       "1        4823  65531    KfoTG    THHLT    DtMvg    XHmQd      21.0      -2.0   \n",
       "2        4165  64452    tnDpM    THHLT    qTmDg    yygvO      30.0      -4.0   \n",
       "3        4962  78022      NaN    WXYiE    DtMvg    XAmOF      21.0      -2.0   \n",
       "4        4671  45674    Lsuai    zPfZR    DtMvg    hmAUm      30.0      -4.0   \n",
       "\n",
       "   tiwrsloh  weioazcf   poor  \n",
       "0      -5.0      -9.5  False  \n",
       "1      -9.0     -19.5   True  \n",
       "2      -9.0     -19.5   True  \n",
       "3       3.0      10.5  False  \n",
       "4      -5.0      -9.5   True  "
      ]
     },
     "execution_count": 3,
     "metadata": {},
     "output_type": "execute_result"
    }
   ],
   "source": [
    "# Test dataset\n",
    "data_test = pd.read_csv('../data/Exercise_test (1).csv', sep=',')\n",
    "data_test.head()"
   ]
  },
  {
   "cell_type": "code",
   "execution_count": 4,
   "metadata": {},
   "outputs": [
    {
     "name": "stdout",
     "output_type": "stream",
     "text": [
      "<class 'pandas.core.frame.DataFrame'>\n",
      "RangeIndex: 6562 entries, 0 to 6561\n",
      "Data columns (total 11 columns):\n",
      " #   Column      Non-Null Count  Dtype  \n",
      "---  ------      --------------  -----  \n",
      " 0   Unnamed: 0  6562 non-null   int64  \n",
      " 1   id          6562 non-null   int64  \n",
      " 2   kjkrfgld    6366 non-null   object \n",
      " 3   bpowgknt    6357 non-null   object \n",
      " 4   raksnhjf    6381 non-null   object \n",
      " 5   vwpsxrgk    6364 non-null   object \n",
      " 6   omtioxzz    6361 non-null   float64\n",
      " 7   yfmzwkru    6353 non-null   float64\n",
      " 8   tiwrsloh    6355 non-null   float64\n",
      " 9   weioazcf    6366 non-null   float64\n",
      " 10  poor        6562 non-null   bool   \n",
      "dtypes: bool(1), float64(4), int64(2), object(4)\n",
      "memory usage: 519.2+ KB\n"
     ]
    }
   ],
   "source": [
    "data_train.info()"
   ]
  },
  {
   "cell_type": "code",
   "execution_count": 5,
   "metadata": {},
   "outputs": [
    {
     "name": "stdout",
     "output_type": "stream",
     "text": [
      "<class 'pandas.core.frame.DataFrame'>\n",
      "RangeIndex: 1641 entries, 0 to 1640\n",
      "Data columns (total 11 columns):\n",
      " #   Column      Non-Null Count  Dtype  \n",
      "---  ------      --------------  -----  \n",
      " 0   Unnamed: 0  1641 non-null   int64  \n",
      " 1   id          1641 non-null   int64  \n",
      " 2   kjkrfgld    1595 non-null   object \n",
      " 3   bpowgknt    1592 non-null   object \n",
      " 4   raksnhjf    1605 non-null   object \n",
      " 5   vwpsxrgk    1596 non-null   object \n",
      " 6   omtioxzz    1587 non-null   float64\n",
      " 7   yfmzwkru    1597 non-null   float64\n",
      " 8   tiwrsloh    1601 non-null   float64\n",
      " 9   weioazcf    1579 non-null   float64\n",
      " 10  poor        1641 non-null   bool   \n",
      "dtypes: bool(1), float64(4), int64(2), object(4)\n",
      "memory usage: 129.9+ KB\n"
     ]
    }
   ],
   "source": [
    "data_test.info()"
   ]
  },
  {
   "cell_type": "markdown",
   "metadata": {},
   "source": [
    "In both datasets, we encounter:\n",
    "<ul>\n",
    "    <li> same number of non-null values in the columns Unnamed: 0 (supposedly, individuals <code>iid</code>) and households <code>id</code>, so that individuals analysis (or the size of a household) becomes irrelevant</li>\n",
    "    <li> four possible categorical (nominal) variables represented as object (strings) with missing values both in train and in test (3% of each dataset approximately)</li>\n",
    "    <li> four continuous variables represented as float, with missing values both in train and in test (3% of each dataset approximately)</li>\n",
    "    <li> target variable represented as a boolean</li>\n",
    "</ul>"
   ]
  },
  {
   "cell_type": "markdown",
   "metadata": {},
   "source": [
    "#### No duplicates / Unique observations"
   ]
  },
  {
   "cell_type": "code",
   "execution_count": 17,
   "metadata": {},
   "outputs": [
    {
     "data": {
      "text/html": [
       "<div>\n",
       "<style scoped>\n",
       "    .dataframe tbody tr th:only-of-type {\n",
       "        vertical-align: middle;\n",
       "    }\n",
       "\n",
       "    .dataframe tbody tr th {\n",
       "        vertical-align: top;\n",
       "    }\n",
       "\n",
       "    .dataframe thead th {\n",
       "        text-align: right;\n",
       "    }\n",
       "</style>\n",
       "<table border=\"1\" class=\"dataframe\">\n",
       "  <thead>\n",
       "    <tr style=\"text-align: right;\">\n",
       "      <th></th>\n",
       "      <th>Unnamed: 0</th>\n",
       "      <th>id</th>\n",
       "      <th>kjkrfgld</th>\n",
       "      <th>bpowgknt</th>\n",
       "      <th>raksnhjf</th>\n",
       "      <th>vwpsxrgk</th>\n",
       "      <th>omtioxzz</th>\n",
       "      <th>yfmzwkru</th>\n",
       "      <th>tiwrsloh</th>\n",
       "      <th>weioazcf</th>\n",
       "      <th>poor</th>\n",
       "    </tr>\n",
       "  </thead>\n",
       "  <tbody>\n",
       "  </tbody>\n",
       "</table>\n",
       "</div>"
      ],
      "text/plain": [
       "Empty DataFrame\n",
       "Columns: [Unnamed: 0, id, kjkrfgld, bpowgknt, raksnhjf, vwpsxrgk, omtioxzz, yfmzwkru, tiwrsloh, weioazcf, poor]\n",
       "Index: []"
      ]
     },
     "execution_count": 17,
     "metadata": {},
     "output_type": "execute_result"
    }
   ],
   "source": [
    "column_names = [x for x in data_train.columns]\n",
    "duplicates = data_train.duplicated(subset=column_names, keep=False)\n",
    "data_train[duplicates]"
   ]
  },
  {
   "cell_type": "code",
   "execution_count": 7,
   "metadata": {},
   "outputs": [
    {
     "data": {
      "text/plain": [
       "6562"
      ]
     },
     "execution_count": 7,
     "metadata": {},
     "output_type": "execute_result"
    }
   ],
   "source": [
    "data_train.id.nunique() "
   ]
  },
  {
   "cell_type": "code",
   "execution_count": 9,
   "metadata": {},
   "outputs": [
    {
     "data": {
      "text/html": [
       "<div>\n",
       "<style scoped>\n",
       "    .dataframe tbody tr th:only-of-type {\n",
       "        vertical-align: middle;\n",
       "    }\n",
       "\n",
       "    .dataframe tbody tr th {\n",
       "        vertical-align: top;\n",
       "    }\n",
       "\n",
       "    .dataframe thead th {\n",
       "        text-align: right;\n",
       "    }\n",
       "</style>\n",
       "<table border=\"1\" class=\"dataframe\">\n",
       "  <thead>\n",
       "    <tr style=\"text-align: right;\">\n",
       "      <th></th>\n",
       "      <th>Unnamed: 0</th>\n",
       "      <th>id</th>\n",
       "      <th>kjkrfgld</th>\n",
       "      <th>bpowgknt</th>\n",
       "      <th>raksnhjf</th>\n",
       "      <th>vwpsxrgk</th>\n",
       "      <th>omtioxzz</th>\n",
       "      <th>yfmzwkru</th>\n",
       "      <th>tiwrsloh</th>\n",
       "      <th>weioazcf</th>\n",
       "      <th>poor</th>\n",
       "    </tr>\n",
       "  </thead>\n",
       "  <tbody>\n",
       "  </tbody>\n",
       "</table>\n",
       "</div>"
      ],
      "text/plain": [
       "Empty DataFrame\n",
       "Columns: [Unnamed: 0, id, kjkrfgld, bpowgknt, raksnhjf, vwpsxrgk, omtioxzz, yfmzwkru, tiwrsloh, weioazcf, poor]\n",
       "Index: []"
      ]
     },
     "execution_count": 9,
     "metadata": {},
     "output_type": "execute_result"
    }
   ],
   "source": [
    "column_names = [x for x in data_test.columns]\n",
    "duplicates = data_test.duplicated(subset=column_names, keep=False)\n",
    "data_test[duplicates]"
   ]
  },
  {
   "cell_type": "code",
   "execution_count": 8,
   "metadata": {},
   "outputs": [
    {
     "data": {
      "text/plain": [
       "1641"
      ]
     },
     "execution_count": 8,
     "metadata": {},
     "output_type": "execute_result"
    }
   ],
   "source": [
    "data_test.id.nunique()"
   ]
  },
  {
   "cell_type": "markdown",
   "metadata": {},
   "source": [
    "We now set the DataFrame's index to household's <code>id</code> for further analysis."
   ]
  },
  {
   "cell_type": "code",
   "execution_count": 6,
   "metadata": {},
   "outputs": [],
   "source": [
    "data_train = data_train.set_index('id')\n",
    "data_test = data_test.set_index('id')"
   ]
  },
  {
   "cell_type": "markdown",
   "metadata": {},
   "source": [
    "## Target"
   ]
  },
  {
   "cell_type": "code",
   "execution_count": 7,
   "metadata": {},
   "outputs": [
    {
     "data": {
      "image/png": "[encoded data removed]",
      "text/plain": [
       "<Figure size 720x288 with 2 Axes>"
      ]
     },
     "metadata": {},
     "output_type": "display_data"
    }
   ],
   "source": [
    "sns.set_style('white')\n",
    "fig, axes = plt.subplots(1, 2, figsize = (10, 4))\n",
    "\n",
    "# Create a countplot\n",
    "sns.countplot(x='poor',\n",
    "              data=data_train,\n",
    "              order=[0, 1],\n",
    "              # Set colour of hue and transperency\n",
    "              palette = [\"r\",\"skyblue\"],\n",
    "              alpha = 0.6,\n",
    "              ax=axes[0])\n",
    "\n",
    "# Final styling touche\n",
    "axes[0].set_ylabel(\"Number of poor\", fontsize = 12, fontweight = \"semibold\")\n",
    "axes[0].set_xlabel(\"Train\", fontweight = \"semibold\", fontsize = 14)\n",
    "\n",
    "\n",
    "# Create a countplot\n",
    "sns.countplot(x='poor',\n",
    "              data=data_test,\n",
    "              order=[0, 1],\n",
    "              # Set colour of hue and transperency\n",
    "              palette = [\"r\",\"skyblue\"],\n",
    "              alpha = 0.6,\n",
    "              ax=axes[1])\n",
    "\n",
    "# Final styling touche\n",
    "axes[1].set_ylabel(\"Number of poor\", fontsize = 12, fontweight = \"semibold\")\n",
    "axes[1].set_xlabel(\"Test\", fontweight = \"semibold\", fontsize = 14)\n",
    "\n",
    "# Despine visualizations\n",
    "sns.despine(left=True)\n",
    "fig.suptitle(\"Distribution of Poor Households\", fontweight = \"semibold\", fontsize = 14)\n",
    "plt.show()"
   ]
  },
  {
   "cell_type": "markdown",
   "metadata": {},
   "source": [
    "## Numerical features"
   ]
  },
  {
   "cell_type": "code",
   "execution_count": 26,
   "metadata": {},
   "outputs": [
    {
     "data": {
      "text/html": [
       "<div>\n",
       "<style scoped>\n",
       "    .dataframe tbody tr th:only-of-type {\n",
       "        vertical-align: middle;\n",
       "    }\n",
       "\n",
       "    .dataframe tbody tr th {\n",
       "        vertical-align: top;\n",
       "    }\n",
       "\n",
       "    .dataframe thead th {\n",
       "        text-align: right;\n",
       "    }\n",
       "</style>\n",
       "<table border=\"1\" class=\"dataframe\">\n",
       "  <thead>\n",
       "    <tr style=\"text-align: right;\">\n",
       "      <th></th>\n",
       "      <th>Unnamed: 0</th>\n",
       "      <th>omtioxzz</th>\n",
       "      <th>yfmzwkru</th>\n",
       "      <th>tiwrsloh</th>\n",
       "      <th>weioazcf</th>\n",
       "    </tr>\n",
       "  </thead>\n",
       "  <tbody>\n",
       "    <tr>\n",
       "      <th>count</th>\n",
       "      <td>6562.000000</td>\n",
       "      <td>6361.000000</td>\n",
       "      <td>6353.000000</td>\n",
       "      <td>6355.000000</td>\n",
       "      <td>6366.000000</td>\n",
       "    </tr>\n",
       "    <tr>\n",
       "      <th>mean</th>\n",
       "      <td>4113.757543</td>\n",
       "      <td>17.455117</td>\n",
       "      <td>-2.826696</td>\n",
       "      <td>-4.194335</td>\n",
       "      <td>-7.461828</td>\n",
       "    </tr>\n",
       "    <tr>\n",
       "      <th>std</th>\n",
       "      <td>2353.382080</td>\n",
       "      <td>10.924393</td>\n",
       "      <td>12.615775</td>\n",
       "      <td>4.476410</td>\n",
       "      <td>11.198626</td>\n",
       "    </tr>\n",
       "    <tr>\n",
       "      <th>min</th>\n",
       "      <td>0.000000</td>\n",
       "      <td>-127.000000</td>\n",
       "      <td>-4.000000</td>\n",
       "      <td>-31.000000</td>\n",
       "      <td>-74.500000</td>\n",
       "    </tr>\n",
       "    <tr>\n",
       "      <th>25%</th>\n",
       "      <td>2088.500000</td>\n",
       "      <td>12.000000</td>\n",
       "      <td>-4.000000</td>\n",
       "      <td>-7.000000</td>\n",
       "      <td>-14.500000</td>\n",
       "    </tr>\n",
       "    <tr>\n",
       "      <th>50%</th>\n",
       "      <td>4115.500000</td>\n",
       "      <td>12.000000</td>\n",
       "      <td>-3.000000</td>\n",
       "      <td>-3.000000</td>\n",
       "      <td>-4.500000</td>\n",
       "    </tr>\n",
       "    <tr>\n",
       "      <th>75%</th>\n",
       "      <td>6156.750000</td>\n",
       "      <td>21.000000</td>\n",
       "      <td>-2.000000</td>\n",
       "      <td>-1.000000</td>\n",
       "      <td>0.500000</td>\n",
       "    </tr>\n",
       "    <tr>\n",
       "      <th>max</th>\n",
       "      <td>8202.000000</td>\n",
       "      <td>111.000000</td>\n",
       "      <td>1000.000000</td>\n",
       "      <td>3.000000</td>\n",
       "      <td>10.500000</td>\n",
       "    </tr>\n",
       "  </tbody>\n",
       "</table>\n",
       "</div>"
      ],
      "text/plain": [
       "        Unnamed: 0     omtioxzz     yfmzwkru     tiwrsloh     weioazcf\n",
       "count  6562.000000  6361.000000  6353.000000  6355.000000  6366.000000\n",
       "mean   4113.757543    17.455117    -2.826696    -4.194335    -7.461828\n",
       "std    2353.382080    10.924393    12.615775     4.476410    11.198626\n",
       "min       0.000000  -127.000000    -4.000000   -31.000000   -74.500000\n",
       "25%    2088.500000    12.000000    -4.000000    -7.000000   -14.500000\n",
       "50%    4115.500000    12.000000    -3.000000    -3.000000    -4.500000\n",
       "75%    6156.750000    21.000000    -2.000000    -1.000000     0.500000\n",
       "max    8202.000000   111.000000  1000.000000     3.000000    10.500000"
      ]
     },
     "execution_count": 26,
     "metadata": {},
     "output_type": "execute_result"
    }
   ],
   "source": [
    "data_train.describe()"
   ]
  },
  {
   "cell_type": "code",
   "execution_count": 8,
   "metadata": {},
   "outputs": [
    {
     "data": {
      "text/plain": [
       "Text(0.5, 0, 'omtioxzz')"
      ]
     },
     "execution_count": 8,
     "metadata": {},
     "output_type": "execute_result"
    },
    {
     "data": {
      "image/png": "[encoded data removed]",
      "text/plain": [
       "<Figure size 504x360 with 1 Axes>"
      ]
     },
     "metadata": {},
     "output_type": "display_data"
    }
   ],
   "source": [
    "# Create plot of omtioxzz distribution\n",
    "sns.set_style('white')\n",
    "plt.figure(figsize=(7,5))\n",
    "sns.histplot(data=data_train,\n",
    "             x='omtioxzz',\n",
    "             color = \"skyblue\",\n",
    "             kde = True)\n",
    "\n",
    "# Add vertical line and annotate median age for male employees\n",
    "plt.axvline(data_train['omtioxzz'].median(), ymax = 0.95, linestyle = \"--\")\n",
    "# Format subplot in axes\n",
    "plt.xticks([])\n",
    "plt.xlabel(\"omtioxzz\", fontsize = 12, fontweight = \"semibold\")"
   ]
  },
  {
   "cell_type": "code",
   "execution_count": 9,
   "metadata": {},
   "outputs": [
    {
     "data": {
      "text/plain": [
       "Text(0.5, 0, 'yfmzwkru')"
      ]
     },
     "execution_count": 9,
     "metadata": {},
     "output_type": "execute_result"
    },
    {
     "data": {
      "image/png": "[encoded data removed]",
      "text/plain": [
       "<Figure size 504x360 with 1 Axes>"
      ]
     },
     "metadata": {},
     "output_type": "display_data"
    }
   ],
   "source": [
    "# Create plot of omtioxzz distribution\n",
    "sns.set_style('white')\n",
    "plt.figure(figsize=(7,5))\n",
    "sns.histplot(data=data_train,\n",
    "             x='yfmzwkru',\n",
    "             color = \"skyblue\",\n",
    "             kde = True,\n",
    "             hue_norm=[-5, 100])\n",
    "\n",
    "# Add vertical line and annotate median age for male employees\n",
    "plt.axvline(data_train['yfmzwkru'].median(), ymax = 0.95, linestyle = \"--\")\n",
    "# Format subplot in axes\n",
    "#plt.xticks([])\n",
    "plt.xlabel(\"yfmzwkru\", fontsize = 12, fontweight = \"semibold\")"
   ]
  },
  {
   "cell_type": "code",
   "execution_count": 10,
   "metadata": {},
   "outputs": [
    {
     "data": {
      "text/plain": [
       "Text(0.5, 0, 'tiwrsloh')"
      ]
     },
     "execution_count": 10,
     "metadata": {},
     "output_type": "execute_result"
    },
    {
     "data": {
      "image/png": "[encoded data removed]",
      "text/plain": [
       "<Figure size 504x360 with 1 Axes>"
      ]
     },
     "metadata": {},
     "output_type": "display_data"
    }
   ],
   "source": [
    "# Create plot of omtioxzz distribution\n",
    "sns.set_style('white')\n",
    "plt.figure(figsize=(7,5))\n",
    "sns.histplot(data=data_train,\n",
    "             x='tiwrsloh',\n",
    "             color = \"skyblue\",\n",
    "             kde = True)\n",
    "\n",
    "# Add vertical line and annotate median age for male employees\n",
    "plt.axvline(data_train['tiwrsloh'].median(), ymax = 0.95, linestyle = \"--\")\n",
    "# Format subplot in axes\n",
    "#plt.xticks([])\n",
    "plt.xlabel(\"tiwrsloh\", fontsize = 12, fontweight = \"semibold\")"
   ]
  },
  {
   "cell_type": "code",
   "execution_count": 11,
   "metadata": {},
   "outputs": [
    {
     "data": {
      "text/plain": [
       "Text(0.5, 0, 'weioazcf')"
      ]
     },
     "execution_count": 11,
     "metadata": {},
     "output_type": "execute_result"
    },
    {
     "data": {
      "image/png": "[encoded data removed]",
      "text/plain": [
       "<Figure size 504x360 with 1 Axes>"
      ]
     },
     "metadata": {},
     "output_type": "display_data"
    }
   ],
   "source": [
    "# Create plot of omtioxzz distribution\n",
    "sns.set_style('white')\n",
    "plt.figure(figsize=(7,5))\n",
    "sns.histplot(data=data_train,\n",
    "             x='weioazcf',\n",
    "             color = \"skyblue\",\n",
    "             kde = True)\n",
    "\n",
    "# Add vertical line and annotate median age for male employees\n",
    "plt.axvline(data_train['weioazcf'].median(), ymax = 0.95, linestyle = \"--\")\n",
    "# Format subplot in axes\n",
    "#plt.xticks([])\n",
    "plt.xlabel(\"weioazcf\", fontsize = 12, fontweight = \"semibold\")"
   ]
  },
  {
   "cell_type": "markdown",
   "metadata": {},
   "source": [
    "Descriptive statistics of the four numerical variables uncover the following:\n",
    "<ul>\n",
    "    <li>skewed distributions,</li>\n",
    "    <li>fat tails and presence of outliers</li>\n",
    "</ul>"
   ]
  },
  {
   "cell_type": "markdown",
   "metadata": {},
   "source": [
    "## Categorical features"
   ]
  },
  {
   "cell_type": "markdown",
   "metadata": {},
   "source": [
    "### Low dimensional categorical variables"
   ]
  },
  {
   "cell_type": "code",
   "execution_count": 14,
   "metadata": {},
   "outputs": [
    {
     "data": {
      "image/png": "[encoded data removed]",
      "text/plain": [
       "<Figure size 576x288 with 1 Axes>"
      ]
     },
     "metadata": {},
     "output_type": "display_data"
    }
   ],
   "source": [
    "plt.figure(figsize = (8, 4))\n",
    "sns.set(style=\"white\")\n",
    "sns.countplot(x='kjkrfgld', data=data_train, alpha=0.6)\n",
    "plt.title('Frequency Distribution')\n",
    "plt.ylabel('Number of Occurrences', fontsize=12)\n",
    "plt.xlabel('kjkrfgld', fontsize=12)\n",
    "plt.show()"
   ]
  },
  {
   "cell_type": "code",
   "execution_count": 15,
   "metadata": {},
   "outputs": [
    {
     "data": {
      "image/png": "[encoded data removed]",
      "text/plain": [
       "<Figure size 576x288 with 1 Axes>"
      ]
     },
     "metadata": {},
     "output_type": "display_data"
    }
   ],
   "source": [
    "plt.figure(figsize = (8, 4))\n",
    "sns.set(style=\"white\")\n",
    "sns.countplot(x='bpowgknt', data=data_train, alpha=0.6)\n",
    "plt.title('Frequency Distribution')\n",
    "plt.ylabel('Number of Occurrences', fontsize=12)\n",
    "plt.xlabel('bpowgknt', fontsize=12)\n",
    "plt.show()"
   ]
  },
  {
   "cell_type": "code",
   "execution_count": 16,
   "metadata": {},
   "outputs": [
    {
     "data": {
      "image/png": "[encoded data removed]",
      "text/plain": [
       "<Figure size 576x288 with 1 Axes>"
      ]
     },
     "metadata": {},
     "output_type": "display_data"
    }
   ],
   "source": [
    "plt.figure(figsize = (8, 4))\n",
    "sns.set(style=\"white\")\n",
    "sns.countplot(x='raksnhjf', data=data_train, alpha=0.6)\n",
    "plt.title('Frequency Distribution raksnhjf')\n",
    "plt.ylabel('Number of Occurrences', fontsize=12)\n",
    "plt.xlabel('raksnhjf', fontsize=12)\n",
    "plt.show()"
   ]
  },
  {
   "cell_type": "markdown",
   "metadata": {},
   "source": [
    "### High dimensional categorical variable"
   ]
  },
  {
   "cell_type": "code",
   "execution_count": 17,
   "metadata": {},
   "outputs": [
    {
     "data": {
      "image/png": "[encoded data removed]",
      "text/plain": [
       "<Figure size 1584x720 with 1 Axes>"
      ]
     },
     "metadata": {},
     "output_type": "display_data"
    }
   ],
   "source": [
    "plt.figure(figsize = (22, 10))\n",
    "sns.set(style=\"white\")\n",
    "\n",
    "sns.countplot(x='vwpsxrgk', data=data_train, alpha=0.6)\n",
    "\n",
    "plt.title('Frequency Distribution', fontweight = \"bold\", fontsize = 14)\n",
    "plt.ylabel('Number of Occurrences', fontsize=12)\n",
    "plt.xlabel('vwpsxrgk', fontsize=12, fontweight = \"semibold\")\n",
    "plt.show()"
   ]
  },
  {
   "cell_type": "markdown",
   "metadata": {},
   "source": [
    "# Data Preprocessing\n",
    "<div style = \"float:right\"><a style=\"text-decoration:none\" href = \"#inicio\">Inicio</a></div>"
   ]
  },
  {
   "cell_type": "markdown",
   "metadata": {},
   "source": [
    "## Target preprocessing"
   ]
  },
  {
   "cell_type": "markdown",
   "metadata": {},
   "source": [
    "Let's transform our target variable into a binary (0, 1) variable."
   ]
  },
  {
   "cell_type": "code",
   "execution_count": 18,
   "metadata": {},
   "outputs": [],
   "source": [
    "data_train['poor'] = data_train['poor'].apply(lambda x: 1 if x == True else 0)"
   ]
  },
  {
   "cell_type": "code",
   "execution_count": 19,
   "metadata": {},
   "outputs": [],
   "source": [
    "data_test['poor'] = data_test['poor'].apply(lambda x: 1 if x == True else 0)"
   ]
  },
  {
   "cell_type": "markdown",
   "metadata": {},
   "source": [
    "## Train, Test datasets"
   ]
  },
  {
   "cell_type": "code",
   "execution_count": 20,
   "metadata": {},
   "outputs": [],
   "source": [
    "X_train = data_train.drop('poor', 1)\n",
    "y_train = data_train['poor']"
   ]
  },
  {
   "cell_type": "code",
   "execution_count": 21,
   "metadata": {},
   "outputs": [],
   "source": [
    "X_test = data_test.drop('poor', 1)\n",
    "y_test = data_test['poor']"
   ]
  },
  {
   "cell_type": "markdown",
   "metadata": {},
   "source": [
    "## Features preprocessing"
   ]
  },
  {
   "cell_type": "markdown",
   "metadata": {},
   "source": [
    "In light of the above, some data preprocessing is needed.<br>\n",
    "\n",
    "As of <b>numerical variables</b>, two steps need to be accomplished:\n",
    "<ol>\n",
    "    <li> <b>impute NAs</b> with a median strategy (to better account for non-normal distributions),</li>\n",
    "    <li> <b>standardize variables</b> aiming at <i>normalizing</i> data distributions. We shall use PowerTransformer method, well suited for skewed distributions (and outliers?). Unscaled data can degrade the predictive performance of machine learning algorithms and slow down or even prevent the convergence of many gradient-based estimators.</li>\n",
    "</ol>\n",
    "    \n",
    "[Documentation](https://scikit-learn.org/stable/auto_examples/preprocessing/plot_all_scaling.html#sphx-glr-auto-examples-preprocessing-plot-all-scaling-py)\n",
    "<br>\n",
    "\n",
    "Regarding <b>categorical variables</b>, any standard work-flow in feature engineering would typically involve some form of transformation of these categorical values into numeric labels and then applying some encoding scheme on these values (see <code>Prepa_Pover-T_Tests.ipynb</code> for a three-step <i>out-of-pipe</i> approach). However, in order to streamline the process, we will have recourse to a <i>column transform</i> method instead aiming at <b>simulateneously addressing NAs imputation and variable encoding</b>.<br>\n",
    "\n",
    "\n",
    "We will opt for an <b>ordinal encoder</b> for those variables with a low dimensionality (and coincidentally, uneven frequency distribution among categories) and for a <b>target encoder</b> for the variable with a greater dimensionality. With target encoding, each category is replaced with the mean target value associated with that category. One of its main benefits is that it prevents the curse of dimensionality; as a drawback, it captures correlations with target values, thus incurring in overfitting. This should be carefully addressed by fitting some noise (sigma) in the model, as explained in the next section.<br>\n",
    "\n",
    "For more information, read this [tutorial](https://www.datacamp.com/community/tutorials/categorical-data) and this [post](https://brendanhasz.github.io/2019/03/04/target-encoding).<br>"
   ]
  },
  {
   "cell_type": "markdown",
   "metadata": {},
   "source": [
    "As such, the <b>preprocessor object</b> arquitecture consists of the following</b>:<br>\n",
    "\n",
    "<ol>\n",
    "    <li> <b>Pipeline</b> for NAs imputation and data scaling of <b>numerical features</b></li>\n",
    "    <li> <b>Column Transformer</b> for variables (numerical and categorical encoding)</li>\n",
    "</ol>\n",
    "\n",
    "Check for reference this [video](https://www.youtube.com/watch?v=Ma-CDFLd03g) (1:17 min onwards)."
   ]
  },
  {
   "cell_type": "code",
   "execution_count": 22,
   "metadata": {},
   "outputs": [],
   "source": [
    "# Categorical features: (i) ordinal encoder for low dimensionality categorical variables (which implicitely impute NAs)\n",
    "low_dim_cat = ['kjkrfgld', 'bpowgknt', 'raksnhjf']\n",
    "ordinal_enc = OrdinalEncoder()\n",
    "\n",
    "# Categorical features (suite): (ii) target encoder for the high dimensionality categorical variable (it also tackles NAs imputation)\n",
    "high_dim_cat = ['vwpsxrgk']\n",
    "target_enc = LeaveOneOutEncoder()\n",
    "    \n",
    "# Numerical features: (i) impute NAs using median strategy, (ii) scale data using Power Transformer to properly address for skewed distributions and outliers\n",
    "numeric_features = data_train.select_dtypes(include=['float64']).columns.copy()\n",
    "numeric_transformer = Pipeline(steps=[\n",
    "    ('imputer', SimpleImputer(strategy='median')),\n",
    "    ('scaler', PowerTransformer())])\n",
    "\n",
    "# Preprocessor with a Column Transformer\n",
    "preprocessor = ColumnTransformer(\n",
    "    transformers=[\n",
    "        ('num', numeric_transformer, numeric_features),\n",
    "        ('ordinal_encoder', ordinal_enc, low_dim_cat),\n",
    "        ('target_encoder', target_enc, high_dim_cat)])"
   ]
  },
  {
   "cell_type": "markdown",
   "metadata": {},
   "source": [
    "# Model Building\n",
    "<div style = \"float:right\"><a style=\"text-decoration:none\" href = \"#inicio\">Inicio</a></div>"
   ]
  },
  {
   "cell_type": "markdown",
   "metadata": {},
   "source": [
    "## Baseline model: Logistic Regression"
   ]
  },
  {
   "cell_type": "markdown",
   "metadata": {},
   "source": [
    "This is the classical function for a binary classification problem. We will use the results of this model as our baseline."
   ]
  },
  {
   "cell_type": "code",
   "execution_count": 24,
   "metadata": {},
   "outputs": [
    {
     "data": {
      "text/plain": [
       "0.5165545774500514"
      ]
     },
     "execution_count": 24,
     "metadata": {},
     "output_type": "execute_result"
    }
   ],
   "source": [
    "# Logistic Regression\n",
    "clf_lr = LogisticRegression()\n",
    "pipe_lr = Pipeline(steps=[('preprocessor', preprocessor),\n",
    "                      ('classifier',  clf_lr)])\n",
    "\n",
    "# Fit the model\n",
    "lr = pipe_lr.fit(X_train, y_train)\n",
    "\n",
    "# Predict probabilities\n",
    "y_pred_lr = pipe_lr.predict_proba(X_test)\n",
    "log_loss(y_test, y_pred_lr, eps=1e-15, normalize=True, sample_weight=None, labels=None)\n"
   ]
  },
  {
   "cell_type": "markdown",
   "metadata": {},
   "source": [
    "## Random Forest Classifier"
   ]
  },
  {
   "cell_type": "markdown",
   "metadata": {},
   "source": [
    "The second model to be used is a Random Forest Classifier. It works like this: (i) it selects random samples from a given dataset, (ii) it constructs a decision tree for each sample and gets a prediction result from each decision tree, (iii) it performs a vote for each predicted result, and (iv) it selects the prediction result with the most votes as the final prediction.<br>\n",
    "\n",
    "We will additionally perform some hyperparameter tuning and cross-validation in order to get the best estimator.<br>\n",
    "\n",
    "It should be noted that some noise for the target encoder will also be modelled, corresponding to sigma."
   ]
  },
  {
   "cell_type": "markdown",
   "metadata": {},
   "source": [
    "<b>Figure 1</b>: <b>Random Forest Model</b> (<i>source: Datacamp</i>)<br>\n",
    "<p align=\"center\">\n",
    "<img src=\"../images/rf.png\">\n",
    "</p>\n",
    "<br><br>"
   ]
  },
  {
   "cell_type": "code",
   "execution_count": 25,
   "metadata": {},
   "outputs": [],
   "source": [
    "clf_rf = RandomForestClassifier()\n",
    "pipe_rf = Pipeline([('preprocessor', preprocessor), ('classifier',  clf_rf)])"
   ]
  },
  {
   "cell_type": "code",
   "execution_count": 26,
   "metadata": {},
   "outputs": [],
   "source": [
    "# Hyperparameters can be accessed with a double underscore\n",
    "param_grid = {\n",
    "    'preprocessor__target_encoder__sigma': [0.01, 0.02, 0.03, 0.04, 0.05, 0.06],\n",
    "    'classifier__bootstrap': [True],\n",
    "    'classifier__max_depth': [80, 90, 100, 110],\n",
    "    'classifier__max_features': [2, 3],\n",
    "    'classifier__min_samples_leaf': [3, 4, 5],\n",
    "#     'classifier__min_samples_split': [8, 10, 12],\n",
    "    'classifier__n_estimators': [100, 200, 300, 1000]\n",
    "}\n",
    "\n",
    "rscv_rf = RandomizedSearchCV(pipe_rf,\n",
    "                          cv=5,\n",
    "                          n_iter=5,\n",
    "                          n_jobs=10,\n",
    "                          param_distributions = param_grid,\n",
    "                          scoring='neg_log_loss',\n",
    "                          random_state=1)\n"
   ]
  },
  {
   "cell_type": "code",
   "execution_count": 27,
   "metadata": {},
   "outputs": [
    {
     "data": {
      "text/plain": [
       "array([-0.55417663, -0.56779309, -0.59720809, -0.58862939, -0.64791177])"
      ]
     },
     "execution_count": 27,
     "metadata": {},
     "output_type": "execute_result"
    }
   ],
   "source": [
    "cross_val_score(pipe_rf, X_train, y_train, cv=5, scoring='neg_log_loss')"
   ]
  },
  {
   "cell_type": "code",
   "execution_count": 28,
   "metadata": {
    "collapsed": true
   },
   "outputs": [
    {
     "data": {
      "text/plain": [
       "RandomizedSearchCV(cv=5,\n",
       "                   estimator=Pipeline(steps=[('preprocessor',\n",
       "                                              ColumnTransformer(transformers=[('num',\n",
       "                                                                               Pipeline(steps=[('imputer',\n",
       "                                                                                                SimpleImputer(strategy='median')),\n",
       "                                                                                               ('scaler',\n",
       "                                                                                                PowerTransformer())]),\n",
       "                                                                               Index(['omtioxzz', 'yfmzwkru', 'tiwrsloh', 'weioazcf'], dtype='object')),\n",
       "                                                                              ('ordinal_encoder',\n",
       "                                                                               OrdinalEncoder(),\n",
       "                                                                               ['kjkrfgld',\n",
       "                                                                                'bpowgknt',\n",
       "                                                                                'raksnhjf']),\n",
       "                                                                              ('target_en...\n",
       "                                              RandomForestClassifier())]),\n",
       "                   n_iter=5, n_jobs=10,\n",
       "                   param_distributions={'classifier__bootstrap': [True],\n",
       "                                        'classifier__max_depth': [80, 90, 100,\n",
       "                                                                  110],\n",
       "                                        'classifier__max_features': [2, 3],\n",
       "                                        'classifier__min_samples_leaf': [3, 4,\n",
       "                                                                         5],\n",
       "                                        'classifier__n_estimators': [100, 200,\n",
       "                                                                     300,\n",
       "                                                                     1000],\n",
       "                                        'preprocessor__target_encoder__sigma': [0.01,\n",
       "                                                                                0.02,\n",
       "                                                                                0.03,\n",
       "                                                                                0.04,\n",
       "                                                                                0.05,\n",
       "                                                                                0.06]},\n",
       "                   random_state=1, scoring='neg_log_loss')"
      ]
     },
     "execution_count": 28,
     "metadata": {},
     "output_type": "execute_result"
    }
   ],
   "source": [
    "rf_fit = rscv_rf.fit(X_train, y_train)\n",
    "rf_fit"
   ]
  },
  {
   "cell_type": "code",
   "execution_count": 29,
   "metadata": {},
   "outputs": [
    {
     "data": {
      "text/plain": [
       "{'preprocessor__target_encoder__sigma': 0.02,\n",
       " 'classifier__n_estimators': 300,\n",
       " 'classifier__min_samples_leaf': 4,\n",
       " 'classifier__max_features': 2,\n",
       " 'classifier__max_depth': 80,\n",
       " 'classifier__bootstrap': True}"
      ]
     },
     "execution_count": 29,
     "metadata": {},
     "output_type": "execute_result"
    }
   ],
   "source": [
    "rscv_rf.best_params_"
   ]
  },
  {
   "cell_type": "code",
   "execution_count": 30,
   "metadata": {},
   "outputs": [
    {
     "data": {
      "text/plain": [
       "-0.4961307691653105"
      ]
     },
     "execution_count": 30,
     "metadata": {},
     "output_type": "execute_result"
    }
   ],
   "source": [
    "rscv_rf.best_score_"
   ]
  },
  {
   "cell_type": "markdown",
   "metadata": {},
   "source": [
    "Metrics [Documentation](https://scikit-learn.org/stable/modules/generated/sklearn.metrics.log_loss.html#sklearn.metrics.log_loss)"
   ]
  },
  {
   "cell_type": "code",
   "execution_count": 31,
   "metadata": {},
   "outputs": [
    {
     "data": {
      "text/plain": [
       "0.49708334741130766"
      ]
     },
     "execution_count": 31,
     "metadata": {},
     "output_type": "execute_result"
    }
   ],
   "source": [
    "y_pred_rf = rscv_rf.best_estimator_.predict_proba(X_test)\n",
    "log_loss(y_test, y_pred_rf, eps=1e-15, normalize=True, sample_weight=None, labels=None)"
   ]
  },
  {
   "cell_type": "markdown",
   "metadata": {},
   "source": [
    "The scoring metric is slightly improved. "
   ]
  },
  {
   "cell_type": "markdown",
   "metadata": {},
   "source": [
    "## Gradient Boosting Methods"
   ]
  },
  {
   "cell_type": "markdown",
   "metadata": {},
   "source": [
    "Gradient boosting refers to a class of ensemble machine learning algorithms. It <b>learns iteratively from a set of weak models on subsets of the data, weighing each weak prediction according to each weak learner's performance and combining the weighted predictions to obtain a single weighted prediction</b>. Models are fit using any arbitrary differentiable loss function and gradient descent optimization algorithm that allows the loss gradient being minimized with successive iterations.<br>\n",
    "\n",
    "Here, we will fit three different GB methods: <b>CatBoost, Light Gradient Boosting and Extreme Gradient Boosting</b>. The structural diffierences among them are the following: CatBoost has the flexibility of giving indices of categorical columns so that it can be encoded as one-hot encoding using one_hot_max_size, whereas Light Gradient Boosting can handle categorical features by taking the input of feature names. It does not convert to one-hot coding, and is much faster than one-hot coding. LGBM uses a special algorithm to find the split value of categorical features. In turn, Extreme Gradient Boosting cannot handle categorical features by itself and only accepts numerical values. Therefore one has to perform various encodings before supplying categorical data to XGBoost.<br>\n",
    "\n",
    "Notwithstanding, as categorical encoding has previously done in the preprocessor pipeline, we won't use any of these figures."
   ]
  },
  {
   "cell_type": "markdown",
   "metadata": {},
   "source": [
    "<b>Figure 2</b>: <b>Gradient Boosting Model</b> (<i>source: Medium</i>)<br>\n",
    "<p align=\"center\">\n",
    "<img src=\"../images/gb.png\">\n",
    "</p>\n",
    "<br><br>"
   ]
  },
  {
   "cell_type": "markdown",
   "metadata": {},
   "source": [
    "### Extreme Gradient Boosting"
   ]
  },
  {
   "cell_type": "markdown",
   "metadata": {},
   "source": [
    "[Hyperparameter tuning](https://xgboost.readthedocs.io/en/latest/parameter.html)"
   ]
  },
  {
   "cell_type": "code",
   "execution_count": 34,
   "metadata": {},
   "outputs": [],
   "source": [
    "clf_xgb = XGBClassifier()\n",
    "pipe_xgb = Pipeline([('preprocessor', preprocessor), ('classifier',  clf_xgb)])"
   ]
  },
  {
   "cell_type": "code",
   "execution_count": 37,
   "metadata": {},
   "outputs": [],
   "source": [
    "# Hyperparameters can be accessed with a double underscore\n",
    "param_grid_XGB = {\n",
    "        'preprocessor__target_encoder__sigma': [0.01, 0.02, 0.03, 0.04, 0.05, 0.06],\n",
    "        'classifier__n_estimators': [100, 200, 300, 1000],\n",
    "        'classifier__learning_rate' : [0.01, 0.02, 0.03],\n",
    "        'classifier__max_depth' : [3, 4, 5],\n",
    "        'classifier__objective' : ['binary:logistic', 'binary:logitraw'],\n",
    "#         'classifier__silent' : True,\n",
    "#         'classifier__gamma' : 0.3,\n",
    "#         'classifier__subsample' : 0.7,\n",
    "#         'classifier__reg_alpha' : 0.05\n",
    "}\n",
    "\n",
    "rscv_xgb = RandomizedSearchCV(pipe_xgb,\n",
    "                          cv=5,\n",
    "                          n_iter=5,\n",
    "                          n_jobs=10,\n",
    "                          param_distributions = param_grid_XGB,\n",
    "                          scoring='neg_log_loss',\n",
    "                          random_state=1)"
   ]
  },
  {
   "cell_type": "code",
   "execution_count": 38,
   "metadata": {
    "collapsed": true
   },
   "outputs": [
    {
     "name": "stderr",
     "output_type": "stream",
     "text": [
      "/home/isabel/anaconda3/envs/DD_Pover-T_Tests/lib/python3.8/site-packages/xgboost/sklearn.py:888: UserWarning: The use of label encoder in XGBClassifier is deprecated and will be removed in a future release. To remove this warning, do the following: 1) Pass option use_label_encoder=False when constructing XGBClassifier object; and 2) Encode your labels (y) as integers starting with 0, i.e. 0, 1, 2, ..., [num_class - 1].\n",
      "  warnings.warn(label_encoder_deprecation_msg, UserWarning)\n"
     ]
    },
    {
     "name": "stdout",
     "output_type": "stream",
     "text": [
      "[17:49:02] WARNING: /home/conda/feedstock_root/build_artifacts/xgboost_1607604574104/work/src/learner.cc:1061: Starting in XGBoost 1.3.0, the default evaluation metric used with the objective 'binary:logistic' was changed from 'error' to 'logloss'. Explicitly set eval_metric if you'd like to restore the old behavior.\n"
     ]
    },
    {
     "data": {
      "text/plain": [
       "RandomizedSearchCV(cv=5,\n",
       "                   estimator=Pipeline(steps=[('preprocessor',\n",
       "                                              ColumnTransformer(transformers=[('num',\n",
       "                                                                               Pipeline(steps=[('imputer',\n",
       "                                                                                                SimpleImputer(strategy='median')),\n",
       "                                                                                               ('scaler',\n",
       "                                                                                                PowerTransformer())]),\n",
       "                                                                               Index(['omtioxzz', 'yfmzwkru', 'tiwrsloh', 'weioazcf'], dtype='object')),\n",
       "                                                                              ('ordinal_encoder',\n",
       "                                                                               OrdinalEncoder(),\n",
       "                                                                               ['kjkrfgld',\n",
       "                                                                                'bpowgknt',\n",
       "                                                                                'raksnhjf']),\n",
       "                                                                              ('target_en...\n",
       "                                                            verbosity=None))]),\n",
       "                   n_iter=5, n_jobs=10,\n",
       "                   param_distributions={'classifier__learning_rate': [0.01,\n",
       "                                                                      0.02,\n",
       "                                                                      0.03],\n",
       "                                        'classifier__max_depth': [3, 4, 5],\n",
       "                                        'classifier__n_estimators': [100, 200,\n",
       "                                                                     300,\n",
       "                                                                     1000],\n",
       "                                        'classifier__objective': ['binary:logistic',\n",
       "                                                                  'binary:logitraw'],\n",
       "                                        'preprocessor__target_encoder__sigma': [0.01,\n",
       "                                                                                0.02,\n",
       "                                                                                0.03,\n",
       "                                                                                0.04,\n",
       "                                                                                0.05,\n",
       "                                                                                0.06]},\n",
       "                   random_state=1, scoring='neg_log_loss')"
      ]
     },
     "execution_count": 38,
     "metadata": {},
     "output_type": "execute_result"
    }
   ],
   "source": [
    "xgb_fit = rscv_xgb.fit(X_train, y_train)\n",
    "xgb_fit"
   ]
  },
  {
   "cell_type": "code",
   "execution_count": 39,
   "metadata": {},
   "outputs": [
    {
     "data": {
      "text/plain": [
       "{'preprocessor__target_encoder__sigma': 0.06,\n",
       " 'classifier__objective': 'binary:logistic',\n",
       " 'classifier__n_estimators': 300,\n",
       " 'classifier__max_depth': 4,\n",
       " 'classifier__learning_rate': 0.03}"
      ]
     },
     "execution_count": 39,
     "metadata": {},
     "output_type": "execute_result"
    }
   ],
   "source": [
    "rscv_xgb.best_params_"
   ]
  },
  {
   "cell_type": "code",
   "execution_count": 40,
   "metadata": {},
   "outputs": [
    {
     "data": {
      "text/plain": [
       "-0.4888701991105592"
      ]
     },
     "execution_count": 40,
     "metadata": {},
     "output_type": "execute_result"
    }
   ],
   "source": [
    "rscv_xgb.best_score_"
   ]
  },
  {
   "cell_type": "code",
   "execution_count": 41,
   "metadata": {},
   "outputs": [
    {
     "data": {
      "text/plain": [
       "0.49304486474365344"
      ]
     },
     "execution_count": 41,
     "metadata": {},
     "output_type": "execute_result"
    }
   ],
   "source": [
    "y_pred_xgb = rscv_xgb.best_estimator_.predict_proba(X_test)\n",
    "log_loss(y_test, y_pred_xgb, eps=1e-15, normalize=True, sample_weight=None, labels=None)"
   ]
  },
  {
   "cell_type": "markdown",
   "metadata": {},
   "source": [
    "### Light Gradient Boosting"
   ]
  },
  {
   "cell_type": "markdown",
   "metadata": {},
   "source": [
    "[Hyperparameter tunning](https://lightgbm.readthedocs.io/en/latest/Parameters-Tuning.html)"
   ]
  },
  {
   "cell_type": "code",
   "execution_count": 42,
   "metadata": {},
   "outputs": [],
   "source": [
    "clf_lgb = LGBMClassifier()\n",
    "pipe_lgb = Pipeline([('preprocessor', preprocessor), ('classifier',  clf_lgb)])"
   ]
  },
  {
   "cell_type": "code",
   "execution_count": 43,
   "metadata": {},
   "outputs": [],
   "source": [
    "# Hyperparameters can be accessed with a double underscore\n",
    "param_grid_LGB = {\n",
    "        'preprocessor__target_encoder__sigma': [0.01, 0.02, 0.03, 0.04, 0.05, 0.06],\n",
    "        'classifier__n_estimators': [100, 200, 300, 1000],\n",
    "        'classifier__learning_rate' : [0.01, 0.02, 0.03],\n",
    "        'classifier__max_depth' : [6, 7, 8],\n",
    "        'classifier__l2_leaf_reg' : [3, 4, 5],\n",
    "#         'classifier__loss_function' : 'Logloss',\n",
    "#         'classifier__silent' : True,\n",
    "#         'classifier__boosting_type' : 'gbdt',\n",
    "#         'classifier__objective' : 'binary',\n",
    "#         'classifier__gamma' : 0.3,\n",
    "#         'classifier__subsample' : 0.6,\n",
    "#         'classifier__reg_alpha' : 0.02,\n",
    "#         'classifier__is_unbalance' : True,\n",
    "#         'classifier__reg_lambda' : 0.01,\n",
    "}\n",
    "\n",
    "rscv_lgb = RandomizedSearchCV(pipe_lgb,\n",
    "                          cv=5,\n",
    "                          n_iter=5,\n",
    "                          n_jobs=10,\n",
    "                          param_distributions = param_grid_LGB,\n",
    "                          scoring='neg_log_loss',\n",
    "                          random_state=1)"
   ]
  },
  {
   "cell_type": "code",
   "execution_count": 44,
   "metadata": {
    "collapsed": true
   },
   "outputs": [
    {
     "data": {
      "text/plain": [
       "RandomizedSearchCV(cv=5,\n",
       "                   estimator=Pipeline(steps=[('preprocessor',\n",
       "                                              ColumnTransformer(transformers=[('num',\n",
       "                                                                               Pipeline(steps=[('imputer',\n",
       "                                                                                                SimpleImputer(strategy='median')),\n",
       "                                                                                               ('scaler',\n",
       "                                                                                                PowerTransformer())]),\n",
       "                                                                               Index(['omtioxzz', 'yfmzwkru', 'tiwrsloh', 'weioazcf'], dtype='object')),\n",
       "                                                                              ('ordinal_encoder',\n",
       "                                                                               OrdinalEncoder(),\n",
       "                                                                               ['kjkrfgld',\n",
       "                                                                                'bpowgknt',\n",
       "                                                                                'raksnhjf']),\n",
       "                                                                              ('target_en...\n",
       "                                                                               ['vwpsxrgk'])])),\n",
       "                                             ('classifier', LGBMClassifier())]),\n",
       "                   n_iter=5, n_jobs=10,\n",
       "                   param_distributions={'classifier__l2_leaf_reg': [3, 4, 5],\n",
       "                                        'classifier__learning_rate': [0.01,\n",
       "                                                                      0.02,\n",
       "                                                                      0.03],\n",
       "                                        'classifier__max_depth': [6, 7, 8],\n",
       "                                        'classifier__n_estimators': [100, 200,\n",
       "                                                                     300,\n",
       "                                                                     1000],\n",
       "                                        'preprocessor__target_encoder__sigma': [0.01,\n",
       "                                                                                0.02,\n",
       "                                                                                0.03,\n",
       "                                                                                0.04,\n",
       "                                                                                0.05,\n",
       "                                                                                0.06]},\n",
       "                   random_state=1, scoring='neg_log_loss')"
      ]
     },
     "execution_count": 44,
     "metadata": {},
     "output_type": "execute_result"
    }
   ],
   "source": [
    "lgb_fit = rscv_lgb.fit(X_train, y_train)\n",
    "lgb_fit"
   ]
  },
  {
   "cell_type": "code",
   "execution_count": 45,
   "metadata": {},
   "outputs": [
    {
     "data": {
      "text/plain": [
       "{'preprocessor__target_encoder__sigma': 0.02,\n",
       " 'classifier__n_estimators': 300,\n",
       " 'classifier__max_depth': 7,\n",
       " 'classifier__learning_rate': 0.01,\n",
       " 'classifier__l2_leaf_reg': 3}"
      ]
     },
     "execution_count": 45,
     "metadata": {},
     "output_type": "execute_result"
    }
   ],
   "source": [
    "rscv_lgb.best_params_"
   ]
  },
  {
   "cell_type": "code",
   "execution_count": 46,
   "metadata": {},
   "outputs": [
    {
     "data": {
      "text/plain": [
       "-0.4959588754947224"
      ]
     },
     "execution_count": 46,
     "metadata": {},
     "output_type": "execute_result"
    }
   ],
   "source": [
    "rscv_lgb.best_score_"
   ]
  },
  {
   "cell_type": "code",
   "execution_count": 47,
   "metadata": {},
   "outputs": [
    {
     "data": {
      "text/plain": [
       "0.49849568905505814"
      ]
     },
     "execution_count": 47,
     "metadata": {},
     "output_type": "execute_result"
    }
   ],
   "source": [
    "y_pred_lgb = rscv_lgb.best_estimator_.predict_proba(X_test)\n",
    "log_loss(y_test, y_pred_lgb, eps=1e-15, normalize=True, sample_weight=None, labels=None)"
   ]
  },
  {
   "cell_type": "markdown",
   "metadata": {},
   "source": [
    "### CatBoost"
   ]
  },
  {
   "cell_type": "markdown",
   "metadata": {},
   "source": [
    "Hyperparameters tunning [Documentation](https://catboost.ai/docs/concepts/python-reference_parameters-list.html)"
   ]
  },
  {
   "cell_type": "code",
   "execution_count": 48,
   "metadata": {},
   "outputs": [],
   "source": [
    "clf_cb = CatBoostClassifier()\n",
    "pipe_cb = Pipeline([('preprocessor', preprocessor), ('classifier',  clf_cb)])"
   ]
  },
  {
   "cell_type": "code",
   "execution_count": 49,
   "metadata": {},
   "outputs": [],
   "source": [
    "# Hyperparameters can be accessed with a double underscore\n",
    "param_grid_CB = {\n",
    "        'preprocessor__target_encoder__sigma': [0.01, 0.02, 0.03, 0.04, 0.05, 0.06],\n",
    "        'classifier__n_estimators': [100, 200, 300, 1000],\n",
    "        'classifier__learning_rate' : [0.01, 0.02, 0.03],\n",
    "        'classifier__depth' : [6, 7, 8],\n",
    "        'classifier__l2_leaf_reg' : [3, 4, 5],\n",
    "#         'classifier__loss_function' : 'Logloss',\n",
    "#         'classifier__logging_level' : 'Silent',\n",
    "}\n",
    "\n",
    "rscv_cb = RandomizedSearchCV(pipe_cb,\n",
    "                          cv=5,\n",
    "                          n_iter=5,\n",
    "                          n_jobs=10,\n",
    "                          param_distributions = param_grid_CB,\n",
    "                          scoring='neg_log_loss',\n",
    "                          random_state=1)"
   ]
  },
  {
   "cell_type": "code",
   "execution_count": 50,
   "metadata": {
    "collapsed": true
   },
   "outputs": [
    {
     "name": "stdout",
     "output_type": "stream",
     "text": [
      "0:\tlearn: 0.6891817\ttotal: 51.1ms\tremaining: 51s\n",
      "1:\tlearn: 0.6853852\ttotal: 54.5ms\tremaining: 27.2s\n",
      "2:\tlearn: 0.6816860\ttotal: 57.7ms\tremaining: 19.2s\n",
      "3:\tlearn: 0.6778634\ttotal: 61.3ms\tremaining: 15.3s\n",
      "4:\tlearn: 0.6740027\ttotal: 65ms\tremaining: 12.9s\n",
      "5:\tlearn: 0.6705778\ttotal: 68.8ms\tremaining: 11.4s\n",
      "6:\tlearn: 0.6671320\ttotal: 72.7ms\tremaining: 10.3s\n",
      "7:\tlearn: 0.6638831\ttotal: 76.4ms\tremaining: 9.48s\n",
      "8:\tlearn: 0.6607596\ttotal: 80.2ms\tremaining: 8.82s\n",
      "9:\tlearn: 0.6575393\ttotal: 83.9ms\tremaining: 8.31s\n",
      "10:\tlearn: 0.6543431\ttotal: 87.7ms\tremaining: 7.88s\n",
      "11:\tlearn: 0.6514807\ttotal: 91.4ms\tremaining: 7.53s\n",
      "12:\tlearn: 0.6483641\ttotal: 95.2ms\tremaining: 7.23s\n",
      "13:\tlearn: 0.6457077\ttotal: 99ms\tremaining: 6.97s\n",
      "14:\tlearn: 0.6426633\ttotal: 103ms\tremaining: 6.75s\n",
      "15:\tlearn: 0.6398034\ttotal: 107ms\tremaining: 6.55s\n",
      "16:\tlearn: 0.6374926\ttotal: 110ms\tremaining: 6.37s\n",
      "17:\tlearn: 0.6348448\ttotal: 114ms\tremaining: 6.22s\n",
      "18:\tlearn: 0.6322105\ttotal: 118ms\tremaining: 6.08s\n",
      "19:\tlearn: 0.6295319\ttotal: 122ms\tremaining: 5.96s\n",
      "20:\tlearn: 0.6271671\ttotal: 125ms\tremaining: 5.84s\n",
      "21:\tlearn: 0.6246806\ttotal: 129ms\tremaining: 5.74s\n",
      "22:\tlearn: 0.6219406\ttotal: 133ms\tremaining: 5.64s\n",
      "23:\tlearn: 0.6194118\ttotal: 137ms\tremaining: 5.55s\n",
      "24:\tlearn: 0.6171842\ttotal: 140ms\tremaining: 5.47s\n",
      "25:\tlearn: 0.6147891\ttotal: 144ms\tremaining: 5.4s\n",
      "26:\tlearn: 0.6124852\ttotal: 148ms\tremaining: 5.33s\n",
      "27:\tlearn: 0.6103487\ttotal: 151ms\tremaining: 5.24s\n",
      "28:\tlearn: 0.6081618\ttotal: 154ms\tremaining: 5.16s\n",
      "29:\tlearn: 0.6061997\ttotal: 157ms\tremaining: 5.08s\n",
      "30:\tlearn: 0.6041773\ttotal: 160ms\tremaining: 5s\n",
      "31:\tlearn: 0.6022715\ttotal: 163ms\tremaining: 4.92s\n",
      "32:\tlearn: 0.6004789\ttotal: 165ms\tremaining: 4.84s\n",
      "33:\tlearn: 0.5983997\ttotal: 168ms\tremaining: 4.76s\n",
      "34:\tlearn: 0.5965644\ttotal: 170ms\tremaining: 4.69s\n",
      "35:\tlearn: 0.5945305\ttotal: 172ms\tremaining: 4.62s\n",
      "36:\tlearn: 0.5928747\ttotal: 175ms\tremaining: 4.55s\n",
      "37:\tlearn: 0.5912098\ttotal: 177ms\tremaining: 4.48s\n",
      "38:\tlearn: 0.5893536\ttotal: 179ms\tremaining: 4.41s\n",
      "39:\tlearn: 0.5876712\ttotal: 181ms\tremaining: 4.35s\n",
      "40:\tlearn: 0.5862213\ttotal: 183ms\tremaining: 4.29s\n",
      "41:\tlearn: 0.5844200\ttotal: 185ms\tremaining: 4.23s\n",
      "42:\tlearn: 0.5828225\ttotal: 187ms\tremaining: 4.17s\n",
      "43:\tlearn: 0.5812570\ttotal: 189ms\tremaining: 4.11s\n",
      "44:\tlearn: 0.5799836\ttotal: 191ms\tremaining: 4.05s\n",
      "45:\tlearn: 0.5784205\ttotal: 193ms\tremaining: 4s\n",
      "46:\tlearn: 0.5769893\ttotal: 195ms\tremaining: 3.96s\n",
      "47:\tlearn: 0.5753790\ttotal: 197ms\tremaining: 3.91s\n",
      "48:\tlearn: 0.5739917\ttotal: 199ms\tremaining: 3.87s\n",
      "49:\tlearn: 0.5723980\ttotal: 201ms\tremaining: 3.82s\n",
      "50:\tlearn: 0.5708988\ttotal: 203ms\tremaining: 3.78s\n",
      "51:\tlearn: 0.5694457\ttotal: 205ms\tremaining: 3.74s\n",
      "52:\tlearn: 0.5681612\ttotal: 207ms\tremaining: 3.71s\n",
      "53:\tlearn: 0.5670364\ttotal: 209ms\tremaining: 3.67s\n",
      "54:\tlearn: 0.5658315\ttotal: 212ms\tremaining: 3.63s\n",
      "55:\tlearn: 0.5645753\ttotal: 214ms\tremaining: 3.6s\n",
      "56:\tlearn: 0.5633161\ttotal: 216ms\tremaining: 3.57s\n",
      "57:\tlearn: 0.5619401\ttotal: 218ms\tremaining: 3.53s\n",
      "58:\tlearn: 0.5606357\ttotal: 220ms\tremaining: 3.5s\n",
      "59:\tlearn: 0.5597439\ttotal: 221ms\tremaining: 3.47s\n",
      "60:\tlearn: 0.5585210\ttotal: 223ms\tremaining: 3.44s\n",
      "61:\tlearn: 0.5573855\ttotal: 225ms\tremaining: 3.41s\n",
      "62:\tlearn: 0.5562483\ttotal: 227ms\tremaining: 3.38s\n",
      "63:\tlearn: 0.5549924\ttotal: 229ms\tremaining: 3.35s\n",
      "64:\tlearn: 0.5539539\ttotal: 231ms\tremaining: 3.33s\n",
      "65:\tlearn: 0.5528887\ttotal: 233ms\tremaining: 3.3s\n",
      "66:\tlearn: 0.5518606\ttotal: 235ms\tremaining: 3.28s\n",
      "67:\tlearn: 0.5508444\ttotal: 237ms\tremaining: 3.25s\n",
      "68:\tlearn: 0.5496890\ttotal: 239ms\tremaining: 3.23s\n",
      "69:\tlearn: 0.5486401\ttotal: 241ms\tremaining: 3.21s\n",
      "70:\tlearn: 0.5476363\ttotal: 243ms\tremaining: 3.19s\n",
      "71:\tlearn: 0.5466241\ttotal: 246ms\tremaining: 3.16s\n",
      "72:\tlearn: 0.5456900\ttotal: 248ms\tremaining: 3.14s\n",
      "73:\tlearn: 0.5446350\ttotal: 252ms\tremaining: 3.15s\n",
      "74:\tlearn: 0.5436900\ttotal: 256ms\tremaining: 3.16s\n",
      "75:\tlearn: 0.5426309\ttotal: 260ms\tremaining: 3.16s\n",
      "76:\tlearn: 0.5417856\ttotal: 264ms\tremaining: 3.16s\n",
      "77:\tlearn: 0.5408175\ttotal: 267ms\tremaining: 3.16s\n",
      "78:\tlearn: 0.5399963\ttotal: 271ms\tremaining: 3.16s\n",
      "79:\tlearn: 0.5391277\ttotal: 275ms\tremaining: 3.17s\n",
      "80:\tlearn: 0.5382601\ttotal: 285ms\tremaining: 3.23s\n",
      "81:\tlearn: 0.5373077\ttotal: 287ms\tremaining: 3.22s\n",
      "82:\tlearn: 0.5364235\ttotal: 290ms\tremaining: 3.2s\n",
      "83:\tlearn: 0.5355983\ttotal: 292ms\tremaining: 3.18s\n",
      "84:\tlearn: 0.5348832\ttotal: 294ms\tremaining: 3.16s\n",
      "85:\tlearn: 0.5340042\ttotal: 296ms\tremaining: 3.15s\n",
      "86:\tlearn: 0.5332036\ttotal: 298ms\tremaining: 3.13s\n",
      "87:\tlearn: 0.5323989\ttotal: 300ms\tremaining: 3.11s\n",
      "88:\tlearn: 0.5317257\ttotal: 302ms\tremaining: 3.1s\n",
      "89:\tlearn: 0.5308013\ttotal: 305ms\tremaining: 3.08s\n",
      "90:\tlearn: 0.5301623\ttotal: 307ms\tremaining: 3.06s\n",
      "91:\tlearn: 0.5294341\ttotal: 309ms\tremaining: 3.04s\n",
      "92:\tlearn: 0.5287135\ttotal: 311ms\tremaining: 3.03s\n",
      "93:\tlearn: 0.5279128\ttotal: 313ms\tremaining: 3.01s\n",
      "94:\tlearn: 0.5271410\ttotal: 315ms\tremaining: 3s\n",
      "95:\tlearn: 0.5264855\ttotal: 316ms\tremaining: 2.98s\n",
      "96:\tlearn: 0.5257089\ttotal: 318ms\tremaining: 2.96s\n",
      "97:\tlearn: 0.5250130\ttotal: 320ms\tremaining: 2.95s\n",
      "98:\tlearn: 0.5242900\ttotal: 322ms\tremaining: 2.93s\n",
      "99:\tlearn: 0.5237379\ttotal: 324ms\tremaining: 2.92s\n",
      "100:\tlearn: 0.5232915\ttotal: 326ms\tremaining: 2.9s\n",
      "101:\tlearn: 0.5226217\ttotal: 329ms\tremaining: 2.89s\n",
      "102:\tlearn: 0.5220685\ttotal: 331ms\tremaining: 2.88s\n",
      "103:\tlearn: 0.5214931\ttotal: 333ms\tremaining: 2.87s\n",
      "104:\tlearn: 0.5208733\ttotal: 335ms\tremaining: 2.85s\n",
      "105:\tlearn: 0.5202662\ttotal: 337ms\tremaining: 2.84s\n",
      "106:\tlearn: 0.5196751\ttotal: 339ms\tremaining: 2.83s\n",
      "107:\tlearn: 0.5190972\ttotal: 341ms\tremaining: 2.81s\n",
      "108:\tlearn: 0.5185455\ttotal: 343ms\tremaining: 2.8s\n",
      "109:\tlearn: 0.5178417\ttotal: 345ms\tremaining: 2.79s\n",
      "110:\tlearn: 0.5172329\ttotal: 347ms\tremaining: 2.78s\n",
      "111:\tlearn: 0.5166558\ttotal: 349ms\tremaining: 2.76s\n",
      "112:\tlearn: 0.5160309\ttotal: 351ms\tremaining: 2.75s\n",
      "113:\tlearn: 0.5155158\ttotal: 353ms\tremaining: 2.74s\n",
      "114:\tlearn: 0.5150052\ttotal: 355ms\tremaining: 2.73s\n",
      "115:\tlearn: 0.5144197\ttotal: 357ms\tremaining: 2.72s\n",
      "116:\tlearn: 0.5139311\ttotal: 359ms\tremaining: 2.71s\n",
      "117:\tlearn: 0.5133587\ttotal: 361ms\tremaining: 2.7s\n",
      "118:\tlearn: 0.5128427\ttotal: 364ms\tremaining: 2.69s\n",
      "119:\tlearn: 0.5123014\ttotal: 366ms\tremaining: 2.69s\n",
      "120:\tlearn: 0.5118197\ttotal: 368ms\tremaining: 2.67s\n",
      "121:\tlearn: 0.5113445\ttotal: 370ms\tremaining: 2.66s\n",
      "122:\tlearn: 0.5109472\ttotal: 372ms\tremaining: 2.65s\n",
      "123:\tlearn: 0.5105278\ttotal: 374ms\tremaining: 2.65s\n",
      "124:\tlearn: 0.5100288\ttotal: 377ms\tremaining: 2.64s\n",
      "125:\tlearn: 0.5095983\ttotal: 379ms\tremaining: 2.63s\n",
      "126:\tlearn: 0.5090813\ttotal: 381ms\tremaining: 2.62s\n",
      "127:\tlearn: 0.5086402\ttotal: 383ms\tremaining: 2.61s\n",
      "128:\tlearn: 0.5082899\ttotal: 385ms\tremaining: 2.6s\n",
      "129:\tlearn: 0.5078517\ttotal: 388ms\tremaining: 2.59s\n",
      "130:\tlearn: 0.5074231\ttotal: 390ms\tremaining: 2.58s\n",
      "131:\tlearn: 0.5069944\ttotal: 392ms\tremaining: 2.58s\n",
      "132:\tlearn: 0.5065801\ttotal: 394ms\tremaining: 2.57s\n",
      "133:\tlearn: 0.5061039\ttotal: 396ms\tremaining: 2.56s\n",
      "134:\tlearn: 0.5055969\ttotal: 398ms\tremaining: 2.55s\n",
      "135:\tlearn: 0.5051660\ttotal: 401ms\tremaining: 2.55s\n",
      "136:\tlearn: 0.5047496\ttotal: 403ms\tremaining: 2.54s\n",
      "137:\tlearn: 0.5043577\ttotal: 405ms\tremaining: 2.53s\n",
      "138:\tlearn: 0.5038060\ttotal: 407ms\tremaining: 2.52s\n",
      "139:\tlearn: 0.5033825\ttotal: 409ms\tremaining: 2.51s\n",
      "140:\tlearn: 0.5029275\ttotal: 411ms\tremaining: 2.51s\n",
      "141:\tlearn: 0.5025787\ttotal: 415ms\tremaining: 2.51s\n",
      "142:\tlearn: 0.5022895\ttotal: 417ms\tremaining: 2.5s\n",
      "143:\tlearn: 0.5019274\ttotal: 419ms\tremaining: 2.49s\n",
      "144:\tlearn: 0.5015153\ttotal: 421ms\tremaining: 2.48s\n",
      "145:\tlearn: 0.5011083\ttotal: 423ms\tremaining: 2.47s\n",
      "146:\tlearn: 0.5006765\ttotal: 425ms\tremaining: 2.47s\n",
      "147:\tlearn: 0.5003535\ttotal: 427ms\tremaining: 2.46s\n",
      "148:\tlearn: 0.5000998\ttotal: 429ms\tremaining: 2.45s\n",
      "149:\tlearn: 0.4997832\ttotal: 431ms\tremaining: 2.44s\n",
      "150:\tlearn: 0.4993811\ttotal: 434ms\tremaining: 2.44s\n",
      "151:\tlearn: 0.4990178\ttotal: 436ms\tremaining: 2.43s\n",
      "152:\tlearn: 0.4986212\ttotal: 438ms\tremaining: 2.42s\n",
      "153:\tlearn: 0.4982465\ttotal: 440ms\tremaining: 2.42s\n",
      "154:\tlearn: 0.4978346\ttotal: 443ms\tremaining: 2.41s\n",
      "155:\tlearn: 0.4974840\ttotal: 445ms\tremaining: 2.41s\n",
      "156:\tlearn: 0.4971271\ttotal: 448ms\tremaining: 2.4s\n",
      "157:\tlearn: 0.4967988\ttotal: 460ms\tremaining: 2.45s\n",
      "158:\tlearn: 0.4964439\ttotal: 468ms\tremaining: 2.48s\n",
      "159:\tlearn: 0.4961370\ttotal: 473ms\tremaining: 2.48s\n",
      "160:\tlearn: 0.4957673\ttotal: 477ms\tremaining: 2.48s\n",
      "161:\tlearn: 0.4954231\ttotal: 482ms\tremaining: 2.49s\n",
      "162:\tlearn: 0.4950552\ttotal: 489ms\tremaining: 2.51s\n",
      "163:\tlearn: 0.4947062\ttotal: 492ms\tremaining: 2.51s\n",
      "164:\tlearn: 0.4944887\ttotal: 495ms\tremaining: 2.5s\n",
      "165:\tlearn: 0.4942002\ttotal: 498ms\tremaining: 2.5s\n",
      "166:\tlearn: 0.4938171\ttotal: 500ms\tremaining: 2.49s\n",
      "167:\tlearn: 0.4936141\ttotal: 502ms\tremaining: 2.49s\n",
      "168:\tlearn: 0.4932977\ttotal: 505ms\tremaining: 2.48s\n",
      "169:\tlearn: 0.4929961\ttotal: 507ms\tremaining: 2.48s\n",
      "170:\tlearn: 0.4926714\ttotal: 510ms\tremaining: 2.47s\n",
      "171:\tlearn: 0.4925254\ttotal: 511ms\tremaining: 2.46s\n",
      "172:\tlearn: 0.4923018\ttotal: 514ms\tremaining: 2.46s\n",
      "173:\tlearn: 0.4920199\ttotal: 516ms\tremaining: 2.45s\n",
      "174:\tlearn: 0.4917634\ttotal: 519ms\tremaining: 2.44s\n",
      "175:\tlearn: 0.4916040\ttotal: 521ms\tremaining: 2.44s\n",
      "176:\tlearn: 0.4912508\ttotal: 523ms\tremaining: 2.43s\n",
      "177:\tlearn: 0.4909689\ttotal: 526ms\tremaining: 2.43s\n",
      "178:\tlearn: 0.4907144\ttotal: 528ms\tremaining: 2.42s\n",
      "179:\tlearn: 0.4904100\ttotal: 531ms\tremaining: 2.42s\n",
      "180:\tlearn: 0.4901834\ttotal: 533ms\tremaining: 2.41s\n",
      "181:\tlearn: 0.4898406\ttotal: 535ms\tremaining: 2.4s\n",
      "182:\tlearn: 0.4895399\ttotal: 538ms\tremaining: 2.4s\n",
      "183:\tlearn: 0.4892978\ttotal: 540ms\tremaining: 2.39s\n",
      "184:\tlearn: 0.4890555\ttotal: 542ms\tremaining: 2.39s\n",
      "185:\tlearn: 0.4887350\ttotal: 545ms\tremaining: 2.38s\n",
      "186:\tlearn: 0.4884870\ttotal: 547ms\tremaining: 2.38s\n",
      "187:\tlearn: 0.4882042\ttotal: 549ms\tremaining: 2.37s\n",
      "188:\tlearn: 0.4879325\ttotal: 552ms\tremaining: 2.37s\n",
      "189:\tlearn: 0.4877539\ttotal: 554ms\tremaining: 2.36s\n",
      "190:\tlearn: 0.4875314\ttotal: 556ms\tremaining: 2.35s\n",
      "191:\tlearn: 0.4873235\ttotal: 558ms\tremaining: 2.35s\n",
      "192:\tlearn: 0.4870553\ttotal: 560ms\tremaining: 2.34s\n",
      "193:\tlearn: 0.4867757\ttotal: 562ms\tremaining: 2.34s\n",
      "194:\tlearn: 0.4864957\ttotal: 564ms\tremaining: 2.33s\n",
      "195:\tlearn: 0.4862241\ttotal: 566ms\tremaining: 2.32s\n",
      "196:\tlearn: 0.4860141\ttotal: 568ms\tremaining: 2.31s\n",
      "197:\tlearn: 0.4857958\ttotal: 570ms\tremaining: 2.31s\n",
      "198:\tlearn: 0.4856128\ttotal: 572ms\tremaining: 2.3s\n",
      "199:\tlearn: 0.4853990\ttotal: 574ms\tremaining: 2.3s\n",
      "200:\tlearn: 0.4851316\ttotal: 576ms\tremaining: 2.29s\n",
      "201:\tlearn: 0.4848301\ttotal: 578ms\tremaining: 2.28s\n",
      "202:\tlearn: 0.4845754\ttotal: 580ms\tremaining: 2.28s\n",
      "203:\tlearn: 0.4843192\ttotal: 582ms\tremaining: 2.27s\n",
      "204:\tlearn: 0.4841942\ttotal: 584ms\tremaining: 2.27s\n",
      "205:\tlearn: 0.4839442\ttotal: 586ms\tremaining: 2.26s\n",
      "206:\tlearn: 0.4838792\ttotal: 588ms\tremaining: 2.25s\n",
      "207:\tlearn: 0.4836478\ttotal: 590ms\tremaining: 2.25s\n",
      "208:\tlearn: 0.4834166\ttotal: 592ms\tremaining: 2.24s\n",
      "209:\tlearn: 0.4832060\ttotal: 594ms\tremaining: 2.23s\n",
      "210:\tlearn: 0.4829579\ttotal: 596ms\tremaining: 2.23s\n",
      "211:\tlearn: 0.4827586\ttotal: 598ms\tremaining: 2.22s\n",
      "212:\tlearn: 0.4825470\ttotal: 600ms\tremaining: 2.22s\n",
      "213:\tlearn: 0.4822998\ttotal: 602ms\tremaining: 2.21s\n",
      "214:\tlearn: 0.4820617\ttotal: 605ms\tremaining: 2.21s\n",
      "215:\tlearn: 0.4818563\ttotal: 607ms\tremaining: 2.2s\n",
      "216:\tlearn: 0.4816611\ttotal: 609ms\tremaining: 2.2s\n",
      "217:\tlearn: 0.4814480\ttotal: 611ms\tremaining: 2.19s\n",
      "218:\tlearn: 0.4812577\ttotal: 613ms\tremaining: 2.19s\n",
      "219:\tlearn: 0.4810458\ttotal: 615ms\tremaining: 2.18s\n",
      "220:\tlearn: 0.4808643\ttotal: 617ms\tremaining: 2.17s\n",
      "221:\tlearn: 0.4806384\ttotal: 619ms\tremaining: 2.17s\n",
      "222:\tlearn: 0.4804049\ttotal: 621ms\tremaining: 2.16s\n",
      "223:\tlearn: 0.4802584\ttotal: 623ms\tremaining: 2.16s\n",
      "224:\tlearn: 0.4800572\ttotal: 625ms\tremaining: 2.15s\n",
      "225:\tlearn: 0.4798713\ttotal: 627ms\tremaining: 2.15s\n",
      "226:\tlearn: 0.4796630\ttotal: 629ms\tremaining: 2.14s\n",
      "227:\tlearn: 0.4794591\ttotal: 631ms\tremaining: 2.14s\n",
      "228:\tlearn: 0.4794112\ttotal: 633ms\tremaining: 2.13s\n",
      "229:\tlearn: 0.4792245\ttotal: 635ms\tremaining: 2.12s\n",
      "230:\tlearn: 0.4789831\ttotal: 637ms\tremaining: 2.12s\n",
      "231:\tlearn: 0.4787113\ttotal: 639ms\tremaining: 2.11s\n",
      "232:\tlearn: 0.4785388\ttotal: 641ms\tremaining: 2.11s\n",
      "233:\tlearn: 0.4783234\ttotal: 643ms\tremaining: 2.1s\n",
      "234:\tlearn: 0.4781544\ttotal: 645ms\tremaining: 2.1s\n",
      "235:\tlearn: 0.4780097\ttotal: 647ms\tremaining: 2.09s\n",
      "236:\tlearn: 0.4778817\ttotal: 649ms\tremaining: 2.09s\n",
      "237:\tlearn: 0.4776380\ttotal: 651ms\tremaining: 2.08s\n",
      "238:\tlearn: 0.4774773\ttotal: 653ms\tremaining: 2.08s\n",
      "239:\tlearn: 0.4772969\ttotal: 655ms\tremaining: 2.07s\n"
     ]
    },
    {
     "name": "stdout",
     "output_type": "stream",
     "text": [
      "240:\tlearn: 0.4771701\ttotal: 657ms\tremaining: 2.07s\n",
      "241:\tlearn: 0.4769857\ttotal: 664ms\tremaining: 2.08s\n",
      "242:\tlearn: 0.4768104\ttotal: 668ms\tremaining: 2.08s\n",
      "243:\tlearn: 0.4766334\ttotal: 673ms\tremaining: 2.08s\n",
      "244:\tlearn: 0.4765859\ttotal: 675ms\tremaining: 2.08s\n",
      "245:\tlearn: 0.4763541\ttotal: 678ms\tremaining: 2.08s\n",
      "246:\tlearn: 0.4762307\ttotal: 680ms\tremaining: 2.07s\n",
      "247:\tlearn: 0.4760310\ttotal: 682ms\tremaining: 2.07s\n",
      "248:\tlearn: 0.4758658\ttotal: 684ms\tremaining: 2.06s\n",
      "249:\tlearn: 0.4756602\ttotal: 686ms\tremaining: 2.06s\n",
      "250:\tlearn: 0.4755120\ttotal: 689ms\tremaining: 2.05s\n",
      "251:\tlearn: 0.4753265\ttotal: 691ms\tremaining: 2.05s\n",
      "252:\tlearn: 0.4751876\ttotal: 693ms\tremaining: 2.04s\n",
      "253:\tlearn: 0.4750697\ttotal: 695ms\tremaining: 2.04s\n",
      "254:\tlearn: 0.4748705\ttotal: 697ms\tremaining: 2.04s\n",
      "255:\tlearn: 0.4747289\ttotal: 699ms\tremaining: 2.03s\n",
      "256:\tlearn: 0.4744879\ttotal: 701ms\tremaining: 2.03s\n",
      "257:\tlearn: 0.4743263\ttotal: 703ms\tremaining: 2.02s\n",
      "258:\tlearn: 0.4742107\ttotal: 705ms\tremaining: 2.02s\n",
      "259:\tlearn: 0.4740278\ttotal: 707ms\tremaining: 2.01s\n",
      "260:\tlearn: 0.4738511\ttotal: 709ms\tremaining: 2.01s\n",
      "261:\tlearn: 0.4736906\ttotal: 711ms\tremaining: 2s\n",
      "262:\tlearn: 0.4735217\ttotal: 714ms\tremaining: 2s\n",
      "263:\tlearn: 0.4733269\ttotal: 716ms\tremaining: 2s\n",
      "264:\tlearn: 0.4731767\ttotal: 718ms\tremaining: 1.99s\n",
      "265:\tlearn: 0.4730328\ttotal: 720ms\tremaining: 1.99s\n",
      "266:\tlearn: 0.4728601\ttotal: 722ms\tremaining: 1.98s\n",
      "267:\tlearn: 0.4726690\ttotal: 724ms\tremaining: 1.98s\n",
      "268:\tlearn: 0.4725154\ttotal: 726ms\tremaining: 1.97s\n",
      "269:\tlearn: 0.4723320\ttotal: 728ms\tremaining: 1.97s\n",
      "270:\tlearn: 0.4722315\ttotal: 730ms\tremaining: 1.96s\n",
      "271:\tlearn: 0.4720820\ttotal: 732ms\tremaining: 1.96s\n",
      "272:\tlearn: 0.4720373\ttotal: 734ms\tremaining: 1.95s\n",
      "273:\tlearn: 0.4718702\ttotal: 736ms\tremaining: 1.95s\n",
      "274:\tlearn: 0.4717118\ttotal: 738ms\tremaining: 1.95s\n",
      "275:\tlearn: 0.4715709\ttotal: 740ms\tremaining: 1.94s\n",
      "276:\tlearn: 0.4713614\ttotal: 742ms\tremaining: 1.94s\n",
      "277:\tlearn: 0.4712082\ttotal: 744ms\tremaining: 1.93s\n",
      "278:\tlearn: 0.4710105\ttotal: 746ms\tremaining: 1.93s\n",
      "279:\tlearn: 0.4707997\ttotal: 748ms\tremaining: 1.92s\n",
      "280:\tlearn: 0.4705952\ttotal: 750ms\tremaining: 1.92s\n",
      "281:\tlearn: 0.4704528\ttotal: 752ms\tremaining: 1.92s\n",
      "282:\tlearn: 0.4702942\ttotal: 754ms\tremaining: 1.91s\n",
      "283:\tlearn: 0.4701505\ttotal: 757ms\tremaining: 1.91s\n",
      "284:\tlearn: 0.4700762\ttotal: 758ms\tremaining: 1.9s\n",
      "285:\tlearn: 0.4699621\ttotal: 760ms\tremaining: 1.9s\n",
      "286:\tlearn: 0.4697763\ttotal: 762ms\tremaining: 1.89s\n",
      "287:\tlearn: 0.4695964\ttotal: 765ms\tremaining: 1.89s\n",
      "288:\tlearn: 0.4694487\ttotal: 767ms\tremaining: 1.89s\n",
      "289:\tlearn: 0.4693186\ttotal: 769ms\tremaining: 1.88s\n",
      "290:\tlearn: 0.4691608\ttotal: 771ms\tremaining: 1.88s\n",
      "291:\tlearn: 0.4690545\ttotal: 773ms\tremaining: 1.87s\n",
      "292:\tlearn: 0.4689319\ttotal: 775ms\tremaining: 1.87s\n",
      "293:\tlearn: 0.4687514\ttotal: 777ms\tremaining: 1.86s\n",
      "294:\tlearn: 0.4685986\ttotal: 779ms\tremaining: 1.86s\n",
      "295:\tlearn: 0.4684399\ttotal: 781ms\tremaining: 1.86s\n",
      "296:\tlearn: 0.4682946\ttotal: 783ms\tremaining: 1.85s\n",
      "297:\tlearn: 0.4681660\ttotal: 785ms\tremaining: 1.85s\n",
      "298:\tlearn: 0.4679768\ttotal: 787ms\tremaining: 1.84s\n",
      "299:\tlearn: 0.4677895\ttotal: 789ms\tremaining: 1.84s\n",
      "300:\tlearn: 0.4676106\ttotal: 791ms\tremaining: 1.84s\n",
      "301:\tlearn: 0.4674267\ttotal: 793ms\tremaining: 1.83s\n",
      "302:\tlearn: 0.4672818\ttotal: 795ms\tremaining: 1.83s\n",
      "303:\tlearn: 0.4670811\ttotal: 797ms\tremaining: 1.82s\n",
      "304:\tlearn: 0.4669845\ttotal: 799ms\tremaining: 1.82s\n",
      "305:\tlearn: 0.4668558\ttotal: 801ms\tremaining: 1.82s\n",
      "306:\tlearn: 0.4666822\ttotal: 803ms\tremaining: 1.81s\n",
      "307:\tlearn: 0.4665604\ttotal: 805ms\tremaining: 1.81s\n",
      "308:\tlearn: 0.4664236\ttotal: 808ms\tremaining: 1.8s\n",
      "309:\tlearn: 0.4663187\ttotal: 810ms\tremaining: 1.8s\n",
      "310:\tlearn: 0.4661690\ttotal: 812ms\tremaining: 1.8s\n",
      "311:\tlearn: 0.4660066\ttotal: 814ms\tremaining: 1.79s\n",
      "312:\tlearn: 0.4659022\ttotal: 816ms\tremaining: 1.79s\n",
      "313:\tlearn: 0.4657721\ttotal: 818ms\tremaining: 1.79s\n",
      "314:\tlearn: 0.4656650\ttotal: 820ms\tremaining: 1.78s\n",
      "315:\tlearn: 0.4655481\ttotal: 822ms\tremaining: 1.78s\n",
      "316:\tlearn: 0.4653925\ttotal: 824ms\tremaining: 1.77s\n",
      "317:\tlearn: 0.4652376\ttotal: 826ms\tremaining: 1.77s\n",
      "318:\tlearn: 0.4650965\ttotal: 828ms\tremaining: 1.77s\n",
      "319:\tlearn: 0.4649517\ttotal: 830ms\tremaining: 1.76s\n",
      "320:\tlearn: 0.4648668\ttotal: 832ms\tremaining: 1.76s\n",
      "321:\tlearn: 0.4647611\ttotal: 835ms\tremaining: 1.76s\n",
      "322:\tlearn: 0.4646056\ttotal: 837ms\tremaining: 1.75s\n",
      "323:\tlearn: 0.4644491\ttotal: 839ms\tremaining: 1.75s\n",
      "324:\tlearn: 0.4642772\ttotal: 841ms\tremaining: 1.75s\n",
      "325:\tlearn: 0.4640871\ttotal: 843ms\tremaining: 1.74s\n",
      "326:\tlearn: 0.4639809\ttotal: 845ms\tremaining: 1.74s\n",
      "327:\tlearn: 0.4638473\ttotal: 847ms\tremaining: 1.74s\n",
      "328:\tlearn: 0.4637360\ttotal: 849ms\tremaining: 1.73s\n",
      "329:\tlearn: 0.4635865\ttotal: 851ms\tremaining: 1.73s\n",
      "330:\tlearn: 0.4634802\ttotal: 853ms\tremaining: 1.72s\n",
      "331:\tlearn: 0.4633303\ttotal: 855ms\tremaining: 1.72s\n",
      "332:\tlearn: 0.4632195\ttotal: 859ms\tremaining: 1.72s\n",
      "333:\tlearn: 0.4630946\ttotal: 863ms\tremaining: 1.72s\n",
      "334:\tlearn: 0.4629972\ttotal: 867ms\tremaining: 1.72s\n",
      "335:\tlearn: 0.4628867\ttotal: 869ms\tremaining: 1.72s\n",
      "336:\tlearn: 0.4627423\ttotal: 872ms\tremaining: 1.72s\n",
      "337:\tlearn: 0.4626110\ttotal: 874ms\tremaining: 1.71s\n",
      "338:\tlearn: 0.4625127\ttotal: 877ms\tremaining: 1.71s\n",
      "339:\tlearn: 0.4624162\ttotal: 879ms\tremaining: 1.71s\n",
      "340:\tlearn: 0.4623543\ttotal: 881ms\tremaining: 1.7s\n",
      "341:\tlearn: 0.4622606\ttotal: 883ms\tremaining: 1.7s\n",
      "342:\tlearn: 0.4621384\ttotal: 885ms\tremaining: 1.7s\n",
      "343:\tlearn: 0.4619887\ttotal: 887ms\tremaining: 1.69s\n",
      "344:\tlearn: 0.4618666\ttotal: 890ms\tremaining: 1.69s\n",
      "345:\tlearn: 0.4617560\ttotal: 892ms\tremaining: 1.69s\n",
      "346:\tlearn: 0.4616003\ttotal: 894ms\tremaining: 1.68s\n",
      "347:\tlearn: 0.4614900\ttotal: 896ms\tremaining: 1.68s\n",
      "348:\tlearn: 0.4613600\ttotal: 898ms\tremaining: 1.68s\n",
      "349:\tlearn: 0.4612338\ttotal: 900ms\tremaining: 1.67s\n",
      "350:\tlearn: 0.4611258\ttotal: 902ms\tremaining: 1.67s\n",
      "351:\tlearn: 0.4609982\ttotal: 904ms\tremaining: 1.66s\n",
      "352:\tlearn: 0.4608469\ttotal: 906ms\tremaining: 1.66s\n",
      "353:\tlearn: 0.4606839\ttotal: 908ms\tremaining: 1.66s\n",
      "354:\tlearn: 0.4605792\ttotal: 910ms\tremaining: 1.65s\n",
      "355:\tlearn: 0.4604840\ttotal: 913ms\tremaining: 1.65s\n",
      "356:\tlearn: 0.4603770\ttotal: 915ms\tremaining: 1.65s\n",
      "357:\tlearn: 0.4602992\ttotal: 917ms\tremaining: 1.64s\n",
      "358:\tlearn: 0.4601384\ttotal: 919ms\tremaining: 1.64s\n",
      "359:\tlearn: 0.4600426\ttotal: 921ms\tremaining: 1.64s\n",
      "360:\tlearn: 0.4598891\ttotal: 923ms\tremaining: 1.63s\n",
      "361:\tlearn: 0.4598231\ttotal: 925ms\tremaining: 1.63s\n",
      "362:\tlearn: 0.4597499\ttotal: 927ms\tremaining: 1.63s\n",
      "363:\tlearn: 0.4596022\ttotal: 929ms\tremaining: 1.62s\n",
      "364:\tlearn: 0.4595004\ttotal: 932ms\tremaining: 1.62s\n",
      "365:\tlearn: 0.4593983\ttotal: 934ms\tremaining: 1.62s\n",
      "366:\tlearn: 0.4592579\ttotal: 936ms\tremaining: 1.61s\n",
      "367:\tlearn: 0.4591199\ttotal: 938ms\tremaining: 1.61s\n",
      "368:\tlearn: 0.4590268\ttotal: 940ms\tremaining: 1.61s\n",
      "369:\tlearn: 0.4589314\ttotal: 942ms\tremaining: 1.6s\n",
      "370:\tlearn: 0.4588116\ttotal: 944ms\tremaining: 1.6s\n",
      "371:\tlearn: 0.4587145\ttotal: 946ms\tremaining: 1.6s\n",
      "372:\tlearn: 0.4585019\ttotal: 948ms\tremaining: 1.59s\n",
      "373:\tlearn: 0.4583843\ttotal: 951ms\tremaining: 1.59s\n",
      "374:\tlearn: 0.4583076\ttotal: 953ms\tremaining: 1.59s\n",
      "375:\tlearn: 0.4581999\ttotal: 955ms\tremaining: 1.58s\n",
      "376:\tlearn: 0.4581024\ttotal: 957ms\tremaining: 1.58s\n",
      "377:\tlearn: 0.4580367\ttotal: 959ms\tremaining: 1.58s\n",
      "378:\tlearn: 0.4579098\ttotal: 961ms\tremaining: 1.57s\n",
      "379:\tlearn: 0.4577750\ttotal: 963ms\tremaining: 1.57s\n",
      "380:\tlearn: 0.4576442\ttotal: 965ms\tremaining: 1.57s\n",
      "381:\tlearn: 0.4575262\ttotal: 967ms\tremaining: 1.56s\n",
      "382:\tlearn: 0.4575111\ttotal: 969ms\tremaining: 1.56s\n",
      "383:\tlearn: 0.4573783\ttotal: 971ms\tremaining: 1.56s\n",
      "384:\tlearn: 0.4572848\ttotal: 973ms\tremaining: 1.55s\n",
      "385:\tlearn: 0.4571558\ttotal: 975ms\tremaining: 1.55s\n",
      "386:\tlearn: 0.4570523\ttotal: 977ms\tremaining: 1.55s\n",
      "387:\tlearn: 0.4569427\ttotal: 980ms\tremaining: 1.54s\n",
      "388:\tlearn: 0.4567875\ttotal: 982ms\tremaining: 1.54s\n",
      "389:\tlearn: 0.4566542\ttotal: 984ms\tremaining: 1.54s\n",
      "390:\tlearn: 0.4565976\ttotal: 986ms\tremaining: 1.53s\n",
      "391:\tlearn: 0.4564975\ttotal: 988ms\tremaining: 1.53s\n",
      "392:\tlearn: 0.4563968\ttotal: 990ms\tremaining: 1.53s\n",
      "393:\tlearn: 0.4562727\ttotal: 992ms\tremaining: 1.53s\n",
      "394:\tlearn: 0.4562144\ttotal: 994ms\tremaining: 1.52s\n",
      "395:\tlearn: 0.4561035\ttotal: 997ms\tremaining: 1.52s\n",
      "396:\tlearn: 0.4560398\ttotal: 999ms\tremaining: 1.52s\n",
      "397:\tlearn: 0.4559573\ttotal: 1s\tremaining: 1.51s\n",
      "398:\tlearn: 0.4558119\ttotal: 1s\tremaining: 1.51s\n",
      "399:\tlearn: 0.4556990\ttotal: 1s\tremaining: 1.51s\n",
      "400:\tlearn: 0.4555566\ttotal: 1.01s\tremaining: 1.5s\n",
      "401:\tlearn: 0.4554190\ttotal: 1.01s\tremaining: 1.5s\n",
      "402:\tlearn: 0.4553088\ttotal: 1.01s\tremaining: 1.5s\n",
      "403:\tlearn: 0.4552441\ttotal: 1.01s\tremaining: 1.5s\n",
      "404:\tlearn: 0.4551432\ttotal: 1.01s\tremaining: 1.49s\n",
      "405:\tlearn: 0.4550441\ttotal: 1.02s\tremaining: 1.49s\n",
      "406:\tlearn: 0.4549099\ttotal: 1.02s\tremaining: 1.49s\n",
      "407:\tlearn: 0.4548112\ttotal: 1.02s\tremaining: 1.48s\n",
      "408:\tlearn: 0.4547225\ttotal: 1.02s\tremaining: 1.48s\n",
      "409:\tlearn: 0.4546582\ttotal: 1.03s\tremaining: 1.48s\n",
      "410:\tlearn: 0.4545498\ttotal: 1.03s\tremaining: 1.47s\n",
      "411:\tlearn: 0.4544559\ttotal: 1.03s\tremaining: 1.47s\n",
      "412:\tlearn: 0.4543693\ttotal: 1.03s\tremaining: 1.47s\n",
      "413:\tlearn: 0.4542627\ttotal: 1.03s\tremaining: 1.47s\n",
      "414:\tlearn: 0.4541667\ttotal: 1.04s\tremaining: 1.46s\n",
      "415:\tlearn: 0.4540333\ttotal: 1.04s\tremaining: 1.46s\n",
      "416:\tlearn: 0.4538932\ttotal: 1.04s\tremaining: 1.46s\n",
      "417:\tlearn: 0.4537504\ttotal: 1.04s\tremaining: 1.45s\n",
      "418:\tlearn: 0.4536552\ttotal: 1.05s\tremaining: 1.45s\n",
      "419:\tlearn: 0.4536029\ttotal: 1.05s\tremaining: 1.45s\n",
      "420:\tlearn: 0.4535304\ttotal: 1.05s\tremaining: 1.44s\n"
     ]
    },
    {
     "name": "stdout",
     "output_type": "stream",
     "text": [
      "421:\tlearn: 0.4534633\ttotal: 1.05s\tremaining: 1.44s\n",
      "422:\tlearn: 0.4533646\ttotal: 1.06s\tremaining: 1.44s\n",
      "423:\tlearn: 0.4532761\ttotal: 1.06s\tremaining: 1.44s\n",
      "424:\tlearn: 0.4531895\ttotal: 1.06s\tremaining: 1.44s\n",
      "425:\tlearn: 0.4530705\ttotal: 1.07s\tremaining: 1.44s\n",
      "426:\tlearn: 0.4530217\ttotal: 1.07s\tremaining: 1.44s\n",
      "427:\tlearn: 0.4529113\ttotal: 1.07s\tremaining: 1.43s\n",
      "428:\tlearn: 0.4527609\ttotal: 1.07s\tremaining: 1.43s\n",
      "429:\tlearn: 0.4526242\ttotal: 1.08s\tremaining: 1.43s\n",
      "430:\tlearn: 0.4525665\ttotal: 1.08s\tremaining: 1.43s\n",
      "431:\tlearn: 0.4524771\ttotal: 1.08s\tremaining: 1.42s\n",
      "432:\tlearn: 0.4523791\ttotal: 1.08s\tremaining: 1.42s\n",
      "433:\tlearn: 0.4522657\ttotal: 1.09s\tremaining: 1.42s\n",
      "434:\tlearn: 0.4521526\ttotal: 1.09s\tremaining: 1.41s\n",
      "435:\tlearn: 0.4520879\ttotal: 1.09s\tremaining: 1.41s\n",
      "436:\tlearn: 0.4520214\ttotal: 1.09s\tremaining: 1.41s\n",
      "437:\tlearn: 0.4519359\ttotal: 1.09s\tremaining: 1.4s\n",
      "438:\tlearn: 0.4519064\ttotal: 1.1s\tremaining: 1.4s\n",
      "439:\tlearn: 0.4518265\ttotal: 1.1s\tremaining: 1.4s\n",
      "440:\tlearn: 0.4517029\ttotal: 1.1s\tremaining: 1.4s\n",
      "441:\tlearn: 0.4516319\ttotal: 1.1s\tremaining: 1.39s\n",
      "442:\tlearn: 0.4515378\ttotal: 1.1s\tremaining: 1.39s\n",
      "443:\tlearn: 0.4514977\ttotal: 1.11s\tremaining: 1.39s\n",
      "444:\tlearn: 0.4514101\ttotal: 1.11s\tremaining: 1.38s\n",
      "445:\tlearn: 0.4513535\ttotal: 1.11s\tremaining: 1.38s\n",
      "446:\tlearn: 0.4512613\ttotal: 1.11s\tremaining: 1.38s\n",
      "447:\tlearn: 0.4511809\ttotal: 1.12s\tremaining: 1.38s\n",
      "448:\tlearn: 0.4511046\ttotal: 1.12s\tremaining: 1.37s\n",
      "449:\tlearn: 0.4510340\ttotal: 1.12s\tremaining: 1.37s\n",
      "450:\tlearn: 0.4510103\ttotal: 1.12s\tremaining: 1.37s\n",
      "451:\tlearn: 0.4509532\ttotal: 1.12s\tremaining: 1.36s\n",
      "452:\tlearn: 0.4508839\ttotal: 1.13s\tremaining: 1.36s\n",
      "453:\tlearn: 0.4507840\ttotal: 1.13s\tremaining: 1.36s\n",
      "454:\tlearn: 0.4507022\ttotal: 1.13s\tremaining: 1.35s\n",
      "455:\tlearn: 0.4505980\ttotal: 1.13s\tremaining: 1.35s\n",
      "456:\tlearn: 0.4504500\ttotal: 1.14s\tremaining: 1.35s\n",
      "457:\tlearn: 0.4503505\ttotal: 1.14s\tremaining: 1.35s\n",
      "458:\tlearn: 0.4502659\ttotal: 1.14s\tremaining: 1.34s\n",
      "459:\tlearn: 0.4501690\ttotal: 1.14s\tremaining: 1.34s\n",
      "460:\tlearn: 0.4500918\ttotal: 1.14s\tremaining: 1.34s\n",
      "461:\tlearn: 0.4499692\ttotal: 1.15s\tremaining: 1.33s\n",
      "462:\tlearn: 0.4498183\ttotal: 1.15s\tremaining: 1.33s\n",
      "463:\tlearn: 0.4497535\ttotal: 1.15s\tremaining: 1.33s\n",
      "464:\tlearn: 0.4496538\ttotal: 1.15s\tremaining: 1.33s\n",
      "465:\tlearn: 0.4495829\ttotal: 1.15s\tremaining: 1.32s\n",
      "466:\tlearn: 0.4495274\ttotal: 1.16s\tremaining: 1.32s\n",
      "467:\tlearn: 0.4493986\ttotal: 1.16s\tremaining: 1.32s\n",
      "468:\tlearn: 0.4493540\ttotal: 1.16s\tremaining: 1.31s\n",
      "469:\tlearn: 0.4492688\ttotal: 1.16s\tremaining: 1.31s\n",
      "470:\tlearn: 0.4492226\ttotal: 1.17s\tremaining: 1.31s\n",
      "471:\tlearn: 0.4491172\ttotal: 1.17s\tremaining: 1.31s\n",
      "472:\tlearn: 0.4490671\ttotal: 1.17s\tremaining: 1.3s\n",
      "473:\tlearn: 0.4489763\ttotal: 1.17s\tremaining: 1.3s\n",
      "474:\tlearn: 0.4489018\ttotal: 1.17s\tremaining: 1.3s\n",
      "475:\tlearn: 0.4487809\ttotal: 1.18s\tremaining: 1.29s\n",
      "476:\tlearn: 0.4487234\ttotal: 1.18s\tremaining: 1.29s\n",
      "477:\tlearn: 0.4486108\ttotal: 1.18s\tremaining: 1.29s\n",
      "478:\tlearn: 0.4485284\ttotal: 1.18s\tremaining: 1.29s\n",
      "479:\tlearn: 0.4484050\ttotal: 1.19s\tremaining: 1.28s\n",
      "480:\tlearn: 0.4482915\ttotal: 1.19s\tremaining: 1.28s\n",
      "481:\tlearn: 0.4482115\ttotal: 1.19s\tremaining: 1.28s\n",
      "482:\tlearn: 0.4480926\ttotal: 1.19s\tremaining: 1.27s\n",
      "483:\tlearn: 0.4480440\ttotal: 1.19s\tremaining: 1.27s\n",
      "484:\tlearn: 0.4479429\ttotal: 1.2s\tremaining: 1.27s\n",
      "485:\tlearn: 0.4478766\ttotal: 1.2s\tremaining: 1.27s\n",
      "486:\tlearn: 0.4478342\ttotal: 1.2s\tremaining: 1.26s\n",
      "487:\tlearn: 0.4476794\ttotal: 1.2s\tremaining: 1.26s\n",
      "488:\tlearn: 0.4476188\ttotal: 1.2s\tremaining: 1.26s\n",
      "489:\tlearn: 0.4475385\ttotal: 1.21s\tremaining: 1.26s\n",
      "490:\tlearn: 0.4474983\ttotal: 1.21s\tremaining: 1.25s\n",
      "491:\tlearn: 0.4474818\ttotal: 1.21s\tremaining: 1.25s\n",
      "492:\tlearn: 0.4474445\ttotal: 1.21s\tremaining: 1.25s\n",
      "493:\tlearn: 0.4473158\ttotal: 1.22s\tremaining: 1.24s\n",
      "494:\tlearn: 0.4472091\ttotal: 1.22s\tremaining: 1.24s\n",
      "495:\tlearn: 0.4470851\ttotal: 1.22s\tremaining: 1.24s\n",
      "496:\tlearn: 0.4469860\ttotal: 1.22s\tremaining: 1.24s\n",
      "497:\tlearn: 0.4468855\ttotal: 1.22s\tremaining: 1.23s\n",
      "498:\tlearn: 0.4467374\ttotal: 1.23s\tremaining: 1.23s\n",
      "499:\tlearn: 0.4466503\ttotal: 1.23s\tremaining: 1.23s\n",
      "500:\tlearn: 0.4465504\ttotal: 1.23s\tremaining: 1.23s\n",
      "501:\tlearn: 0.4464652\ttotal: 1.23s\tremaining: 1.22s\n",
      "502:\tlearn: 0.4463788\ttotal: 1.23s\tremaining: 1.22s\n",
      "503:\tlearn: 0.4462696\ttotal: 1.24s\tremaining: 1.22s\n",
      "504:\tlearn: 0.4461961\ttotal: 1.24s\tremaining: 1.21s\n",
      "505:\tlearn: 0.4461308\ttotal: 1.24s\tremaining: 1.21s\n",
      "506:\tlearn: 0.4460058\ttotal: 1.24s\tremaining: 1.21s\n",
      "507:\tlearn: 0.4459424\ttotal: 1.25s\tremaining: 1.21s\n",
      "508:\tlearn: 0.4458452\ttotal: 1.25s\tremaining: 1.2s\n",
      "509:\tlearn: 0.4457984\ttotal: 1.25s\tremaining: 1.2s\n",
      "510:\tlearn: 0.4457158\ttotal: 1.25s\tremaining: 1.2s\n",
      "511:\tlearn: 0.4456184\ttotal: 1.26s\tremaining: 1.2s\n",
      "512:\tlearn: 0.4454832\ttotal: 1.26s\tremaining: 1.2s\n",
      "513:\tlearn: 0.4453912\ttotal: 1.26s\tremaining: 1.2s\n",
      "514:\tlearn: 0.4452841\ttotal: 1.27s\tremaining: 1.19s\n",
      "515:\tlearn: 0.4451650\ttotal: 1.27s\tremaining: 1.19s\n",
      "516:\tlearn: 0.4450991\ttotal: 1.27s\tremaining: 1.19s\n",
      "517:\tlearn: 0.4449774\ttotal: 1.27s\tremaining: 1.19s\n",
      "518:\tlearn: 0.4448946\ttotal: 1.28s\tremaining: 1.18s\n",
      "519:\tlearn: 0.4447565\ttotal: 1.28s\tremaining: 1.18s\n",
      "520:\tlearn: 0.4446932\ttotal: 1.28s\tremaining: 1.18s\n",
      "521:\tlearn: 0.4446126\ttotal: 1.28s\tremaining: 1.18s\n",
      "522:\tlearn: 0.4445563\ttotal: 1.28s\tremaining: 1.17s\n",
      "523:\tlearn: 0.4444557\ttotal: 1.29s\tremaining: 1.17s\n",
      "524:\tlearn: 0.4443860\ttotal: 1.29s\tremaining: 1.17s\n",
      "525:\tlearn: 0.4443063\ttotal: 1.29s\tremaining: 1.16s\n",
      "526:\tlearn: 0.4441563\ttotal: 1.29s\tremaining: 1.16s\n",
      "527:\tlearn: 0.4441305\ttotal: 1.3s\tremaining: 1.16s\n",
      "528:\tlearn: 0.4440403\ttotal: 1.3s\tremaining: 1.16s\n",
      "529:\tlearn: 0.4439712\ttotal: 1.3s\tremaining: 1.15s\n",
      "530:\tlearn: 0.4439247\ttotal: 1.3s\tremaining: 1.15s\n",
      "531:\tlearn: 0.4438246\ttotal: 1.3s\tremaining: 1.15s\n",
      "532:\tlearn: 0.4437519\ttotal: 1.31s\tremaining: 1.15s\n",
      "533:\tlearn: 0.4436852\ttotal: 1.31s\tremaining: 1.14s\n",
      "534:\tlearn: 0.4436526\ttotal: 1.31s\tremaining: 1.14s\n",
      "535:\tlearn: 0.4435856\ttotal: 1.31s\tremaining: 1.14s\n",
      "536:\tlearn: 0.4435153\ttotal: 1.31s\tremaining: 1.13s\n",
      "537:\tlearn: 0.4434735\ttotal: 1.32s\tremaining: 1.13s\n",
      "538:\tlearn: 0.4433711\ttotal: 1.32s\tremaining: 1.13s\n",
      "539:\tlearn: 0.4433032\ttotal: 1.32s\tremaining: 1.13s\n",
      "540:\tlearn: 0.4432657\ttotal: 1.32s\tremaining: 1.12s\n",
      "541:\tlearn: 0.4431768\ttotal: 1.33s\tremaining: 1.12s\n",
      "542:\tlearn: 0.4431223\ttotal: 1.33s\tremaining: 1.12s\n",
      "543:\tlearn: 0.4430678\ttotal: 1.33s\tremaining: 1.11s\n",
      "544:\tlearn: 0.4430251\ttotal: 1.33s\tremaining: 1.11s\n",
      "545:\tlearn: 0.4428911\ttotal: 1.33s\tremaining: 1.11s\n",
      "546:\tlearn: 0.4428055\ttotal: 1.34s\tremaining: 1.11s\n",
      "547:\tlearn: 0.4427324\ttotal: 1.34s\tremaining: 1.1s\n",
      "548:\tlearn: 0.4426579\ttotal: 1.34s\tremaining: 1.1s\n",
      "549:\tlearn: 0.4425799\ttotal: 1.34s\tremaining: 1.1s\n",
      "550:\tlearn: 0.4425372\ttotal: 1.35s\tremaining: 1.1s\n",
      "551:\tlearn: 0.4424582\ttotal: 1.35s\tremaining: 1.09s\n",
      "552:\tlearn: 0.4423965\ttotal: 1.35s\tremaining: 1.09s\n",
      "553:\tlearn: 0.4422871\ttotal: 1.35s\tremaining: 1.09s\n",
      "554:\tlearn: 0.4422043\ttotal: 1.35s\tremaining: 1.09s\n",
      "555:\tlearn: 0.4421156\ttotal: 1.36s\tremaining: 1.08s\n",
      "556:\tlearn: 0.4419933\ttotal: 1.36s\tremaining: 1.08s\n",
      "557:\tlearn: 0.4418902\ttotal: 1.36s\tremaining: 1.08s\n",
      "558:\tlearn: 0.4417910\ttotal: 1.36s\tremaining: 1.07s\n",
      "559:\tlearn: 0.4417410\ttotal: 1.36s\tremaining: 1.07s\n",
      "560:\tlearn: 0.4416879\ttotal: 1.37s\tremaining: 1.07s\n",
      "561:\tlearn: 0.4416129\ttotal: 1.37s\tremaining: 1.07s\n",
      "562:\tlearn: 0.4415803\ttotal: 1.37s\tremaining: 1.06s\n",
      "563:\tlearn: 0.4415181\ttotal: 1.37s\tremaining: 1.06s\n",
      "564:\tlearn: 0.4414123\ttotal: 1.38s\tremaining: 1.06s\n",
      "565:\tlearn: 0.4413556\ttotal: 1.38s\tremaining: 1.06s\n",
      "566:\tlearn: 0.4412414\ttotal: 1.38s\tremaining: 1.05s\n",
      "567:\tlearn: 0.4411735\ttotal: 1.38s\tremaining: 1.05s\n",
      "568:\tlearn: 0.4411376\ttotal: 1.38s\tremaining: 1.05s\n",
      "569:\tlearn: 0.4410439\ttotal: 1.39s\tremaining: 1.05s\n",
      "570:\tlearn: 0.4409889\ttotal: 1.39s\tremaining: 1.04s\n",
      "571:\tlearn: 0.4409509\ttotal: 1.39s\tremaining: 1.04s\n",
      "572:\tlearn: 0.4409090\ttotal: 1.39s\tremaining: 1.04s\n",
      "573:\tlearn: 0.4408267\ttotal: 1.4s\tremaining: 1.03s\n",
      "574:\tlearn: 0.4407851\ttotal: 1.4s\tremaining: 1.03s\n",
      "575:\tlearn: 0.4407419\ttotal: 1.4s\tremaining: 1.03s\n",
      "576:\tlearn: 0.4406446\ttotal: 1.4s\tremaining: 1.03s\n",
      "577:\tlearn: 0.4406091\ttotal: 1.4s\tremaining: 1.02s\n",
      "578:\tlearn: 0.4405260\ttotal: 1.41s\tremaining: 1.02s\n",
      "579:\tlearn: 0.4404750\ttotal: 1.41s\tremaining: 1.02s\n",
      "580:\tlearn: 0.4404017\ttotal: 1.41s\tremaining: 1.02s\n",
      "581:\tlearn: 0.4403895\ttotal: 1.41s\tremaining: 1.01s\n",
      "582:\tlearn: 0.4403323\ttotal: 1.42s\tremaining: 1.01s\n",
      "583:\tlearn: 0.4402930\ttotal: 1.42s\tremaining: 1.01s\n",
      "584:\tlearn: 0.4402585\ttotal: 1.42s\tremaining: 1.01s\n",
      "585:\tlearn: 0.4401920\ttotal: 1.42s\tremaining: 1s\n",
      "586:\tlearn: 0.4401404\ttotal: 1.42s\tremaining: 1s\n",
      "587:\tlearn: 0.4400602\ttotal: 1.43s\tremaining: 999ms\n",
      "588:\tlearn: 0.4399656\ttotal: 1.43s\tremaining: 996ms\n",
      "589:\tlearn: 0.4398733\ttotal: 1.43s\tremaining: 994ms\n",
      "590:\tlearn: 0.4398407\ttotal: 1.43s\tremaining: 991ms\n",
      "591:\tlearn: 0.4397499\ttotal: 1.43s\tremaining: 989ms\n",
      "592:\tlearn: 0.4396985\ttotal: 1.44s\tremaining: 986ms\n",
      "593:\tlearn: 0.4396594\ttotal: 1.44s\tremaining: 984ms\n",
      "594:\tlearn: 0.4395746\ttotal: 1.44s\tremaining: 981ms\n",
      "595:\tlearn: 0.4395041\ttotal: 1.44s\tremaining: 978ms\n",
      "596:\tlearn: 0.4394455\ttotal: 1.45s\tremaining: 976ms\n"
     ]
    },
    {
     "name": "stdout",
     "output_type": "stream",
     "text": [
      "597:\tlearn: 0.4393795\ttotal: 1.45s\tremaining: 974ms\n",
      "598:\tlearn: 0.4392812\ttotal: 1.45s\tremaining: 974ms\n",
      "599:\tlearn: 0.4392169\ttotal: 1.46s\tremaining: 973ms\n",
      "600:\tlearn: 0.4391853\ttotal: 1.46s\tremaining: 971ms\n",
      "601:\tlearn: 0.4391157\ttotal: 1.46s\tremaining: 968ms\n",
      "602:\tlearn: 0.4390464\ttotal: 1.47s\tremaining: 966ms\n",
      "603:\tlearn: 0.4389760\ttotal: 1.47s\tremaining: 963ms\n",
      "604:\tlearn: 0.4389739\ttotal: 1.47s\tremaining: 960ms\n",
      "605:\tlearn: 0.4388528\ttotal: 1.47s\tremaining: 957ms\n",
      "606:\tlearn: 0.4388367\ttotal: 1.47s\tremaining: 955ms\n",
      "607:\tlearn: 0.4387255\ttotal: 1.48s\tremaining: 952ms\n",
      "608:\tlearn: 0.4386653\ttotal: 1.48s\tremaining: 949ms\n",
      "609:\tlearn: 0.4385991\ttotal: 1.48s\tremaining: 947ms\n",
      "610:\tlearn: 0.4385279\ttotal: 1.48s\tremaining: 944ms\n",
      "611:\tlearn: 0.4384434\ttotal: 1.48s\tremaining: 941ms\n",
      "612:\tlearn: 0.4383025\ttotal: 1.49s\tremaining: 938ms\n",
      "613:\tlearn: 0.4382792\ttotal: 1.49s\tremaining: 936ms\n",
      "614:\tlearn: 0.4382074\ttotal: 1.49s\tremaining: 933ms\n",
      "615:\tlearn: 0.4381492\ttotal: 1.49s\tremaining: 930ms\n",
      "616:\tlearn: 0.4380645\ttotal: 1.49s\tremaining: 928ms\n",
      "617:\tlearn: 0.4380182\ttotal: 1.5s\tremaining: 925ms\n",
      "618:\tlearn: 0.4379803\ttotal: 1.5s\tremaining: 923ms\n",
      "619:\tlearn: 0.4379452\ttotal: 1.5s\tremaining: 920ms\n",
      "620:\tlearn: 0.4379068\ttotal: 1.5s\tremaining: 917ms\n",
      "621:\tlearn: 0.4377729\ttotal: 1.5s\tremaining: 915ms\n",
      "622:\tlearn: 0.4377046\ttotal: 1.51s\tremaining: 912ms\n",
      "623:\tlearn: 0.4376198\ttotal: 1.51s\tremaining: 909ms\n",
      "624:\tlearn: 0.4375412\ttotal: 1.51s\tremaining: 906ms\n",
      "625:\tlearn: 0.4374931\ttotal: 1.51s\tremaining: 904ms\n",
      "626:\tlearn: 0.4374323\ttotal: 1.51s\tremaining: 901ms\n",
      "627:\tlearn: 0.4373581\ttotal: 1.52s\tremaining: 898ms\n",
      "628:\tlearn: 0.4372606\ttotal: 1.52s\tremaining: 896ms\n",
      "629:\tlearn: 0.4371827\ttotal: 1.52s\tremaining: 893ms\n",
      "630:\tlearn: 0.4371411\ttotal: 1.52s\tremaining: 891ms\n",
      "631:\tlearn: 0.4370805\ttotal: 1.52s\tremaining: 888ms\n",
      "632:\tlearn: 0.4369717\ttotal: 1.53s\tremaining: 885ms\n",
      "633:\tlearn: 0.4369187\ttotal: 1.53s\tremaining: 883ms\n",
      "634:\tlearn: 0.4368341\ttotal: 1.53s\tremaining: 880ms\n",
      "635:\tlearn: 0.4368121\ttotal: 1.53s\tremaining: 878ms\n",
      "636:\tlearn: 0.4367375\ttotal: 1.53s\tremaining: 875ms\n",
      "637:\tlearn: 0.4367189\ttotal: 1.54s\tremaining: 873ms\n",
      "638:\tlearn: 0.4366730\ttotal: 1.54s\tremaining: 870ms\n",
      "639:\tlearn: 0.4365400\ttotal: 1.54s\tremaining: 867ms\n",
      "640:\tlearn: 0.4364496\ttotal: 1.54s\tremaining: 865ms\n",
      "641:\tlearn: 0.4363658\ttotal: 1.55s\tremaining: 862ms\n",
      "642:\tlearn: 0.4362374\ttotal: 1.55s\tremaining: 860ms\n",
      "643:\tlearn: 0.4361826\ttotal: 1.55s\tremaining: 857ms\n",
      "644:\tlearn: 0.4361699\ttotal: 1.55s\tremaining: 854ms\n",
      "645:\tlearn: 0.4360501\ttotal: 1.55s\tremaining: 852ms\n",
      "646:\tlearn: 0.4359888\ttotal: 1.56s\tremaining: 849ms\n",
      "647:\tlearn: 0.4359255\ttotal: 1.56s\tremaining: 846ms\n",
      "648:\tlearn: 0.4358677\ttotal: 1.56s\tremaining: 844ms\n",
      "649:\tlearn: 0.4358351\ttotal: 1.56s\tremaining: 841ms\n",
      "650:\tlearn: 0.4357678\ttotal: 1.56s\tremaining: 839ms\n",
      "651:\tlearn: 0.4357123\ttotal: 1.57s\tremaining: 836ms\n",
      "652:\tlearn: 0.4356658\ttotal: 1.57s\tremaining: 834ms\n",
      "653:\tlearn: 0.4355607\ttotal: 1.57s\tremaining: 831ms\n",
      "654:\tlearn: 0.4354560\ttotal: 1.57s\tremaining: 829ms\n",
      "655:\tlearn: 0.4353876\ttotal: 1.57s\tremaining: 826ms\n",
      "656:\tlearn: 0.4353579\ttotal: 1.58s\tremaining: 823ms\n",
      "657:\tlearn: 0.4352609\ttotal: 1.58s\tremaining: 821ms\n",
      "658:\tlearn: 0.4351776\ttotal: 1.58s\tremaining: 818ms\n",
      "659:\tlearn: 0.4351002\ttotal: 1.58s\tremaining: 816ms\n",
      "660:\tlearn: 0.4350574\ttotal: 1.58s\tremaining: 813ms\n",
      "661:\tlearn: 0.4349886\ttotal: 1.59s\tremaining: 811ms\n",
      "662:\tlearn: 0.4349220\ttotal: 1.59s\tremaining: 808ms\n",
      "663:\tlearn: 0.4348755\ttotal: 1.59s\tremaining: 805ms\n",
      "664:\tlearn: 0.4348304\ttotal: 1.59s\tremaining: 803ms\n",
      "665:\tlearn: 0.4347860\ttotal: 1.59s\tremaining: 800ms\n",
      "666:\tlearn: 0.4347126\ttotal: 1.6s\tremaining: 798ms\n",
      "667:\tlearn: 0.4345437\ttotal: 1.6s\tremaining: 795ms\n",
      "668:\tlearn: 0.4344712\ttotal: 1.6s\tremaining: 793ms\n",
      "669:\tlearn: 0.4344447\ttotal: 1.6s\tremaining: 790ms\n",
      "670:\tlearn: 0.4344116\ttotal: 1.61s\tremaining: 788ms\n",
      "671:\tlearn: 0.4343124\ttotal: 1.61s\tremaining: 785ms\n",
      "672:\tlearn: 0.4342469\ttotal: 1.61s\tremaining: 782ms\n",
      "673:\tlearn: 0.4341855\ttotal: 1.61s\tremaining: 780ms\n",
      "674:\tlearn: 0.4340869\ttotal: 1.61s\tremaining: 777ms\n",
      "675:\tlearn: 0.4339890\ttotal: 1.62s\tremaining: 775ms\n",
      "676:\tlearn: 0.4338978\ttotal: 1.62s\tremaining: 772ms\n",
      "677:\tlearn: 0.4338490\ttotal: 1.62s\tremaining: 770ms\n",
      "678:\tlearn: 0.4337595\ttotal: 1.62s\tremaining: 767ms\n",
      "679:\tlearn: 0.4336775\ttotal: 1.63s\tremaining: 765ms\n",
      "680:\tlearn: 0.4335719\ttotal: 1.63s\tremaining: 762ms\n",
      "681:\tlearn: 0.4334692\ttotal: 1.63s\tremaining: 760ms\n",
      "682:\tlearn: 0.4333860\ttotal: 1.63s\tremaining: 757ms\n",
      "683:\tlearn: 0.4333195\ttotal: 1.63s\tremaining: 755ms\n",
      "684:\tlearn: 0.4332600\ttotal: 1.64s\tremaining: 752ms\n",
      "685:\tlearn: 0.4331552\ttotal: 1.64s\tremaining: 750ms\n",
      "686:\tlearn: 0.4330759\ttotal: 1.64s\tremaining: 747ms\n",
      "687:\tlearn: 0.4330500\ttotal: 1.64s\tremaining: 744ms\n",
      "688:\tlearn: 0.4329945\ttotal: 1.64s\tremaining: 742ms\n",
      "689:\tlearn: 0.4329149\ttotal: 1.65s\tremaining: 739ms\n",
      "690:\tlearn: 0.4328599\ttotal: 1.65s\tremaining: 738ms\n",
      "691:\tlearn: 0.4327987\ttotal: 1.65s\tremaining: 736ms\n",
      "692:\tlearn: 0.4327240\ttotal: 1.66s\tremaining: 734ms\n",
      "693:\tlearn: 0.4326124\ttotal: 1.66s\tremaining: 732ms\n",
      "694:\tlearn: 0.4324928\ttotal: 1.66s\tremaining: 729ms\n",
      "695:\tlearn: 0.4324321\ttotal: 1.66s\tremaining: 727ms\n",
      "696:\tlearn: 0.4323120\ttotal: 1.67s\tremaining: 724ms\n",
      "697:\tlearn: 0.4322758\ttotal: 1.67s\tremaining: 722ms\n",
      "698:\tlearn: 0.4321828\ttotal: 1.67s\tremaining: 719ms\n",
      "699:\tlearn: 0.4321114\ttotal: 1.67s\tremaining: 717ms\n",
      "700:\tlearn: 0.4320679\ttotal: 1.67s\tremaining: 714ms\n",
      "701:\tlearn: 0.4320107\ttotal: 1.68s\tremaining: 712ms\n",
      "702:\tlearn: 0.4319528\ttotal: 1.68s\tremaining: 709ms\n",
      "703:\tlearn: 0.4318918\ttotal: 1.68s\tremaining: 707ms\n",
      "704:\tlearn: 0.4318194\ttotal: 1.68s\tremaining: 704ms\n",
      "705:\tlearn: 0.4317070\ttotal: 1.69s\tremaining: 702ms\n",
      "706:\tlearn: 0.4316776\ttotal: 1.69s\tremaining: 699ms\n",
      "707:\tlearn: 0.4316077\ttotal: 1.69s\tremaining: 697ms\n",
      "708:\tlearn: 0.4315185\ttotal: 1.69s\tremaining: 694ms\n",
      "709:\tlearn: 0.4314602\ttotal: 1.69s\tremaining: 692ms\n",
      "710:\tlearn: 0.4313618\ttotal: 1.7s\tremaining: 689ms\n",
      "711:\tlearn: 0.4313023\ttotal: 1.7s\tremaining: 687ms\n",
      "712:\tlearn: 0.4312839\ttotal: 1.7s\tremaining: 684ms\n",
      "713:\tlearn: 0.4311681\ttotal: 1.7s\tremaining: 682ms\n",
      "714:\tlearn: 0.4310963\ttotal: 1.7s\tremaining: 679ms\n",
      "715:\tlearn: 0.4310435\ttotal: 1.71s\tremaining: 677ms\n",
      "716:\tlearn: 0.4309511\ttotal: 1.71s\tremaining: 674ms\n",
      "717:\tlearn: 0.4308797\ttotal: 1.71s\tremaining: 672ms\n",
      "718:\tlearn: 0.4308111\ttotal: 1.71s\tremaining: 669ms\n",
      "719:\tlearn: 0.4307444\ttotal: 1.71s\tremaining: 667ms\n",
      "720:\tlearn: 0.4307043\ttotal: 1.72s\tremaining: 664ms\n",
      "721:\tlearn: 0.4305972\ttotal: 1.72s\tremaining: 662ms\n",
      "722:\tlearn: 0.4305276\ttotal: 1.72s\tremaining: 659ms\n",
      "723:\tlearn: 0.4304530\ttotal: 1.72s\tremaining: 657ms\n",
      "724:\tlearn: 0.4304108\ttotal: 1.72s\tremaining: 654ms\n",
      "725:\tlearn: 0.4303799\ttotal: 1.73s\tremaining: 652ms\n",
      "726:\tlearn: 0.4303231\ttotal: 1.73s\tremaining: 649ms\n",
      "727:\tlearn: 0.4302404\ttotal: 1.73s\tremaining: 647ms\n",
      "728:\tlearn: 0.4301891\ttotal: 1.73s\tremaining: 644ms\n",
      "729:\tlearn: 0.4301324\ttotal: 1.74s\tremaining: 642ms\n",
      "730:\tlearn: 0.4300431\ttotal: 1.74s\tremaining: 639ms\n",
      "731:\tlearn: 0.4299780\ttotal: 1.74s\tremaining: 637ms\n",
      "732:\tlearn: 0.4298893\ttotal: 1.74s\tremaining: 634ms\n",
      "733:\tlearn: 0.4298363\ttotal: 1.74s\tremaining: 632ms\n",
      "734:\tlearn: 0.4297633\ttotal: 1.75s\tremaining: 629ms\n",
      "735:\tlearn: 0.4297030\ttotal: 1.75s\tremaining: 627ms\n",
      "736:\tlearn: 0.4296568\ttotal: 1.75s\tremaining: 624ms\n",
      "737:\tlearn: 0.4296159\ttotal: 1.75s\tremaining: 622ms\n",
      "738:\tlearn: 0.4295648\ttotal: 1.75s\tremaining: 619ms\n",
      "739:\tlearn: 0.4295399\ttotal: 1.75s\tremaining: 617ms\n",
      "740:\tlearn: 0.4294821\ttotal: 1.76s\tremaining: 614ms\n",
      "741:\tlearn: 0.4293880\ttotal: 1.76s\tremaining: 612ms\n",
      "742:\tlearn: 0.4293374\ttotal: 1.76s\tremaining: 610ms\n",
      "743:\tlearn: 0.4291624\ttotal: 1.76s\tremaining: 607ms\n",
      "744:\tlearn: 0.4291159\ttotal: 1.77s\tremaining: 605ms\n",
      "745:\tlearn: 0.4290685\ttotal: 1.77s\tremaining: 602ms\n",
      "746:\tlearn: 0.4289976\ttotal: 1.77s\tremaining: 600ms\n",
      "747:\tlearn: 0.4289196\ttotal: 1.77s\tremaining: 597ms\n",
      "748:\tlearn: 0.4288522\ttotal: 1.77s\tremaining: 595ms\n",
      "749:\tlearn: 0.4288174\ttotal: 1.78s\tremaining: 592ms\n",
      "750:\tlearn: 0.4287335\ttotal: 1.78s\tremaining: 590ms\n",
      "751:\tlearn: 0.4286194\ttotal: 1.78s\tremaining: 587ms\n",
      "752:\tlearn: 0.4285649\ttotal: 1.78s\tremaining: 585ms\n",
      "753:\tlearn: 0.4285026\ttotal: 1.78s\tremaining: 582ms\n",
      "754:\tlearn: 0.4284136\ttotal: 1.79s\tremaining: 580ms\n",
      "755:\tlearn: 0.4283034\ttotal: 1.79s\tremaining: 577ms\n",
      "756:\tlearn: 0.4282437\ttotal: 1.79s\tremaining: 575ms\n",
      "757:\tlearn: 0.4282077\ttotal: 1.79s\tremaining: 572ms\n",
      "758:\tlearn: 0.4281557\ttotal: 1.79s\tremaining: 570ms\n",
      "759:\tlearn: 0.4281130\ttotal: 1.8s\tremaining: 568ms\n",
      "760:\tlearn: 0.4280659\ttotal: 1.8s\tremaining: 565ms\n",
      "761:\tlearn: 0.4280419\ttotal: 1.8s\tremaining: 563ms\n",
      "762:\tlearn: 0.4280013\ttotal: 1.8s\tremaining: 560ms\n",
      "763:\tlearn: 0.4279460\ttotal: 1.8s\tremaining: 558ms\n",
      "764:\tlearn: 0.4278731\ttotal: 1.81s\tremaining: 555ms\n",
      "765:\tlearn: 0.4277801\ttotal: 1.81s\tremaining: 553ms\n",
      "766:\tlearn: 0.4276902\ttotal: 1.81s\tremaining: 550ms\n",
      "767:\tlearn: 0.4276371\ttotal: 1.81s\tremaining: 548ms\n",
      "768:\tlearn: 0.4275733\ttotal: 1.82s\tremaining: 546ms\n",
      "769:\tlearn: 0.4275091\ttotal: 1.82s\tremaining: 543ms\n",
      "770:\tlearn: 0.4274430\ttotal: 1.82s\tremaining: 541ms\n",
      "771:\tlearn: 0.4273487\ttotal: 1.82s\tremaining: 538ms\n",
      "772:\tlearn: 0.4273136\ttotal: 1.82s\tremaining: 536ms\n",
      "773:\tlearn: 0.4272755\ttotal: 1.83s\tremaining: 533ms\n",
      "774:\tlearn: 0.4271839\ttotal: 1.83s\tremaining: 531ms\n",
      "775:\tlearn: 0.4270890\ttotal: 1.83s\tremaining: 528ms\n",
      "776:\tlearn: 0.4270241\ttotal: 1.83s\tremaining: 526ms\n",
      "777:\tlearn: 0.4269379\ttotal: 1.83s\tremaining: 524ms\n",
      "778:\tlearn: 0.4268833\ttotal: 1.84s\tremaining: 521ms\n",
      "779:\tlearn: 0.4268273\ttotal: 1.84s\tremaining: 519ms\n",
      "780:\tlearn: 0.4267322\ttotal: 1.84s\tremaining: 516ms\n",
      "781:\tlearn: 0.4266669\ttotal: 1.84s\tremaining: 514ms\n",
      "782:\tlearn: 0.4265536\ttotal: 1.84s\tremaining: 511ms\n"
     ]
    },
    {
     "name": "stdout",
     "output_type": "stream",
     "text": [
      "783:\tlearn: 0.4265135\ttotal: 1.85s\tremaining: 509ms\n",
      "784:\tlearn: 0.4264692\ttotal: 1.85s\tremaining: 508ms\n",
      "785:\tlearn: 0.4264075\ttotal: 1.86s\tremaining: 506ms\n",
      "786:\tlearn: 0.4263166\ttotal: 1.86s\tremaining: 504ms\n",
      "787:\tlearn: 0.4262522\ttotal: 1.86s\tremaining: 501ms\n",
      "788:\tlearn: 0.4261703\ttotal: 1.86s\tremaining: 499ms\n",
      "789:\tlearn: 0.4261595\ttotal: 1.87s\tremaining: 496ms\n",
      "790:\tlearn: 0.4261035\ttotal: 1.87s\tremaining: 494ms\n",
      "791:\tlearn: 0.4260483\ttotal: 1.87s\tremaining: 492ms\n",
      "792:\tlearn: 0.4260086\ttotal: 1.87s\tremaining: 489ms\n",
      "793:\tlearn: 0.4259538\ttotal: 1.88s\tremaining: 487ms\n",
      "794:\tlearn: 0.4259059\ttotal: 1.88s\tremaining: 484ms\n",
      "795:\tlearn: 0.4258516\ttotal: 1.88s\tremaining: 482ms\n",
      "796:\tlearn: 0.4257972\ttotal: 1.88s\tremaining: 479ms\n",
      "797:\tlearn: 0.4257492\ttotal: 1.88s\tremaining: 477ms\n",
      "798:\tlearn: 0.4256976\ttotal: 1.89s\tremaining: 475ms\n",
      "799:\tlearn: 0.4256538\ttotal: 1.89s\tremaining: 472ms\n",
      "800:\tlearn: 0.4255973\ttotal: 1.89s\tremaining: 470ms\n",
      "801:\tlearn: 0.4255512\ttotal: 1.89s\tremaining: 467ms\n",
      "802:\tlearn: 0.4254550\ttotal: 1.9s\tremaining: 465ms\n",
      "803:\tlearn: 0.4253951\ttotal: 1.9s\tremaining: 463ms\n",
      "804:\tlearn: 0.4252954\ttotal: 1.9s\tremaining: 460ms\n",
      "805:\tlearn: 0.4252377\ttotal: 1.9s\tremaining: 458ms\n",
      "806:\tlearn: 0.4251703\ttotal: 1.9s\tremaining: 455ms\n",
      "807:\tlearn: 0.4251110\ttotal: 1.91s\tremaining: 453ms\n",
      "808:\tlearn: 0.4250450\ttotal: 1.91s\tremaining: 450ms\n",
      "809:\tlearn: 0.4249746\ttotal: 1.91s\tremaining: 448ms\n",
      "810:\tlearn: 0.4249005\ttotal: 1.91s\tremaining: 446ms\n",
      "811:\tlearn: 0.4248819\ttotal: 1.91s\tremaining: 443ms\n",
      "812:\tlearn: 0.4248353\ttotal: 1.92s\tremaining: 441ms\n",
      "813:\tlearn: 0.4247638\ttotal: 1.92s\tremaining: 438ms\n",
      "814:\tlearn: 0.4246992\ttotal: 1.92s\tremaining: 436ms\n",
      "815:\tlearn: 0.4246189\ttotal: 1.92s\tremaining: 433ms\n",
      "816:\tlearn: 0.4245513\ttotal: 1.92s\tremaining: 431ms\n",
      "817:\tlearn: 0.4245136\ttotal: 1.93s\tremaining: 429ms\n",
      "818:\tlearn: 0.4244467\ttotal: 1.93s\tremaining: 426ms\n",
      "819:\tlearn: 0.4244001\ttotal: 1.93s\tremaining: 424ms\n",
      "820:\tlearn: 0.4243492\ttotal: 1.93s\tremaining: 421ms\n",
      "821:\tlearn: 0.4242923\ttotal: 1.93s\tremaining: 419ms\n",
      "822:\tlearn: 0.4242285\ttotal: 1.94s\tremaining: 417ms\n",
      "823:\tlearn: 0.4241926\ttotal: 1.94s\tremaining: 414ms\n",
      "824:\tlearn: 0.4240730\ttotal: 1.94s\tremaining: 412ms\n",
      "825:\tlearn: 0.4240195\ttotal: 1.94s\tremaining: 410ms\n",
      "826:\tlearn: 0.4239673\ttotal: 1.95s\tremaining: 408ms\n",
      "827:\tlearn: 0.4239277\ttotal: 1.95s\tremaining: 405ms\n",
      "828:\tlearn: 0.4238827\ttotal: 1.95s\tremaining: 403ms\n",
      "829:\tlearn: 0.4238310\ttotal: 1.96s\tremaining: 401ms\n",
      "830:\tlearn: 0.4237646\ttotal: 1.96s\tremaining: 398ms\n",
      "831:\tlearn: 0.4236865\ttotal: 1.96s\tremaining: 396ms\n",
      "832:\tlearn: 0.4235721\ttotal: 1.96s\tremaining: 393ms\n",
      "833:\tlearn: 0.4234985\ttotal: 1.96s\tremaining: 391ms\n",
      "834:\tlearn: 0.4234240\ttotal: 1.97s\tremaining: 389ms\n",
      "835:\tlearn: 0.4233796\ttotal: 1.97s\tremaining: 386ms\n",
      "836:\tlearn: 0.4233344\ttotal: 1.97s\tremaining: 384ms\n",
      "837:\tlearn: 0.4232680\ttotal: 1.97s\tremaining: 381ms\n",
      "838:\tlearn: 0.4231881\ttotal: 1.97s\tremaining: 379ms\n",
      "839:\tlearn: 0.4231458\ttotal: 1.98s\tremaining: 377ms\n",
      "840:\tlearn: 0.4230773\ttotal: 1.98s\tremaining: 374ms\n",
      "841:\tlearn: 0.4230266\ttotal: 1.98s\tremaining: 372ms\n",
      "842:\tlearn: 0.4229645\ttotal: 1.98s\tremaining: 369ms\n",
      "843:\tlearn: 0.4228797\ttotal: 1.99s\tremaining: 367ms\n",
      "844:\tlearn: 0.4228313\ttotal: 1.99s\tremaining: 365ms\n",
      "845:\tlearn: 0.4227585\ttotal: 1.99s\tremaining: 362ms\n",
      "846:\tlearn: 0.4227333\ttotal: 1.99s\tremaining: 360ms\n",
      "847:\tlearn: 0.4226424\ttotal: 1.99s\tremaining: 357ms\n",
      "848:\tlearn: 0.4225424\ttotal: 2s\tremaining: 355ms\n",
      "849:\tlearn: 0.4224802\ttotal: 2s\tremaining: 353ms\n",
      "850:\tlearn: 0.4224041\ttotal: 2s\tremaining: 350ms\n",
      "851:\tlearn: 0.4223586\ttotal: 2s\tremaining: 348ms\n",
      "852:\tlearn: 0.4223558\ttotal: 2s\tremaining: 345ms\n",
      "853:\tlearn: 0.4222990\ttotal: 2s\tremaining: 343ms\n",
      "854:\tlearn: 0.4222647\ttotal: 2.01s\tremaining: 340ms\n",
      "855:\tlearn: 0.4221739\ttotal: 2.01s\tremaining: 338ms\n",
      "856:\tlearn: 0.4221347\ttotal: 2.01s\tremaining: 336ms\n",
      "857:\tlearn: 0.4220846\ttotal: 2.01s\tremaining: 333ms\n",
      "858:\tlearn: 0.4220390\ttotal: 2.02s\tremaining: 331ms\n",
      "859:\tlearn: 0.4219544\ttotal: 2.02s\tremaining: 329ms\n",
      "860:\tlearn: 0.4218540\ttotal: 2.02s\tremaining: 326ms\n",
      "861:\tlearn: 0.4217182\ttotal: 2.02s\tremaining: 324ms\n",
      "862:\tlearn: 0.4216699\ttotal: 2.02s\tremaining: 321ms\n",
      "863:\tlearn: 0.4215738\ttotal: 2.03s\tremaining: 319ms\n",
      "864:\tlearn: 0.4215496\ttotal: 2.03s\tremaining: 317ms\n",
      "865:\tlearn: 0.4215022\ttotal: 2.03s\tremaining: 314ms\n",
      "866:\tlearn: 0.4214458\ttotal: 2.03s\tremaining: 312ms\n",
      "867:\tlearn: 0.4213511\ttotal: 2.04s\tremaining: 310ms\n",
      "868:\tlearn: 0.4213015\ttotal: 2.04s\tremaining: 307ms\n",
      "869:\tlearn: 0.4212519\ttotal: 2.04s\tremaining: 305ms\n",
      "870:\tlearn: 0.4212172\ttotal: 2.04s\tremaining: 302ms\n",
      "871:\tlearn: 0.4211411\ttotal: 2.04s\tremaining: 300ms\n",
      "872:\tlearn: 0.4211038\ttotal: 2.05s\tremaining: 298ms\n",
      "873:\tlearn: 0.4210557\ttotal: 2.05s\tremaining: 296ms\n",
      "874:\tlearn: 0.4209592\ttotal: 2.06s\tremaining: 294ms\n",
      "875:\tlearn: 0.4209128\ttotal: 2.06s\tremaining: 291ms\n",
      "876:\tlearn: 0.4207887\ttotal: 2.06s\tremaining: 289ms\n",
      "877:\tlearn: 0.4207175\ttotal: 2.06s\tremaining: 287ms\n",
      "878:\tlearn: 0.4206736\ttotal: 2.07s\tremaining: 285ms\n",
      "879:\tlearn: 0.4206139\ttotal: 2.07s\tremaining: 282ms\n",
      "880:\tlearn: 0.4205436\ttotal: 2.07s\tremaining: 280ms\n",
      "881:\tlearn: 0.4204846\ttotal: 2.07s\tremaining: 277ms\n",
      "882:\tlearn: 0.4203766\ttotal: 2.08s\tremaining: 275ms\n",
      "883:\tlearn: 0.4203323\ttotal: 2.08s\tremaining: 273ms\n",
      "884:\tlearn: 0.4202435\ttotal: 2.08s\tremaining: 270ms\n",
      "885:\tlearn: 0.4201867\ttotal: 2.08s\tremaining: 268ms\n",
      "886:\tlearn: 0.4201111\ttotal: 2.08s\tremaining: 266ms\n",
      "887:\tlearn: 0.4200415\ttotal: 2.09s\tremaining: 263ms\n",
      "888:\tlearn: 0.4199547\ttotal: 2.09s\tremaining: 261ms\n",
      "889:\tlearn: 0.4198472\ttotal: 2.09s\tremaining: 258ms\n",
      "890:\tlearn: 0.4197907\ttotal: 2.09s\tremaining: 256ms\n",
      "891:\tlearn: 0.4197660\ttotal: 2.09s\tremaining: 254ms\n",
      "892:\tlearn: 0.4196932\ttotal: 2.1s\tremaining: 251ms\n",
      "893:\tlearn: 0.4196231\ttotal: 2.1s\tremaining: 249ms\n",
      "894:\tlearn: 0.4195317\ttotal: 2.1s\tremaining: 246ms\n",
      "895:\tlearn: 0.4194915\ttotal: 2.1s\tremaining: 244ms\n",
      "896:\tlearn: 0.4194361\ttotal: 2.1s\tremaining: 242ms\n",
      "897:\tlearn: 0.4193830\ttotal: 2.11s\tremaining: 239ms\n",
      "898:\tlearn: 0.4193138\ttotal: 2.11s\tremaining: 237ms\n",
      "899:\tlearn: 0.4192690\ttotal: 2.11s\tremaining: 234ms\n",
      "900:\tlearn: 0.4192055\ttotal: 2.11s\tremaining: 232ms\n",
      "901:\tlearn: 0.4191238\ttotal: 2.11s\tremaining: 230ms\n",
      "902:\tlearn: 0.4190714\ttotal: 2.12s\tremaining: 227ms\n",
      "903:\tlearn: 0.4190185\ttotal: 2.12s\tremaining: 225ms\n",
      "904:\tlearn: 0.4189548\ttotal: 2.12s\tremaining: 223ms\n",
      "905:\tlearn: 0.4188597\ttotal: 2.12s\tremaining: 220ms\n",
      "906:\tlearn: 0.4188020\ttotal: 2.12s\tremaining: 218ms\n",
      "907:\tlearn: 0.4187204\ttotal: 2.13s\tremaining: 215ms\n",
      "908:\tlearn: 0.4186518\ttotal: 2.13s\tremaining: 213ms\n",
      "909:\tlearn: 0.4185767\ttotal: 2.13s\tremaining: 211ms\n",
      "910:\tlearn: 0.4185282\ttotal: 2.13s\tremaining: 208ms\n",
      "911:\tlearn: 0.4184492\ttotal: 2.13s\tremaining: 206ms\n",
      "912:\tlearn: 0.4183978\ttotal: 2.14s\tremaining: 204ms\n",
      "913:\tlearn: 0.4183049\ttotal: 2.14s\tremaining: 201ms\n",
      "914:\tlearn: 0.4182106\ttotal: 2.14s\tremaining: 199ms\n",
      "915:\tlearn: 0.4181366\ttotal: 2.14s\tremaining: 197ms\n",
      "916:\tlearn: 0.4180358\ttotal: 2.15s\tremaining: 194ms\n",
      "917:\tlearn: 0.4179327\ttotal: 2.15s\tremaining: 192ms\n",
      "918:\tlearn: 0.4178429\ttotal: 2.15s\tremaining: 189ms\n",
      "919:\tlearn: 0.4178062\ttotal: 2.15s\tremaining: 187ms\n",
      "920:\tlearn: 0.4177611\ttotal: 2.15s\tremaining: 185ms\n",
      "921:\tlearn: 0.4177141\ttotal: 2.15s\tremaining: 182ms\n",
      "922:\tlearn: 0.4176037\ttotal: 2.16s\tremaining: 180ms\n",
      "923:\tlearn: 0.4175692\ttotal: 2.16s\tremaining: 178ms\n",
      "924:\tlearn: 0.4174518\ttotal: 2.16s\tremaining: 175ms\n",
      "925:\tlearn: 0.4173867\ttotal: 2.16s\tremaining: 173ms\n",
      "926:\tlearn: 0.4173161\ttotal: 2.17s\tremaining: 171ms\n",
      "927:\tlearn: 0.4172722\ttotal: 2.17s\tremaining: 168ms\n",
      "928:\tlearn: 0.4172196\ttotal: 2.17s\tremaining: 166ms\n",
      "929:\tlearn: 0.4171671\ttotal: 2.17s\tremaining: 164ms\n",
      "930:\tlearn: 0.4171316\ttotal: 2.17s\tremaining: 161ms\n",
      "931:\tlearn: 0.4170566\ttotal: 2.18s\tremaining: 159ms\n",
      "932:\tlearn: 0.4169895\ttotal: 2.18s\tremaining: 156ms\n",
      "933:\tlearn: 0.4169704\ttotal: 2.18s\tremaining: 154ms\n",
      "934:\tlearn: 0.4168518\ttotal: 2.18s\tremaining: 152ms\n",
      "935:\tlearn: 0.4167531\ttotal: 2.19s\tremaining: 149ms\n",
      "936:\tlearn: 0.4166893\ttotal: 2.19s\tremaining: 147ms\n",
      "937:\tlearn: 0.4165529\ttotal: 2.19s\tremaining: 145ms\n",
      "938:\tlearn: 0.4165078\ttotal: 2.19s\tremaining: 142ms\n",
      "939:\tlearn: 0.4164331\ttotal: 2.19s\tremaining: 140ms\n",
      "940:\tlearn: 0.4163796\ttotal: 2.19s\tremaining: 138ms\n",
      "941:\tlearn: 0.4162749\ttotal: 2.2s\tremaining: 135ms\n",
      "942:\tlearn: 0.4162178\ttotal: 2.2s\tremaining: 133ms\n",
      "943:\tlearn: 0.4161426\ttotal: 2.2s\tremaining: 131ms\n",
      "944:\tlearn: 0.4161176\ttotal: 2.2s\tremaining: 128ms\n",
      "945:\tlearn: 0.4160376\ttotal: 2.21s\tremaining: 126ms\n",
      "946:\tlearn: 0.4159245\ttotal: 2.21s\tremaining: 124ms\n",
      "947:\tlearn: 0.4158552\ttotal: 2.21s\tremaining: 121ms\n",
      "948:\tlearn: 0.4158099\ttotal: 2.21s\tremaining: 119ms\n",
      "949:\tlearn: 0.4157137\ttotal: 2.21s\tremaining: 117ms\n",
      "950:\tlearn: 0.4156724\ttotal: 2.22s\tremaining: 114ms\n",
      "951:\tlearn: 0.4156266\ttotal: 2.22s\tremaining: 112ms\n",
      "952:\tlearn: 0.4155529\ttotal: 2.22s\tremaining: 110ms\n",
      "953:\tlearn: 0.4154383\ttotal: 2.22s\tremaining: 107ms\n",
      "954:\tlearn: 0.4153436\ttotal: 2.23s\tremaining: 105ms\n",
      "955:\tlearn: 0.4152691\ttotal: 2.23s\tremaining: 103ms\n",
      "956:\tlearn: 0.4152129\ttotal: 2.23s\tremaining: 100ms\n",
      "957:\tlearn: 0.4151574\ttotal: 2.23s\tremaining: 97.8ms\n",
      "958:\tlearn: 0.4150958\ttotal: 2.23s\tremaining: 95.5ms\n",
      "959:\tlearn: 0.4150214\ttotal: 2.23s\tremaining: 93.2ms\n",
      "960:\tlearn: 0.4149676\ttotal: 2.24s\tremaining: 90.8ms\n",
      "961:\tlearn: 0.4149122\ttotal: 2.24s\tremaining: 88.5ms\n"
     ]
    },
    {
     "name": "stdout",
     "output_type": "stream",
     "text": [
      "962:\tlearn: 0.4148028\ttotal: 2.24s\tremaining: 86.2ms\n",
      "963:\tlearn: 0.4147476\ttotal: 2.25s\tremaining: 83.9ms\n",
      "964:\tlearn: 0.4146729\ttotal: 2.25s\tremaining: 81.6ms\n",
      "965:\tlearn: 0.4146066\ttotal: 2.25s\tremaining: 79.3ms\n",
      "966:\tlearn: 0.4145241\ttotal: 2.26s\tremaining: 77ms\n",
      "967:\tlearn: 0.4144438\ttotal: 2.26s\tremaining: 74.7ms\n",
      "968:\tlearn: 0.4143895\ttotal: 2.26s\tremaining: 72.4ms\n",
      "969:\tlearn: 0.4143143\ttotal: 2.26s\tremaining: 70ms\n",
      "970:\tlearn: 0.4142432\ttotal: 2.27s\tremaining: 67.7ms\n",
      "971:\tlearn: 0.4141996\ttotal: 2.27s\tremaining: 65.3ms\n",
      "972:\tlearn: 0.4141427\ttotal: 2.27s\tremaining: 63ms\n",
      "973:\tlearn: 0.4140663\ttotal: 2.27s\tremaining: 60.7ms\n",
      "974:\tlearn: 0.4139895\ttotal: 2.27s\tremaining: 58.3ms\n",
      "975:\tlearn: 0.4139141\ttotal: 2.28s\tremaining: 56ms\n",
      "976:\tlearn: 0.4138739\ttotal: 2.28s\tremaining: 53.7ms\n",
      "977:\tlearn: 0.4138349\ttotal: 2.28s\tremaining: 51.3ms\n",
      "978:\tlearn: 0.4137624\ttotal: 2.28s\tremaining: 49ms\n",
      "979:\tlearn: 0.4136615\ttotal: 2.29s\tremaining: 46.6ms\n",
      "980:\tlearn: 0.4135633\ttotal: 2.29s\tremaining: 44.3ms\n",
      "981:\tlearn: 0.4134748\ttotal: 2.29s\tremaining: 42ms\n",
      "982:\tlearn: 0.4134194\ttotal: 2.29s\tremaining: 39.6ms\n",
      "983:\tlearn: 0.4133457\ttotal: 2.29s\tremaining: 37.3ms\n",
      "984:\tlearn: 0.4132777\ttotal: 2.3s\tremaining: 35ms\n",
      "985:\tlearn: 0.4132297\ttotal: 2.3s\tremaining: 32.6ms\n",
      "986:\tlearn: 0.4131691\ttotal: 2.3s\tremaining: 30.3ms\n",
      "987:\tlearn: 0.4130763\ttotal: 2.3s\tremaining: 28ms\n",
      "988:\tlearn: 0.4130082\ttotal: 2.31s\tremaining: 25.6ms\n",
      "989:\tlearn: 0.4129230\ttotal: 2.31s\tremaining: 23.3ms\n",
      "990:\tlearn: 0.4128775\ttotal: 2.31s\tremaining: 21ms\n",
      "991:\tlearn: 0.4128362\ttotal: 2.31s\tremaining: 18.6ms\n",
      "992:\tlearn: 0.4127571\ttotal: 2.31s\tremaining: 16.3ms\n",
      "993:\tlearn: 0.4126446\ttotal: 2.31s\tremaining: 14ms\n",
      "994:\tlearn: 0.4125669\ttotal: 2.32s\tremaining: 11.6ms\n",
      "995:\tlearn: 0.4125372\ttotal: 2.32s\tremaining: 9.31ms\n",
      "996:\tlearn: 0.4124497\ttotal: 2.32s\tremaining: 6.99ms\n",
      "997:\tlearn: 0.4123490\ttotal: 2.32s\tremaining: 4.66ms\n",
      "998:\tlearn: 0.4122701\ttotal: 2.33s\tremaining: 2.33ms\n",
      "999:\tlearn: 0.4121804\ttotal: 2.33s\tremaining: 0us\n"
     ]
    },
    {
     "data": {
      "text/plain": [
       "RandomizedSearchCV(cv=5,\n",
       "                   estimator=Pipeline(steps=[('preprocessor',\n",
       "                                              ColumnTransformer(transformers=[('num',\n",
       "                                                                               Pipeline(steps=[('imputer',\n",
       "                                                                                                SimpleImputer(strategy='median')),\n",
       "                                                                                               ('scaler',\n",
       "                                                                                                PowerTransformer())]),\n",
       "                                                                               Index(['omtioxzz', 'yfmzwkru', 'tiwrsloh', 'weioazcf'], dtype='object')),\n",
       "                                                                              ('ordinal_encoder',\n",
       "                                                                               OrdinalEncoder(),\n",
       "                                                                               ['kjkrfgld',\n",
       "                                                                                'bpowgknt',\n",
       "                                                                                'raksnhjf']),\n",
       "                                                                              ('target_en...\n",
       "                                              <catboost.core.CatBoostClassifier object at 0x7fbad9227790>)]),\n",
       "                   n_iter=5, n_jobs=10,\n",
       "                   param_distributions={'classifier__depth': [6, 7, 8],\n",
       "                                        'classifier__l2_leaf_reg': [3, 4, 5],\n",
       "                                        'classifier__learning_rate': [0.01,\n",
       "                                                                      0.02,\n",
       "                                                                      0.03],\n",
       "                                        'classifier__n_estimators': [100, 200,\n",
       "                                                                     300,\n",
       "                                                                     1000],\n",
       "                                        'preprocessor__target_encoder__sigma': [0.01,\n",
       "                                                                                0.02,\n",
       "                                                                                0.03,\n",
       "                                                                                0.04,\n",
       "                                                                                0.05,\n",
       "                                                                                0.06]},\n",
       "                   random_state=1, scoring='neg_log_loss')"
      ]
     },
     "execution_count": 50,
     "metadata": {},
     "output_type": "execute_result"
    }
   ],
   "source": [
    "cb_fit = rscv_cb.fit(X_train, y_train)\n",
    "cb_fit"
   ]
  },
  {
   "cell_type": "code",
   "execution_count": 51,
   "metadata": {},
   "outputs": [
    {
     "data": {
      "text/plain": [
       "{'preprocessor__target_encoder__sigma': 0.02,\n",
       " 'classifier__n_estimators': 1000,\n",
       " 'classifier__learning_rate': 0.01,\n",
       " 'classifier__l2_leaf_reg': 3,\n",
       " 'classifier__depth': 7}"
      ]
     },
     "execution_count": 51,
     "metadata": {},
     "output_type": "execute_result"
    }
   ],
   "source": [
    "rscv_cb.best_params_"
   ]
  },
  {
   "cell_type": "code",
   "execution_count": 52,
   "metadata": {},
   "outputs": [
    {
     "data": {
      "text/plain": [
       "-0.48435994526086584"
      ]
     },
     "execution_count": 52,
     "metadata": {},
     "output_type": "execute_result"
    }
   ],
   "source": [
    "rscv_cb.best_score_"
   ]
  },
  {
   "cell_type": "code",
   "execution_count": 53,
   "metadata": {},
   "outputs": [
    {
     "data": {
      "text/plain": [
       "0.4888258706732481"
      ]
     },
     "execution_count": 53,
     "metadata": {},
     "output_type": "execute_result"
    }
   ],
   "source": [
    "y_pred_cb = rscv_cb.best_estimator_.predict_proba(X_test)\n",
    "log_loss(y_test, y_pred_cb, eps=1e-15, normalize=True, sample_weight=None, labels=None)"
   ]
  },
  {
   "cell_type": "markdown",
   "metadata": {},
   "source": [
    "## Ensembling Models"
   ]
  },
  {
   "cell_type": "markdown",
   "metadata": {},
   "source": [
    "Ensembling is a method of combining base models and is based on the hypothesis that a much more powerful model can be produced by combining multiple models together. There are different types of ensembling techniques, such as:<br>\n",
    "<ul>\n",
    "    <li> Bagging: Short for Bootstrap Aggregation, uses bootstrap sampling to obtain data subsets for training ‘base learners’ and reduces variance.</li>\n",
    "    <li> Boosting: Converts ‘weak learners’ (models that are slightly better than guessing) to strong learners and reduces bias.</li>\n",
    "    <li> Stacking: Combines multiple models via a meta-model and improves predictions.</li>\n",
    "</ul>\n",
    "\n",
    "So far, we have used bagging method (random forest) and boosting methods (xgb, lgb and cb). Here, we shall explore the <b>stacking method</b>."
   ]
  },
  {
   "cell_type": "markdown",
   "metadata": {},
   "source": [
    "<b>Figure 3</b>: <b>Stacking Model</b> (<i>source: [Datacamp](https://www.datacamp.com/resources/webinars/applied-machine-learning-stacking-ensemble-models?utm_medium=email&utm_source=customerio&utm_campaign=livetraining&utm_id=3679156))</i>)<br>\n",
    "<p align=\"center\">\n",
    "<img src=\"https://github.com/datacamp/Applied-Machine-Learning-Ensemble-Modeling-live-training/blob/master/assets/stacking.png?raw=True\" alt = \"Stacking\" width=\"90%\">\n",
    "</p>\n",
    "<br><br>"
   ]
  },
  {
   "cell_type": "markdown",
   "metadata": {},
   "source": [
    "Check [documentation](https://scikit-learn.org/stable/modules/generated/sklearn.ensemble.StackingClassifier.html) for more information."
   ]
  },
  {
   "cell_type": "code",
   "execution_count": 55,
   "metadata": {},
   "outputs": [],
   "source": [
    "estimators = [\n",
    "    ('rf', rscv_rf.best_estimator_),\n",
    "    ('xgb', rscv_xgb.best_estimator_),\n",
    "    ('lgb', rscv_lgb.best_estimator_),\n",
    "    ('cb', rscv_cb.best_estimator_)\n",
    "]\n",
    "\n",
    "clf_stack = StackingClassifier(\n",
    "    estimators=estimators, final_estimator=LogisticRegression(), cv=5, stack_method='predict_proba', n_jobs=-1\n",
    ")\n",
    "\n",
    "clf_stack = clf_stack.fit(X_train, y_train)"
   ]
  },
  {
   "cell_type": "code",
   "execution_count": 56,
   "metadata": {},
   "outputs": [
    {
     "data": {
      "text/plain": [
       "0.49728560488626633"
      ]
     },
     "execution_count": 56,
     "metadata": {},
     "output_type": "execute_result"
    }
   ],
   "source": [
    "y_pred_stack = clf_stack.predict_proba(X_test)\n",
    "log_loss(y_test, y_pred_stack, eps=1e-15, normalize=True, sample_weight=None, labels=None)"
   ]
  },
  {
   "cell_type": "markdown",
   "metadata": {},
   "source": [
    "## A Neural Network model for binary classification"
   ]
  },
  {
   "cell_type": "markdown",
   "metadata": {},
   "source": [
    "This neural network consists of three layers:\n",
    "<ul>\n",
    "    <li>an <b>input layer</b> consisting of two neurons (binary target variable)</li>\n",
    "    <li>a <b>hidden layer</b> with a shape of four neurons using a tangent activation function, which tends to yield a smooth separation among the two classes. LeakyRElu might also work well,</li>\n",
    "    <li>an <b>output layer</b> with one neuron with a sigmoid activation function, well suited for binary classification problems as appreciated in its graphical representation.The sigmoid activation function squashes the output of the previous layer into a floating point between zero and one, as the probability of a pair of coordinates of being in one class or another considering a certain threshold</li>\n",
    "</ul>\n",
    "\n",
    "Check this DataCamp [course](https://learn.datacamp.com/courses/deep-learning-with-keras-in-python) for more information.<br>\n",
    "\n",
    "However, the neural network could not be fitted as an unresolved <i>Attribute error</i> pops up while importing tensorflow / keras libraries ([GitHub issue](https://github.com/tensorflow/tensorflow/issues/38012)). Unluckily, this solution (python 3.6) is not valid for python 3.8."
   ]
  },
  {
   "cell_type": "markdown",
   "metadata": {},
   "source": [
    "<b>Figure 4</b>: <b>Neural Network</b> (<i>source: Datacamp</i>)<br>\n",
    "<p align=\"center\">\n",
    "<img src=\"../images/nn.png\">"
   ]
  },
  {
   "cell_type": "markdown",
   "metadata": {},
   "source": [
    "<b>Figure 5</b>: <b>Sigmoid function</b> (<i>source: Datacamp</i>)<br>\n",
    "<p align=\"center\">\n",
    "<img src=\"../images/sigmoid.png\">"
   ]
  },
  {
   "cell_type": "code",
   "execution_count": 119,
   "metadata": {
    "collapsed": true
   },
   "outputs": [
    {
     "ename": "SyntaxError",
     "evalue": "invalid syntax (<ipython-input-119-252077236823>, line 19)",
     "output_type": "error",
     "traceback": [
      "\u001b[0;36m  File \u001b[0;32m\"<ipython-input-119-252077236823>\"\u001b[0;36m, line \u001b[0;32m19\u001b[0m\n\u001b[0;31m    random_search = RandomizedSearchCV(pipe, params_dist=params, cv=3)\u001b[0m\n\u001b[0m    ^\u001b[0m\n\u001b[0;31mSyntaxError\u001b[0m\u001b[0;31m:\u001b[0m invalid syntax\n"
     ]
    }
   ],
   "source": [
    "# Function that creates a Keras model\n",
    "def create_model(optimizer='sgd', activation='tanh'):\n",
    "    model = Sequential()\n",
    "    model.add(Dense(4, input_shape=(2,), activation=activation))\n",
    "    model.add(Dense(1, activation='sigmoid'))\n",
    "    model.compile(optimizer=optimizer, loss='binary_crossentropy')\n",
    "    return model\n",
    "    \n",
    "# Create a model a sklearn estimator\n",
    "model = KerasClassifier(build_fn=create_model, epochs=6, batch_size=16)\n",
    "    \n",
    "# Plug the model into the pipeline\n",
    "pipe = Pipeline([('column_transform', column_trans), ('classifier', model)])\n",
    "    \n",
    "# Random search on a Keras model\n",
    "params = dict(optimizer=['sgd', 'adam'], epochs=3,\n",
    "              batch_size=[5, 10, 20], activation=['tanh', 'LeakyReLU']\n",
    "              \n",
    "rscv_nn = RandomizedSearchCV(pipe, params_dist=params, cv=3)\n",
    "              \n",
    "# Model fit\n",
    "rscv_nn.fit(X_train, y_train)\n",
    "              \n",
    "rscv_nn.best_scores_\n",
    "rscv_nn.best_params_\n",
    "              "
   ]
  },
  {
   "cell_type": "code",
   "execution_count": null,
   "metadata": {},
   "outputs": [],
   "source": [
    "# Model test\n",
    "y_pred_nn = model.predict_proba(X_test)\n",
    "\n",
    "test_loss, test_acc = model.evaluate(X_test, y_test)\n",
    "print('Test accuracy: {}, Test loss: {}'.format(test_acc, test_loss))"
   ]
  },
  {
   "cell_type": "markdown",
   "metadata": {},
   "source": [
    "## Best Model's (CatBoost) results interpretation"
   ]
  },
  {
   "cell_type": "markdown",
   "metadata": {},
   "source": [
    "The best performing model is CatBoost although in general, results have been very tight. There is still a long way to improve results with hyperparameter tuning, feature selection and model ensembling."
   ]
  },
  {
   "cell_type": "code",
   "execution_count": 57,
   "metadata": {},
   "outputs": [
    {
     "data": {
      "text/plain": [
       "array([[0.58400283, 0.41599717],\n",
       "       [0.46280789, 0.53719211],\n",
       "       [0.36480348, 0.63519652],\n",
       "       ...,\n",
       "       [0.93143536, 0.06856464],\n",
       "       [0.30099356, 0.69900644],\n",
       "       [0.58575231, 0.41424769]])"
      ]
     },
     "execution_count": 57,
     "metadata": {},
     "output_type": "execute_result"
    }
   ],
   "source": [
    "y_pred_cb"
   ]
  },
  {
   "cell_type": "markdown",
   "metadata": {},
   "source": [
    "### Results"
   ]
  },
  {
   "cell_type": "code",
   "execution_count": 58,
   "metadata": {},
   "outputs": [],
   "source": [
    "index = data_test.reset_index().id\n",
    "results = pd.DataFrame(index=index)\n",
    "results['poor'] = y_pred_cb[:, 1]"
   ]
  },
  {
   "cell_type": "code",
   "execution_count": 59,
   "metadata": {},
   "outputs": [
    {
     "data": {
      "text/html": [
       "<div>\n",
       "<style scoped>\n",
       "    .dataframe tbody tr th:only-of-type {\n",
       "        vertical-align: middle;\n",
       "    }\n",
       "\n",
       "    .dataframe tbody tr th {\n",
       "        vertical-align: top;\n",
       "    }\n",
       "\n",
       "    .dataframe thead th {\n",
       "        text-align: right;\n",
       "    }\n",
       "</style>\n",
       "<table border=\"1\" class=\"dataframe\">\n",
       "  <thead>\n",
       "    <tr style=\"text-align: right;\">\n",
       "      <th></th>\n",
       "      <th>poor</th>\n",
       "    </tr>\n",
       "    <tr>\n",
       "      <th>id</th>\n",
       "      <th></th>\n",
       "    </tr>\n",
       "  </thead>\n",
       "  <tbody>\n",
       "    <tr>\n",
       "      <th>30092</th>\n",
       "      <td>0.752361</td>\n",
       "    </tr>\n",
       "    <tr>\n",
       "      <th>38226</th>\n",
       "      <td>0.405828</td>\n",
       "    </tr>\n",
       "    <tr>\n",
       "      <th>36893</th>\n",
       "      <td>0.068565</td>\n",
       "    </tr>\n",
       "    <tr>\n",
       "      <th>97193</th>\n",
       "      <td>0.699006</td>\n",
       "    </tr>\n",
       "    <tr>\n",
       "      <th>83638</th>\n",
       "      <td>0.414248</td>\n",
       "    </tr>\n",
       "  </tbody>\n",
       "</table>\n",
       "</div>"
      ],
      "text/plain": [
       "           poor\n",
       "id             \n",
       "30092  0.752361\n",
       "38226  0.405828\n",
       "36893  0.068565\n",
       "97193  0.699006\n",
       "83638  0.414248"
      ]
     },
     "execution_count": 59,
     "metadata": {},
     "output_type": "execute_result"
    }
   ],
   "source": [
    "results.tail()"
   ]
  },
  {
   "cell_type": "code",
   "execution_count": 60,
   "metadata": {},
   "outputs": [],
   "source": [
    "results.to_csv('../model/results.csv')"
   ]
  },
  {
   "cell_type": "markdown",
   "metadata": {},
   "source": [
    "### Visualization"
   ]
  },
  {
   "cell_type": "code",
   "execution_count": 61,
   "metadata": {},
   "outputs": [],
   "source": [
    "poor = pd.DataFrame(index=index)\n",
    "poor['False'] = y_pred_cb[:, 0]\n",
    "poor['True'] = y_pred_cb[:, 1]"
   ]
  },
  {
   "cell_type": "code",
   "execution_count": 62,
   "metadata": {},
   "outputs": [
    {
     "data": {
      "text/html": [
       "<div>\n",
       "<style scoped>\n",
       "    .dataframe tbody tr th:only-of-type {\n",
       "        vertical-align: middle;\n",
       "    }\n",
       "\n",
       "    .dataframe tbody tr th {\n",
       "        vertical-align: top;\n",
       "    }\n",
       "\n",
       "    .dataframe thead th {\n",
       "        text-align: right;\n",
       "    }\n",
       "</style>\n",
       "<table border=\"1\" class=\"dataframe\">\n",
       "  <thead>\n",
       "    <tr style=\"text-align: right;\">\n",
       "      <th></th>\n",
       "      <th>False</th>\n",
       "      <th>True</th>\n",
       "    </tr>\n",
       "    <tr>\n",
       "      <th>id</th>\n",
       "      <th></th>\n",
       "      <th></th>\n",
       "    </tr>\n",
       "  </thead>\n",
       "  <tbody>\n",
       "    <tr>\n",
       "      <th>42706</th>\n",
       "      <td>0.584003</td>\n",
       "      <td>0.415997</td>\n",
       "    </tr>\n",
       "    <tr>\n",
       "      <th>65531</th>\n",
       "      <td>0.462808</td>\n",
       "      <td>0.537192</td>\n",
       "    </tr>\n",
       "    <tr>\n",
       "      <th>64452</th>\n",
       "      <td>0.364803</td>\n",
       "      <td>0.635197</td>\n",
       "    </tr>\n",
       "    <tr>\n",
       "      <th>78022</th>\n",
       "      <td>0.994575</td>\n",
       "      <td>0.005425</td>\n",
       "    </tr>\n",
       "    <tr>\n",
       "      <th>45674</th>\n",
       "      <td>0.485812</td>\n",
       "      <td>0.514188</td>\n",
       "    </tr>\n",
       "  </tbody>\n",
       "</table>\n",
       "</div>"
      ],
      "text/plain": [
       "          False      True\n",
       "id                       \n",
       "42706  0.584003  0.415997\n",
       "65531  0.462808  0.537192\n",
       "64452  0.364803  0.635197\n",
       "78022  0.994575  0.005425\n",
       "45674  0.485812  0.514188"
      ]
     },
     "execution_count": 62,
     "metadata": {},
     "output_type": "execute_result"
    }
   ],
   "source": [
    "poor.head()"
   ]
  },
  {
   "cell_type": "code",
   "execution_count": 80,
   "metadata": {},
   "outputs": [
    {
     "data": {
      "image/png": "[encoded data removed]",
      "text/plain": [
       "<Figure size 720x288 with 2 Axes>"
      ]
     },
     "metadata": {},
     "output_type": "display_data"
    }
   ],
   "source": [
    "sns.set_style('white')\n",
    "fig, axes = plt.subplots(2, 1, figsize = (10, 4))\n",
    "\n",
    "sns.violinplot(x=poor[\"False\"],\n",
    "               color='paleturquoise',\n",
    "               ax=axes[0])\n",
    "\n",
    "axes[0].set_xlabel(\"False\", fontweight = \"semibold\", fontsize = 14)                 \n",
    "\n",
    "sns.violinplot(x=poor[\"True\"],\n",
    "               color='lightcoral',\n",
    "               ax=axes[1])\n",
    "\n",
    "axes[1].set_xlabel(\"True\", fontweight = \"semibold\", fontsize = 14)\n",
    "\n",
    "fig.suptitle(\"Probability Distribution of Poor Households\", fontweight = \"semibold\", fontsize = 14)\n",
    "plt.show()\n",
    "\n",
    "fig.savefig('../images/results.png', dpi=fig.dpi)"
   ]
  },
  {
   "cell_type": "markdown",
   "metadata": {},
   "source": [
    "The model predicts a greater number of poor households with low degrees of probability and viceversa. The contrary holds true for non-poor households."
   ]
  },
  {
   "cell_type": "markdown",
   "metadata": {},
   "source": [
    "# Productivization Plan\n",
    "<div style = \"float:right\"><a style=\"text-decoration:none\" href = \"#inicio\">Inicio</a></div>"
   ]
  },
  {
   "cell_type": "markdown",
   "metadata": {},
   "source": [
    "After building a model in lab conditions, we shall export a copy of it to the production server, where new data will be labelled. This process is called model deployment or pushing to production. To enable this, we shall serialize our model, that is, convert it to a binary file with pickle.<br>\n",
    "\n",
    "As proceeded, we encapsulate the whole process into a single object (pipeline) to interact with production otherwise we will be forced to repeat one or various processes in production. Our aim is to avoid bugs which can eventually cause financial problems."
   ]
  },
  {
   "cell_type": "markdown",
   "metadata": {},
   "source": [
    "<b>Figure 6</b>: <b>Model Deployment</b> (<i>source: [Datacamp](https://learn.datacamp.com/courses/designing-machine-learning-workflows-in-python)</i>)<br>\n",
    "<p align=\"center\">\n",
    "<img src=\"../images/model_deployment.png\">"
   ]
  },
  {
   "cell_type": "markdown",
   "metadata": {},
   "source": [
    "Save pickle file in write mode."
   ]
  },
  {
   "cell_type": "code",
   "execution_count": 67,
   "metadata": {},
   "outputs": [],
   "source": [
    "with open('../model/model.pkl', 'wb') as file:\n",
    "    pickle.dump(rscv_cb.best_estimator_, file=file)"
   ]
  },
  {
   "cell_type": "markdown",
   "metadata": {},
   "source": [
    "Load pickle file in read mode."
   ]
  },
  {
   "cell_type": "code",
   "execution_count": 68,
   "metadata": {},
   "outputs": [],
   "source": [
    "with open('../model/model.pkl', 'rb') as file:\n",
    "    clf2 = pickle.load(file)"
   ]
  }
 ],
 "metadata": {
  "kernelspec": {
   "display_name": "Python 3",
   "language": "python",
   "name": "python3"
  },
  "language_info": {
   "codemirror_mode": {
    "name": "ipython",
    "version": 3
   },
   "file_extension": ".py",
   "mimetype": "text/x-python",
   "name": "python",
   "nbconvert_exporter": "python",
   "pygments_lexer": "ipython3",
   "version": "3.8.5"
  }
 },
 "nbformat": 4,
 "nbformat_minor": 4
}
