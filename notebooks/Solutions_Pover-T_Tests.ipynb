{
 "cells": [
  {
   "cell_type": "markdown",
   "metadata": {},
   "source": [
    "# Table of Contents\n",
    "\n",
    "1. [Business Understanding](#Business-Understanding)\n",
    "2. [Exploratory Data Analysis](#Exploratory-Data-Analysis)\n",
    "3. [Data Preprocessing](#Data-Preprocessing)\n",
    "4. [Model Building](#Model-Building)\n",
    "5. [Productivization Plan](#Productivization-Plan)"
   ]
  },
  {
   "cell_type": "code",
   "execution_count": 128,
   "metadata": {},
   "outputs": [],
   "source": [
    "%matplotlib inline\n",
    "import matplotlib.pyplot as plt\n",
    "import seaborn as sns\n",
    "import copy\n",
    "import pandas as pd\n",
    "import numpy as np\n",
    "\n",
    "from sklearn.impute import SimpleImputer\n",
    "from sklearn.preprocessing import PowerTransformer\n",
    "from sklearn.compose import ColumnTransformer\n",
    "\n",
    "from sklearn.pipeline import Pipeline\n",
    "from category_encoders import OrdinalEncoder, LeaveOneOutEncoder\n",
    "\n",
    "from sklearn.model_selection import RandomizedSearchCV\n",
    "\n",
    "from sklearn.model_selection import cross_val_score\n",
    "\n",
    "from sklearn.linear_model import LogisticRegression\n",
    "from sklearn.ensemble import RandomForestClassifier\n",
    "\n",
    "from catboost import CatBoostClassifier\n",
    "from lightgbm import LGBMClassifier\n",
    "from xgboost import XGBClassifier\n",
    "\n",
    "from sklearn.ensemble import StackingClassifier\n",
    "\n",
    "# from tensorflow import keras\n",
    "# from keras.models import Sequential\n",
    "# from keras.layers import Dense\n",
    "# from keras.wrappers.scikit_learn import KerasClassifier\n",
    "\n",
    "from sklearn.metrics import log_loss, accuracy_score, roc_auc_score, make_scorer\n",
    "\n",
    "import pickle\n",
    "\n",
    "\n",
    "random_state = np.random.RandomState(1)\n",
    "np.random.seed(1) # for reproducibility"
   ]
  },
  {
   "cell_type": "markdown",
   "metadata": {},
   "source": [
    "# Business Understanding\n",
    "<div style = \"float:right\"><a style=\"text-decoration:none\" href = \"#inicio\">Inicio</a></div>"
   ]
  },
  {
   "cell_type": "markdown",
   "metadata": {},
   "source": [
    "Given a set of features, we are asked to <b>predict whether or not a given household is poor or not</b>. This is a <b>binary classification</b>, which specifically posits the following problem: what is the <b>probability</b> of a given household of being poor. This probability is actually the prediction value and the loss function measures the prediction performance. For a binary classification, the typical loss function is the binary cross-entropy or <b>log loss</b>.<br>\n",
    "\n",
    "Log Loss is a slight twist on the Likelihood Function. In fact, Log Loss is -1 * the log of the likelihood function. The likelihood function answers the question \"how likely did the model think the actually observed set of outcomes was\" and is computed iteratively stepping through all predictions by multiplying the probability associated with the actual outcome and subsequently by the previous result.<br>\n",
    "\n",
    "Predictions range between 0 and 1, and their resulting multiplication gets so small that computers can't keep track of it. So, as a clever computational trick, we instead keep track of the log of the Likelihood. We multiply this by negative 1 to maintain a common convention that lower loss scores are better. Lower loss scores are associated with higher probabilities and viceversa<br>\n",
    "\n",
    "Since data is anonimized and no context information has been provided, no economic analysis on variables is possible. Let's now have some insights on the data."
   ]
  },
  {
   "cell_type": "markdown",
   "metadata": {},
   "source": [
    "# Exploratory Data Analysis\n",
    "<div style = \"float:right\"><a style=\"text-decoration:none\" href = \"#inicio\">Inicio</a></div>"
   ]
  },
  {
   "cell_type": "markdown",
   "metadata": {},
   "source": [
    "## Load Data"
   ]
  },
  {
   "cell_type": "code",
   "execution_count": 2,
   "metadata": {},
   "outputs": [
    {
     "data": {
      "text/html": [
       "<div>\n",
       "<style scoped>\n",
       "    .dataframe tbody tr th:only-of-type {\n",
       "        vertical-align: middle;\n",
       "    }\n",
       "\n",
       "    .dataframe tbody tr th {\n",
       "        vertical-align: top;\n",
       "    }\n",
       "\n",
       "    .dataframe thead th {\n",
       "        text-align: right;\n",
       "    }\n",
       "</style>\n",
       "<table border=\"1\" class=\"dataframe\">\n",
       "  <thead>\n",
       "    <tr style=\"text-align: right;\">\n",
       "      <th></th>\n",
       "      <th>Unnamed: 0</th>\n",
       "      <th>id</th>\n",
       "      <th>kjkrfgld</th>\n",
       "      <th>bpowgknt</th>\n",
       "      <th>raksnhjf</th>\n",
       "      <th>vwpsxrgk</th>\n",
       "      <th>omtioxzz</th>\n",
       "      <th>yfmzwkru</th>\n",
       "      <th>tiwrsloh</th>\n",
       "      <th>weioazcf</th>\n",
       "      <th>poor</th>\n",
       "    </tr>\n",
       "  </thead>\n",
       "  <tbody>\n",
       "    <tr>\n",
       "      <th>0</th>\n",
       "      <td>2225</td>\n",
       "      <td>29252</td>\n",
       "      <td>KfoTG</td>\n",
       "      <td>zPfZR</td>\n",
       "      <td>DtMvg</td>\n",
       "      <td>NaN</td>\n",
       "      <td>12.0</td>\n",
       "      <td>-3.0</td>\n",
       "      <td>-1.0</td>\n",
       "      <td>0.5</td>\n",
       "      <td>False</td>\n",
       "    </tr>\n",
       "    <tr>\n",
       "      <th>1</th>\n",
       "      <td>1598</td>\n",
       "      <td>98286</td>\n",
       "      <td>ljBjd</td>\n",
       "      <td>THHLT</td>\n",
       "      <td>DtMvg</td>\n",
       "      <td>esAQH</td>\n",
       "      <td>21.0</td>\n",
       "      <td>-2.0</td>\n",
       "      <td>-5.0</td>\n",
       "      <td>-9.5</td>\n",
       "      <td>True</td>\n",
       "    </tr>\n",
       "    <tr>\n",
       "      <th>2</th>\n",
       "      <td>7896</td>\n",
       "      <td>49040</td>\n",
       "      <td>Lsuai</td>\n",
       "      <td>zPfZR</td>\n",
       "      <td>zeYAm</td>\n",
       "      <td>ZCIYy</td>\n",
       "      <td>12.0</td>\n",
       "      <td>-3.0</td>\n",
       "      <td>-5.0</td>\n",
       "      <td>-9.5</td>\n",
       "      <td>True</td>\n",
       "    </tr>\n",
       "    <tr>\n",
       "      <th>3</th>\n",
       "      <td>1458</td>\n",
       "      <td>35261</td>\n",
       "      <td>KfoTG</td>\n",
       "      <td>mDadf</td>\n",
       "      <td>zeYAm</td>\n",
       "      <td>ZCIYy</td>\n",
       "      <td>12.0</td>\n",
       "      <td>-1.0</td>\n",
       "      <td>-5.0</td>\n",
       "      <td>-9.5</td>\n",
       "      <td>False</td>\n",
       "    </tr>\n",
       "    <tr>\n",
       "      <th>4</th>\n",
       "      <td>1817</td>\n",
       "      <td>98833</td>\n",
       "      <td>KfoTG</td>\n",
       "      <td>THHLT</td>\n",
       "      <td>DtMvg</td>\n",
       "      <td>ARuYG</td>\n",
       "      <td>21.0</td>\n",
       "      <td>-4.0</td>\n",
       "      <td>-5.0</td>\n",
       "      <td>-9.5</td>\n",
       "      <td>True</td>\n",
       "    </tr>\n",
       "  </tbody>\n",
       "</table>\n",
       "</div>"
      ],
      "text/plain": [
       "   Unnamed: 0     id kjkrfgld bpowgknt raksnhjf vwpsxrgk  omtioxzz  yfmzwkru  \\\n",
       "0        2225  29252    KfoTG    zPfZR    DtMvg      NaN      12.0      -3.0   \n",
       "1        1598  98286    ljBjd    THHLT    DtMvg    esAQH      21.0      -2.0   \n",
       "2        7896  49040    Lsuai    zPfZR    zeYAm    ZCIYy      12.0      -3.0   \n",
       "3        1458  35261    KfoTG    mDadf    zeYAm    ZCIYy      12.0      -1.0   \n",
       "4        1817  98833    KfoTG    THHLT    DtMvg    ARuYG      21.0      -4.0   \n",
       "\n",
       "   tiwrsloh  weioazcf   poor  \n",
       "0      -1.0       0.5  False  \n",
       "1      -5.0      -9.5   True  \n",
       "2      -5.0      -9.5   True  \n",
       "3      -5.0      -9.5  False  \n",
       "4      -5.0      -9.5   True  "
      ]
     },
     "execution_count": 2,
     "metadata": {},
     "output_type": "execute_result"
    }
   ],
   "source": [
    "# Train dataset\n",
    "data_train = pd.read_csv('../data/Exercise_train (1).csv', sep=',')\n",
    "data_train.head()"
   ]
  },
  {
   "cell_type": "code",
   "execution_count": 3,
   "metadata": {},
   "outputs": [
    {
     "data": {
      "text/html": [
       "<div>\n",
       "<style scoped>\n",
       "    .dataframe tbody tr th:only-of-type {\n",
       "        vertical-align: middle;\n",
       "    }\n",
       "\n",
       "    .dataframe tbody tr th {\n",
       "        vertical-align: top;\n",
       "    }\n",
       "\n",
       "    .dataframe thead th {\n",
       "        text-align: right;\n",
       "    }\n",
       "</style>\n",
       "<table border=\"1\" class=\"dataframe\">\n",
       "  <thead>\n",
       "    <tr style=\"text-align: right;\">\n",
       "      <th></th>\n",
       "      <th>Unnamed: 0</th>\n",
       "      <th>id</th>\n",
       "      <th>kjkrfgld</th>\n",
       "      <th>bpowgknt</th>\n",
       "      <th>raksnhjf</th>\n",
       "      <th>vwpsxrgk</th>\n",
       "      <th>omtioxzz</th>\n",
       "      <th>yfmzwkru</th>\n",
       "      <th>tiwrsloh</th>\n",
       "      <th>weioazcf</th>\n",
       "      <th>poor</th>\n",
       "    </tr>\n",
       "  </thead>\n",
       "  <tbody>\n",
       "    <tr>\n",
       "      <th>0</th>\n",
       "      <td>2197</td>\n",
       "      <td>42706</td>\n",
       "      <td>qzGkS</td>\n",
       "      <td>zPfZR</td>\n",
       "      <td>rXCdD</td>\n",
       "      <td>IJnCs</td>\n",
       "      <td>21.0</td>\n",
       "      <td>-3.0</td>\n",
       "      <td>-5.0</td>\n",
       "      <td>-9.5</td>\n",
       "      <td>False</td>\n",
       "    </tr>\n",
       "    <tr>\n",
       "      <th>1</th>\n",
       "      <td>4823</td>\n",
       "      <td>65531</td>\n",
       "      <td>KfoTG</td>\n",
       "      <td>THHLT</td>\n",
       "      <td>DtMvg</td>\n",
       "      <td>XHmQd</td>\n",
       "      <td>21.0</td>\n",
       "      <td>-2.0</td>\n",
       "      <td>-9.0</td>\n",
       "      <td>-19.5</td>\n",
       "      <td>True</td>\n",
       "    </tr>\n",
       "    <tr>\n",
       "      <th>2</th>\n",
       "      <td>4165</td>\n",
       "      <td>64452</td>\n",
       "      <td>tnDpM</td>\n",
       "      <td>THHLT</td>\n",
       "      <td>qTmDg</td>\n",
       "      <td>yygvO</td>\n",
       "      <td>30.0</td>\n",
       "      <td>-4.0</td>\n",
       "      <td>-9.0</td>\n",
       "      <td>-19.5</td>\n",
       "      <td>True</td>\n",
       "    </tr>\n",
       "    <tr>\n",
       "      <th>3</th>\n",
       "      <td>4962</td>\n",
       "      <td>78022</td>\n",
       "      <td>NaN</td>\n",
       "      <td>WXYiE</td>\n",
       "      <td>DtMvg</td>\n",
       "      <td>XAmOF</td>\n",
       "      <td>21.0</td>\n",
       "      <td>-2.0</td>\n",
       "      <td>3.0</td>\n",
       "      <td>10.5</td>\n",
       "      <td>False</td>\n",
       "    </tr>\n",
       "    <tr>\n",
       "      <th>4</th>\n",
       "      <td>4671</td>\n",
       "      <td>45674</td>\n",
       "      <td>Lsuai</td>\n",
       "      <td>zPfZR</td>\n",
       "      <td>DtMvg</td>\n",
       "      <td>hmAUm</td>\n",
       "      <td>30.0</td>\n",
       "      <td>-4.0</td>\n",
       "      <td>-5.0</td>\n",
       "      <td>-9.5</td>\n",
       "      <td>True</td>\n",
       "    </tr>\n",
       "  </tbody>\n",
       "</table>\n",
       "</div>"
      ],
      "text/plain": [
       "   Unnamed: 0     id kjkrfgld bpowgknt raksnhjf vwpsxrgk  omtioxzz  yfmzwkru  \\\n",
       "0        2197  42706    qzGkS    zPfZR    rXCdD    IJnCs      21.0      -3.0   \n",
       "1        4823  65531    KfoTG    THHLT    DtMvg    XHmQd      21.0      -2.0   \n",
       "2        4165  64452    tnDpM    THHLT    qTmDg    yygvO      30.0      -4.0   \n",
       "3        4962  78022      NaN    WXYiE    DtMvg    XAmOF      21.0      -2.0   \n",
       "4        4671  45674    Lsuai    zPfZR    DtMvg    hmAUm      30.0      -4.0   \n",
       "\n",
       "   tiwrsloh  weioazcf   poor  \n",
       "0      -5.0      -9.5  False  \n",
       "1      -9.0     -19.5   True  \n",
       "2      -9.0     -19.5   True  \n",
       "3       3.0      10.5  False  \n",
       "4      -5.0      -9.5   True  "
      ]
     },
     "execution_count": 3,
     "metadata": {},
     "output_type": "execute_result"
    }
   ],
   "source": [
    "# Test dataset\n",
    "data_test = pd.read_csv('../data/Exercise_test (1).csv', sep=',')\n",
    "data_test.head()"
   ]
  },
  {
   "cell_type": "code",
   "execution_count": 3,
   "metadata": {},
   "outputs": [
    {
     "name": "stdout",
     "output_type": "stream",
     "text": [
      "<class 'pandas.core.frame.DataFrame'>\n",
      "RangeIndex: 6562 entries, 0 to 6561\n",
      "Data columns (total 11 columns):\n",
      " #   Column      Non-Null Count  Dtype  \n",
      "---  ------      --------------  -----  \n",
      " 0   Unnamed: 0  6562 non-null   int64  \n",
      " 1   id          6562 non-null   int64  \n",
      " 2   kjkrfgld    6366 non-null   object \n",
      " 3   bpowgknt    6357 non-null   object \n",
      " 4   raksnhjf    6381 non-null   object \n",
      " 5   vwpsxrgk    6364 non-null   object \n",
      " 6   omtioxzz    6361 non-null   float64\n",
      " 7   yfmzwkru    6353 non-null   float64\n",
      " 8   tiwrsloh    6355 non-null   float64\n",
      " 9   weioazcf    6366 non-null   float64\n",
      " 10  poor        6562 non-null   bool   \n",
      "dtypes: bool(1), float64(4), int64(2), object(4)\n",
      "memory usage: 519.2+ KB\n"
     ]
    }
   ],
   "source": [
    "data_train.info()"
   ]
  },
  {
   "cell_type": "code",
   "execution_count": 8,
   "metadata": {},
   "outputs": [
    {
     "name": "stdout",
     "output_type": "stream",
     "text": [
      "<class 'pandas.core.frame.DataFrame'>\n",
      "RangeIndex: 1641 entries, 0 to 1640\n",
      "Data columns (total 11 columns):\n",
      " #   Column      Non-Null Count  Dtype  \n",
      "---  ------      --------------  -----  \n",
      " 0   Unnamed: 0  1641 non-null   int64  \n",
      " 1   id          1641 non-null   int64  \n",
      " 2   kjkrfgld    1595 non-null   object \n",
      " 3   bpowgknt    1592 non-null   object \n",
      " 4   raksnhjf    1605 non-null   object \n",
      " 5   vwpsxrgk    1596 non-null   object \n",
      " 6   omtioxzz    1587 non-null   float64\n",
      " 7   yfmzwkru    1597 non-null   float64\n",
      " 8   tiwrsloh    1601 non-null   float64\n",
      " 9   weioazcf    1579 non-null   float64\n",
      " 10  poor        1641 non-null   bool   \n",
      "dtypes: bool(1), float64(4), int64(2), object(4)\n",
      "memory usage: 129.9+ KB\n"
     ]
    }
   ],
   "source": [
    "data_test.info()"
   ]
  },
  {
   "cell_type": "markdown",
   "metadata": {},
   "source": [
    "In both datasets, we encounter:\n",
    "<ul>\n",
    "    <li> same number of non-null values in the columns Unnamed: 0 (supposedly, individuals <code>iid</code>) and households <code>id</code>, so that individuals analysis (or the size of a household) becomes irrelevant</li>\n",
    "    <li> four possible categorical (nominal) variables represented as object (strings) with missing values both in train and in test (3% of each dataset approximately)</li>\n",
    "    <li> four continuous variables represented as float, with missing values both in train and in test (3% of each dataset approximately)</li>\n",
    "    <li> target variable represented as a boolean</li>\n",
    "</ul>"
   ]
  },
  {
   "cell_type": "markdown",
   "metadata": {},
   "source": [
    "#### No duplicates / Unique observations"
   ]
  },
  {
   "cell_type": "code",
   "execution_count": 17,
   "metadata": {},
   "outputs": [
    {
     "data": {
      "text/html": [
       "<div>\n",
       "<style scoped>\n",
       "    .dataframe tbody tr th:only-of-type {\n",
       "        vertical-align: middle;\n",
       "    }\n",
       "\n",
       "    .dataframe tbody tr th {\n",
       "        vertical-align: top;\n",
       "    }\n",
       "\n",
       "    .dataframe thead th {\n",
       "        text-align: right;\n",
       "    }\n",
       "</style>\n",
       "<table border=\"1\" class=\"dataframe\">\n",
       "  <thead>\n",
       "    <tr style=\"text-align: right;\">\n",
       "      <th></th>\n",
       "      <th>Unnamed: 0</th>\n",
       "      <th>id</th>\n",
       "      <th>kjkrfgld</th>\n",
       "      <th>bpowgknt</th>\n",
       "      <th>raksnhjf</th>\n",
       "      <th>vwpsxrgk</th>\n",
       "      <th>omtioxzz</th>\n",
       "      <th>yfmzwkru</th>\n",
       "      <th>tiwrsloh</th>\n",
       "      <th>weioazcf</th>\n",
       "      <th>poor</th>\n",
       "    </tr>\n",
       "  </thead>\n",
       "  <tbody>\n",
       "  </tbody>\n",
       "</table>\n",
       "</div>"
      ],
      "text/plain": [
       "Empty DataFrame\n",
       "Columns: [Unnamed: 0, id, kjkrfgld, bpowgknt, raksnhjf, vwpsxrgk, omtioxzz, yfmzwkru, tiwrsloh, weioazcf, poor]\n",
       "Index: []"
      ]
     },
     "execution_count": 17,
     "metadata": {},
     "output_type": "execute_result"
    }
   ],
   "source": [
    "column_names = [x for x in data_train.columns]\n",
    "duplicates = data_train.duplicated(subset=column_names, keep=False)\n",
    "data_train[duplicates]"
   ]
  },
  {
   "cell_type": "code",
   "execution_count": 7,
   "metadata": {},
   "outputs": [
    {
     "data": {
      "text/plain": [
       "6562"
      ]
     },
     "execution_count": 7,
     "metadata": {},
     "output_type": "execute_result"
    }
   ],
   "source": [
    "data_train.id.nunique() "
   ]
  },
  {
   "cell_type": "code",
   "execution_count": 9,
   "metadata": {},
   "outputs": [
    {
     "data": {
      "text/html": [
       "<div>\n",
       "<style scoped>\n",
       "    .dataframe tbody tr th:only-of-type {\n",
       "        vertical-align: middle;\n",
       "    }\n",
       "\n",
       "    .dataframe tbody tr th {\n",
       "        vertical-align: top;\n",
       "    }\n",
       "\n",
       "    .dataframe thead th {\n",
       "        text-align: right;\n",
       "    }\n",
       "</style>\n",
       "<table border=\"1\" class=\"dataframe\">\n",
       "  <thead>\n",
       "    <tr style=\"text-align: right;\">\n",
       "      <th></th>\n",
       "      <th>Unnamed: 0</th>\n",
       "      <th>id</th>\n",
       "      <th>kjkrfgld</th>\n",
       "      <th>bpowgknt</th>\n",
       "      <th>raksnhjf</th>\n",
       "      <th>vwpsxrgk</th>\n",
       "      <th>omtioxzz</th>\n",
       "      <th>yfmzwkru</th>\n",
       "      <th>tiwrsloh</th>\n",
       "      <th>weioazcf</th>\n",
       "      <th>poor</th>\n",
       "    </tr>\n",
       "  </thead>\n",
       "  <tbody>\n",
       "  </tbody>\n",
       "</table>\n",
       "</div>"
      ],
      "text/plain": [
       "Empty DataFrame\n",
       "Columns: [Unnamed: 0, id, kjkrfgld, bpowgknt, raksnhjf, vwpsxrgk, omtioxzz, yfmzwkru, tiwrsloh, weioazcf, poor]\n",
       "Index: []"
      ]
     },
     "execution_count": 9,
     "metadata": {},
     "output_type": "execute_result"
    }
   ],
   "source": [
    "column_names = [x for x in data_test.columns]\n",
    "duplicates = data_test.duplicated(subset=column_names, keep=False)\n",
    "data_test[duplicates]"
   ]
  },
  {
   "cell_type": "code",
   "execution_count": 8,
   "metadata": {},
   "outputs": [
    {
     "data": {
      "text/plain": [
       "1641"
      ]
     },
     "execution_count": 8,
     "metadata": {},
     "output_type": "execute_result"
    }
   ],
   "source": [
    "data_test.id.nunique()"
   ]
  },
  {
   "cell_type": "markdown",
   "metadata": {},
   "source": [
    "We now set the DataFrame's index to household's <code>id</code> for further analysis."
   ]
  },
  {
   "cell_type": "code",
   "execution_count": 30,
   "metadata": {},
   "outputs": [],
   "source": [
    "data_train = data_train.set_index('id')\n",
    "data_test = data_test.set_index('id')"
   ]
  },
  {
   "cell_type": "markdown",
   "metadata": {},
   "source": [
    "## Target"
   ]
  },
  {
   "cell_type": "code",
   "execution_count": 27,
   "metadata": {},
   "outputs": [
    {
     "data": {
      "image/png": "[encoded data removed]",
      "text/plain": [
       "<Figure size 720x288 with 2 Axes>"
      ]
     },
     "metadata": {},
     "output_type": "display_data"
    }
   ],
   "source": [
    "sns.set_style('white')\n",
    "fig, axes = plt.subplots(1, 2, figsize = (10, 4))\n",
    "\n",
    "# Create a countplot\n",
    "sns.countplot(x='poor',\n",
    "              data=data_train,\n",
    "              order=[0, 1],\n",
    "              # Set colour of hue and transperency\n",
    "              palette = [\"r\",\"skyblue\"],\n",
    "              alpha = 0.6,\n",
    "              ax=axes[0])\n",
    "\n",
    "# Final styling touche\n",
    "axes[0].set_ylabel(\"Number of poor\", fontsize = 12, fontweight = \"semibold\")\n",
    "axes[0].set_xlabel(\"Train\", fontweight = \"semibold\", fontsize = 14)\n",
    "\n",
    "\n",
    "# Create a countplot\n",
    "sns.countplot(x='poor',\n",
    "              data=data_test,\n",
    "              order=[0, 1],\n",
    "              # Set colour of hue and transperency\n",
    "              palette = [\"r\",\"skyblue\"],\n",
    "              alpha = 0.6,\n",
    "              ax=axes[1])\n",
    "\n",
    "# Final styling touche\n",
    "axes[1].set_ylabel(\"Number of poor\", fontsize = 12, fontweight = \"semibold\")\n",
    "axes[1].set_xlabel(\"Test\", fontweight = \"semibold\", fontsize = 14)\n",
    "\n",
    "# Despine visualizations\n",
    "sns.despine(left=True)\n",
    "fig.suptitle(\"Distribution of Poor Households\", fontweight = \"semibold\", fontsize = 14)\n",
    "plt.show()"
   ]
  },
  {
   "cell_type": "markdown",
   "metadata": {},
   "source": [
    "## Numerical features"
   ]
  },
  {
   "cell_type": "code",
   "execution_count": 26,
   "metadata": {},
   "outputs": [
    {
     "data": {
      "text/html": [
       "<div>\n",
       "<style scoped>\n",
       "    .dataframe tbody tr th:only-of-type {\n",
       "        vertical-align: middle;\n",
       "    }\n",
       "\n",
       "    .dataframe tbody tr th {\n",
       "        vertical-align: top;\n",
       "    }\n",
       "\n",
       "    .dataframe thead th {\n",
       "        text-align: right;\n",
       "    }\n",
       "</style>\n",
       "<table border=\"1\" class=\"dataframe\">\n",
       "  <thead>\n",
       "    <tr style=\"text-align: right;\">\n",
       "      <th></th>\n",
       "      <th>Unnamed: 0</th>\n",
       "      <th>omtioxzz</th>\n",
       "      <th>yfmzwkru</th>\n",
       "      <th>tiwrsloh</th>\n",
       "      <th>weioazcf</th>\n",
       "    </tr>\n",
       "  </thead>\n",
       "  <tbody>\n",
       "    <tr>\n",
       "      <th>count</th>\n",
       "      <td>6562.000000</td>\n",
       "      <td>6361.000000</td>\n",
       "      <td>6353.000000</td>\n",
       "      <td>6355.000000</td>\n",
       "      <td>6366.000000</td>\n",
       "    </tr>\n",
       "    <tr>\n",
       "      <th>mean</th>\n",
       "      <td>4113.757543</td>\n",
       "      <td>17.455117</td>\n",
       "      <td>-2.826696</td>\n",
       "      <td>-4.194335</td>\n",
       "      <td>-7.461828</td>\n",
       "    </tr>\n",
       "    <tr>\n",
       "      <th>std</th>\n",
       "      <td>2353.382080</td>\n",
       "      <td>10.924393</td>\n",
       "      <td>12.615775</td>\n",
       "      <td>4.476410</td>\n",
       "      <td>11.198626</td>\n",
       "    </tr>\n",
       "    <tr>\n",
       "      <th>min</th>\n",
       "      <td>0.000000</td>\n",
       "      <td>-127.000000</td>\n",
       "      <td>-4.000000</td>\n",
       "      <td>-31.000000</td>\n",
       "      <td>-74.500000</td>\n",
       "    </tr>\n",
       "    <tr>\n",
       "      <th>25%</th>\n",
       "      <td>2088.500000</td>\n",
       "      <td>12.000000</td>\n",
       "      <td>-4.000000</td>\n",
       "      <td>-7.000000</td>\n",
       "      <td>-14.500000</td>\n",
       "    </tr>\n",
       "    <tr>\n",
       "      <th>50%</th>\n",
       "      <td>4115.500000</td>\n",
       "      <td>12.000000</td>\n",
       "      <td>-3.000000</td>\n",
       "      <td>-3.000000</td>\n",
       "      <td>-4.500000</td>\n",
       "    </tr>\n",
       "    <tr>\n",
       "      <th>75%</th>\n",
       "      <td>6156.750000</td>\n",
       "      <td>21.000000</td>\n",
       "      <td>-2.000000</td>\n",
       "      <td>-1.000000</td>\n",
       "      <td>0.500000</td>\n",
       "    </tr>\n",
       "    <tr>\n",
       "      <th>max</th>\n",
       "      <td>8202.000000</td>\n",
       "      <td>111.000000</td>\n",
       "      <td>1000.000000</td>\n",
       "      <td>3.000000</td>\n",
       "      <td>10.500000</td>\n",
       "    </tr>\n",
       "  </tbody>\n",
       "</table>\n",
       "</div>"
      ],
      "text/plain": [
       "        Unnamed: 0     omtioxzz     yfmzwkru     tiwrsloh     weioazcf\n",
       "count  6562.000000  6361.000000  6353.000000  6355.000000  6366.000000\n",
       "mean   4113.757543    17.455117    -2.826696    -4.194335    -7.461828\n",
       "std    2353.382080    10.924393    12.615775     4.476410    11.198626\n",
       "min       0.000000  -127.000000    -4.000000   -31.000000   -74.500000\n",
       "25%    2088.500000    12.000000    -4.000000    -7.000000   -14.500000\n",
       "50%    4115.500000    12.000000    -3.000000    -3.000000    -4.500000\n",
       "75%    6156.750000    21.000000    -2.000000    -1.000000     0.500000\n",
       "max    8202.000000   111.000000  1000.000000     3.000000    10.500000"
      ]
     },
     "execution_count": 26,
     "metadata": {},
     "output_type": "execute_result"
    }
   ],
   "source": [
    "data_train.describe()"
   ]
  },
  {
   "cell_type": "code",
   "execution_count": 112,
   "metadata": {},
   "outputs": [
    {
     "data": {
      "text/plain": [
       "Text(0.5, 0, 'omtioxzz')"
      ]
     },
     "execution_count": 112,
     "metadata": {},
     "output_type": "execute_result"
    },
    {
     "data": {
      "image/png": "[encoded data removed]",
      "text/plain": [
       "<Figure size 504x360 with 1 Axes>"
      ]
     },
     "metadata": {},
     "output_type": "display_data"
    }
   ],
   "source": [
    "# Create plot of omtioxzz distribution\n",
    "sns.set_style('white')\n",
    "plt.figure(figsize=(7,5))\n",
    "sns.histplot(data=data_train,\n",
    "             x='omtioxzz',\n",
    "             color = \"skyblue\",\n",
    "             kde = True)\n",
    "\n",
    "# Add vertical line and annotate median age for male employees\n",
    "plt.axvline(data_train['omtioxzz'].median(), ymax = 0.95, linestyle = \"--\")\n",
    "# Format subplot in axes\n",
    "plt.xticks([])\n",
    "plt.xlabel(\"omtioxzz\", fontsize = 12, fontweight = \"semibold\")"
   ]
  },
  {
   "cell_type": "code",
   "execution_count": 115,
   "metadata": {},
   "outputs": [
    {
     "data": {
      "text/plain": [
       "Text(0.5, 0, 'yfmzwkru')"
      ]
     },
     "execution_count": 115,
     "metadata": {},
     "output_type": "execute_result"
    },
    {
     "data": {
      "image/png": "[encoded data removed]",
      "text/plain": [
       "<Figure size 504x360 with 1 Axes>"
      ]
     },
     "metadata": {},
     "output_type": "display_data"
    }
   ],
   "source": [
    "# Create plot of omtioxzz distribution\n",
    "sns.set_style('white')\n",
    "plt.figure(figsize=(7,5))\n",
    "sns.histplot(data=data_train,\n",
    "             x='yfmzwkru',\n",
    "             color = \"skyblue\",\n",
    "             kde = True,\n",
    "             hue_norm=[-5, 100])\n",
    "\n",
    "# Add vertical line and annotate median age for male employees\n",
    "plt.axvline(data_train['yfmzwkru'].median(), ymax = 0.95, linestyle = \"--\")\n",
    "# Format subplot in axes\n",
    "#plt.xticks([])\n",
    "plt.xlabel(\"yfmzwkru\", fontsize = 12, fontweight = \"semibold\")"
   ]
  },
  {
   "cell_type": "code",
   "execution_count": 119,
   "metadata": {},
   "outputs": [
    {
     "data": {
      "text/plain": [
       "Text(0.5, 0, 'tiwrsloh')"
      ]
     },
     "execution_count": 119,
     "metadata": {},
     "output_type": "execute_result"
    },
    {
     "data": {
      "image/png": "[encoded data removed]",
      "text/plain": [
       "<Figure size 504x360 with 1 Axes>"
      ]
     },
     "metadata": {},
     "output_type": "display_data"
    }
   ],
   "source": [
    "# Create plot of omtioxzz distribution\n",
    "sns.set_style('white')\n",
    "plt.figure(figsize=(7,5))\n",
    "sns.histplot(data=data_train,\n",
    "             x='tiwrsloh',\n",
    "             color = \"skyblue\",\n",
    "             kde = True)\n",
    "\n",
    "# Add vertical line and annotate median age for male employees\n",
    "plt.axvline(data_train['tiwrsloh'].median(), ymax = 0.95, linestyle = \"--\")\n",
    "# Format subplot in axes\n",
    "#plt.xticks([])\n",
    "plt.xlabel(\"tiwrsloh\", fontsize = 12, fontweight = \"semibold\")"
   ]
  },
  {
   "cell_type": "code",
   "execution_count": 118,
   "metadata": {},
   "outputs": [
    {
     "data": {
      "text/plain": [
       "Text(0.5, 0, 'weioazcf')"
      ]
     },
     "execution_count": 118,
     "metadata": {},
     "output_type": "execute_result"
    },
    {
     "data": {
      "image/png": "[encoded data removed]",
      "text/plain": [
       "<Figure size 504x360 with 1 Axes>"
      ]
     },
     "metadata": {},
     "output_type": "display_data"
    }
   ],
   "source": [
    "# Create plot of omtioxzz distribution\n",
    "sns.set_style('white')\n",
    "plt.figure(figsize=(7,5))\n",
    "sns.histplot(data=data_train,\n",
    "             x='weioazcf',\n",
    "             color = \"skyblue\",\n",
    "             kde = True)\n",
    "\n",
    "# Add vertical line and annotate median age for male employees\n",
    "plt.axvline(data_train['weioazcf'].median(), ymax = 0.95, linestyle = \"--\")\n",
    "# Format subplot in axes\n",
    "#plt.xticks([])\n",
    "plt.xlabel(\"weioazcf\", fontsize = 12, fontweight = \"semibold\")"
   ]
  },
  {
   "cell_type": "code",
   "execution_count": null,
   "metadata": {},
   "outputs": [],
   "source": []
  },
  {
   "cell_type": "code",
   "execution_count": null,
   "metadata": {},
   "outputs": [],
   "source": []
  },
  {
   "cell_type": "code",
   "execution_count": 120,
   "metadata": {
    "collapsed": true
   },
   "outputs": [
    {
     "ename": "AttributeError",
     "evalue": "'numpy.ndarray' object has no attribute 'xaxis'",
     "output_type": "error",
     "traceback": [
      "\u001b[0;31m---------------------------------------------------------------------------\u001b[0m",
      "\u001b[0;31mAttributeError\u001b[0m                            Traceback (most recent call last)",
      "\u001b[0;32m<ipython-input-120-d224333e145e>\u001b[0m in \u001b[0;36m<module>\u001b[0;34m\u001b[0m\n\u001b[1;32m      6\u001b[0m \u001b[0;34m\u001b[0m\u001b[0m\n\u001b[1;32m      7\u001b[0m \u001b[0;31m# Create plot of omtioxzz distribution on first axes\u001b[0m\u001b[0;34m\u001b[0m\u001b[0;34m\u001b[0m\u001b[0;34m\u001b[0m\u001b[0m\n\u001b[0;32m----> 8\u001b[0;31m sns.histplot(data=data_train,\n\u001b[0m\u001b[1;32m      9\u001b[0m              \u001b[0mx\u001b[0m\u001b[0;34m=\u001b[0m\u001b[0;34m'omtioxzz'\u001b[0m\u001b[0;34m,\u001b[0m\u001b[0;34m\u001b[0m\u001b[0;34m\u001b[0m\u001b[0m\n\u001b[1;32m     10\u001b[0m              \u001b[0mcolor\u001b[0m \u001b[0;34m=\u001b[0m \u001b[0;34m\"skyblue\"\u001b[0m\u001b[0;34m,\u001b[0m\u001b[0;34m\u001b[0m\u001b[0;34m\u001b[0m\u001b[0m\n",
      "\u001b[0;32m~/anaconda3/envs/DD_Pover-T_Tests/lib/python3.8/site-packages/seaborn/distributions.py\u001b[0m in \u001b[0;36mhistplot\u001b[0;34m(data, x, y, hue, weights, stat, bins, binwidth, binrange, discrete, cumulative, common_bins, common_norm, multiple, element, fill, shrink, kde, kde_kws, line_kws, thresh, pthresh, pmax, cbar, cbar_ax, cbar_kws, palette, hue_order, hue_norm, color, log_scale, legend, ax, **kwargs)\u001b[0m\n\u001b[1;32m   1403\u001b[0m \u001b[0;34m\u001b[0m\u001b[0m\n\u001b[1;32m   1404\u001b[0m     \u001b[0;31m# Attach the axes to the plotter, setting up unit conversions\u001b[0m\u001b[0;34m\u001b[0m\u001b[0;34m\u001b[0m\u001b[0;34m\u001b[0m\u001b[0m\n\u001b[0;32m-> 1405\u001b[0;31m     \u001b[0mp\u001b[0m\u001b[0;34m.\u001b[0m\u001b[0m_attach\u001b[0m\u001b[0;34m(\u001b[0m\u001b[0max\u001b[0m\u001b[0;34m,\u001b[0m \u001b[0mlog_scale\u001b[0m\u001b[0;34m=\u001b[0m\u001b[0mlog_scale\u001b[0m\u001b[0;34m)\u001b[0m\u001b[0;34m\u001b[0m\u001b[0;34m\u001b[0m\u001b[0m\n\u001b[0m\u001b[1;32m   1406\u001b[0m \u001b[0;34m\u001b[0m\u001b[0m\n\u001b[1;32m   1407\u001b[0m     \u001b[0;31m# Default to discrete bins for categorical variables\u001b[0m\u001b[0;34m\u001b[0m\u001b[0;34m\u001b[0m\u001b[0;34m\u001b[0m\u001b[0m\n",
      "\u001b[0;32m~/anaconda3/envs/DD_Pover-T_Tests/lib/python3.8/site-packages/seaborn/_core.py\u001b[0m in \u001b[0;36m_attach\u001b[0;34m(self, obj, allowed_types, log_scale)\u001b[0m\n\u001b[1;32m   1110\u001b[0m             \u001b[0;31m# its mapping, meaning that it won't handle unshared axes well either.\u001b[0m\u001b[0;34m\u001b[0m\u001b[0;34m\u001b[0m\u001b[0;34m\u001b[0m\u001b[0m\n\u001b[1;32m   1111\u001b[0m             \u001b[0;32mfor\u001b[0m \u001b[0max\u001b[0m \u001b[0;32min\u001b[0m \u001b[0max_list\u001b[0m\u001b[0;34m:\u001b[0m\u001b[0;34m\u001b[0m\u001b[0;34m\u001b[0m\u001b[0m\n\u001b[0;32m-> 1112\u001b[0;31m                 \u001b[0maxis\u001b[0m \u001b[0;34m=\u001b[0m \u001b[0mgetattr\u001b[0m\u001b[0;34m(\u001b[0m\u001b[0max\u001b[0m\u001b[0;34m,\u001b[0m \u001b[0;34mf\"{var}axis\"\u001b[0m\u001b[0;34m)\u001b[0m\u001b[0;34m\u001b[0m\u001b[0;34m\u001b[0m\u001b[0m\n\u001b[0m\u001b[1;32m   1113\u001b[0m                 \u001b[0mseed_data\u001b[0m \u001b[0;34m=\u001b[0m \u001b[0mself\u001b[0m\u001b[0;34m.\u001b[0m\u001b[0mplot_data\u001b[0m\u001b[0;34m[\u001b[0m\u001b[0mvar\u001b[0m\u001b[0;34m]\u001b[0m\u001b[0;34m\u001b[0m\u001b[0;34m\u001b[0m\u001b[0m\n\u001b[1;32m   1114\u001b[0m                 \u001b[0;32mif\u001b[0m \u001b[0mvar_type\u001b[0m \u001b[0;34m==\u001b[0m \u001b[0;34m\"categorical\"\u001b[0m\u001b[0;34m:\u001b[0m\u001b[0;34m\u001b[0m\u001b[0;34m\u001b[0m\u001b[0m\n",
      "\u001b[0;31mAttributeError\u001b[0m: 'numpy.ndarray' object has no attribute 'xaxis'"
     ]
    },
    {
     "data": {
      "image/png": "[encoded data removed]",
      "text/plain": [
       "<Figure size 504x360 with 4 Axes>"
      ]
     },
     "metadata": {},
     "output_type": "display_data"
    }
   ],
   "source": [
    "# Set initial plot options\n",
    "sns.set_style('white')\n",
    "\n",
    "# Create figure and axes\n",
    "fig, axes = plt.subplots(2, 2, figsize=(7, 5))\n",
    "\n",
    "# Create plot of omtioxzz distribution on first axes\n",
    "sns.histplot(data=data_train,\n",
    "             x='omtioxzz',\n",
    "             color = \"skyblue\",\n",
    "             kde = True,\n",
    "             ax=axes[0])\n",
    "\n",
    "# Add vertical line and annotate median age for male employees on first axes\n",
    "axes[0].axvline(data_train['omtioxzz'].median(), ymax = 0.95, linestyle = \"--\")\n",
    "# Format subplot in axes\n",
    "# axes[0].set_yticks([])\n",
    "axes[0].set_xlabel(\"omtioxzz\", fontsize = 12, fontweight = \"semibold\")\n",
    "\n",
    "\n",
    "# Create plot of yfmzwkru distribution on second axes\n",
    "sns.histplot(data=data_train,\n",
    "             x='yfmzwkru',\n",
    "             color = \"skyblue\",\n",
    "             kde = True,\n",
    "             ax=axes[1])\n",
    "\n",
    "# Add vertical line and annotate median age for male employees on first axes\n",
    "axes[1].axvline(data_train['yfmzwkru'].median(), ymax = 0.95, linestyle = \"--\")\n",
    "# Format subplot in axes\n",
    "# axes[0].set_yticks([])\n",
    "axes[1].set_xlabel(\"yfmzwkru\", fontsize = 12, fontweight = \"semibold\")\n",
    "\n",
    "\n",
    "# Create plot of tiwrsloh distribution on third axes\n",
    "sns.histplot(data=data_train,\n",
    "             x='tiwrsloh',\n",
    "             color = \"skyblue\",\n",
    "             kde = True,\n",
    "             ax=axes[2])\n",
    "\n",
    "# Add vertical line and annotate median age for male employees on first axes\n",
    "axes[2].axvline(data_train['tiwrsloh'].median(), ymax = 0.95, linestyle = \"--\")\n",
    "# Format subplot in axes\n",
    "# axes[0].set_yticks([])\n",
    "axes[2].set_xlabel(\"tiwrsloh\", fontsize = 12, fontweight = \"semibold\")\n",
    "\n",
    "\n",
    "# Create plot of weioazcf distribution on third axes\n",
    "sns.histplot(data=data_train,\n",
    "             x='weioazcf',\n",
    "             color = \"skyblue\",\n",
    "             kde = True,\n",
    "             ax=axes[3])\n",
    "\n",
    "# Add vertical line and annotate median age for male employees on first axes\n",
    "axes[3].axvline(data_train['weioazcf'].median(), ymax = 0.95, linestyle = \"--\")\n",
    "# Format subplot in axes\n",
    "# axes[0].set_yticks([])\n",
    "axes[3].set_xlabel(\"weioazcf\", fontsize = 12, fontweight = \"semibold\")\n",
    "\n",
    "\n",
    "# Despine visualizations\n",
    "sns.despine(left = True)\n",
    "# Figure final formatting   \n",
    "fig.suptitle('Numerical Variables Distribution', fontsize = 14, fontweight = \"semibold\")\n",
    "plt.show()"
   ]
  },
  {
   "cell_type": "markdown",
   "metadata": {},
   "source": [
    "Descriptive statistics of the four numerical variables uncover the following:\n",
    "<ul>\n",
    "    <li>skewed distributions,</li>\n",
    "    <li>fat tails and presence of outliers</li>\n",
    "</ul>"
   ]
  },
  {
   "cell_type": "markdown",
   "metadata": {},
   "source": [
    "## Categorical features"
   ]
  },
  {
   "cell_type": "markdown",
   "metadata": {},
   "source": [
    "### Low dimensional categorical variables"
   ]
  },
  {
   "cell_type": "code",
   "execution_count": 88,
   "metadata": {
    "collapsed": true
   },
   "outputs": [
    {
     "ename": "AttributeError",
     "evalue": "'numpy.ndarray' object has no attribute 'bar'",
     "output_type": "error",
     "traceback": [
      "\u001b[0;31m---------------------------------------------------------------------------\u001b[0m",
      "\u001b[0;31mAttributeError\u001b[0m                            Traceback (most recent call last)",
      "\u001b[0;32m<ipython-input-88-bc42e2aec390>\u001b[0m in \u001b[0;36m<module>\u001b[0;34m\u001b[0m\n\u001b[1;32m      5\u001b[0m \u001b[0;34m\u001b[0m\u001b[0m\n\u001b[1;32m      6\u001b[0m \u001b[0;31m# kjkrfgld_counts = data_train['kjkrfgld'].value_counts()\u001b[0m\u001b[0;34m\u001b[0m\u001b[0;34m\u001b[0m\u001b[0;34m\u001b[0m\u001b[0m\n\u001b[0;32m----> 7\u001b[0;31m \u001b[0msns\u001b[0m\u001b[0;34m.\u001b[0m\u001b[0mcountplot\u001b[0m\u001b[0;34m(\u001b[0m\u001b[0mx\u001b[0m\u001b[0;34m=\u001b[0m\u001b[0;34m'kjkrfgld'\u001b[0m\u001b[0;34m,\u001b[0m \u001b[0mdata\u001b[0m\u001b[0;34m=\u001b[0m\u001b[0mdata_train\u001b[0m\u001b[0;34m,\u001b[0m \u001b[0malpha\u001b[0m\u001b[0;34m=\u001b[0m\u001b[0;36m0.6\u001b[0m\u001b[0;34m,\u001b[0m \u001b[0max\u001b[0m\u001b[0;34m=\u001b[0m\u001b[0maxes\u001b[0m\u001b[0;34m[\u001b[0m\u001b[0;36m0\u001b[0m\u001b[0;34m]\u001b[0m\u001b[0;34m)\u001b[0m\u001b[0;34m\u001b[0m\u001b[0;34m\u001b[0m\u001b[0m\n\u001b[0m\u001b[1;32m      8\u001b[0m \u001b[0;34m\u001b[0m\u001b[0m\n\u001b[1;32m      9\u001b[0m \u001b[0maxes\u001b[0m\u001b[0;34m[\u001b[0m\u001b[0;36m0\u001b[0m\u001b[0;34m]\u001b[0m\u001b[0;34m.\u001b[0m\u001b[0mset_ylabel\u001b[0m\u001b[0;34m(\u001b[0m\u001b[0;34m\"Number of occurrences\"\u001b[0m\u001b[0;34m,\u001b[0m \u001b[0mfontsize\u001b[0m \u001b[0;34m=\u001b[0m \u001b[0;36m12\u001b[0m\u001b[0;34m,\u001b[0m \u001b[0mfontweight\u001b[0m \u001b[0;34m=\u001b[0m \u001b[0;34m\"semibold\"\u001b[0m\u001b[0;34m)\u001b[0m\u001b[0;34m\u001b[0m\u001b[0;34m\u001b[0m\u001b[0m\n",
      "\u001b[0;32m~/anaconda3/envs/DD_Pover-T_Tests/lib/python3.8/site-packages/seaborn/_decorators.py\u001b[0m in \u001b[0;36minner_f\u001b[0;34m(*args, **kwargs)\u001b[0m\n\u001b[1;32m     44\u001b[0m             )\n\u001b[1;32m     45\u001b[0m         \u001b[0mkwargs\u001b[0m\u001b[0;34m.\u001b[0m\u001b[0mupdate\u001b[0m\u001b[0;34m(\u001b[0m\u001b[0;34m{\u001b[0m\u001b[0mk\u001b[0m\u001b[0;34m:\u001b[0m \u001b[0marg\u001b[0m \u001b[0;32mfor\u001b[0m \u001b[0mk\u001b[0m\u001b[0;34m,\u001b[0m \u001b[0marg\u001b[0m \u001b[0;32min\u001b[0m \u001b[0mzip\u001b[0m\u001b[0;34m(\u001b[0m\u001b[0msig\u001b[0m\u001b[0;34m.\u001b[0m\u001b[0mparameters\u001b[0m\u001b[0;34m,\u001b[0m \u001b[0margs\u001b[0m\u001b[0;34m)\u001b[0m\u001b[0;34m}\u001b[0m\u001b[0;34m)\u001b[0m\u001b[0;34m\u001b[0m\u001b[0;34m\u001b[0m\u001b[0m\n\u001b[0;32m---> 46\u001b[0;31m         \u001b[0;32mreturn\u001b[0m \u001b[0mf\u001b[0m\u001b[0;34m(\u001b[0m\u001b[0;34m**\u001b[0m\u001b[0mkwargs\u001b[0m\u001b[0;34m)\u001b[0m\u001b[0;34m\u001b[0m\u001b[0;34m\u001b[0m\u001b[0m\n\u001b[0m\u001b[1;32m     47\u001b[0m     \u001b[0;32mreturn\u001b[0m \u001b[0minner_f\u001b[0m\u001b[0;34m\u001b[0m\u001b[0;34m\u001b[0m\u001b[0m\n\u001b[1;32m     48\u001b[0m \u001b[0;34m\u001b[0m\u001b[0m\n",
      "\u001b[0;32m~/anaconda3/envs/DD_Pover-T_Tests/lib/python3.8/site-packages/seaborn/categorical.py\u001b[0m in \u001b[0;36mcountplot\u001b[0;34m(x, y, hue, data, order, hue_order, orient, color, palette, saturation, dodge, ax, **kwargs)\u001b[0m\n\u001b[1;32m   3595\u001b[0m         \u001b[0max\u001b[0m \u001b[0;34m=\u001b[0m \u001b[0mplt\u001b[0m\u001b[0;34m.\u001b[0m\u001b[0mgca\u001b[0m\u001b[0;34m(\u001b[0m\u001b[0;34m)\u001b[0m\u001b[0;34m\u001b[0m\u001b[0;34m\u001b[0m\u001b[0m\n\u001b[1;32m   3596\u001b[0m \u001b[0;34m\u001b[0m\u001b[0m\n\u001b[0;32m-> 3597\u001b[0;31m     \u001b[0mplotter\u001b[0m\u001b[0;34m.\u001b[0m\u001b[0mplot\u001b[0m\u001b[0;34m(\u001b[0m\u001b[0max\u001b[0m\u001b[0;34m,\u001b[0m \u001b[0mkwargs\u001b[0m\u001b[0;34m)\u001b[0m\u001b[0;34m\u001b[0m\u001b[0;34m\u001b[0m\u001b[0m\n\u001b[0m\u001b[1;32m   3598\u001b[0m     \u001b[0;32mreturn\u001b[0m \u001b[0max\u001b[0m\u001b[0;34m\u001b[0m\u001b[0;34m\u001b[0m\u001b[0m\n\u001b[1;32m   3599\u001b[0m \u001b[0;34m\u001b[0m\u001b[0m\n",
      "\u001b[0;32m~/anaconda3/envs/DD_Pover-T_Tests/lib/python3.8/site-packages/seaborn/categorical.py\u001b[0m in \u001b[0;36mplot\u001b[0;34m(self, ax, bar_kws)\u001b[0m\n\u001b[1;32m   1637\u001b[0m     \u001b[0;32mdef\u001b[0m \u001b[0mplot\u001b[0m\u001b[0;34m(\u001b[0m\u001b[0mself\u001b[0m\u001b[0;34m,\u001b[0m \u001b[0max\u001b[0m\u001b[0;34m,\u001b[0m \u001b[0mbar_kws\u001b[0m\u001b[0;34m)\u001b[0m\u001b[0;34m:\u001b[0m\u001b[0;34m\u001b[0m\u001b[0;34m\u001b[0m\u001b[0m\n\u001b[1;32m   1638\u001b[0m         \u001b[0;34m\"\"\"Make the plot.\"\"\"\u001b[0m\u001b[0;34m\u001b[0m\u001b[0;34m\u001b[0m\u001b[0m\n\u001b[0;32m-> 1639\u001b[0;31m         \u001b[0mself\u001b[0m\u001b[0;34m.\u001b[0m\u001b[0mdraw_bars\u001b[0m\u001b[0;34m(\u001b[0m\u001b[0max\u001b[0m\u001b[0;34m,\u001b[0m \u001b[0mbar_kws\u001b[0m\u001b[0;34m)\u001b[0m\u001b[0;34m\u001b[0m\u001b[0;34m\u001b[0m\u001b[0m\n\u001b[0m\u001b[1;32m   1640\u001b[0m         \u001b[0mself\u001b[0m\u001b[0;34m.\u001b[0m\u001b[0mannotate_axes\u001b[0m\u001b[0;34m(\u001b[0m\u001b[0max\u001b[0m\u001b[0;34m)\u001b[0m\u001b[0;34m\u001b[0m\u001b[0;34m\u001b[0m\u001b[0m\n\u001b[1;32m   1641\u001b[0m         \u001b[0;32mif\u001b[0m \u001b[0mself\u001b[0m\u001b[0;34m.\u001b[0m\u001b[0morient\u001b[0m \u001b[0;34m==\u001b[0m \u001b[0;34m\"h\"\u001b[0m\u001b[0;34m:\u001b[0m\u001b[0;34m\u001b[0m\u001b[0;34m\u001b[0m\u001b[0m\n",
      "\u001b[0;32m~/anaconda3/envs/DD_Pover-T_Tests/lib/python3.8/site-packages/seaborn/categorical.py\u001b[0m in \u001b[0;36mdraw_bars\u001b[0;34m(self, ax, kws)\u001b[0m\n\u001b[1;32m   1596\u001b[0m         \u001b[0;34m\"\"\"Draw the bars onto `ax`.\"\"\"\u001b[0m\u001b[0;34m\u001b[0m\u001b[0;34m\u001b[0m\u001b[0m\n\u001b[1;32m   1597\u001b[0m         \u001b[0;31m# Get the right matplotlib function depending on the orientation\u001b[0m\u001b[0;34m\u001b[0m\u001b[0;34m\u001b[0m\u001b[0;34m\u001b[0m\u001b[0m\n\u001b[0;32m-> 1598\u001b[0;31m         \u001b[0mbarfunc\u001b[0m \u001b[0;34m=\u001b[0m \u001b[0max\u001b[0m\u001b[0;34m.\u001b[0m\u001b[0mbar\u001b[0m \u001b[0;32mif\u001b[0m \u001b[0mself\u001b[0m\u001b[0;34m.\u001b[0m\u001b[0morient\u001b[0m \u001b[0;34m==\u001b[0m \u001b[0;34m\"v\"\u001b[0m \u001b[0;32melse\u001b[0m \u001b[0max\u001b[0m\u001b[0;34m.\u001b[0m\u001b[0mbarh\u001b[0m\u001b[0;34m\u001b[0m\u001b[0;34m\u001b[0m\u001b[0m\n\u001b[0m\u001b[1;32m   1599\u001b[0m         \u001b[0mbarpos\u001b[0m \u001b[0;34m=\u001b[0m \u001b[0mnp\u001b[0m\u001b[0;34m.\u001b[0m\u001b[0marange\u001b[0m\u001b[0;34m(\u001b[0m\u001b[0mlen\u001b[0m\u001b[0;34m(\u001b[0m\u001b[0mself\u001b[0m\u001b[0;34m.\u001b[0m\u001b[0mstatistic\u001b[0m\u001b[0;34m)\u001b[0m\u001b[0;34m)\u001b[0m\u001b[0;34m\u001b[0m\u001b[0;34m\u001b[0m\u001b[0m\n\u001b[1;32m   1600\u001b[0m \u001b[0;34m\u001b[0m\u001b[0m\n",
      "\u001b[0;31mAttributeError\u001b[0m: 'numpy.ndarray' object has no attribute 'bar'"
     ]
    },
    {
     "data": {
      "image/png": "[encoded data removed]",
      "text/plain": [
       "<Figure size 864x576 with 4 Axes>"
      ]
     },
     "metadata": {},
     "output_type": "display_data"
    }
   ],
   "source": [
    "sns.set_style('white')\n",
    "\n",
    "fig, axes = plt.subplots(2, 2, figsize = (12, 8))\n",
    "\n",
    "\n",
    "# kjkrfgld_counts = data_train['kjkrfgld'].value_counts()\n",
    "sns.countplot(x='kjkrfgld', data=data_train, alpha=0.6, ax=axes[0])\n",
    "\n",
    "axes[0].set_ylabel(\"Number of occurrences\", fontsize = 12, fontweight = \"semibold\")\n",
    "axes[0].set_xlabel(\"kjkrfgld\", fontweight = \"semibold\", fontsize = 14)\n",
    "\n",
    "\n",
    "# bpowgknt_counts = data_train['bpowgknt'].value_counts()\n",
    "sns.countplot(x='bpowgknt', data=data_train, alpha=0.6, ax=axes[1])\n",
    "\n",
    "axes[1].set_ylabel(\"Number of occurrences\", fontsize = 12, fontweight = \"semibold\")\n",
    "axes[1].set_xlabel(\"bpowgknt\", fontweight = \"semibold\", fontsize = 14)\n",
    "\n",
    "\n",
    "# raksnhjf_counts = data_train['raksnhjf'].value_counts()\n",
    "sns.countplot(x='raksnhjf', data=data_train, alpha=0.6, ax=axes[2])\n",
    "\n",
    "axes[2].set_ylabel(\"Number of occurrences\", fontsize = 12, fontweight = \"semibold\")\n",
    "axes[2].set_xlabel(\"raksnhjf\", fontweight = \"semibold\", fontsize = 14)\n",
    "\n",
    "\n",
    "\n",
    "sns.despine(left=True)\n",
    "fig.suptitle(\"Low dimensional Categorical Variables\", fontweight = \"semibold\", fontsize = 14)\n",
    "plt.show()"
   ]
  },
  {
   "cell_type": "code",
   "execution_count": 92,
   "metadata": {},
   "outputs": [
    {
     "data": {
      "image/png": "[encoded data removed]",
      "text/plain": [
       "<Figure size 576x288 with 1 Axes>"
      ]
     },
     "metadata": {},
     "output_type": "display_data"
    }
   ],
   "source": [
    "plt.figure(figsize = (8, 4))\n",
    "sns.set(style=\"white\")\n",
    "sns.countplot(x='kjkrfgld', data=data_train, alpha=0.6)\n",
    "plt.title('Frequency Distribution')\n",
    "plt.ylabel('Number of Occurrences', fontsize=12)\n",
    "plt.xlabel('kjkrfgld', fontsize=12)\n",
    "plt.show()"
   ]
  },
  {
   "cell_type": "code",
   "execution_count": 93,
   "metadata": {},
   "outputs": [
    {
     "data": {
      "image/png": "[encoded data removed]",
      "text/plain": [
       "<Figure size 576x288 with 1 Axes>"
      ]
     },
     "metadata": {},
     "output_type": "display_data"
    }
   ],
   "source": [
    "plt.figure(figsize = (8, 4))\n",
    "sns.set(style=\"white\")\n",
    "sns.countplot(x='bpowgknt', data=data_train, alpha=0.6)\n",
    "plt.title('Frequency Distribution')\n",
    "plt.ylabel('Number of Occurrences', fontsize=12)\n",
    "plt.xlabel('bpowgknt', fontsize=12)\n",
    "plt.show()"
   ]
  },
  {
   "cell_type": "code",
   "execution_count": 94,
   "metadata": {},
   "outputs": [
    {
     "data": {
      "image/png": "[encoded data removed]",
      "text/plain": [
       "<Figure size 576x288 with 1 Axes>"
      ]
     },
     "metadata": {},
     "output_type": "display_data"
    }
   ],
   "source": [
    "plt.figure(figsize = (8, 4))\n",
    "sns.set(style=\"white\")\n",
    "sns.countplot(x='raksnhjf', data=data_train, alpha=0.6)\n",
    "plt.title('Frequency Distribution raksnhjf')\n",
    "plt.ylabel('Number of Occurrences', fontsize=12)\n",
    "plt.xlabel('raksnhjf', fontsize=12)\n",
    "plt.show()"
   ]
  },
  {
   "cell_type": "markdown",
   "metadata": {},
   "source": [
    "### High dimensional categorical variable"
   ]
  },
  {
   "cell_type": "code",
   "execution_count": 97,
   "metadata": {},
   "outputs": [
    {
     "data": {
      "image/png": "[encoded data removed]",
      "text/plain": [
       "<Figure size 1584x720 with 1 Axes>"
      ]
     },
     "metadata": {},
     "output_type": "display_data"
    }
   ],
   "source": [
    "plt.figure(figsize = (22, 10))\n",
    "sns.set(style=\"white\")\n",
    "\n",
    "sns.countplot(x='vwpsxrgk', data=data_train, alpha=0.6)\n",
    "\n",
    "plt.title('Frequency Distribution', fontweight = \"bold\", fontsize = 14)\n",
    "plt.ylabel('Number of Occurrences', fontsize=12)\n",
    "plt.xlabel('vwpsxrgk', fontsize=12, fontweight = \"semibold\")\n",
    "plt.show()"
   ]
  },
  {
   "cell_type": "markdown",
   "metadata": {},
   "source": [
    "# Data Preprocessing\n",
    "<div style = \"float:right\"><a style=\"text-decoration:none\" href = \"#inicio\">Inicio</a></div>"
   ]
  },
  {
   "cell_type": "markdown",
   "metadata": {},
   "source": [
    "## Target preprocessing"
   ]
  },
  {
   "cell_type": "markdown",
   "metadata": {},
   "source": [
    "Let's transform our target variable into a binary (0, 1) variable."
   ]
  },
  {
   "cell_type": "code",
   "execution_count": 77,
   "metadata": {},
   "outputs": [],
   "source": [
    "data_train['poor'] = data_train['poor'].apply(lambda x: 1 if x == True else 0)"
   ]
  },
  {
   "cell_type": "code",
   "execution_count": 78,
   "metadata": {},
   "outputs": [],
   "source": [
    "data_test['poor'] = data_test['poor'].apply(lambda x: 1 if x == True else 0)"
   ]
  },
  {
   "cell_type": "markdown",
   "metadata": {},
   "source": [
    "## Train, Test datasets"
   ]
  },
  {
   "cell_type": "code",
   "execution_count": 79,
   "metadata": {},
   "outputs": [],
   "source": [
    "X_train = data_train.drop('poor', 1)\n",
    "y_train = data_train['poor']"
   ]
  },
  {
   "cell_type": "code",
   "execution_count": 80,
   "metadata": {},
   "outputs": [],
   "source": [
    "X_test = data_test.drop('poor', 1)\n",
    "y_test = data_test['poor']"
   ]
  },
  {
   "cell_type": "markdown",
   "metadata": {},
   "source": [
    "## Features preprocessing"
   ]
  },
  {
   "cell_type": "markdown",
   "metadata": {},
   "source": [
    "In light of the above, some data preprocessing is needed.<br>\n",
    "\n",
    "As of <b>numerical variables</b>, two steps need to be accomplished:\n",
    "<ol>\n",
    "    <li> <b>impute NAs</b> with a median strategy (to better account for non-normal distributions),</li>\n",
    "    <li> <b>standardize variables</b> aiming at <i>normalize</i> data distributions. We shall use PowerTransformer method, well suited for skewed distributions (and outliers?). Unscaled data can degrade the predictive performance of machine learning algorithms and slow down or even prevent the convergence of many gradient-based estimators.</li>\n",
    "</ol>\n",
    "    \n",
    "[Documentation](https://scikit-learn.org/stable/auto_examples/preprocessing/plot_all_scaling.html#sphx-glr-auto-examples-preprocessing-plot-all-scaling-py)\n",
    "<br>\n",
    "\n",
    "Regarding <b>categorical variables</b>, any standard work-flow in feature engineering would typically involve some form of transformation of these categorical values into numeric labels and then applying some encoding scheme on these values (see <code>Prepa_Pover-T_Tests.ipynb</code> for a three-step <i>out-of-the-pipe</i> approach). However, in order to streamline the process, we will have recourse to a <i>column transform</i> method instead aiming at <b>simulateneously addressing NAs imputation and variable encoding</b>.<br>\n",
    "\n",
    "\n",
    "We will opt for an <b>ordinal encoder</b> for those variables with a low dimensionality (and coincidentally, uneven frequency distribution among categories) and for a <b>target encoder</b> for the variable with a greater dimensionality. With target encoding, each category is replaced with the mean target value associated with that category. One of its main benefits is that it prevents the curse of dimensionality; one of its drawbacks is that captures correlations with target values, thus incurring in overfitting. This should be carefully addressed by introducing noise (sigma), as explained in the next section.<br>\n",
    "\n",
    "For more information, read this [tutorial](https://www.datacamp.com/community/tutorials/categorical-data) and this [post](https://brendanhasz.github.io/2019/03/04/target-encoding).<br>"
   ]
  },
  {
   "cell_type": "markdown",
   "metadata": {},
   "source": [
    "As such, the <b>preprocessor object</b> arquitecture consists of the following</b>:<br>\n",
    "\n",
    "<ol>\n",
    "    <li> <b>Pipeline</b> for NAs imputation and data scaling of <b>numerical features</b></li>\n",
    "    <li> <b>Column Transformer</b> for variables (numerical and categorical encoding)</li>\n",
    "</ol>\n",
    "\n",
    "Check for reference this [video](https://www.youtube.com/watch?v=Ma-CDFLd03g) (1:17 min onwards)."
   ]
  },
  {
   "cell_type": "code",
   "execution_count": 81,
   "metadata": {},
   "outputs": [],
   "source": [
    "# Categorical features: (i) ordinal encoder for low dimensionality categorical variables (which implicitely impute NAs)\n",
    "low_dim_cat = ['kjkrfgld', 'bpowgknt', 'raksnhjf']\n",
    "ordinal_enc = OrdinalEncoder()\n",
    "\n",
    "# Categorical features (suite): (ii) target encoder for the high dimensionality categorical variable (it also tackles NAs imputation)\n",
    "high_dim_cat = ['vwpsxrgk']\n",
    "target_enc = LeaveOneOutEncoder()\n",
    "    \n",
    "# Numerical features: (i) impute NAs using median strategy, (ii) scale data using Power Transformer to properly address for skewed distributions and outliers\n",
    "numeric_features = data_train.select_dtypes(include=['float64']).columns.copy()\n",
    "numeric_transformer = Pipeline(steps=[\n",
    "    ('imputer', SimpleImputer(strategy='median')),\n",
    "    ('scaler', PowerTransformer())])\n",
    "\n",
    "# Preprocessor with a Column Transformer\n",
    "preprocessor = ColumnTransformer(\n",
    "    transformers=[\n",
    "        ('num', numeric_transformer, numeric_features),\n",
    "        ('ordinal_encoder', ordinal_enc, low_dim_cat),\n",
    "        ('target_encoder', target_enc, high_dim_cat)])"
   ]
  },
  {
   "cell_type": "markdown",
   "metadata": {},
   "source": [
    "# Model Building\n",
    "<div style = \"float:right\"><a style=\"text-decoration:none\" href = \"#inicio\">Inicio</a></div>"
   ]
  },
  {
   "cell_type": "markdown",
   "metadata": {},
   "source": [
    "## Baseline model: Logistic Regression"
   ]
  },
  {
   "cell_type": "markdown",
   "metadata": {},
   "source": [
    "This is the classical function for a binary classification problem. We will use the results of this model as our baseline."
   ]
  },
  {
   "cell_type": "code",
   "execution_count": 56,
   "metadata": {},
   "outputs": [
    {
     "data": {
      "text/plain": [
       "0.5165545774500514"
      ]
     },
     "execution_count": 56,
     "metadata": {},
     "output_type": "execute_result"
    }
   ],
   "source": [
    "# Logistic Regression\n",
    "clf = LogisticRegression()\n",
    "pipe = Pipeline(steps=[('preprocessor', preprocessor),\n",
    "                      ('classifier',  clf)])\n",
    "\n",
    "lr = pipe.fit(X_train, y_train)\n",
    "\n",
    "pipe.predict(X_test)\n",
    "\n",
    "y_pred = pipe.predict_proba(X_test)\n",
    "log_loss(y_test, y_pred, eps=1e-15, normalize=True, sample_weight=None, labels=None)\n"
   ]
  },
  {
   "cell_type": "markdown",
   "metadata": {},
   "source": [
    "## Random Forest Classifier"
   ]
  },
  {
   "cell_type": "markdown",
   "metadata": {},
   "source": [
    "The second model to be used is a Random Forest Classifier. It works like this: (i) it selects random samples from a given dataset, (ii) it constructs a decision tree for each sample and gets a prediction result from each decision tree, (iii) it performs a vote for each predicted result, and (iv) it selects the prediction result with the most votes as the final prediction.<br>\n",
    "\n",
    "We will additionally perform some hyperparameter tuning and cross-validation in order to get the best estimator.<br>\n",
    "\n",
    "It should be noted that the noise of the target encoder will also be modelled, corresponding to sigma."
   ]
  },
  {
   "cell_type": "code",
   "execution_count": 13,
   "metadata": {},
   "outputs": [],
   "source": [
    "clf_rf = RandomForestClassifier()\n",
    "pipe_rf = Pipeline([('preprocessor', preprocessor), ('classifier',  clf_rf)])"
   ]
  },
  {
   "cell_type": "code",
   "execution_count": 14,
   "metadata": {},
   "outputs": [],
   "source": [
    "# Hyperparameters can be accessed with a double underscore\n",
    "param_grid = {\n",
    "    'preprocessor__target_encoder__sigma': [0.01, 0.02, 0.03, 0.04, 0.05, 0.06],\n",
    "    'classifier__bootstrap': [True],\n",
    "    'classifier__max_depth': [80, 90, 100, 110],\n",
    "    'classifier__max_features': [2, 3],\n",
    "    'classifier__min_samples_leaf': [3, 4, 5],\n",
    "#     'classifier__min_samples_split': [8, 10, 12],\n",
    "    'classifier__n_estimators': [100, 200, 300, 1000]\n",
    "}\n",
    "\n",
    "rscv_rf = RandomizedSearchCV(pipe_rf,\n",
    "                          cv=5,\n",
    "                          n_iter=5,\n",
    "                          n_jobs=10,\n",
    "                          param_distributions = param_grid,\n",
    "                          scoring='neg_log_loss',\n",
    "                          random_state=1)\n"
   ]
  },
  {
   "cell_type": "code",
   "execution_count": 68,
   "metadata": {},
   "outputs": [
    {
     "data": {
      "text/plain": [
       "array([-0.5599944 , -0.57126105, -0.60031365, -0.58997122, -0.60401031])"
      ]
     },
     "execution_count": 68,
     "metadata": {},
     "output_type": "execute_result"
    }
   ],
   "source": [
    "cross_val_score(pipe_rf, X_train, y_train, cv=5, scoring='neg_log_loss')"
   ]
  },
  {
   "cell_type": "code",
   "execution_count": 38,
   "metadata": {
    "collapsed": true
   },
   "outputs": [
    {
     "data": {
      "text/plain": [
       "RandomizedSearchCV(cv=5,\n",
       "                   estimator=Pipeline(steps=[('preprocessor',\n",
       "                                              ColumnTransformer(transformers=[('num',\n",
       "                                                                               Pipeline(steps=[('imputer',\n",
       "                                                                                                SimpleImputer(strategy='median')),\n",
       "                                                                                               ('scaler',\n",
       "                                                                                                PowerTransformer())]),\n",
       "                                                                               Index(['omtioxzz', 'yfmzwkru', 'tiwrsloh', 'weioazcf'], dtype='object')),\n",
       "                                                                              ('ordinal_encoder',\n",
       "                                                                               OrdinalEncoder(),\n",
       "                                                                               ['kjkrfgld',\n",
       "                                                                                'bpowgknt',\n",
       "                                                                                'raksnhjf']),\n",
       "                                                                              ('target_en...\n",
       "                                              RandomForestClassifier())]),\n",
       "                   n_iter=5, n_jobs=10,\n",
       "                   param_distributions={'classifier__bootstrap': [True],\n",
       "                                        'classifier__max_depth': [80, 90, 100,\n",
       "                                                                  110],\n",
       "                                        'classifier__max_features': [2, 3],\n",
       "                                        'classifier__min_samples_leaf': [3, 4,\n",
       "                                                                         5],\n",
       "                                        'classifier__n_estimators': [100, 200,\n",
       "                                                                     300,\n",
       "                                                                     1000],\n",
       "                                        'preprocessor__target_encoder__sigma': [0.01,\n",
       "                                                                                0.02,\n",
       "                                                                                0.03,\n",
       "                                                                                0.04,\n",
       "                                                                                0.05,\n",
       "                                                                                0.06]},\n",
       "                   random_state=1, scoring='neg_log_loss')"
      ]
     },
     "execution_count": 38,
     "metadata": {},
     "output_type": "execute_result"
    }
   ],
   "source": [
    "rf_fit = rscv_rf.fit(X_train, y_train)\n",
    "rf_fit"
   ]
  },
  {
   "cell_type": "code",
   "execution_count": 16,
   "metadata": {},
   "outputs": [
    {
     "data": {
      "text/plain": [
       "{'preprocessor__target_encoder__sigma': 0.02,\n",
       " 'classifier__n_estimators': 300,\n",
       " 'classifier__min_samples_leaf': 4,\n",
       " 'classifier__max_features': 2,\n",
       " 'classifier__max_depth': 80,\n",
       " 'classifier__bootstrap': True}"
      ]
     },
     "execution_count": 16,
     "metadata": {},
     "output_type": "execute_result"
    }
   ],
   "source": [
    "rscv_rf.best_params_"
   ]
  },
  {
   "cell_type": "code",
   "execution_count": 17,
   "metadata": {},
   "outputs": [
    {
     "data": {
      "text/plain": [
       "-0.49623545803375035"
      ]
     },
     "execution_count": 17,
     "metadata": {},
     "output_type": "execute_result"
    }
   ],
   "source": [
    "rscv_rf.best_score_"
   ]
  },
  {
   "cell_type": "markdown",
   "metadata": {},
   "source": [
    "Metrics [Documentation](https://scikit-learn.org/stable/modules/generated/sklearn.metrics.log_loss.html#sklearn.metrics.log_loss)"
   ]
  },
  {
   "cell_type": "code",
   "execution_count": 18,
   "metadata": {},
   "outputs": [
    {
     "data": {
      "text/plain": [
       "0.4976755244147369"
      ]
     },
     "execution_count": 18,
     "metadata": {},
     "output_type": "execute_result"
    }
   ],
   "source": [
    "y_pred_rf = rscv_rf.best_estimator_.predict_proba(X_test)\n",
    "log_loss(y_test, y_pred_rf, eps=1e-15, normalize=True, sample_weight=None, labels=None)"
   ]
  },
  {
   "cell_type": "markdown",
   "metadata": {},
   "source": [
    "The scoring metric is slightly improved. "
   ]
  },
  {
   "cell_type": "markdown",
   "metadata": {},
   "source": [
    "## Gradient Boosting Methods"
   ]
  },
  {
   "cell_type": "markdown",
   "metadata": {},
   "source": [
    "[Read](https://machinelearningmastery.com/gradient-boosting-with-scikit-learn-xgboost-lightgbm-and-catboost/) on methods' differences."
   ]
  },
  {
   "cell_type": "markdown",
   "metadata": {},
   "source": [
    "### Extreme Gradient Boosting"
   ]
  },
  {
   "cell_type": "code",
   "execution_count": 19,
   "metadata": {},
   "outputs": [],
   "source": [
    "clf_xgb = XGBClassifier()\n",
    "pipe_xgb = Pipeline([('preprocessor', preprocessor), ('classifier',  clf_xgb)])"
   ]
  },
  {
   "cell_type": "code",
   "execution_count": 20,
   "metadata": {},
   "outputs": [],
   "source": [
    "# Hyperparameters can be accessed with a double underscore\n",
    "param_grid_XGB = {\n",
    "        'preprocessor__target_encoder__sigma': [0.01, 0.02, 0.03, 0.04, 0.05, 0.06],\n",
    "        'classifier__n_estimators': [100, 200, 300, 1000],\n",
    "        'classifier__learning_rate' : [0.01, 0.02, 0.03],\n",
    "        'classifier__max_depth' : [3, 4, 5],\n",
    "#         'classifier__objective' : 'binary:logistic',\n",
    "#         'classifier__silent' : True,\n",
    "#         'classifier__gamma' : 0.3,\n",
    "#         'classifier__subsample' : 0.7,\n",
    "#         'classifier__reg_alpha' : 0.05\n",
    "}\n",
    "\n",
    "rscv_xgb = RandomizedSearchCV(pipe_xgb,\n",
    "                          cv=5,\n",
    "                          n_iter=5,\n",
    "                          n_jobs=10,\n",
    "                          param_distributions = param_grid_XGB,\n",
    "                          scoring='neg_log_loss',\n",
    "                          random_state=1)"
   ]
  },
  {
   "cell_type": "code",
   "execution_count": 39,
   "metadata": {
    "collapsed": true
   },
   "outputs": [
    {
     "name": "stderr",
     "output_type": "stream",
     "text": [
      "/home/isabel/anaconda3/envs/DD_Pover-T_Tests/lib/python3.8/site-packages/xgboost/sklearn.py:888: UserWarning: The use of label encoder in XGBClassifier is deprecated and will be removed in a future release. To remove this warning, do the following: 1) Pass option use_label_encoder=False when constructing XGBClassifier object; and 2) Encode your labels (y) as integers starting with 0, i.e. 0, 1, 2, ..., [num_class - 1].\n",
      "  warnings.warn(label_encoder_deprecation_msg, UserWarning)\n"
     ]
    },
    {
     "name": "stdout",
     "output_type": "stream",
     "text": [
      "[18:39:10] WARNING: /home/conda/feedstock_root/build_artifacts/xgboost_1607604574104/work/src/learner.cc:1061: Starting in XGBoost 1.3.0, the default evaluation metric used with the objective 'binary:logistic' was changed from 'error' to 'logloss'. Explicitly set eval_metric if you'd like to restore the old behavior.\n"
     ]
    },
    {
     "data": {
      "text/plain": [
       "RandomizedSearchCV(cv=5,\n",
       "                   estimator=Pipeline(steps=[('preprocessor',\n",
       "                                              ColumnTransformer(transformers=[('num',\n",
       "                                                                               Pipeline(steps=[('imputer',\n",
       "                                                                                                SimpleImputer(strategy='median')),\n",
       "                                                                                               ('scaler',\n",
       "                                                                                                PowerTransformer())]),\n",
       "                                                                               Index(['omtioxzz', 'yfmzwkru', 'tiwrsloh', 'weioazcf'], dtype='object')),\n",
       "                                                                              ('ordinal_encoder',\n",
       "                                                                               OrdinalEncoder(),\n",
       "                                                                               ['kjkrfgld',\n",
       "                                                                                'bpowgknt',\n",
       "                                                                                'raksnhjf']),\n",
       "                                                                              ('target_en...\n",
       "                                                            scale_pos_weight=None,\n",
       "                                                            subsample=None,\n",
       "                                                            tree_method=None,\n",
       "                                                            validate_parameters=None,\n",
       "                                                            verbosity=None))]),\n",
       "                   n_iter=5, n_jobs=10,\n",
       "                   param_distributions={'classifier__learning_rate': [0.01,\n",
       "                                                                      0.02,\n",
       "                                                                      0.03],\n",
       "                                        'classifier__max_depth': [3, 4, 5],\n",
       "                                        'classifier__n_estimators': [100, 200,\n",
       "                                                                     300,\n",
       "                                                                     1000],\n",
       "                                        'preprocessor__target_encoder__sigma': [0.01,\n",
       "                                                                                0.02,\n",
       "                                                                                0.03,\n",
       "                                                                                0.04,\n",
       "                                                                                0.05,\n",
       "                                                                                0.06]},\n",
       "                   random_state=1, scoring='neg_log_loss')"
      ]
     },
     "execution_count": 39,
     "metadata": {},
     "output_type": "execute_result"
    }
   ],
   "source": [
    "xgb_fit = rscv_xgb.fit(X_train, y_train)\n",
    "xgb_fit"
   ]
  },
  {
   "cell_type": "code",
   "execution_count": 22,
   "metadata": {},
   "outputs": [
    {
     "data": {
      "text/plain": [
       "{'preprocessor__target_encoder__sigma': 0.03,\n",
       " 'classifier__n_estimators': 300,\n",
       " 'classifier__max_depth': 5,\n",
       " 'classifier__learning_rate': 0.01}"
      ]
     },
     "execution_count": 22,
     "metadata": {},
     "output_type": "execute_result"
    }
   ],
   "source": [
    "rscv_xgb.best_params_"
   ]
  },
  {
   "cell_type": "code",
   "execution_count": 23,
   "metadata": {},
   "outputs": [
    {
     "data": {
      "text/plain": [
       "-0.4998994450134585"
      ]
     },
     "execution_count": 23,
     "metadata": {},
     "output_type": "execute_result"
    }
   ],
   "source": [
    "rscv_xgb.best_score_"
   ]
  },
  {
   "cell_type": "code",
   "execution_count": 24,
   "metadata": {},
   "outputs": [
    {
     "data": {
      "text/plain": [
       "0.501031834830795"
      ]
     },
     "execution_count": 24,
     "metadata": {},
     "output_type": "execute_result"
    }
   ],
   "source": [
    "y_pred_xgb = rscv_xgb.best_estimator_.predict_proba(X_test)\n",
    "log_loss(y_test, y_pred_xgb, eps=1e-15, normalize=True, sample_weight=None, labels=None)"
   ]
  },
  {
   "cell_type": "markdown",
   "metadata": {},
   "source": [
    "### Light Gradient Boosting"
   ]
  },
  {
   "cell_type": "markdown",
   "metadata": {},
   "source": [
    "[Hyperparameter tunning](https://lightgbm.readthedocs.io/en/latest/Parameters-Tuning.html)"
   ]
  },
  {
   "cell_type": "code",
   "execution_count": 25,
   "metadata": {},
   "outputs": [],
   "source": [
    "clf_lgb = LGBMClassifier()\n",
    "pipe_lgb = Pipeline([('preprocessor', preprocessor), ('classifier',  clf_lgb)])"
   ]
  },
  {
   "cell_type": "code",
   "execution_count": 26,
   "metadata": {},
   "outputs": [],
   "source": [
    "# Hyperparameters can be accessed with a double underscore\n",
    "param_grid_LGB = {\n",
    "        'preprocessor__target_encoder__sigma': [0.01, 0.02, 0.03, 0.04, 0.05, 0.06],\n",
    "        'classifier__n_estimators': [100, 200, 300, 1000],\n",
    "        'classifier__learning_rate' : [0.01, 0.02, 0.03],\n",
    "        'classifier__max_depth' : [6, 7, 8],\n",
    "        'classifier__l2_leaf_reg' : [3, 4, 5],\n",
    "#         'classifier__loss_function' : 'Logloss',\n",
    "#         'classifier__silent' : True,\n",
    "#         'classifier__boosting_type' : 'gbdt',\n",
    "#         'classifier__objective' : 'binary',\n",
    "#         'classifier__gamma' : 0.3,\n",
    "#         'classifier__subsample' : 0.6,\n",
    "#         'classifier__reg_alpha' : 0.02,\n",
    "#         'classifier__is_unbalance' : True,\n",
    "#         'classifier__reg_lambda' : 0.01,\n",
    "}\n",
    "\n",
    "rscv_lgb = RandomizedSearchCV(pipe_lgb,\n",
    "                          cv=5,\n",
    "                          n_iter=5,\n",
    "                          n_jobs=10,\n",
    "                          param_distributions = param_grid_LGB,\n",
    "                          scoring='neg_log_loss',\n",
    "                          random_state=1)"
   ]
  },
  {
   "cell_type": "code",
   "execution_count": 41,
   "metadata": {
    "collapsed": true
   },
   "outputs": [
    {
     "data": {
      "text/plain": [
       "RandomizedSearchCV(cv=5,\n",
       "                   estimator=Pipeline(steps=[('preprocessor',\n",
       "                                              ColumnTransformer(transformers=[('num',\n",
       "                                                                               Pipeline(steps=[('imputer',\n",
       "                                                                                                SimpleImputer(strategy='median')),\n",
       "                                                                                               ('scaler',\n",
       "                                                                                                PowerTransformer())]),\n",
       "                                                                               Index(['omtioxzz', 'yfmzwkru', 'tiwrsloh', 'weioazcf'], dtype='object')),\n",
       "                                                                              ('ordinal_encoder',\n",
       "                                                                               OrdinalEncoder(),\n",
       "                                                                               ['kjkrfgld',\n",
       "                                                                                'bpowgknt',\n",
       "                                                                                'raksnhjf']),\n",
       "                                                                              ('target_en...\n",
       "                                                                               ['vwpsxrgk'])])),\n",
       "                                             ('classifier', LGBMClassifier())]),\n",
       "                   n_iter=5, n_jobs=10,\n",
       "                   param_distributions={'classifier__l2_leaf_reg': [3, 4, 5],\n",
       "                                        'classifier__learning_rate': [0.01,\n",
       "                                                                      0.02,\n",
       "                                                                      0.03],\n",
       "                                        'classifier__max_depth': [6, 7, 8],\n",
       "                                        'classifier__n_estimators': [100, 200,\n",
       "                                                                     300,\n",
       "                                                                     1000],\n",
       "                                        'preprocessor__target_encoder__sigma': [0.01,\n",
       "                                                                                0.02,\n",
       "                                                                                0.03,\n",
       "                                                                                0.04,\n",
       "                                                                                0.05,\n",
       "                                                                                0.06]},\n",
       "                   random_state=1, scoring='neg_log_loss')"
      ]
     },
     "execution_count": 41,
     "metadata": {},
     "output_type": "execute_result"
    }
   ],
   "source": [
    "lgb_fit = rscv_lgb.fit(X_train, y_train)\n",
    "lgb_fit"
   ]
  },
  {
   "cell_type": "code",
   "execution_count": 28,
   "metadata": {},
   "outputs": [
    {
     "data": {
      "text/plain": [
       "{'preprocessor__target_encoder__sigma': 0.02,\n",
       " 'classifier__n_estimators': 300,\n",
       " 'classifier__max_depth': 7,\n",
       " 'classifier__learning_rate': 0.01,\n",
       " 'classifier__l2_leaf_reg': 3}"
      ]
     },
     "execution_count": 28,
     "metadata": {},
     "output_type": "execute_result"
    }
   ],
   "source": [
    "rscv_lgb.best_params_"
   ]
  },
  {
   "cell_type": "code",
   "execution_count": 29,
   "metadata": {},
   "outputs": [
    {
     "data": {
      "text/plain": [
       "-0.49621701720734324"
      ]
     },
     "execution_count": 29,
     "metadata": {},
     "output_type": "execute_result"
    }
   ],
   "source": [
    "rscv_lgb.best_score_"
   ]
  },
  {
   "cell_type": "code",
   "execution_count": 30,
   "metadata": {},
   "outputs": [
    {
     "data": {
      "text/plain": [
       "0.4975177479683505"
      ]
     },
     "execution_count": 30,
     "metadata": {},
     "output_type": "execute_result"
    }
   ],
   "source": [
    "y_pred_lgb = rscv_lgb.best_estimator_.predict_proba(X_test)\n",
    "log_loss(y_test, y_pred_lgb, eps=1e-15, normalize=True, sample_weight=None, labels=None)"
   ]
  },
  {
   "cell_type": "markdown",
   "metadata": {},
   "source": [
    "### CatBoost"
   ]
  },
  {
   "cell_type": "code",
   "execution_count": 82,
   "metadata": {},
   "outputs": [],
   "source": [
    "clf_cb = CatBoostClassifier()\n",
    "pipe_cb = Pipeline([('preprocessor', preprocessor), ('classifier',  clf_cb)])"
   ]
  },
  {
   "cell_type": "markdown",
   "metadata": {},
   "source": [
    "Hyperparameters tunning [Documentation](https://catboost.ai/docs/concepts/python-reference_parameters-list.html)"
   ]
  },
  {
   "cell_type": "code",
   "execution_count": 83,
   "metadata": {},
   "outputs": [],
   "source": [
    "# Hyperparameters can be accessed with a double underscore\n",
    "param_grid_CB = {\n",
    "        'preprocessor__target_encoder__sigma': [0.01, 0.02, 0.03, 0.04, 0.05, 0.06],\n",
    "        'classifier__n_estimators': [100, 200, 300, 1000],\n",
    "        'classifier__learning_rate' : [0.01, 0.02, 0.03],\n",
    "        'classifier__depth' : [6, 7, 8],\n",
    "        'classifier__l2_leaf_reg' : [3, 4, 5],\n",
    "#         'classifier__loss_function' : 'Logloss',\n",
    "#         'classifier__logging_level' : 'Silent',\n",
    "}\n",
    "\n",
    "rscv_cb = RandomizedSearchCV(pipe_cb,\n",
    "                          cv=5,\n",
    "                          n_iter=5,\n",
    "                          n_jobs=10,\n",
    "                          param_distributions = param_grid_CB,\n",
    "                          scoring='neg_log_loss',\n",
    "                          random_state=1)"
   ]
  },
  {
   "cell_type": "code",
   "execution_count": 84,
   "metadata": {
    "collapsed": true
   },
   "outputs": [
    {
     "name": "stdout",
     "output_type": "stream",
     "text": [
      "0:\tlearn: 0.6892007\ttotal: 51.3ms\tremaining: 51.3s\n",
      "1:\tlearn: 0.6853934\ttotal: 54.8ms\tremaining: 27.4s\n",
      "2:\tlearn: 0.6817168\ttotal: 58.4ms\tremaining: 19.4s\n",
      "3:\tlearn: 0.6779054\ttotal: 62.2ms\tremaining: 15.5s\n",
      "4:\tlearn: 0.6740931\ttotal: 66ms\tremaining: 13.1s\n",
      "5:\tlearn: 0.6706973\ttotal: 69.9ms\tremaining: 11.6s\n",
      "6:\tlearn: 0.6672461\ttotal: 73.7ms\tremaining: 10.5s\n",
      "7:\tlearn: 0.6640022\ttotal: 77.5ms\tremaining: 9.61s\n",
      "8:\tlearn: 0.6609670\ttotal: 81.2ms\tremaining: 8.94s\n",
      "9:\tlearn: 0.6577688\ttotal: 84.9ms\tremaining: 8.41s\n",
      "10:\tlearn: 0.6545657\ttotal: 88.7ms\tremaining: 7.97s\n",
      "11:\tlearn: 0.6517130\ttotal: 92.4ms\tremaining: 7.61s\n",
      "12:\tlearn: 0.6487207\ttotal: 96.2ms\tremaining: 7.31s\n",
      "13:\tlearn: 0.6460399\ttotal: 100ms\tremaining: 7.04s\n",
      "14:\tlearn: 0.6431681\ttotal: 104ms\tremaining: 6.81s\n",
      "15:\tlearn: 0.6403284\ttotal: 108ms\tremaining: 6.62s\n",
      "16:\tlearn: 0.6380508\ttotal: 112ms\tremaining: 6.45s\n",
      "17:\tlearn: 0.6353578\ttotal: 115ms\tremaining: 6.29s\n",
      "18:\tlearn: 0.6330723\ttotal: 119ms\tremaining: 6.15s\n",
      "19:\tlearn: 0.6303828\ttotal: 123ms\tremaining: 6.02s\n",
      "20:\tlearn: 0.6280143\ttotal: 127ms\tremaining: 5.9s\n",
      "21:\tlearn: 0.6254773\ttotal: 130ms\tremaining: 5.79s\n",
      "22:\tlearn: 0.6227104\ttotal: 133ms\tremaining: 5.67s\n",
      "23:\tlearn: 0.6201358\ttotal: 136ms\tremaining: 5.55s\n",
      "24:\tlearn: 0.6178994\ttotal: 139ms\tremaining: 5.44s\n",
      "25:\tlearn: 0.6154893\ttotal: 142ms\tremaining: 5.33s\n",
      "26:\tlearn: 0.6131515\ttotal: 145ms\tremaining: 5.22s\n",
      "27:\tlearn: 0.6109636\ttotal: 148ms\tremaining: 5.12s\n",
      "28:\tlearn: 0.6087777\ttotal: 150ms\tremaining: 5.02s\n",
      "29:\tlearn: 0.6067878\ttotal: 152ms\tremaining: 4.92s\n",
      "30:\tlearn: 0.6047375\ttotal: 155ms\tremaining: 4.83s\n",
      "31:\tlearn: 0.6030243\ttotal: 157ms\tremaining: 4.75s\n",
      "32:\tlearn: 0.6011080\ttotal: 159ms\tremaining: 4.66s\n",
      "33:\tlearn: 0.5990205\ttotal: 161ms\tremaining: 4.58s\n",
      "34:\tlearn: 0.5969605\ttotal: 163ms\tremaining: 4.5s\n",
      "35:\tlearn: 0.5950896\ttotal: 165ms\tremaining: 4.43s\n",
      "36:\tlearn: 0.5934469\ttotal: 167ms\tremaining: 4.36s\n",
      "37:\tlearn: 0.5917959\ttotal: 169ms\tremaining: 4.29s\n",
      "38:\tlearn: 0.5898705\ttotal: 171ms\tremaining: 4.22s\n",
      "39:\tlearn: 0.5882884\ttotal: 173ms\tremaining: 4.16s\n",
      "40:\tlearn: 0.5867650\ttotal: 175ms\tremaining: 4.1s\n",
      "41:\tlearn: 0.5849616\ttotal: 177ms\tremaining: 4.04s\n",
      "42:\tlearn: 0.5833024\ttotal: 179ms\tremaining: 3.99s\n",
      "43:\tlearn: 0.5817016\ttotal: 181ms\tremaining: 3.94s\n",
      "44:\tlearn: 0.5804186\ttotal: 183ms\tremaining: 3.89s\n",
      "45:\tlearn: 0.5789349\ttotal: 186ms\tremaining: 3.85s\n",
      "46:\tlearn: 0.5772305\ttotal: 188ms\tremaining: 3.8s\n",
      "47:\tlearn: 0.5757418\ttotal: 190ms\tremaining: 3.76s\n",
      "48:\tlearn: 0.5743335\ttotal: 192ms\tremaining: 3.72s\n",
      "49:\tlearn: 0.5727401\ttotal: 194ms\tremaining: 3.68s\n",
      "50:\tlearn: 0.5712457\ttotal: 196ms\tremaining: 3.64s\n",
      "51:\tlearn: 0.5697375\ttotal: 198ms\tremaining: 3.6s\n",
      "52:\tlearn: 0.5682813\ttotal: 200ms\tremaining: 3.56s\n",
      "53:\tlearn: 0.5671519\ttotal: 202ms\tremaining: 3.53s\n",
      "54:\tlearn: 0.5658638\ttotal: 204ms\tremaining: 3.5s\n",
      "55:\tlearn: 0.5646123\ttotal: 206ms\tremaining: 3.47s\n",
      "56:\tlearn: 0.5633520\ttotal: 208ms\tremaining: 3.44s\n",
      "57:\tlearn: 0.5619512\ttotal: 210ms\tremaining: 3.41s\n",
      "58:\tlearn: 0.5606528\ttotal: 212ms\tremaining: 3.38s\n",
      "59:\tlearn: 0.5597471\ttotal: 214ms\tremaining: 3.35s\n",
      "60:\tlearn: 0.5585345\ttotal: 216ms\tremaining: 3.32s\n",
      "61:\tlearn: 0.5573858\ttotal: 218ms\tremaining: 3.29s\n",
      "62:\tlearn: 0.5562451\ttotal: 220ms\tremaining: 3.27s\n",
      "63:\tlearn: 0.5549714\ttotal: 222ms\tremaining: 3.24s\n",
      "64:\tlearn: 0.5537158\ttotal: 224ms\tremaining: 3.22s\n",
      "65:\tlearn: 0.5526671\ttotal: 226ms\tremaining: 3.2s\n",
      "66:\tlearn: 0.5516520\ttotal: 228ms\tremaining: 3.17s\n",
      "67:\tlearn: 0.5506463\ttotal: 230ms\tremaining: 3.15s\n",
      "68:\tlearn: 0.5495033\ttotal: 232ms\tremaining: 3.13s\n",
      "69:\tlearn: 0.5484560\ttotal: 234ms\tremaining: 3.11s\n",
      "70:\tlearn: 0.5474041\ttotal: 236ms\tremaining: 3.09s\n",
      "71:\tlearn: 0.5463842\ttotal: 238ms\tremaining: 3.07s\n",
      "72:\tlearn: 0.5454411\ttotal: 240ms\tremaining: 3.05s\n",
      "73:\tlearn: 0.5443795\ttotal: 242ms\tremaining: 3.03s\n",
      "74:\tlearn: 0.5434307\ttotal: 244ms\tremaining: 3.01s\n",
      "75:\tlearn: 0.5424271\ttotal: 246ms\tremaining: 2.99s\n",
      "76:\tlearn: 0.5417150\ttotal: 248ms\tremaining: 2.98s\n",
      "77:\tlearn: 0.5408256\ttotal: 252ms\tremaining: 2.98s\n",
      "78:\tlearn: 0.5400056\ttotal: 256ms\tremaining: 2.98s\n",
      "79:\tlearn: 0.5391761\ttotal: 259ms\tremaining: 2.98s\n",
      "80:\tlearn: 0.5383006\ttotal: 263ms\tremaining: 2.98s\n",
      "81:\tlearn: 0.5373358\ttotal: 267ms\tremaining: 2.98s\n",
      "82:\tlearn: 0.5364449\ttotal: 270ms\tremaining: 2.98s\n",
      "83:\tlearn: 0.5356524\ttotal: 272ms\tremaining: 2.97s\n",
      "84:\tlearn: 0.5348731\ttotal: 275ms\tremaining: 2.96s\n",
      "85:\tlearn: 0.5339801\ttotal: 279ms\tremaining: 2.96s\n",
      "86:\tlearn: 0.5332958\ttotal: 281ms\tremaining: 2.95s\n",
      "87:\tlearn: 0.5324372\ttotal: 284ms\tremaining: 2.94s\n",
      "88:\tlearn: 0.5317756\ttotal: 286ms\tremaining: 2.93s\n",
      "89:\tlearn: 0.5308656\ttotal: 289ms\tremaining: 2.92s\n",
      "90:\tlearn: 0.5302161\ttotal: 291ms\tremaining: 2.9s\n",
      "91:\tlearn: 0.5295137\ttotal: 293ms\tremaining: 2.89s\n",
      "92:\tlearn: 0.5286888\ttotal: 295ms\tremaining: 2.88s\n",
      "93:\tlearn: 0.5278722\ttotal: 297ms\tremaining: 2.86s\n",
      "94:\tlearn: 0.5271188\ttotal: 299ms\tremaining: 2.85s\n",
      "95:\tlearn: 0.5264564\ttotal: 301ms\tremaining: 2.83s\n",
      "96:\tlearn: 0.5258442\ttotal: 303ms\tremaining: 2.82s\n",
      "97:\tlearn: 0.5251578\ttotal: 305ms\tremaining: 2.81s\n",
      "98:\tlearn: 0.5244764\ttotal: 307ms\tremaining: 2.79s\n",
      "99:\tlearn: 0.5239239\ttotal: 309ms\tremaining: 2.78s\n",
      "100:\tlearn: 0.5234613\ttotal: 311ms\tremaining: 2.77s\n",
      "101:\tlearn: 0.5227796\ttotal: 313ms\tremaining: 2.76s\n",
      "102:\tlearn: 0.5221734\ttotal: 315ms\tremaining: 2.74s\n",
      "103:\tlearn: 0.5215960\ttotal: 317ms\tremaining: 2.73s\n",
      "104:\tlearn: 0.5209330\ttotal: 319ms\tremaining: 2.72s\n",
      "105:\tlearn: 0.5203689\ttotal: 321ms\tremaining: 2.71s\n",
      "106:\tlearn: 0.5198521\ttotal: 323ms\tremaining: 2.7s\n",
      "107:\tlearn: 0.5192531\ttotal: 325ms\tremaining: 2.69s\n",
      "108:\tlearn: 0.5186799\ttotal: 328ms\tremaining: 2.68s\n",
      "109:\tlearn: 0.5180151\ttotal: 330ms\tremaining: 2.67s\n",
      "110:\tlearn: 0.5173652\ttotal: 332ms\tremaining: 2.65s\n",
      "111:\tlearn: 0.5167738\ttotal: 334ms\tremaining: 2.64s\n",
      "112:\tlearn: 0.5161798\ttotal: 336ms\tremaining: 2.63s\n",
      "113:\tlearn: 0.5156863\ttotal: 338ms\tremaining: 2.62s\n",
      "114:\tlearn: 0.5152095\ttotal: 340ms\tremaining: 2.62s\n",
      "115:\tlearn: 0.5146222\ttotal: 342ms\tremaining: 2.61s\n",
      "116:\tlearn: 0.5141305\ttotal: 344ms\tremaining: 2.6s\n",
      "117:\tlearn: 0.5135786\ttotal: 346ms\tremaining: 2.59s\n",
      "118:\tlearn: 0.5130620\ttotal: 348ms\tremaining: 2.58s\n",
      "119:\tlearn: 0.5125273\ttotal: 350ms\tremaining: 2.57s\n",
      "120:\tlearn: 0.5120872\ttotal: 353ms\tremaining: 2.56s\n",
      "121:\tlearn: 0.5115443\ttotal: 355ms\tremaining: 2.55s\n",
      "122:\tlearn: 0.5110506\ttotal: 357ms\tremaining: 2.54s\n",
      "123:\tlearn: 0.5106308\ttotal: 359ms\tremaining: 2.53s\n",
      "124:\tlearn: 0.5101725\ttotal: 361ms\tremaining: 2.52s\n",
      "125:\tlearn: 0.5097517\ttotal: 363ms\tremaining: 2.52s\n",
      "126:\tlearn: 0.5092373\ttotal: 365ms\tremaining: 2.51s\n",
      "127:\tlearn: 0.5088204\ttotal: 367ms\tremaining: 2.5s\n",
      "128:\tlearn: 0.5084707\ttotal: 369ms\tremaining: 2.49s\n",
      "129:\tlearn: 0.5080085\ttotal: 371ms\tremaining: 2.48s\n",
      "130:\tlearn: 0.5075614\ttotal: 373ms\tremaining: 2.48s\n",
      "131:\tlearn: 0.5071280\ttotal: 375ms\tremaining: 2.47s\n",
      "132:\tlearn: 0.5067621\ttotal: 377ms\tremaining: 2.46s\n",
      "133:\tlearn: 0.5063124\ttotal: 380ms\tremaining: 2.45s\n",
      "134:\tlearn: 0.5058051\ttotal: 382ms\tremaining: 2.44s\n",
      "135:\tlearn: 0.5053769\ttotal: 384ms\tremaining: 2.44s\n",
      "136:\tlearn: 0.5049675\ttotal: 386ms\tremaining: 2.43s\n",
      "137:\tlearn: 0.5045916\ttotal: 388ms\tremaining: 2.42s\n",
      "138:\tlearn: 0.5041574\ttotal: 390ms\tremaining: 2.42s\n",
      "139:\tlearn: 0.5037174\ttotal: 392ms\tremaining: 2.41s\n",
      "140:\tlearn: 0.5032563\ttotal: 394ms\tremaining: 2.4s\n",
      "141:\tlearn: 0.5028960\ttotal: 396ms\tremaining: 2.39s\n",
      "142:\tlearn: 0.5025549\ttotal: 398ms\tremaining: 2.39s\n",
      "143:\tlearn: 0.5021823\ttotal: 401ms\tremaining: 2.38s\n",
      "144:\tlearn: 0.5017324\ttotal: 403ms\tremaining: 2.38s\n",
      "145:\tlearn: 0.5013131\ttotal: 405ms\tremaining: 2.37s\n",
      "146:\tlearn: 0.5008822\ttotal: 407ms\tremaining: 2.36s\n",
      "147:\tlearn: 0.5005006\ttotal: 409ms\tremaining: 2.36s\n",
      "148:\tlearn: 0.5002451\ttotal: 411ms\tremaining: 2.35s\n",
      "149:\tlearn: 0.4999279\ttotal: 413ms\tremaining: 2.34s\n",
      "150:\tlearn: 0.4995212\ttotal: 416ms\tremaining: 2.34s\n",
      "151:\tlearn: 0.4991537\ttotal: 418ms\tremaining: 2.33s\n",
      "152:\tlearn: 0.4987435\ttotal: 420ms\tremaining: 2.33s\n",
      "153:\tlearn: 0.4983750\ttotal: 422ms\tremaining: 2.32s\n",
      "154:\tlearn: 0.4980409\ttotal: 424ms\tremaining: 2.31s\n",
      "155:\tlearn: 0.4976543\ttotal: 427ms\tremaining: 2.31s\n",
      "156:\tlearn: 0.4972965\ttotal: 429ms\tremaining: 2.3s\n",
      "157:\tlearn: 0.4968816\ttotal: 431ms\tremaining: 2.3s\n",
      "158:\tlearn: 0.4966566\ttotal: 433ms\tremaining: 2.29s\n",
      "159:\tlearn: 0.4962704\ttotal: 435ms\tremaining: 2.29s\n",
      "160:\tlearn: 0.4958912\ttotal: 438ms\tremaining: 2.28s\n",
      "161:\tlearn: 0.4955268\ttotal: 440ms\tremaining: 2.27s\n",
      "162:\tlearn: 0.4951481\ttotal: 442ms\tremaining: 2.27s\n"
     ]
    },
    {
     "name": "stdout",
     "output_type": "stream",
     "text": [
      "163:\tlearn: 0.4948033\ttotal: 444ms\tremaining: 2.26s\n",
      "164:\tlearn: 0.4945514\ttotal: 448ms\tremaining: 2.27s\n",
      "165:\tlearn: 0.4942144\ttotal: 452ms\tremaining: 2.27s\n",
      "166:\tlearn: 0.4938416\ttotal: 456ms\tremaining: 2.27s\n",
      "167:\tlearn: 0.4935913\ttotal: 459ms\tremaining: 2.27s\n",
      "168:\tlearn: 0.4933630\ttotal: 462ms\tremaining: 2.27s\n",
      "169:\tlearn: 0.4930612\ttotal: 466ms\tremaining: 2.27s\n",
      "170:\tlearn: 0.4927635\ttotal: 472ms\tremaining: 2.29s\n",
      "171:\tlearn: 0.4926291\ttotal: 477ms\tremaining: 2.3s\n",
      "172:\tlearn: 0.4922871\ttotal: 482ms\tremaining: 2.3s\n",
      "173:\tlearn: 0.4919869\ttotal: 486ms\tremaining: 2.31s\n",
      "174:\tlearn: 0.4916927\ttotal: 490ms\tremaining: 2.31s\n",
      "175:\tlearn: 0.4913705\ttotal: 495ms\tremaining: 2.32s\n",
      "176:\tlearn: 0.4910452\ttotal: 498ms\tremaining: 2.31s\n",
      "177:\tlearn: 0.4907353\ttotal: 500ms\tremaining: 2.31s\n",
      "178:\tlearn: 0.4904608\ttotal: 503ms\tremaining: 2.31s\n",
      "179:\tlearn: 0.4901722\ttotal: 505ms\tremaining: 2.3s\n",
      "180:\tlearn: 0.4898405\ttotal: 507ms\tremaining: 2.3s\n",
      "181:\tlearn: 0.4896557\ttotal: 510ms\tremaining: 2.29s\n",
      "182:\tlearn: 0.4894834\ttotal: 512ms\tremaining: 2.29s\n",
      "183:\tlearn: 0.4892572\ttotal: 515ms\tremaining: 2.28s\n",
      "184:\tlearn: 0.4890095\ttotal: 517ms\tremaining: 2.28s\n",
      "185:\tlearn: 0.4887608\ttotal: 520ms\tremaining: 2.27s\n",
      "186:\tlearn: 0.4884863\ttotal: 522ms\tremaining: 2.27s\n",
      "187:\tlearn: 0.4883171\ttotal: 525ms\tremaining: 2.27s\n",
      "188:\tlearn: 0.4880723\ttotal: 527ms\tremaining: 2.26s\n",
      "189:\tlearn: 0.4878436\ttotal: 529ms\tremaining: 2.26s\n",
      "190:\tlearn: 0.4875858\ttotal: 532ms\tremaining: 2.25s\n",
      "191:\tlearn: 0.4873493\ttotal: 534ms\tremaining: 2.25s\n",
      "192:\tlearn: 0.4870754\ttotal: 537ms\tremaining: 2.24s\n",
      "193:\tlearn: 0.4868075\ttotal: 539ms\tremaining: 2.24s\n",
      "194:\tlearn: 0.4865661\ttotal: 541ms\tremaining: 2.23s\n",
      "195:\tlearn: 0.4863273\ttotal: 544ms\tremaining: 2.23s\n",
      "196:\tlearn: 0.4860683\ttotal: 546ms\tremaining: 2.23s\n",
      "197:\tlearn: 0.4859274\ttotal: 548ms\tremaining: 2.22s\n",
      "198:\tlearn: 0.4856867\ttotal: 551ms\tremaining: 2.22s\n",
      "199:\tlearn: 0.4854119\ttotal: 553ms\tremaining: 2.21s\n",
      "200:\tlearn: 0.4852695\ttotal: 556ms\tremaining: 2.21s\n",
      "201:\tlearn: 0.4850493\ttotal: 559ms\tremaining: 2.21s\n",
      "202:\tlearn: 0.4847741\ttotal: 561ms\tremaining: 2.2s\n",
      "203:\tlearn: 0.4845036\ttotal: 563ms\tremaining: 2.2s\n",
      "204:\tlearn: 0.4842923\ttotal: 566ms\tremaining: 2.19s\n",
      "205:\tlearn: 0.4840536\ttotal: 568ms\tremaining: 2.19s\n",
      "206:\tlearn: 0.4838110\ttotal: 570ms\tremaining: 2.18s\n",
      "207:\tlearn: 0.4835247\ttotal: 572ms\tremaining: 2.18s\n",
      "208:\tlearn: 0.4832253\ttotal: 574ms\tremaining: 2.17s\n",
      "209:\tlearn: 0.4830196\ttotal: 576ms\tremaining: 2.17s\n",
      "210:\tlearn: 0.4828513\ttotal: 578ms\tremaining: 2.16s\n",
      "211:\tlearn: 0.4826775\ttotal: 580ms\tremaining: 2.16s\n",
      "212:\tlearn: 0.4824413\ttotal: 582ms\tremaining: 2.15s\n",
      "213:\tlearn: 0.4822328\ttotal: 584ms\tremaining: 2.15s\n",
      "214:\tlearn: 0.4820299\ttotal: 586ms\tremaining: 2.14s\n",
      "215:\tlearn: 0.4818459\ttotal: 588ms\tremaining: 2.13s\n",
      "216:\tlearn: 0.4815939\ttotal: 590ms\tremaining: 2.13s\n",
      "217:\tlearn: 0.4814003\ttotal: 593ms\tremaining: 2.13s\n",
      "218:\tlearn: 0.4811944\ttotal: 595ms\tremaining: 2.12s\n",
      "219:\tlearn: 0.4810238\ttotal: 597ms\tremaining: 2.12s\n",
      "220:\tlearn: 0.4807851\ttotal: 599ms\tremaining: 2.11s\n",
      "221:\tlearn: 0.4805160\ttotal: 601ms\tremaining: 2.1s\n",
      "222:\tlearn: 0.4802532\ttotal: 603ms\tremaining: 2.1s\n",
      "223:\tlearn: 0.4800964\ttotal: 605ms\tremaining: 2.1s\n",
      "224:\tlearn: 0.4799617\ttotal: 607ms\tremaining: 2.09s\n",
      "225:\tlearn: 0.4797884\ttotal: 609ms\tremaining: 2.09s\n",
      "226:\tlearn: 0.4796053\ttotal: 611ms\tremaining: 2.08s\n",
      "227:\tlearn: 0.4794694\ttotal: 613ms\tremaining: 2.08s\n",
      "228:\tlearn: 0.4792830\ttotal: 616ms\tremaining: 2.07s\n",
      "229:\tlearn: 0.4791332\ttotal: 618ms\tremaining: 2.07s\n",
      "230:\tlearn: 0.4789463\ttotal: 620ms\tremaining: 2.06s\n",
      "231:\tlearn: 0.4787490\ttotal: 622ms\tremaining: 2.06s\n",
      "232:\tlearn: 0.4785595\ttotal: 624ms\tremaining: 2.05s\n",
      "233:\tlearn: 0.4783361\ttotal: 626ms\tremaining: 2.05s\n",
      "234:\tlearn: 0.4781107\ttotal: 628ms\tremaining: 2.04s\n",
      "235:\tlearn: 0.4779048\ttotal: 631ms\tremaining: 2.04s\n",
      "236:\tlearn: 0.4777193\ttotal: 633ms\tremaining: 2.04s\n",
      "237:\tlearn: 0.4775271\ttotal: 635ms\tremaining: 2.03s\n",
      "238:\tlearn: 0.4772854\ttotal: 638ms\tremaining: 2.03s\n",
      "239:\tlearn: 0.4771180\ttotal: 640ms\tremaining: 2.03s\n",
      "240:\tlearn: 0.4768819\ttotal: 643ms\tremaining: 2.02s\n",
      "241:\tlearn: 0.4767118\ttotal: 645ms\tremaining: 2.02s\n",
      "242:\tlearn: 0.4765184\ttotal: 647ms\tremaining: 2.02s\n",
      "243:\tlearn: 0.4763938\ttotal: 650ms\tremaining: 2.01s\n",
      "244:\tlearn: 0.4762012\ttotal: 653ms\tremaining: 2.01s\n",
      "245:\tlearn: 0.4760737\ttotal: 656ms\tremaining: 2.01s\n",
      "246:\tlearn: 0.4759069\ttotal: 658ms\tremaining: 2s\n",
      "247:\tlearn: 0.4757721\ttotal: 660ms\tremaining: 2s\n",
      "248:\tlearn: 0.4755937\ttotal: 662ms\tremaining: 2s\n",
      "249:\tlearn: 0.4754409\ttotal: 664ms\tremaining: 1.99s\n",
      "250:\tlearn: 0.4752984\ttotal: 667ms\tremaining: 1.99s\n",
      "251:\tlearn: 0.4751474\ttotal: 669ms\tremaining: 1.98s\n",
      "252:\tlearn: 0.4750245\ttotal: 671ms\tremaining: 1.98s\n",
      "253:\tlearn: 0.4748999\ttotal: 673ms\tremaining: 1.98s\n",
      "254:\tlearn: 0.4747419\ttotal: 675ms\tremaining: 1.97s\n",
      "255:\tlearn: 0.4745775\ttotal: 677ms\tremaining: 1.97s\n",
      "256:\tlearn: 0.4743825\ttotal: 679ms\tremaining: 1.96s\n",
      "257:\tlearn: 0.4742336\ttotal: 681ms\tremaining: 1.96s\n",
      "258:\tlearn: 0.4741111\ttotal: 683ms\tremaining: 1.95s\n",
      "259:\tlearn: 0.4739533\ttotal: 685ms\tremaining: 1.95s\n",
      "260:\tlearn: 0.4737798\ttotal: 687ms\tremaining: 1.95s\n",
      "261:\tlearn: 0.4736241\ttotal: 689ms\tremaining: 1.94s\n",
      "262:\tlearn: 0.4734528\ttotal: 691ms\tremaining: 1.94s\n",
      "263:\tlearn: 0.4733059\ttotal: 693ms\tremaining: 1.93s\n",
      "264:\tlearn: 0.4731277\ttotal: 696ms\tremaining: 1.93s\n",
      "265:\tlearn: 0.4729723\ttotal: 698ms\tremaining: 1.93s\n",
      "266:\tlearn: 0.4728293\ttotal: 700ms\tremaining: 1.92s\n",
      "267:\tlearn: 0.4726432\ttotal: 702ms\tremaining: 1.92s\n",
      "268:\tlearn: 0.4725100\ttotal: 704ms\tremaining: 1.91s\n",
      "269:\tlearn: 0.4724043\ttotal: 707ms\tremaining: 1.91s\n",
      "270:\tlearn: 0.4722278\ttotal: 709ms\tremaining: 1.91s\n",
      "271:\tlearn: 0.4721142\ttotal: 711ms\tremaining: 1.9s\n",
      "272:\tlearn: 0.4719707\ttotal: 713ms\tremaining: 1.9s\n",
      "273:\tlearn: 0.4718075\ttotal: 715ms\tremaining: 1.89s\n",
      "274:\tlearn: 0.4716584\ttotal: 717ms\tremaining: 1.89s\n",
      "275:\tlearn: 0.4714701\ttotal: 719ms\tremaining: 1.89s\n",
      "276:\tlearn: 0.4713282\ttotal: 721ms\tremaining: 1.88s\n",
      "277:\tlearn: 0.4711983\ttotal: 723ms\tremaining: 1.88s\n",
      "278:\tlearn: 0.4710028\ttotal: 726ms\tremaining: 1.88s\n",
      "279:\tlearn: 0.4708467\ttotal: 728ms\tremaining: 1.87s\n",
      "280:\tlearn: 0.4705650\ttotal: 731ms\tremaining: 1.87s\n",
      "281:\tlearn: 0.4704196\ttotal: 733ms\tremaining: 1.86s\n",
      "282:\tlearn: 0.4702677\ttotal: 735ms\tremaining: 1.86s\n",
      "283:\tlearn: 0.4701056\ttotal: 737ms\tremaining: 1.86s\n",
      "284:\tlearn: 0.4699948\ttotal: 739ms\tremaining: 1.85s\n",
      "285:\tlearn: 0.4698864\ttotal: 742ms\tremaining: 1.85s\n",
      "286:\tlearn: 0.4697961\ttotal: 744ms\tremaining: 1.85s\n",
      "287:\tlearn: 0.4696169\ttotal: 746ms\tremaining: 1.84s\n",
      "288:\tlearn: 0.4694706\ttotal: 748ms\tremaining: 1.84s\n",
      "289:\tlearn: 0.4693535\ttotal: 750ms\tremaining: 1.84s\n",
      "290:\tlearn: 0.4692158\ttotal: 753ms\tremaining: 1.83s\n",
      "291:\tlearn: 0.4690560\ttotal: 755ms\tremaining: 1.83s\n",
      "292:\tlearn: 0.4689178\ttotal: 758ms\tremaining: 1.83s\n",
      "293:\tlearn: 0.4688187\ttotal: 760ms\tremaining: 1.82s\n",
      "294:\tlearn: 0.4686875\ttotal: 762ms\tremaining: 1.82s\n",
      "295:\tlearn: 0.4684928\ttotal: 764ms\tremaining: 1.82s\n",
      "296:\tlearn: 0.4684393\ttotal: 766ms\tremaining: 1.81s\n",
      "297:\tlearn: 0.4681945\ttotal: 768ms\tremaining: 1.81s\n",
      "298:\tlearn: 0.4681148\ttotal: 771ms\tremaining: 1.81s\n",
      "299:\tlearn: 0.4679402\ttotal: 773ms\tremaining: 1.8s\n",
      "300:\tlearn: 0.4677857\ttotal: 775ms\tremaining: 1.8s\n",
      "301:\tlearn: 0.4677204\ttotal: 777ms\tremaining: 1.8s\n",
      "302:\tlearn: 0.4675940\ttotal: 780ms\tremaining: 1.79s\n",
      "303:\tlearn: 0.4674401\ttotal: 782ms\tremaining: 1.79s\n",
      "304:\tlearn: 0.4673494\ttotal: 784ms\tremaining: 1.78s\n",
      "305:\tlearn: 0.4672588\ttotal: 786ms\tremaining: 1.78s\n",
      "306:\tlearn: 0.4671895\ttotal: 788ms\tremaining: 1.78s\n",
      "307:\tlearn: 0.4670281\ttotal: 790ms\tremaining: 1.77s\n",
      "308:\tlearn: 0.4669060\ttotal: 792ms\tremaining: 1.77s\n",
      "309:\tlearn: 0.4668298\ttotal: 795ms\tremaining: 1.77s\n",
      "310:\tlearn: 0.4666916\ttotal: 797ms\tremaining: 1.76s\n",
      "311:\tlearn: 0.4665725\ttotal: 799ms\tremaining: 1.76s\n",
      "312:\tlearn: 0.4664169\ttotal: 801ms\tremaining: 1.76s\n",
      "313:\tlearn: 0.4662919\ttotal: 803ms\tremaining: 1.75s\n",
      "314:\tlearn: 0.4662059\ttotal: 805ms\tremaining: 1.75s\n",
      "315:\tlearn: 0.4660596\ttotal: 807ms\tremaining: 1.75s\n",
      "316:\tlearn: 0.4658871\ttotal: 809ms\tremaining: 1.74s\n",
      "317:\tlearn: 0.4657079\ttotal: 812ms\tremaining: 1.74s\n",
      "318:\tlearn: 0.4655828\ttotal: 814ms\tremaining: 1.74s\n",
      "319:\tlearn: 0.4654545\ttotal: 816ms\tremaining: 1.73s\n",
      "320:\tlearn: 0.4652735\ttotal: 818ms\tremaining: 1.73s\n",
      "321:\tlearn: 0.4651044\ttotal: 820ms\tremaining: 1.73s\n",
      "322:\tlearn: 0.4650101\ttotal: 823ms\tremaining: 1.72s\n",
      "323:\tlearn: 0.4648931\ttotal: 825ms\tremaining: 1.72s\n",
      "324:\tlearn: 0.4647230\ttotal: 827ms\tremaining: 1.72s\n",
      "325:\tlearn: 0.4646226\ttotal: 829ms\tremaining: 1.71s\n",
      "326:\tlearn: 0.4644877\ttotal: 831ms\tremaining: 1.71s\n",
      "327:\tlearn: 0.4643561\ttotal: 833ms\tremaining: 1.71s\n",
      "328:\tlearn: 0.4642199\ttotal: 836ms\tremaining: 1.7s\n",
      "329:\tlearn: 0.4641105\ttotal: 838ms\tremaining: 1.7s\n",
      "330:\tlearn: 0.4639657\ttotal: 840ms\tremaining: 1.7s\n"
     ]
    },
    {
     "name": "stdout",
     "output_type": "stream",
     "text": [
      "331:\tlearn: 0.4638808\ttotal: 844ms\tremaining: 1.7s\n",
      "332:\tlearn: 0.4637303\ttotal: 847ms\tremaining: 1.7s\n",
      "333:\tlearn: 0.4636391\ttotal: 851ms\tremaining: 1.7s\n",
      "334:\tlearn: 0.4635283\ttotal: 855ms\tremaining: 1.7s\n",
      "335:\tlearn: 0.4633866\ttotal: 858ms\tremaining: 1.7s\n",
      "336:\tlearn: 0.4632945\ttotal: 860ms\tremaining: 1.69s\n",
      "337:\tlearn: 0.4631435\ttotal: 863ms\tremaining: 1.69s\n",
      "338:\tlearn: 0.4629998\ttotal: 865ms\tremaining: 1.69s\n",
      "339:\tlearn: 0.4628810\ttotal: 867ms\tremaining: 1.68s\n",
      "340:\tlearn: 0.4627076\ttotal: 869ms\tremaining: 1.68s\n",
      "341:\tlearn: 0.4625827\ttotal: 871ms\tremaining: 1.68s\n",
      "342:\tlearn: 0.4623998\ttotal: 873ms\tremaining: 1.67s\n",
      "343:\tlearn: 0.4622659\ttotal: 876ms\tremaining: 1.67s\n",
      "344:\tlearn: 0.4621320\ttotal: 878ms\tremaining: 1.67s\n",
      "345:\tlearn: 0.4620076\ttotal: 880ms\tremaining: 1.66s\n",
      "346:\tlearn: 0.4618924\ttotal: 882ms\tremaining: 1.66s\n",
      "347:\tlearn: 0.4617734\ttotal: 884ms\tremaining: 1.66s\n",
      "348:\tlearn: 0.4616504\ttotal: 886ms\tremaining: 1.65s\n",
      "349:\tlearn: 0.4615395\ttotal: 888ms\tremaining: 1.65s\n",
      "350:\tlearn: 0.4614347\ttotal: 890ms\tremaining: 1.65s\n",
      "351:\tlearn: 0.4612606\ttotal: 892ms\tremaining: 1.64s\n",
      "352:\tlearn: 0.4611466\ttotal: 894ms\tremaining: 1.64s\n",
      "353:\tlearn: 0.4610367\ttotal: 896ms\tremaining: 1.64s\n",
      "354:\tlearn: 0.4609496\ttotal: 898ms\tremaining: 1.63s\n",
      "355:\tlearn: 0.4608431\ttotal: 900ms\tremaining: 1.63s\n",
      "356:\tlearn: 0.4607282\ttotal: 902ms\tremaining: 1.62s\n",
      "357:\tlearn: 0.4605750\ttotal: 904ms\tremaining: 1.62s\n",
      "358:\tlearn: 0.4604712\ttotal: 906ms\tremaining: 1.62s\n",
      "359:\tlearn: 0.4603167\ttotal: 908ms\tremaining: 1.61s\n",
      "360:\tlearn: 0.4602431\ttotal: 910ms\tremaining: 1.61s\n",
      "361:\tlearn: 0.4601751\ttotal: 912ms\tremaining: 1.61s\n",
      "362:\tlearn: 0.4600677\ttotal: 914ms\tremaining: 1.6s\n",
      "363:\tlearn: 0.4599665\ttotal: 916ms\tremaining: 1.6s\n",
      "364:\tlearn: 0.4598232\ttotal: 918ms\tremaining: 1.6s\n",
      "365:\tlearn: 0.4596826\ttotal: 921ms\tremaining: 1.59s\n",
      "366:\tlearn: 0.4595374\ttotal: 923ms\tremaining: 1.59s\n",
      "367:\tlearn: 0.4594353\ttotal: 925ms\tremaining: 1.59s\n",
      "368:\tlearn: 0.4592590\ttotal: 927ms\tremaining: 1.58s\n",
      "369:\tlearn: 0.4591330\ttotal: 929ms\tremaining: 1.58s\n",
      "370:\tlearn: 0.4589943\ttotal: 931ms\tremaining: 1.58s\n",
      "371:\tlearn: 0.4588732\ttotal: 933ms\tremaining: 1.57s\n",
      "372:\tlearn: 0.4587435\ttotal: 935ms\tremaining: 1.57s\n",
      "373:\tlearn: 0.4586511\ttotal: 937ms\tremaining: 1.57s\n",
      "374:\tlearn: 0.4585442\ttotal: 939ms\tremaining: 1.56s\n",
      "375:\tlearn: 0.4584473\ttotal: 941ms\tremaining: 1.56s\n",
      "376:\tlearn: 0.4583526\ttotal: 944ms\tremaining: 1.56s\n",
      "377:\tlearn: 0.4582523\ttotal: 946ms\tremaining: 1.56s\n",
      "378:\tlearn: 0.4581205\ttotal: 948ms\tremaining: 1.55s\n",
      "379:\tlearn: 0.4580125\ttotal: 950ms\tremaining: 1.55s\n",
      "380:\tlearn: 0.4578579\ttotal: 952ms\tremaining: 1.55s\n",
      "381:\tlearn: 0.4578419\ttotal: 954ms\tremaining: 1.54s\n",
      "382:\tlearn: 0.4577011\ttotal: 956ms\tremaining: 1.54s\n",
      "383:\tlearn: 0.4575810\ttotal: 958ms\tremaining: 1.54s\n",
      "384:\tlearn: 0.4574280\ttotal: 961ms\tremaining: 1.53s\n",
      "385:\tlearn: 0.4573247\ttotal: 963ms\tremaining: 1.53s\n",
      "386:\tlearn: 0.4572112\ttotal: 965ms\tremaining: 1.53s\n",
      "387:\tlearn: 0.4570647\ttotal: 967ms\tremaining: 1.52s\n",
      "388:\tlearn: 0.4569216\ttotal: 969ms\tremaining: 1.52s\n",
      "389:\tlearn: 0.4567674\ttotal: 971ms\tremaining: 1.52s\n",
      "390:\tlearn: 0.4566609\ttotal: 973ms\tremaining: 1.51s\n",
      "391:\tlearn: 0.4565498\ttotal: 975ms\tremaining: 1.51s\n",
      "392:\tlearn: 0.4563686\ttotal: 977ms\tremaining: 1.51s\n",
      "393:\tlearn: 0.4562783\ttotal: 979ms\tremaining: 1.51s\n",
      "394:\tlearn: 0.4561309\ttotal: 981ms\tremaining: 1.5s\n",
      "395:\tlearn: 0.4560662\ttotal: 984ms\tremaining: 1.5s\n",
      "396:\tlearn: 0.4559710\ttotal: 986ms\tremaining: 1.5s\n",
      "397:\tlearn: 0.4557937\ttotal: 988ms\tremaining: 1.49s\n",
      "398:\tlearn: 0.4556887\ttotal: 990ms\tremaining: 1.49s\n",
      "399:\tlearn: 0.4555737\ttotal: 992ms\tremaining: 1.49s\n",
      "400:\tlearn: 0.4554408\ttotal: 994ms\tremaining: 1.48s\n",
      "401:\tlearn: 0.4553261\ttotal: 996ms\tremaining: 1.48s\n",
      "402:\tlearn: 0.4552572\ttotal: 998ms\tremaining: 1.48s\n",
      "403:\tlearn: 0.4551415\ttotal: 1s\tremaining: 1.48s\n",
      "404:\tlearn: 0.4550496\ttotal: 1s\tremaining: 1.47s\n",
      "405:\tlearn: 0.4549266\ttotal: 1s\tremaining: 1.47s\n",
      "406:\tlearn: 0.4547961\ttotal: 1.01s\tremaining: 1.47s\n",
      "407:\tlearn: 0.4546766\ttotal: 1.01s\tremaining: 1.46s\n",
      "408:\tlearn: 0.4545648\ttotal: 1.01s\tremaining: 1.46s\n",
      "409:\tlearn: 0.4544873\ttotal: 1.01s\tremaining: 1.46s\n",
      "410:\tlearn: 0.4543969\ttotal: 1.01s\tremaining: 1.45s\n",
      "411:\tlearn: 0.4543052\ttotal: 1.02s\tremaining: 1.45s\n",
      "412:\tlearn: 0.4542045\ttotal: 1.02s\tremaining: 1.45s\n",
      "413:\tlearn: 0.4541194\ttotal: 1.02s\tremaining: 1.45s\n",
      "414:\tlearn: 0.4539890\ttotal: 1.02s\tremaining: 1.44s\n",
      "415:\tlearn: 0.4538513\ttotal: 1.03s\tremaining: 1.44s\n",
      "416:\tlearn: 0.4537561\ttotal: 1.03s\tremaining: 1.44s\n",
      "417:\tlearn: 0.4536631\ttotal: 1.03s\tremaining: 1.43s\n",
      "418:\tlearn: 0.4536022\ttotal: 1.03s\tremaining: 1.43s\n",
      "419:\tlearn: 0.4534897\ttotal: 1.03s\tremaining: 1.43s\n",
      "420:\tlearn: 0.4534291\ttotal: 1.04s\tremaining: 1.43s\n",
      "421:\tlearn: 0.4533333\ttotal: 1.04s\tremaining: 1.42s\n",
      "422:\tlearn: 0.4532459\ttotal: 1.04s\tremaining: 1.42s\n",
      "423:\tlearn: 0.4531507\ttotal: 1.04s\tremaining: 1.42s\n",
      "424:\tlearn: 0.4530521\ttotal: 1.05s\tremaining: 1.42s\n",
      "425:\tlearn: 0.4529758\ttotal: 1.05s\tremaining: 1.42s\n",
      "426:\tlearn: 0.4528781\ttotal: 1.05s\tremaining: 1.42s\n",
      "427:\tlearn: 0.4528226\ttotal: 1.06s\tremaining: 1.41s\n",
      "428:\tlearn: 0.4527221\ttotal: 1.06s\tremaining: 1.41s\n",
      "429:\tlearn: 0.4526665\ttotal: 1.06s\tremaining: 1.41s\n",
      "430:\tlearn: 0.4525651\ttotal: 1.06s\tremaining: 1.41s\n",
      "431:\tlearn: 0.4524752\ttotal: 1.07s\tremaining: 1.4s\n",
      "432:\tlearn: 0.4523629\ttotal: 1.07s\tremaining: 1.4s\n",
      "433:\tlearn: 0.4522459\ttotal: 1.07s\tremaining: 1.4s\n",
      "434:\tlearn: 0.4521833\ttotal: 1.07s\tremaining: 1.39s\n",
      "435:\tlearn: 0.4521019\ttotal: 1.07s\tremaining: 1.39s\n",
      "436:\tlearn: 0.4520092\ttotal: 1.08s\tremaining: 1.39s\n",
      "437:\tlearn: 0.4519811\ttotal: 1.08s\tremaining: 1.39s\n",
      "438:\tlearn: 0.4518537\ttotal: 1.08s\tremaining: 1.38s\n",
      "439:\tlearn: 0.4517433\ttotal: 1.08s\tremaining: 1.38s\n",
      "440:\tlearn: 0.4516632\ttotal: 1.09s\tremaining: 1.38s\n",
      "441:\tlearn: 0.4515819\ttotal: 1.09s\tremaining: 1.37s\n",
      "442:\tlearn: 0.4515413\ttotal: 1.09s\tremaining: 1.37s\n",
      "443:\tlearn: 0.4514504\ttotal: 1.09s\tremaining: 1.37s\n",
      "444:\tlearn: 0.4513647\ttotal: 1.09s\tremaining: 1.36s\n",
      "445:\tlearn: 0.4512683\ttotal: 1.09s\tremaining: 1.36s\n",
      "446:\tlearn: 0.4511674\ttotal: 1.1s\tremaining: 1.36s\n",
      "447:\tlearn: 0.4510493\ttotal: 1.1s\tremaining: 1.35s\n",
      "448:\tlearn: 0.4509063\ttotal: 1.1s\tremaining: 1.35s\n",
      "449:\tlearn: 0.4508205\ttotal: 1.1s\tremaining: 1.35s\n",
      "450:\tlearn: 0.4507186\ttotal: 1.1s\tremaining: 1.34s\n",
      "451:\tlearn: 0.4505955\ttotal: 1.11s\tremaining: 1.34s\n",
      "452:\tlearn: 0.4505087\ttotal: 1.11s\tremaining: 1.34s\n",
      "453:\tlearn: 0.4504240\ttotal: 1.11s\tremaining: 1.34s\n",
      "454:\tlearn: 0.4503180\ttotal: 1.11s\tremaining: 1.33s\n",
      "455:\tlearn: 0.4501958\ttotal: 1.11s\tremaining: 1.33s\n",
      "456:\tlearn: 0.4500941\ttotal: 1.12s\tremaining: 1.33s\n",
      "457:\tlearn: 0.4499900\ttotal: 1.12s\tremaining: 1.32s\n",
      "458:\tlearn: 0.4498932\ttotal: 1.12s\tremaining: 1.32s\n",
      "459:\tlearn: 0.4498478\ttotal: 1.12s\tremaining: 1.32s\n",
      "460:\tlearn: 0.4497520\ttotal: 1.13s\tremaining: 1.32s\n",
      "461:\tlearn: 0.4496789\ttotal: 1.13s\tremaining: 1.31s\n",
      "462:\tlearn: 0.4496357\ttotal: 1.13s\tremaining: 1.31s\n",
      "463:\tlearn: 0.4495216\ttotal: 1.13s\tremaining: 1.31s\n",
      "464:\tlearn: 0.4493816\ttotal: 1.14s\tremaining: 1.31s\n",
      "465:\tlearn: 0.4492864\ttotal: 1.14s\tremaining: 1.3s\n",
      "466:\tlearn: 0.4491918\ttotal: 1.14s\tremaining: 1.3s\n",
      "467:\tlearn: 0.4490868\ttotal: 1.14s\tremaining: 1.3s\n",
      "468:\tlearn: 0.4490251\ttotal: 1.14s\tremaining: 1.29s\n",
      "469:\tlearn: 0.4489552\ttotal: 1.15s\tremaining: 1.29s\n",
      "470:\tlearn: 0.4488950\ttotal: 1.15s\tremaining: 1.29s\n",
      "471:\tlearn: 0.4488896\ttotal: 1.15s\tremaining: 1.29s\n",
      "472:\tlearn: 0.4487650\ttotal: 1.15s\tremaining: 1.28s\n",
      "473:\tlearn: 0.4486211\ttotal: 1.15s\tremaining: 1.28s\n",
      "474:\tlearn: 0.4485076\ttotal: 1.16s\tremaining: 1.28s\n",
      "475:\tlearn: 0.4484648\ttotal: 1.16s\tremaining: 1.27s\n",
      "476:\tlearn: 0.4483758\ttotal: 1.16s\tremaining: 1.27s\n",
      "477:\tlearn: 0.4482958\ttotal: 1.16s\tremaining: 1.27s\n",
      "478:\tlearn: 0.4482199\ttotal: 1.17s\tremaining: 1.27s\n",
      "479:\tlearn: 0.4480698\ttotal: 1.17s\tremaining: 1.26s\n",
      "480:\tlearn: 0.4479602\ttotal: 1.17s\tremaining: 1.26s\n",
      "481:\tlearn: 0.4478985\ttotal: 1.17s\tremaining: 1.26s\n",
      "482:\tlearn: 0.4478182\ttotal: 1.17s\tremaining: 1.26s\n",
      "483:\tlearn: 0.4477500\ttotal: 1.18s\tremaining: 1.25s\n",
      "484:\tlearn: 0.4476750\ttotal: 1.18s\tremaining: 1.25s\n",
      "485:\tlearn: 0.4475956\ttotal: 1.18s\tremaining: 1.25s\n",
      "486:\tlearn: 0.4475217\ttotal: 1.18s\tremaining: 1.25s\n",
      "487:\tlearn: 0.4474359\ttotal: 1.18s\tremaining: 1.24s\n",
      "488:\tlearn: 0.4473225\ttotal: 1.19s\tremaining: 1.24s\n",
      "489:\tlearn: 0.4472067\ttotal: 1.19s\tremaining: 1.24s\n",
      "490:\tlearn: 0.4471388\ttotal: 1.19s\tremaining: 1.23s\n",
      "491:\tlearn: 0.4470560\ttotal: 1.19s\tremaining: 1.23s\n",
      "492:\tlearn: 0.4469754\ttotal: 1.19s\tremaining: 1.23s\n",
      "493:\tlearn: 0.4469324\ttotal: 1.2s\tremaining: 1.23s\n",
      "494:\tlearn: 0.4468703\ttotal: 1.2s\tremaining: 1.22s\n",
      "495:\tlearn: 0.4468136\ttotal: 1.2s\tremaining: 1.22s\n",
      "496:\tlearn: 0.4466808\ttotal: 1.2s\tremaining: 1.22s\n",
      "497:\tlearn: 0.4465803\ttotal: 1.21s\tremaining: 1.22s\n",
      "498:\tlearn: 0.4464822\ttotal: 1.21s\tremaining: 1.21s\n",
      "499:\tlearn: 0.4463942\ttotal: 1.21s\tremaining: 1.21s\n",
      "500:\tlearn: 0.4463037\ttotal: 1.21s\tremaining: 1.21s\n",
      "501:\tlearn: 0.4462498\ttotal: 1.21s\tremaining: 1.2s\n",
      "502:\tlearn: 0.4461414\ttotal: 1.22s\tremaining: 1.2s\n",
      "503:\tlearn: 0.4460519\ttotal: 1.22s\tremaining: 1.2s\n",
      "504:\tlearn: 0.4460040\ttotal: 1.22s\tremaining: 1.2s\n",
      "505:\tlearn: 0.4459169\ttotal: 1.22s\tremaining: 1.19s\n",
      "506:\tlearn: 0.4457995\ttotal: 1.23s\tremaining: 1.19s\n",
      "507:\tlearn: 0.4456842\ttotal: 1.23s\tremaining: 1.19s\n",
      "508:\tlearn: 0.4456137\ttotal: 1.23s\tremaining: 1.19s\n",
      "509:\tlearn: 0.4455262\ttotal: 1.23s\tremaining: 1.18s\n",
      "510:\tlearn: 0.4454678\ttotal: 1.23s\tremaining: 1.18s\n",
      "511:\tlearn: 0.4453197\ttotal: 1.24s\tremaining: 1.18s\n"
     ]
    },
    {
     "name": "stdout",
     "output_type": "stream",
     "text": [
      "512:\tlearn: 0.4452240\ttotal: 1.24s\tremaining: 1.18s\n",
      "513:\tlearn: 0.4451481\ttotal: 1.24s\tremaining: 1.17s\n",
      "514:\tlearn: 0.4450450\ttotal: 1.25s\tremaining: 1.17s\n",
      "515:\tlearn: 0.4449267\ttotal: 1.25s\tremaining: 1.17s\n",
      "516:\tlearn: 0.4448410\ttotal: 1.25s\tremaining: 1.17s\n",
      "517:\tlearn: 0.4447079\ttotal: 1.25s\tremaining: 1.17s\n",
      "518:\tlearn: 0.4446041\ttotal: 1.26s\tremaining: 1.17s\n",
      "519:\tlearn: 0.4444992\ttotal: 1.26s\tremaining: 1.16s\n",
      "520:\tlearn: 0.4444263\ttotal: 1.26s\tremaining: 1.16s\n",
      "521:\tlearn: 0.4443381\ttotal: 1.26s\tremaining: 1.16s\n",
      "522:\tlearn: 0.4442359\ttotal: 1.27s\tremaining: 1.15s\n",
      "523:\tlearn: 0.4441899\ttotal: 1.27s\tremaining: 1.15s\n",
      "524:\tlearn: 0.4440719\ttotal: 1.27s\tremaining: 1.15s\n",
      "525:\tlearn: 0.4440362\ttotal: 1.27s\tremaining: 1.15s\n",
      "526:\tlearn: 0.4439376\ttotal: 1.27s\tremaining: 1.14s\n",
      "527:\tlearn: 0.4438657\ttotal: 1.28s\tremaining: 1.14s\n",
      "528:\tlearn: 0.4437132\ttotal: 1.28s\tremaining: 1.14s\n",
      "529:\tlearn: 0.4436607\ttotal: 1.28s\tremaining: 1.14s\n",
      "530:\tlearn: 0.4435635\ttotal: 1.28s\tremaining: 1.13s\n",
      "531:\tlearn: 0.4434996\ttotal: 1.28s\tremaining: 1.13s\n",
      "532:\tlearn: 0.4433614\ttotal: 1.29s\tremaining: 1.13s\n",
      "533:\tlearn: 0.4433114\ttotal: 1.29s\tremaining: 1.13s\n",
      "534:\tlearn: 0.4432045\ttotal: 1.29s\tremaining: 1.12s\n",
      "535:\tlearn: 0.4431022\ttotal: 1.29s\tremaining: 1.12s\n",
      "536:\tlearn: 0.4429953\ttotal: 1.29s\tremaining: 1.12s\n",
      "537:\tlearn: 0.4429316\ttotal: 1.3s\tremaining: 1.11s\n",
      "538:\tlearn: 0.4428548\ttotal: 1.3s\tremaining: 1.11s\n",
      "539:\tlearn: 0.4427927\ttotal: 1.3s\tremaining: 1.11s\n",
      "540:\tlearn: 0.4427666\ttotal: 1.3s\tremaining: 1.1s\n",
      "541:\tlearn: 0.4427318\ttotal: 1.3s\tremaining: 1.1s\n",
      "542:\tlearn: 0.4426936\ttotal: 1.31s\tremaining: 1.1s\n",
      "543:\tlearn: 0.4425380\ttotal: 1.31s\tremaining: 1.1s\n",
      "544:\tlearn: 0.4424481\ttotal: 1.31s\tremaining: 1.09s\n",
      "545:\tlearn: 0.4424394\ttotal: 1.31s\tremaining: 1.09s\n",
      "546:\tlearn: 0.4423323\ttotal: 1.31s\tremaining: 1.09s\n",
      "547:\tlearn: 0.4422800\ttotal: 1.32s\tremaining: 1.09s\n",
      "548:\tlearn: 0.4422273\ttotal: 1.32s\tremaining: 1.08s\n",
      "549:\tlearn: 0.4421659\ttotal: 1.32s\tremaining: 1.08s\n",
      "550:\tlearn: 0.4421026\ttotal: 1.32s\tremaining: 1.08s\n",
      "551:\tlearn: 0.4420249\ttotal: 1.32s\tremaining: 1.07s\n",
      "552:\tlearn: 0.4419679\ttotal: 1.33s\tremaining: 1.07s\n",
      "553:\tlearn: 0.4418997\ttotal: 1.33s\tremaining: 1.07s\n",
      "554:\tlearn: 0.4418119\ttotal: 1.33s\tremaining: 1.07s\n",
      "555:\tlearn: 0.4417210\ttotal: 1.33s\tremaining: 1.06s\n",
      "556:\tlearn: 0.4416449\ttotal: 1.34s\tremaining: 1.06s\n",
      "557:\tlearn: 0.4415736\ttotal: 1.34s\tremaining: 1.06s\n",
      "558:\tlearn: 0.4414868\ttotal: 1.34s\tremaining: 1.06s\n",
      "559:\tlearn: 0.4414715\ttotal: 1.34s\tremaining: 1.05s\n",
      "560:\tlearn: 0.4413971\ttotal: 1.34s\tremaining: 1.05s\n",
      "561:\tlearn: 0.4413008\ttotal: 1.35s\tremaining: 1.05s\n",
      "562:\tlearn: 0.4412094\ttotal: 1.35s\tremaining: 1.05s\n",
      "563:\tlearn: 0.4411671\ttotal: 1.35s\tremaining: 1.04s\n",
      "564:\tlearn: 0.4411163\ttotal: 1.35s\tremaining: 1.04s\n",
      "565:\tlearn: 0.4410523\ttotal: 1.35s\tremaining: 1.04s\n",
      "566:\tlearn: 0.4409620\ttotal: 1.36s\tremaining: 1.04s\n",
      "567:\tlearn: 0.4408983\ttotal: 1.36s\tremaining: 1.03s\n",
      "568:\tlearn: 0.4408207\ttotal: 1.36s\tremaining: 1.03s\n",
      "569:\tlearn: 0.4406771\ttotal: 1.36s\tremaining: 1.03s\n",
      "570:\tlearn: 0.4405755\ttotal: 1.36s\tremaining: 1.02s\n",
      "571:\tlearn: 0.4405167\ttotal: 1.37s\tremaining: 1.02s\n",
      "572:\tlearn: 0.4404164\ttotal: 1.37s\tremaining: 1.02s\n",
      "573:\tlearn: 0.4403582\ttotal: 1.37s\tremaining: 1.02s\n",
      "574:\tlearn: 0.4403479\ttotal: 1.37s\tremaining: 1.01s\n",
      "575:\tlearn: 0.4403027\ttotal: 1.38s\tremaining: 1.01s\n",
      "576:\tlearn: 0.4402282\ttotal: 1.38s\tremaining: 1.01s\n",
      "577:\tlearn: 0.4401510\ttotal: 1.38s\tremaining: 1.01s\n",
      "578:\tlearn: 0.4400965\ttotal: 1.38s\tremaining: 1s\n",
      "579:\tlearn: 0.4400296\ttotal: 1.39s\tremaining: 1s\n",
      "580:\tlearn: 0.4399649\ttotal: 1.39s\tremaining: 1s\n",
      "581:\tlearn: 0.4398968\ttotal: 1.39s\tremaining: 998ms\n",
      "582:\tlearn: 0.4398245\ttotal: 1.39s\tremaining: 995ms\n",
      "583:\tlearn: 0.4397505\ttotal: 1.39s\tremaining: 992ms\n",
      "584:\tlearn: 0.4397148\ttotal: 1.4s\tremaining: 990ms\n",
      "585:\tlearn: 0.4396507\ttotal: 1.4s\tremaining: 987ms\n",
      "586:\tlearn: 0.4395896\ttotal: 1.4s\tremaining: 984ms\n",
      "587:\tlearn: 0.4395510\ttotal: 1.4s\tremaining: 982ms\n",
      "588:\tlearn: 0.4395229\ttotal: 1.4s\tremaining: 979ms\n",
      "589:\tlearn: 0.4394658\ttotal: 1.41s\tremaining: 977ms\n",
      "590:\tlearn: 0.4393719\ttotal: 1.41s\tremaining: 974ms\n",
      "591:\tlearn: 0.4392773\ttotal: 1.41s\tremaining: 971ms\n",
      "592:\tlearn: 0.4392552\ttotal: 1.41s\tremaining: 969ms\n",
      "593:\tlearn: 0.4392053\ttotal: 1.41s\tremaining: 966ms\n",
      "594:\tlearn: 0.4391570\ttotal: 1.42s\tremaining: 963ms\n",
      "595:\tlearn: 0.4390726\ttotal: 1.42s\tremaining: 961ms\n",
      "596:\tlearn: 0.4390254\ttotal: 1.42s\tremaining: 958ms\n",
      "597:\tlearn: 0.4389681\ttotal: 1.42s\tremaining: 956ms\n",
      "598:\tlearn: 0.4388859\ttotal: 1.42s\tremaining: 953ms\n",
      "599:\tlearn: 0.4387727\ttotal: 1.43s\tremaining: 951ms\n",
      "600:\tlearn: 0.4387137\ttotal: 1.43s\tremaining: 948ms\n",
      "601:\tlearn: 0.4386718\ttotal: 1.43s\tremaining: 945ms\n",
      "602:\tlearn: 0.4386085\ttotal: 1.43s\tremaining: 943ms\n",
      "603:\tlearn: 0.4385431\ttotal: 1.43s\tremaining: 940ms\n",
      "604:\tlearn: 0.4384804\ttotal: 1.44s\tremaining: 939ms\n",
      "605:\tlearn: 0.4384781\ttotal: 1.44s\tremaining: 936ms\n",
      "606:\tlearn: 0.4383934\ttotal: 1.44s\tremaining: 934ms\n",
      "607:\tlearn: 0.4383285\ttotal: 1.45s\tremaining: 933ms\n",
      "608:\tlearn: 0.4382531\ttotal: 1.45s\tremaining: 931ms\n",
      "609:\tlearn: 0.4381203\ttotal: 1.45s\tremaining: 929ms\n",
      "610:\tlearn: 0.4380481\ttotal: 1.45s\tremaining: 926ms\n",
      "611:\tlearn: 0.4379557\ttotal: 1.46s\tremaining: 923ms\n",
      "612:\tlearn: 0.4378682\ttotal: 1.46s\tremaining: 921ms\n",
      "613:\tlearn: 0.4378068\ttotal: 1.46s\tremaining: 919ms\n",
      "614:\tlearn: 0.4377250\ttotal: 1.46s\tremaining: 916ms\n",
      "615:\tlearn: 0.4376456\ttotal: 1.47s\tremaining: 914ms\n",
      "616:\tlearn: 0.4375927\ttotal: 1.47s\tremaining: 911ms\n",
      "617:\tlearn: 0.4375210\ttotal: 1.47s\tremaining: 909ms\n",
      "618:\tlearn: 0.4374360\ttotal: 1.47s\tremaining: 907ms\n",
      "619:\tlearn: 0.4373475\ttotal: 1.48s\tremaining: 904ms\n",
      "620:\tlearn: 0.4372962\ttotal: 1.48s\tremaining: 902ms\n",
      "621:\tlearn: 0.4372300\ttotal: 1.48s\tremaining: 899ms\n",
      "622:\tlearn: 0.4371789\ttotal: 1.48s\tremaining: 896ms\n",
      "623:\tlearn: 0.4371236\ttotal: 1.48s\tremaining: 894ms\n",
      "624:\tlearn: 0.4370818\ttotal: 1.49s\tremaining: 891ms\n",
      "625:\tlearn: 0.4370055\ttotal: 1.49s\tremaining: 889ms\n",
      "626:\tlearn: 0.4369178\ttotal: 1.49s\tremaining: 886ms\n",
      "627:\tlearn: 0.4368142\ttotal: 1.49s\tremaining: 883ms\n",
      "628:\tlearn: 0.4367624\ttotal: 1.49s\tremaining: 881ms\n",
      "629:\tlearn: 0.4367108\ttotal: 1.5s\tremaining: 878ms\n",
      "630:\tlearn: 0.4366831\ttotal: 1.5s\tremaining: 876ms\n",
      "631:\tlearn: 0.4366171\ttotal: 1.5s\tremaining: 873ms\n",
      "632:\tlearn: 0.4365527\ttotal: 1.5s\tremaining: 870ms\n",
      "633:\tlearn: 0.4364796\ttotal: 1.5s\tremaining: 868ms\n",
      "634:\tlearn: 0.4364194\ttotal: 1.5s\tremaining: 865ms\n",
      "635:\tlearn: 0.4363322\ttotal: 1.51s\tremaining: 863ms\n",
      "636:\tlearn: 0.4362593\ttotal: 1.51s\tremaining: 860ms\n",
      "637:\tlearn: 0.4361940\ttotal: 1.51s\tremaining: 858ms\n",
      "638:\tlearn: 0.4361521\ttotal: 1.51s\tremaining: 855ms\n",
      "639:\tlearn: 0.4360821\ttotal: 1.51s\tremaining: 853ms\n",
      "640:\tlearn: 0.4359964\ttotal: 1.52s\tremaining: 850ms\n",
      "641:\tlearn: 0.4359508\ttotal: 1.52s\tremaining: 848ms\n",
      "642:\tlearn: 0.4358133\ttotal: 1.52s\tremaining: 845ms\n",
      "643:\tlearn: 0.4357646\ttotal: 1.52s\tremaining: 843ms\n",
      "644:\tlearn: 0.4356926\ttotal: 1.53s\tremaining: 840ms\n",
      "645:\tlearn: 0.4356363\ttotal: 1.53s\tremaining: 838ms\n",
      "646:\tlearn: 0.4355768\ttotal: 1.53s\tremaining: 835ms\n",
      "647:\tlearn: 0.4354876\ttotal: 1.53s\tremaining: 833ms\n",
      "648:\tlearn: 0.4354239\ttotal: 1.54s\tremaining: 831ms\n",
      "649:\tlearn: 0.4353826\ttotal: 1.54s\tremaining: 829ms\n",
      "650:\tlearn: 0.4353197\ttotal: 1.54s\tremaining: 826ms\n",
      "651:\tlearn: 0.4352412\ttotal: 1.54s\tremaining: 824ms\n",
      "652:\tlearn: 0.4351669\ttotal: 1.54s\tremaining: 821ms\n",
      "653:\tlearn: 0.4351011\ttotal: 1.55s\tremaining: 818ms\n",
      "654:\tlearn: 0.4350012\ttotal: 1.55s\tremaining: 816ms\n",
      "655:\tlearn: 0.4349572\ttotal: 1.55s\tremaining: 813ms\n",
      "656:\tlearn: 0.4349192\ttotal: 1.55s\tremaining: 811ms\n",
      "657:\tlearn: 0.4348553\ttotal: 1.55s\tremaining: 808ms\n",
      "658:\tlearn: 0.4347772\ttotal: 1.56s\tremaining: 806ms\n",
      "659:\tlearn: 0.4347057\ttotal: 1.56s\tremaining: 803ms\n",
      "660:\tlearn: 0.4346195\ttotal: 1.56s\tremaining: 801ms\n",
      "661:\tlearn: 0.4345061\ttotal: 1.56s\tremaining: 798ms\n",
      "662:\tlearn: 0.4344157\ttotal: 1.56s\tremaining: 796ms\n",
      "663:\tlearn: 0.4343435\ttotal: 1.57s\tremaining: 793ms\n",
      "664:\tlearn: 0.4342663\ttotal: 1.57s\tremaining: 791ms\n",
      "665:\tlearn: 0.4342025\ttotal: 1.57s\tremaining: 788ms\n",
      "666:\tlearn: 0.4341559\ttotal: 1.57s\tremaining: 785ms\n",
      "667:\tlearn: 0.4341132\ttotal: 1.57s\tremaining: 783ms\n",
      "668:\tlearn: 0.4340051\ttotal: 1.58s\tremaining: 780ms\n",
      "669:\tlearn: 0.4339511\ttotal: 1.58s\tremaining: 778ms\n",
      "670:\tlearn: 0.4339071\ttotal: 1.58s\tremaining: 775ms\n",
      "671:\tlearn: 0.4338207\ttotal: 1.58s\tremaining: 773ms\n",
      "672:\tlearn: 0.4337463\ttotal: 1.58s\tremaining: 770ms\n",
      "673:\tlearn: 0.4336787\ttotal: 1.59s\tremaining: 768ms\n",
      "674:\tlearn: 0.4336389\ttotal: 1.59s\tremaining: 766ms\n",
      "675:\tlearn: 0.4335243\ttotal: 1.59s\tremaining: 763ms\n",
      "676:\tlearn: 0.4334353\ttotal: 1.59s\tremaining: 761ms\n",
      "677:\tlearn: 0.4333287\ttotal: 1.6s\tremaining: 758ms\n",
      "678:\tlearn: 0.4332582\ttotal: 1.6s\tremaining: 756ms\n",
      "679:\tlearn: 0.4331857\ttotal: 1.6s\tremaining: 753ms\n",
      "680:\tlearn: 0.4330643\ttotal: 1.6s\tremaining: 750ms\n",
      "681:\tlearn: 0.4329467\ttotal: 1.6s\tremaining: 748ms\n",
      "682:\tlearn: 0.4329402\ttotal: 1.6s\tremaining: 745ms\n",
      "683:\tlearn: 0.4328806\ttotal: 1.61s\tremaining: 743ms\n",
      "684:\tlearn: 0.4328045\ttotal: 1.61s\tremaining: 740ms\n",
      "685:\tlearn: 0.4327417\ttotal: 1.61s\tremaining: 738ms\n",
      "686:\tlearn: 0.4326526\ttotal: 1.61s\tremaining: 735ms\n",
      "687:\tlearn: 0.4325237\ttotal: 1.62s\tremaining: 733ms\n",
      "688:\tlearn: 0.4324857\ttotal: 1.62s\tremaining: 730ms\n",
      "689:\tlearn: 0.4323696\ttotal: 1.62s\tremaining: 728ms\n",
      "690:\tlearn: 0.4323079\ttotal: 1.62s\tremaining: 725ms\n",
      "691:\tlearn: 0.4322913\ttotal: 1.62s\tremaining: 723ms\n",
      "692:\tlearn: 0.4322553\ttotal: 1.63s\tremaining: 720ms\n",
      "693:\tlearn: 0.4321621\ttotal: 1.63s\tremaining: 718ms\n",
      "694:\tlearn: 0.4321236\ttotal: 1.63s\tremaining: 715ms\n",
      "695:\tlearn: 0.4320439\ttotal: 1.63s\tremaining: 713ms\n"
     ]
    },
    {
     "name": "stdout",
     "output_type": "stream",
     "text": [
      "696:\tlearn: 0.4319544\ttotal: 1.63s\tremaining: 711ms\n",
      "697:\tlearn: 0.4319070\ttotal: 1.64s\tremaining: 708ms\n",
      "698:\tlearn: 0.4318290\ttotal: 1.64s\tremaining: 706ms\n",
      "699:\tlearn: 0.4317213\ttotal: 1.64s\tremaining: 705ms\n",
      "700:\tlearn: 0.4316514\ttotal: 1.65s\tremaining: 704ms\n",
      "701:\tlearn: 0.4316094\ttotal: 1.65s\tremaining: 701ms\n",
      "702:\tlearn: 0.4315405\ttotal: 1.65s\tremaining: 699ms\n",
      "703:\tlearn: 0.4315116\ttotal: 1.66s\tremaining: 696ms\n",
      "704:\tlearn: 0.4314469\ttotal: 1.66s\tremaining: 694ms\n",
      "705:\tlearn: 0.4313721\ttotal: 1.66s\tremaining: 691ms\n",
      "706:\tlearn: 0.4313448\ttotal: 1.66s\tremaining: 689ms\n",
      "707:\tlearn: 0.4312866\ttotal: 1.66s\tremaining: 687ms\n",
      "708:\tlearn: 0.4312231\ttotal: 1.67s\tremaining: 684ms\n",
      "709:\tlearn: 0.4311570\ttotal: 1.67s\tremaining: 682ms\n",
      "710:\tlearn: 0.4311076\ttotal: 1.67s\tremaining: 679ms\n",
      "711:\tlearn: 0.4309864\ttotal: 1.67s\tremaining: 677ms\n",
      "712:\tlearn: 0.4309485\ttotal: 1.67s\tremaining: 674ms\n",
      "713:\tlearn: 0.4309256\ttotal: 1.68s\tremaining: 672ms\n",
      "714:\tlearn: 0.4308976\ttotal: 1.68s\tremaining: 669ms\n",
      "715:\tlearn: 0.4308466\ttotal: 1.68s\tremaining: 667ms\n",
      "716:\tlearn: 0.4307873\ttotal: 1.68s\tremaining: 664ms\n",
      "717:\tlearn: 0.4307257\ttotal: 1.69s\tremaining: 662ms\n",
      "718:\tlearn: 0.4306207\ttotal: 1.69s\tremaining: 659ms\n",
      "719:\tlearn: 0.4305393\ttotal: 1.69s\tremaining: 657ms\n",
      "720:\tlearn: 0.4304820\ttotal: 1.69s\tremaining: 654ms\n",
      "721:\tlearn: 0.4303760\ttotal: 1.69s\tremaining: 652ms\n",
      "722:\tlearn: 0.4303287\ttotal: 1.7s\tremaining: 649ms\n",
      "723:\tlearn: 0.4302338\ttotal: 1.7s\tremaining: 647ms\n",
      "724:\tlearn: 0.4301715\ttotal: 1.7s\tremaining: 644ms\n",
      "725:\tlearn: 0.4301242\ttotal: 1.7s\tremaining: 642ms\n",
      "726:\tlearn: 0.4300736\ttotal: 1.7s\tremaining: 639ms\n",
      "727:\tlearn: 0.4300447\ttotal: 1.7s\tremaining: 637ms\n",
      "728:\tlearn: 0.4299920\ttotal: 1.71s\tremaining: 635ms\n",
      "729:\tlearn: 0.4298924\ttotal: 1.71s\tremaining: 632ms\n",
      "730:\tlearn: 0.4298389\ttotal: 1.71s\tremaining: 630ms\n",
      "731:\tlearn: 0.4297760\ttotal: 1.71s\tremaining: 627ms\n",
      "732:\tlearn: 0.4297087\ttotal: 1.71s\tremaining: 625ms\n",
      "733:\tlearn: 0.4296433\ttotal: 1.72s\tremaining: 622ms\n",
      "734:\tlearn: 0.4295575\ttotal: 1.72s\tremaining: 620ms\n",
      "735:\tlearn: 0.4294901\ttotal: 1.72s\tremaining: 617ms\n",
      "736:\tlearn: 0.4294263\ttotal: 1.72s\tremaining: 615ms\n",
      "737:\tlearn: 0.4293773\ttotal: 1.73s\tremaining: 613ms\n",
      "738:\tlearn: 0.4293557\ttotal: 1.73s\tremaining: 610ms\n",
      "739:\tlearn: 0.4293025\ttotal: 1.73s\tremaining: 608ms\n",
      "740:\tlearn: 0.4291970\ttotal: 1.73s\tremaining: 605ms\n",
      "741:\tlearn: 0.4291474\ttotal: 1.73s\tremaining: 603ms\n",
      "742:\tlearn: 0.4291003\ttotal: 1.74s\tremaining: 600ms\n",
      "743:\tlearn: 0.4290633\ttotal: 1.74s\tremaining: 598ms\n",
      "744:\tlearn: 0.4290127\ttotal: 1.74s\tremaining: 596ms\n",
      "745:\tlearn: 0.4289665\ttotal: 1.74s\tremaining: 593ms\n",
      "746:\tlearn: 0.4288788\ttotal: 1.74s\tremaining: 591ms\n",
      "747:\tlearn: 0.4288319\ttotal: 1.75s\tremaining: 588ms\n",
      "748:\tlearn: 0.4287430\ttotal: 1.75s\tremaining: 586ms\n",
      "749:\tlearn: 0.4287009\ttotal: 1.75s\tremaining: 583ms\n",
      "750:\tlearn: 0.4286887\ttotal: 1.75s\tremaining: 581ms\n",
      "751:\tlearn: 0.4286036\ttotal: 1.75s\tremaining: 579ms\n",
      "752:\tlearn: 0.4285242\ttotal: 1.76s\tremaining: 576ms\n",
      "753:\tlearn: 0.4284487\ttotal: 1.76s\tremaining: 574ms\n",
      "754:\tlearn: 0.4284035\ttotal: 1.76s\tremaining: 571ms\n",
      "755:\tlearn: 0.4283533\ttotal: 1.76s\tremaining: 569ms\n",
      "756:\tlearn: 0.4283281\ttotal: 1.76s\tremaining: 567ms\n",
      "757:\tlearn: 0.4282615\ttotal: 1.77s\tremaining: 564ms\n",
      "758:\tlearn: 0.4282036\ttotal: 1.77s\tremaining: 562ms\n",
      "759:\tlearn: 0.4280970\ttotal: 1.77s\tremaining: 559ms\n",
      "760:\tlearn: 0.4280033\ttotal: 1.77s\tremaining: 557ms\n",
      "761:\tlearn: 0.4278997\ttotal: 1.77s\tremaining: 554ms\n",
      "762:\tlearn: 0.4278361\ttotal: 1.78s\tremaining: 552ms\n",
      "763:\tlearn: 0.4277920\ttotal: 1.78s\tremaining: 550ms\n",
      "764:\tlearn: 0.4277442\ttotal: 1.78s\tremaining: 547ms\n",
      "765:\tlearn: 0.4276562\ttotal: 1.78s\tremaining: 545ms\n",
      "766:\tlearn: 0.4276169\ttotal: 1.78s\tremaining: 542ms\n",
      "767:\tlearn: 0.4275780\ttotal: 1.79s\tremaining: 540ms\n",
      "768:\tlearn: 0.4275262\ttotal: 1.79s\tremaining: 538ms\n",
      "769:\tlearn: 0.4274407\ttotal: 1.79s\tremaining: 535ms\n",
      "770:\tlearn: 0.4273713\ttotal: 1.79s\tremaining: 533ms\n",
      "771:\tlearn: 0.4272650\ttotal: 1.8s\tremaining: 531ms\n",
      "772:\tlearn: 0.4271821\ttotal: 1.8s\tremaining: 528ms\n",
      "773:\tlearn: 0.4271446\ttotal: 1.8s\tremaining: 526ms\n",
      "774:\tlearn: 0.4270954\ttotal: 1.8s\tremaining: 523ms\n",
      "775:\tlearn: 0.4270192\ttotal: 1.8s\tremaining: 521ms\n",
      "776:\tlearn: 0.4269570\ttotal: 1.81s\tremaining: 519ms\n",
      "777:\tlearn: 0.4268691\ttotal: 1.81s\tremaining: 516ms\n",
      "778:\tlearn: 0.4267859\ttotal: 1.81s\tremaining: 514ms\n",
      "779:\tlearn: 0.4267113\ttotal: 1.81s\tremaining: 511ms\n",
      "780:\tlearn: 0.4266180\ttotal: 1.81s\tremaining: 509ms\n",
      "781:\tlearn: 0.4265510\ttotal: 1.82s\tremaining: 507ms\n",
      "782:\tlearn: 0.4264404\ttotal: 1.82s\tremaining: 504ms\n",
      "783:\tlearn: 0.4263783\ttotal: 1.82s\tremaining: 502ms\n",
      "784:\tlearn: 0.4263081\ttotal: 1.82s\tremaining: 500ms\n",
      "785:\tlearn: 0.4262116\ttotal: 1.82s\tremaining: 497ms\n",
      "786:\tlearn: 0.4261322\ttotal: 1.83s\tremaining: 495ms\n",
      "787:\tlearn: 0.4260390\ttotal: 1.83s\tremaining: 492ms\n",
      "788:\tlearn: 0.4259569\ttotal: 1.83s\tremaining: 490ms\n",
      "789:\tlearn: 0.4259085\ttotal: 1.83s\tremaining: 487ms\n",
      "790:\tlearn: 0.4258818\ttotal: 1.84s\tremaining: 485ms\n",
      "791:\tlearn: 0.4258073\ttotal: 1.84s\tremaining: 484ms\n",
      "792:\tlearn: 0.4257789\ttotal: 1.84s\tremaining: 482ms\n",
      "793:\tlearn: 0.4256532\ttotal: 1.85s\tremaining: 479ms\n",
      "794:\tlearn: 0.4255820\ttotal: 1.85s\tremaining: 477ms\n",
      "795:\tlearn: 0.4255119\ttotal: 1.85s\tremaining: 475ms\n",
      "796:\tlearn: 0.4254625\ttotal: 1.85s\tremaining: 472ms\n",
      "797:\tlearn: 0.4253745\ttotal: 1.86s\tremaining: 470ms\n",
      "798:\tlearn: 0.4252846\ttotal: 1.86s\tremaining: 468ms\n",
      "799:\tlearn: 0.4252381\ttotal: 1.86s\tremaining: 466ms\n",
      "800:\tlearn: 0.4251331\ttotal: 1.86s\tremaining: 463ms\n",
      "801:\tlearn: 0.4250706\ttotal: 1.87s\tremaining: 461ms\n",
      "802:\tlearn: 0.4250241\ttotal: 1.87s\tremaining: 458ms\n",
      "803:\tlearn: 0.4249253\ttotal: 1.87s\tremaining: 456ms\n",
      "804:\tlearn: 0.4248732\ttotal: 1.87s\tremaining: 454ms\n",
      "805:\tlearn: 0.4247979\ttotal: 1.87s\tremaining: 451ms\n",
      "806:\tlearn: 0.4246998\ttotal: 1.88s\tremaining: 449ms\n",
      "807:\tlearn: 0.4246260\ttotal: 1.88s\tremaining: 446ms\n",
      "808:\tlearn: 0.4245571\ttotal: 1.88s\tremaining: 444ms\n",
      "809:\tlearn: 0.4244964\ttotal: 1.88s\tremaining: 442ms\n",
      "810:\tlearn: 0.4244233\ttotal: 1.88s\tremaining: 439ms\n",
      "811:\tlearn: 0.4243684\ttotal: 1.89s\tremaining: 437ms\n",
      "812:\tlearn: 0.4243073\ttotal: 1.89s\tremaining: 434ms\n",
      "813:\tlearn: 0.4242687\ttotal: 1.89s\tremaining: 432ms\n",
      "814:\tlearn: 0.4242257\ttotal: 1.89s\tremaining: 429ms\n",
      "815:\tlearn: 0.4241606\ttotal: 1.89s\tremaining: 427ms\n",
      "816:\tlearn: 0.4241102\ttotal: 1.9s\tremaining: 425ms\n",
      "817:\tlearn: 0.4240631\ttotal: 1.9s\tremaining: 422ms\n",
      "818:\tlearn: 0.4240041\ttotal: 1.9s\tremaining: 420ms\n",
      "819:\tlearn: 0.4239381\ttotal: 1.9s\tremaining: 417ms\n",
      "820:\tlearn: 0.4239012\ttotal: 1.9s\tremaining: 415ms\n",
      "821:\tlearn: 0.4238261\ttotal: 1.91s\tremaining: 413ms\n",
      "822:\tlearn: 0.4237724\ttotal: 1.91s\tremaining: 410ms\n",
      "823:\tlearn: 0.4236908\ttotal: 1.91s\tremaining: 408ms\n",
      "824:\tlearn: 0.4236173\ttotal: 1.91s\tremaining: 406ms\n",
      "825:\tlearn: 0.4235696\ttotal: 1.91s\tremaining: 403ms\n",
      "826:\tlearn: 0.4235066\ttotal: 1.92s\tremaining: 401ms\n",
      "827:\tlearn: 0.4234276\ttotal: 1.92s\tremaining: 399ms\n",
      "828:\tlearn: 0.4234007\ttotal: 1.92s\tremaining: 396ms\n",
      "829:\tlearn: 0.4233147\ttotal: 1.92s\tremaining: 394ms\n",
      "830:\tlearn: 0.4232586\ttotal: 1.93s\tremaining: 392ms\n",
      "831:\tlearn: 0.4232238\ttotal: 1.93s\tremaining: 389ms\n",
      "832:\tlearn: 0.4231745\ttotal: 1.93s\tremaining: 387ms\n",
      "833:\tlearn: 0.4230669\ttotal: 1.93s\tremaining: 385ms\n",
      "834:\tlearn: 0.4230086\ttotal: 1.93s\tremaining: 382ms\n",
      "835:\tlearn: 0.4229244\ttotal: 1.94s\tremaining: 380ms\n",
      "836:\tlearn: 0.4229121\ttotal: 1.94s\tremaining: 377ms\n",
      "837:\tlearn: 0.4228415\ttotal: 1.94s\tremaining: 375ms\n",
      "838:\tlearn: 0.4227365\ttotal: 1.94s\tremaining: 373ms\n",
      "839:\tlearn: 0.4226602\ttotal: 1.94s\tremaining: 370ms\n",
      "840:\tlearn: 0.4225820\ttotal: 1.95s\tremaining: 368ms\n",
      "841:\tlearn: 0.4225329\ttotal: 1.95s\tremaining: 366ms\n",
      "842:\tlearn: 0.4224800\ttotal: 1.95s\tremaining: 363ms\n",
      "843:\tlearn: 0.4224459\ttotal: 1.95s\tremaining: 361ms\n",
      "844:\tlearn: 0.4223773\ttotal: 1.95s\tremaining: 359ms\n",
      "845:\tlearn: 0.4223052\ttotal: 1.96s\tremaining: 356ms\n",
      "846:\tlearn: 0.4222574\ttotal: 1.96s\tremaining: 354ms\n",
      "847:\tlearn: 0.4222167\ttotal: 1.96s\tremaining: 352ms\n",
      "848:\tlearn: 0.4221470\ttotal: 1.96s\tremaining: 349ms\n",
      "849:\tlearn: 0.4220971\ttotal: 1.97s\tremaining: 347ms\n",
      "850:\tlearn: 0.4220336\ttotal: 1.97s\tremaining: 345ms\n",
      "851:\tlearn: 0.4220201\ttotal: 1.97s\tremaining: 342ms\n",
      "852:\tlearn: 0.4219424\ttotal: 1.97s\tremaining: 340ms\n",
      "853:\tlearn: 0.4218838\ttotal: 1.97s\tremaining: 337ms\n",
      "854:\tlearn: 0.4218396\ttotal: 1.98s\tremaining: 335ms\n",
      "855:\tlearn: 0.4217773\ttotal: 1.98s\tremaining: 333ms\n",
      "856:\tlearn: 0.4216986\ttotal: 1.98s\tremaining: 330ms\n",
      "857:\tlearn: 0.4216031\ttotal: 1.98s\tremaining: 328ms\n",
      "858:\tlearn: 0.4215480\ttotal: 1.98s\tremaining: 326ms\n",
      "859:\tlearn: 0.4214766\ttotal: 1.99s\tremaining: 323ms\n",
      "860:\tlearn: 0.4214144\ttotal: 1.99s\tremaining: 321ms\n",
      "861:\tlearn: 0.4213550\ttotal: 1.99s\tremaining: 319ms\n",
      "862:\tlearn: 0.4213045\ttotal: 1.99s\tremaining: 316ms\n",
      "863:\tlearn: 0.4212557\ttotal: 2s\tremaining: 314ms\n",
      "864:\tlearn: 0.4211758\ttotal: 2s\tremaining: 312ms\n",
      "865:\tlearn: 0.4211449\ttotal: 2s\tremaining: 309ms\n",
      "866:\tlearn: 0.4210927\ttotal: 2s\tremaining: 307ms\n",
      "867:\tlearn: 0.4210364\ttotal: 2s\tremaining: 305ms\n",
      "868:\tlearn: 0.4209920\ttotal: 2s\tremaining: 302ms\n",
      "869:\tlearn: 0.4208944\ttotal: 2.01s\tremaining: 300ms\n",
      "870:\tlearn: 0.4208495\ttotal: 2.01s\tremaining: 298ms\n",
      "871:\tlearn: 0.4207912\ttotal: 2.01s\tremaining: 295ms\n",
      "872:\tlearn: 0.4207593\ttotal: 2.01s\tremaining: 293ms\n",
      "873:\tlearn: 0.4207268\ttotal: 2.02s\tremaining: 291ms\n",
      "874:\tlearn: 0.4206905\ttotal: 2.02s\tremaining: 288ms\n",
      "875:\tlearn: 0.4205838\ttotal: 2.02s\tremaining: 286ms\n",
      "876:\tlearn: 0.4204954\ttotal: 2.02s\tremaining: 284ms\n",
      "877:\tlearn: 0.4204302\ttotal: 2.02s\tremaining: 281ms\n",
      "878:\tlearn: 0.4203463\ttotal: 2.03s\tremaining: 279ms\n",
      "879:\tlearn: 0.4203201\ttotal: 2.03s\tremaining: 277ms\n",
      "880:\tlearn: 0.4202672\ttotal: 2.03s\tremaining: 274ms\n",
      "881:\tlearn: 0.4201830\ttotal: 2.03s\tremaining: 272ms\n"
     ]
    },
    {
     "name": "stdout",
     "output_type": "stream",
     "text": [
      "882:\tlearn: 0.4201031\ttotal: 2.04s\tremaining: 270ms\n",
      "883:\tlearn: 0.4200805\ttotal: 2.04s\tremaining: 268ms\n",
      "884:\tlearn: 0.4199774\ttotal: 2.04s\tremaining: 266ms\n",
      "885:\tlearn: 0.4198937\ttotal: 2.05s\tremaining: 264ms\n",
      "886:\tlearn: 0.4198540\ttotal: 2.05s\tremaining: 261ms\n",
      "887:\tlearn: 0.4198171\ttotal: 2.05s\tremaining: 259ms\n",
      "888:\tlearn: 0.4197845\ttotal: 2.06s\tremaining: 257ms\n",
      "889:\tlearn: 0.4196896\ttotal: 2.06s\tremaining: 254ms\n",
      "890:\tlearn: 0.4196453\ttotal: 2.06s\tremaining: 252ms\n",
      "891:\tlearn: 0.4196132\ttotal: 2.06s\tremaining: 250ms\n",
      "892:\tlearn: 0.4195484\ttotal: 2.06s\tremaining: 247ms\n",
      "893:\tlearn: 0.4194482\ttotal: 2.07s\tremaining: 245ms\n",
      "894:\tlearn: 0.4193548\ttotal: 2.07s\tremaining: 243ms\n",
      "895:\tlearn: 0.4193109\ttotal: 2.07s\tremaining: 240ms\n",
      "896:\tlearn: 0.4192571\ttotal: 2.07s\tremaining: 238ms\n",
      "897:\tlearn: 0.4191567\ttotal: 2.07s\tremaining: 236ms\n",
      "898:\tlearn: 0.4190811\ttotal: 2.08s\tremaining: 233ms\n",
      "899:\tlearn: 0.4190061\ttotal: 2.08s\tremaining: 231ms\n",
      "900:\tlearn: 0.4189473\ttotal: 2.08s\tremaining: 229ms\n",
      "901:\tlearn: 0.4188763\ttotal: 2.08s\tremaining: 226ms\n",
      "902:\tlearn: 0.4187884\ttotal: 2.08s\tremaining: 224ms\n",
      "903:\tlearn: 0.4187163\ttotal: 2.09s\tremaining: 222ms\n",
      "904:\tlearn: 0.4186559\ttotal: 2.09s\tremaining: 219ms\n",
      "905:\tlearn: 0.4186066\ttotal: 2.09s\tremaining: 217ms\n",
      "906:\tlearn: 0.4185434\ttotal: 2.09s\tremaining: 215ms\n",
      "907:\tlearn: 0.4184590\ttotal: 2.1s\tremaining: 212ms\n",
      "908:\tlearn: 0.4183820\ttotal: 2.1s\tremaining: 210ms\n",
      "909:\tlearn: 0.4182901\ttotal: 2.1s\tremaining: 208ms\n",
      "910:\tlearn: 0.4182333\ttotal: 2.1s\tremaining: 205ms\n",
      "911:\tlearn: 0.4181605\ttotal: 2.1s\tremaining: 203ms\n",
      "912:\tlearn: 0.4181062\ttotal: 2.1s\tremaining: 201ms\n",
      "913:\tlearn: 0.4180593\ttotal: 2.11s\tremaining: 198ms\n",
      "914:\tlearn: 0.4180088\ttotal: 2.11s\tremaining: 196ms\n",
      "915:\tlearn: 0.4179189\ttotal: 2.11s\tremaining: 194ms\n",
      "916:\tlearn: 0.4178329\ttotal: 2.11s\tremaining: 191ms\n",
      "917:\tlearn: 0.4177876\ttotal: 2.12s\tremaining: 189ms\n",
      "918:\tlearn: 0.4176972\ttotal: 2.12s\tremaining: 187ms\n",
      "919:\tlearn: 0.4176626\ttotal: 2.12s\tremaining: 184ms\n",
      "920:\tlearn: 0.4176071\ttotal: 2.12s\tremaining: 182ms\n",
      "921:\tlearn: 0.4175290\ttotal: 2.12s\tremaining: 180ms\n",
      "922:\tlearn: 0.4174614\ttotal: 2.13s\tremaining: 177ms\n",
      "923:\tlearn: 0.4173736\ttotal: 2.13s\tremaining: 175ms\n",
      "924:\tlearn: 0.4173096\ttotal: 2.13s\tremaining: 173ms\n",
      "925:\tlearn: 0.4172523\ttotal: 2.13s\tremaining: 170ms\n",
      "926:\tlearn: 0.4171834\ttotal: 2.13s\tremaining: 168ms\n",
      "927:\tlearn: 0.4171263\ttotal: 2.14s\tremaining: 166ms\n",
      "928:\tlearn: 0.4170926\ttotal: 2.14s\tremaining: 163ms\n",
      "929:\tlearn: 0.4170183\ttotal: 2.14s\tremaining: 161ms\n",
      "930:\tlearn: 0.4169108\ttotal: 2.14s\tremaining: 159ms\n",
      "931:\tlearn: 0.4168200\ttotal: 2.15s\tremaining: 157ms\n",
      "932:\tlearn: 0.4167657\ttotal: 2.15s\tremaining: 154ms\n",
      "933:\tlearn: 0.4167092\ttotal: 2.15s\tremaining: 152ms\n",
      "934:\tlearn: 0.4166576\ttotal: 2.15s\tremaining: 150ms\n",
      "935:\tlearn: 0.4166031\ttotal: 2.15s\tremaining: 147ms\n",
      "936:\tlearn: 0.4164896\ttotal: 2.15s\tremaining: 145ms\n",
      "937:\tlearn: 0.4163956\ttotal: 2.16s\tremaining: 143ms\n",
      "938:\tlearn: 0.4163305\ttotal: 2.16s\tremaining: 140ms\n",
      "939:\tlearn: 0.4162326\ttotal: 2.16s\tremaining: 138ms\n",
      "940:\tlearn: 0.4161484\ttotal: 2.16s\tremaining: 136ms\n",
      "941:\tlearn: 0.4160715\ttotal: 2.17s\tremaining: 133ms\n",
      "942:\tlearn: 0.4159861\ttotal: 2.17s\tremaining: 131ms\n",
      "943:\tlearn: 0.4159123\ttotal: 2.17s\tremaining: 129ms\n",
      "944:\tlearn: 0.4158526\ttotal: 2.17s\tremaining: 126ms\n",
      "945:\tlearn: 0.4157422\ttotal: 2.17s\tremaining: 124ms\n",
      "946:\tlearn: 0.4156556\ttotal: 2.18s\tremaining: 122ms\n",
      "947:\tlearn: 0.4156038\ttotal: 2.18s\tremaining: 120ms\n",
      "948:\tlearn: 0.4155550\ttotal: 2.18s\tremaining: 117ms\n",
      "949:\tlearn: 0.4154968\ttotal: 2.18s\tremaining: 115ms\n",
      "950:\tlearn: 0.4154290\ttotal: 2.19s\tremaining: 113ms\n",
      "951:\tlearn: 0.4153533\ttotal: 2.19s\tremaining: 110ms\n",
      "952:\tlearn: 0.4152825\ttotal: 2.19s\tremaining: 108ms\n",
      "953:\tlearn: 0.4152190\ttotal: 2.19s\tremaining: 106ms\n",
      "954:\tlearn: 0.4151797\ttotal: 2.19s\tremaining: 103ms\n",
      "955:\tlearn: 0.4151451\ttotal: 2.2s\tremaining: 101ms\n",
      "956:\tlearn: 0.4150747\ttotal: 2.2s\tremaining: 98.8ms\n",
      "957:\tlearn: 0.4150337\ttotal: 2.2s\tremaining: 96.5ms\n",
      "958:\tlearn: 0.4149572\ttotal: 2.2s\tremaining: 94.2ms\n",
      "959:\tlearn: 0.4149026\ttotal: 2.21s\tremaining: 91.9ms\n",
      "960:\tlearn: 0.4148318\ttotal: 2.21s\tremaining: 89.6ms\n",
      "961:\tlearn: 0.4147386\ttotal: 2.21s\tremaining: 87.3ms\n",
      "962:\tlearn: 0.4146596\ttotal: 2.21s\tremaining: 85ms\n",
      "963:\tlearn: 0.4145656\ttotal: 2.21s\tremaining: 82.7ms\n",
      "964:\tlearn: 0.4144961\ttotal: 2.21s\tremaining: 80.3ms\n",
      "965:\tlearn: 0.4144216\ttotal: 2.22s\tremaining: 78ms\n",
      "966:\tlearn: 0.4143266\ttotal: 2.22s\tremaining: 75.7ms\n",
      "967:\tlearn: 0.4142617\ttotal: 2.22s\tremaining: 73.4ms\n",
      "968:\tlearn: 0.4142012\ttotal: 2.22s\tremaining: 71.1ms\n",
      "969:\tlearn: 0.4141062\ttotal: 2.23s\tremaining: 68.9ms\n",
      "970:\tlearn: 0.4140441\ttotal: 2.23s\tremaining: 66.6ms\n",
      "971:\tlearn: 0.4139525\ttotal: 2.23s\tremaining: 64.2ms\n",
      "972:\tlearn: 0.4138649\ttotal: 2.23s\tremaining: 61.9ms\n",
      "973:\tlearn: 0.4138155\ttotal: 2.23s\tremaining: 59.7ms\n",
      "974:\tlearn: 0.4137580\ttotal: 2.24s\tremaining: 57.4ms\n",
      "975:\tlearn: 0.4136842\ttotal: 2.24s\tremaining: 55.2ms\n",
      "976:\tlearn: 0.4136420\ttotal: 2.25s\tremaining: 52.9ms\n",
      "977:\tlearn: 0.4135817\ttotal: 2.25s\tremaining: 50.6ms\n",
      "978:\tlearn: 0.4135042\ttotal: 2.25s\tremaining: 48.3ms\n",
      "979:\tlearn: 0.4134097\ttotal: 2.25s\tremaining: 46ms\n",
      "980:\tlearn: 0.4132910\ttotal: 2.26s\tremaining: 43.7ms\n",
      "981:\tlearn: 0.4132119\ttotal: 2.26s\tremaining: 41.4ms\n",
      "982:\tlearn: 0.4131558\ttotal: 2.26s\tremaining: 39.1ms\n",
      "983:\tlearn: 0.4131031\ttotal: 2.26s\tremaining: 36.8ms\n",
      "984:\tlearn: 0.4130249\ttotal: 2.26s\tremaining: 34.5ms\n",
      "985:\tlearn: 0.4129605\ttotal: 2.27s\tremaining: 32.2ms\n",
      "986:\tlearn: 0.4129029\ttotal: 2.27s\tremaining: 29.9ms\n",
      "987:\tlearn: 0.4128157\ttotal: 2.27s\tremaining: 27.6ms\n",
      "988:\tlearn: 0.4127697\ttotal: 2.27s\tremaining: 25.3ms\n",
      "989:\tlearn: 0.4126989\ttotal: 2.27s\tremaining: 23ms\n",
      "990:\tlearn: 0.4126005\ttotal: 2.28s\tremaining: 20.7ms\n",
      "991:\tlearn: 0.4125110\ttotal: 2.28s\tremaining: 18.4ms\n",
      "992:\tlearn: 0.4124391\ttotal: 2.28s\tremaining: 16.1ms\n",
      "993:\tlearn: 0.4123504\ttotal: 2.28s\tremaining: 13.8ms\n",
      "994:\tlearn: 0.4122729\ttotal: 2.28s\tremaining: 11.5ms\n",
      "995:\tlearn: 0.4122136\ttotal: 2.29s\tremaining: 9.18ms\n",
      "996:\tlearn: 0.4121653\ttotal: 2.29s\tremaining: 6.89ms\n",
      "997:\tlearn: 0.4120960\ttotal: 2.29s\tremaining: 4.59ms\n",
      "998:\tlearn: 0.4120018\ttotal: 2.29s\tremaining: 2.29ms\n",
      "999:\tlearn: 0.4119469\ttotal: 2.29s\tremaining: 0us\n"
     ]
    },
    {
     "data": {
      "text/plain": [
       "RandomizedSearchCV(cv=5,\n",
       "                   estimator=Pipeline(steps=[('preprocessor',\n",
       "                                              ColumnTransformer(transformers=[('num',\n",
       "                                                                               Pipeline(steps=[('imputer',\n",
       "                                                                                                SimpleImputer(strategy='median')),\n",
       "                                                                                               ('scaler',\n",
       "                                                                                                PowerTransformer())]),\n",
       "                                                                               Index(['omtioxzz', 'yfmzwkru', 'tiwrsloh', 'weioazcf'], dtype='object')),\n",
       "                                                                              ('ordinal_encoder',\n",
       "                                                                               OrdinalEncoder(),\n",
       "                                                                               ['kjkrfgld',\n",
       "                                                                                'bpowgknt',\n",
       "                                                                                'raksnhjf']),\n",
       "                                                                              ('target_en...\n",
       "                                              <catboost.core.CatBoostClassifier object at 0x7febf325fd30>)]),\n",
       "                   n_iter=5, n_jobs=10,\n",
       "                   param_distributions={'classifier__depth': [6, 7, 8],\n",
       "                                        'classifier__l2_leaf_reg': [3, 4, 5],\n",
       "                                        'classifier__learning_rate': [0.01,\n",
       "                                                                      0.02,\n",
       "                                                                      0.03],\n",
       "                                        'classifier__n_estimators': [100, 200,\n",
       "                                                                     300,\n",
       "                                                                     1000],\n",
       "                                        'preprocessor__target_encoder__sigma': [0.01,\n",
       "                                                                                0.02,\n",
       "                                                                                0.03,\n",
       "                                                                                0.04,\n",
       "                                                                                0.05,\n",
       "                                                                                0.06]},\n",
       "                   random_state=1, scoring='neg_log_loss')"
      ]
     },
     "execution_count": 84,
     "metadata": {},
     "output_type": "execute_result"
    }
   ],
   "source": [
    "cb_fit = rscv_cb.fit(X_train, y_train)\n",
    "cb_fit"
   ]
  },
  {
   "cell_type": "code",
   "execution_count": 121,
   "metadata": {},
   "outputs": [
    {
     "data": {
      "text/plain": [
       "{'preprocessor__target_encoder__sigma': 0.02,\n",
       " 'classifier__n_estimators': 1000,\n",
       " 'classifier__learning_rate': 0.01,\n",
       " 'classifier__l2_leaf_reg': 3,\n",
       " 'classifier__depth': 7}"
      ]
     },
     "execution_count": 121,
     "metadata": {},
     "output_type": "execute_result"
    }
   ],
   "source": [
    "rscv_cb.best_params_"
   ]
  },
  {
   "cell_type": "code",
   "execution_count": 122,
   "metadata": {},
   "outputs": [
    {
     "data": {
      "text/plain": [
       "-0.4849718538566675"
      ]
     },
     "execution_count": 122,
     "metadata": {},
     "output_type": "execute_result"
    }
   ],
   "source": [
    "rscv_cb.best_score_"
   ]
  },
  {
   "cell_type": "code",
   "execution_count": 123,
   "metadata": {},
   "outputs": [
    {
     "data": {
      "text/plain": [
       "0.4882017889777717"
      ]
     },
     "execution_count": 123,
     "metadata": {},
     "output_type": "execute_result"
    }
   ],
   "source": [
    "y_pred_cb = rscv_cb.best_estimator_.predict_proba(X_test)\n",
    "log_loss(y_test, y_pred_cb, eps=1e-15, normalize=True, sample_weight=None, labels=None)"
   ]
  },
  {
   "cell_type": "markdown",
   "metadata": {},
   "source": [
    "## Ensembling Models"
   ]
  },
  {
   "cell_type": "markdown",
   "metadata": {},
   "source": [
    "Ensembling is a method of combining base models and is based on the hypothesis that a much more powerful model can be produced by combining multiple models together. There are different types of ensembling techniques, such as:<br>\n",
    "<ul>\n",
    "    <li> Bagging: Short for Bootstrap Aggregation, uses bootstrap sampling to obtain data subsets for training ‘base learners’ and reduces variance.</li>\n",
    "    <li> Boosting: Converts ‘weak learners’ (models that are slightly better than guessing) to strong learners and reduces bias.</li>\n",
    "    <li> Stacking: Combines multiple models via a meta-model and improves predictions.</li>\n",
    "</ul>\n",
    "\n",
    "So far, we have used bagging method (random forest) and boosting methods (xgb, lgb and cb). Here, we shall explore the <b>stacking method</b>."
   ]
  },
  {
   "cell_type": "markdown",
   "metadata": {},
   "source": [
    "<b>Figure 1</b>: <b>Ensembling Arquitecture</b> (<i>source: [Datacamp](https://www.datacamp.com/resources/webinars/applied-machine-learning-stacking-ensemble-models?utm_medium=email&utm_source=customerio&utm_campaign=livetraining&utm_id=3679156))</i>)<br>\n",
    "<p align=\"center\">\n",
    "<img src=\"https://github.com/datacamp/Applied-Machine-Learning-Ensemble-Modeling-live-training/blob/master/assets/stacking.png?raw=True\" alt = \"Stacking\" width=\"90%\">\n",
    "</p>\n",
    "<br><br>"
   ]
  },
  {
   "cell_type": "markdown",
   "metadata": {},
   "source": [
    "Check [documentation](https://scikit-learn.org/stable/modules/generated/sklearn.ensemble.StackingClassifier.html) for more information."
   ]
  },
  {
   "cell_type": "code",
   "execution_count": 62,
   "metadata": {},
   "outputs": [
    {
     "data": {
      "text/plain": [
       "0.7428397318708104"
      ]
     },
     "execution_count": 62,
     "metadata": {},
     "output_type": "execute_result"
    }
   ],
   "source": [
    "estimators = [\n",
    "    ('rf', rscv_rf.best_estimator_),\n",
    "    ('xgb', rscv_xgb.best_estimator_),\n",
    "    ('lgb', rscv_lgb.best_estimator_),\n",
    "    ('cb', rscv_cb.best_estimator_)\n",
    "]\n",
    "\n",
    "clf_stack = StackingClassifier(\n",
    "    estimators=estimators, final_estimator=LogisticRegression(), cv=5, stack_method='predict_proba', n_jobs=-1\n",
    ")\n",
    "\n",
    "clf_stack.fit(X_train, y_train).score(X_test, y_test)"
   ]
  },
  {
   "cell_type": "markdown",
   "metadata": {},
   "source": [
    "## A Neural Network model for binary classification"
   ]
  },
  {
   "cell_type": "markdown",
   "metadata": {},
   "source": [
    "This neural network consists of three layers:\n",
    "<ul>\n",
    "    <li>an <b>input layer</b> consisting of two neurons (binary target variable)</li>\n",
    "    <li>a <b>hidden layer</b> with a shape of four neurons using a tangent activation function, which tends to yield a smooth separation among the two classes. LeakyRElu might also work well,</li>\n",
    "    <li>an <b>output layer</b> with one neuron with a sigmoid activation function, well suited for binary classification problems as appreciated in its graphical representation.The sigmoid activation function squashes the output of the previous layer into a floating point between zero and one, as the probability of a pair of coordinates of being in one class or another considering a certain threshold</li>\n",
    "</ul>\n",
    "\n",
    "Check this DataCamp [course](https://learn.datacamp.com/courses/deep-learning-with-keras-in-python) for more information.<br>\n",
    "\n",
    "However, the neural network could not be fitted as an unresolved <i>Attribute error</i> pops up while importing tensorflow / keras libraries ([GitHub issue](https://github.com/tensorflow/tensorflow/issues/38012)). Unluckily, this solution (python 3.6) is not valid for python 3.8."
   ]
  },
  {
   "cell_type": "markdown",
   "metadata": {},
   "source": [
    "<b>Figure 2</b>: <b>Neural Network</b> (<i>source: Datacamp</i>)<br>\n",
    "<p align=\"center\">\n",
    "<img src=\"../images/nn.png\">"
   ]
  },
  {
   "cell_type": "markdown",
   "metadata": {},
   "source": [
    "<b>Figure 3</b>: <b>Sigmoid function</b> (<i>source: Datacamp</i>)<br>\n",
    "<p align=\"center\">\n",
    "<img src=\"../images/sigmoid.png\">"
   ]
  },
  {
   "cell_type": "code",
   "execution_count": 119,
   "metadata": {
    "collapsed": true
   },
   "outputs": [
    {
     "ename": "SyntaxError",
     "evalue": "invalid syntax (<ipython-input-119-252077236823>, line 19)",
     "output_type": "error",
     "traceback": [
      "\u001b[0;36m  File \u001b[0;32m\"<ipython-input-119-252077236823>\"\u001b[0;36m, line \u001b[0;32m19\u001b[0m\n\u001b[0;31m    random_search = RandomizedSearchCV(pipe, params_dist=params, cv=3)\u001b[0m\n\u001b[0m    ^\u001b[0m\n\u001b[0;31mSyntaxError\u001b[0m\u001b[0;31m:\u001b[0m invalid syntax\n"
     ]
    }
   ],
   "source": [
    "# Function that creates a Keras model\n",
    "def create_model(optimizer='sgd', activation='tanh'):\n",
    "    model = Sequential()\n",
    "    model.add(Dense(4, input_shape=(2,), activation=activation))\n",
    "    model.add(Dense(1, activation='sigmoid'))\n",
    "    model.compile(optimizer=optimizer, loss='binary_crossentropy')\n",
    "    return model\n",
    "    \n",
    "# Create a model a sklearn estimator\n",
    "model = KerasClassifier(build_fn=create_model, epochs=6, batch_size=16)\n",
    "    \n",
    "# Plug the model into the pipeline\n",
    "pipe = Pipeline([('column_transform', column_trans), ('classifier', model)])\n",
    "    \n",
    "# Random search on a Keras model\n",
    "params = dict(optimizer=['sgd', 'adam'], epochs=3,\n",
    "              batch_size=[5, 10, 20], activation=['tanh', 'LeakyReLU']\n",
    "              \n",
    "rscv_nn = RandomizedSearchCV(pipe, params_dist=params, cv=3)\n",
    "              \n",
    "# Model fit\n",
    "rscv_nn.fit(X_train, y_train)\n",
    "              \n",
    "rscv_nn.best_scores_\n",
    "rscv_nn.best_params_\n",
    "              "
   ]
  },
  {
   "cell_type": "code",
   "execution_count": null,
   "metadata": {},
   "outputs": [],
   "source": [
    "# Model test\n",
    "y_pred_nn = model.predict_proba(X_test)\n",
    "\n",
    "test_loss, test_acc = model.evaluate(X_test, y_test)\n",
    "print('Test accuracy: {}, Test loss: {}'.format(test_acc, test_loss))"
   ]
  },
  {
   "cell_type": "markdown",
   "metadata": {},
   "source": [
    "## Best Model's (CatBoost) results interpretation"
   ]
  },
  {
   "cell_type": "code",
   "execution_count": 124,
   "metadata": {},
   "outputs": [
    {
     "data": {
      "text/plain": [
       "array([[0.55693655, 0.44306345],\n",
       "       [0.48979431, 0.51020569],\n",
       "       [0.39611295, 0.60388705],\n",
       "       ...,\n",
       "       [0.92773807, 0.07226193],\n",
       "       [0.29214343, 0.70785657],\n",
       "       [0.61086717, 0.38913283]])"
      ]
     },
     "execution_count": 124,
     "metadata": {},
     "output_type": "execute_result"
    }
   ],
   "source": [
    "y_pred_cb"
   ]
  },
  {
   "cell_type": "code",
   "execution_count": null,
   "metadata": {},
   "outputs": [],
   "source": [
    "poor_prob = pd.DataFrame"
   ]
  },
  {
   "cell_type": "code",
   "execution_count": 125,
   "metadata": {},
   "outputs": [],
   "source": [
    "index = data_test.reset_index().id\n",
    "results = pd.DataFrame(index=index)\n",
    "results['poor'] = y_pred_cb[:, 1]"
   ]
  },
  {
   "cell_type": "code",
   "execution_count": 126,
   "metadata": {},
   "outputs": [
    {
     "data": {
      "text/html": [
       "<div>\n",
       "<style scoped>\n",
       "    .dataframe tbody tr th:only-of-type {\n",
       "        vertical-align: middle;\n",
       "    }\n",
       "\n",
       "    .dataframe tbody tr th {\n",
       "        vertical-align: top;\n",
       "    }\n",
       "\n",
       "    .dataframe thead th {\n",
       "        text-align: right;\n",
       "    }\n",
       "</style>\n",
       "<table border=\"1\" class=\"dataframe\">\n",
       "  <thead>\n",
       "    <tr style=\"text-align: right;\">\n",
       "      <th></th>\n",
       "      <th>poor</th>\n",
       "    </tr>\n",
       "    <tr>\n",
       "      <th>id</th>\n",
       "      <th></th>\n",
       "    </tr>\n",
       "  </thead>\n",
       "  <tbody>\n",
       "    <tr>\n",
       "      <th>30092</th>\n",
       "      <td>0.747668</td>\n",
       "    </tr>\n",
       "    <tr>\n",
       "      <th>38226</th>\n",
       "      <td>0.451233</td>\n",
       "    </tr>\n",
       "    <tr>\n",
       "      <th>36893</th>\n",
       "      <td>0.072262</td>\n",
       "    </tr>\n",
       "    <tr>\n",
       "      <th>97193</th>\n",
       "      <td>0.707857</td>\n",
       "    </tr>\n",
       "    <tr>\n",
       "      <th>83638</th>\n",
       "      <td>0.389133</td>\n",
       "    </tr>\n",
       "  </tbody>\n",
       "</table>\n",
       "</div>"
      ],
      "text/plain": [
       "           poor\n",
       "id             \n",
       "30092  0.747668\n",
       "38226  0.451233\n",
       "36893  0.072262\n",
       "97193  0.707857\n",
       "83638  0.389133"
      ]
     },
     "execution_count": 126,
     "metadata": {},
     "output_type": "execute_result"
    }
   ],
   "source": [
    "results.tail()"
   ]
  },
  {
   "cell_type": "code",
   "execution_count": 127,
   "metadata": {},
   "outputs": [],
   "source": [
    "results.to_csv('../model/results.csv')"
   ]
  },
  {
   "cell_type": "markdown",
   "metadata": {},
   "source": [
    "# Productivization Plan\n",
    "<div style = \"float:right\"><a style=\"text-decoration:none\" href = \"#inicio\">Inicio</a></div>"
   ]
  },
  {
   "cell_type": "markdown",
   "metadata": {},
   "source": [
    "After building a model in lab conditions, we shall export a copy of it to the production server, where new data will be labelled. This process is called model deployment or pushing to production. To enable this, we shall serialize our model, that is, convert it to a binary file with pickle.<br>\n",
    "\n",
    "As proceeded, we encapsulate the whole process into a single object (pipeline) to interact with production otherwise we will be forced to repeat one or various processes in production. Our aim is to avoid bugs which can eventually cause financial problems."
   ]
  },
  {
   "cell_type": "markdown",
   "metadata": {},
   "source": [
    "<b>Figure 4</b>: <b>Model Deployment</b> (<i>source: [Datacamp](https://learn.datacamp.com/courses/designing-machine-learning-workflows-in-python)</i>)<br>\n",
    "<p align=\"center\">\n",
    "<img src=\"../images/model_deployment.png\">"
   ]
  },
  {
   "cell_type": "markdown",
   "metadata": {},
   "source": [
    "Save pickle file in write mode."
   ]
  },
  {
   "cell_type": "code",
   "execution_count": 67,
   "metadata": {},
   "outputs": [],
   "source": [
    "with open('../model/model.pkl', 'wb') as file:\n",
    "    pickle.dump(rscv_cb.best_estimator_, file=file)"
   ]
  },
  {
   "cell_type": "markdown",
   "metadata": {},
   "source": [
    "Load pickle file in read mode."
   ]
  },
  {
   "cell_type": "code",
   "execution_count": 68,
   "metadata": {},
   "outputs": [],
   "source": [
    "with open('../model/model.pkl', 'rb') as file:\n",
    "    clf2 = pickle.load(file)"
   ]
  }
 ],
 "metadata": {
  "kernelspec": {
   "display_name": "Python 3",
   "language": "python",
   "name": "python3"
  },
  "language_info": {
   "codemirror_mode": {
    "name": "ipython",
    "version": 3
   },
   "file_extension": ".py",
   "mimetype": "text/x-python",
   "name": "python",
   "nbconvert_exporter": "python",
   "pygments_lexer": "ipython3",
   "version": "3.8.5"
  }
 },
 "nbformat": 4,
 "nbformat_minor": 4
}
